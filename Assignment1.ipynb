{
  "cells": [
    {
      "cell_type": "code",
      "execution_count": 1,
      "metadata": {
        "id": "jZnLo5QcD84f"
      },
      "outputs": [],
      "source": [
        "# importing necessary modules\n",
        "import numpy as np\n",
        "import pandas as pd\n",
        "import matplotlib.pyplot as plt\n",
        "import tensorflow as tf\n",
        "import numpy as np\n",
        "from tensorflow import keras\n",
        "import time"
      ]
    },
    {
      "cell_type": "markdown",
      "metadata": {
        "id": "QZXpkDyiObKB"
      },
      "source": [
        "**P1.1**\n",
        "\n",
        "The neural network is implemented as per the description."
      ]
    },
    {
      "cell_type": "code",
      "execution_count": 44,
      "metadata": {
        "colab": {
          "base_uri": "https://localhost:8080/"
        },
        "id": "k93WQG5qEdz_",
        "outputId": "bd7071af-2a57-4166-f534-4e0d6a1ff3d0"
      },
      "outputs": [
        {
          "output_type": "stream",
          "name": "stdout",
          "text": [
            "Drive already mounted at /content/drive; to attempt to forcibly remount, call drive.mount(\"/content/drive\", force_remount=True).\n"
          ]
        }
      ],
      "source": [
        "# train and test datasets loaded into environment\n",
        "from google.colab import drive\n",
        "drive.mount('/content/drive')\n",
        "df2 = pd.read_csv('/content/drive/MyDrive/test-1.csv')\n",
        "df1 = pd.read_csv('/content/drive/MyDrive/train-1.csv')"
      ]
    },
    {
      "cell_type": "code",
      "execution_count": 91,
      "metadata": {
        "id": "yTiJN-h9K-lv"
      },
      "outputs": [],
      "source": [
        "# data frames split into X and y (predictors and response)\n",
        "X_train = df1.iloc[:,0:10]\n",
        "y_train = df1.iloc[:,10]\n",
        "\n",
        "X_test = df2.iloc[:,0:10]\n",
        "y_test = df2.iloc[:,10]"
      ]
    },
    {
      "cell_type": "markdown",
      "metadata": {
        "id": "v3Onkso-QoG9"
      },
      "source": [
        "It is noted that the shape of X_train is 10 - a value to be used when creating the neural network and defining the input shape."
      ]
    },
    {
      "cell_type": "code",
      "execution_count": 46,
      "metadata": {
        "id": "4FxgXI0zN_ud"
      },
      "outputs": [],
      "source": [
        "# Define initial value of lat_dim to allow model to be compiled\n",
        "lat_dim = 5"
      ]
    },
    {
      "cell_type": "code",
      "execution_count": 157,
      "metadata": {
        "id": "OXfs63-7iyEl"
      },
      "outputs": [],
      "source": [
        "# Model defined through 3 functions (as described in text below)\n",
        "def phi(lat_dim):\n",
        "  input_layer = tf.keras.Input(shape=(10,))\n",
        "  layer_one = tf.keras.layers.Dense(100, activation=\"relu\")(input_layer)\n",
        "  output = tf.keras.layers.Dense(lat_dim, activation=\"softmax\")(layer_one)\n",
        "  return tf.keras.Model(inputs=input_layer, outputs=output)\n",
        "  \n",
        "def rho(lat_dim):\n",
        "  input = tf.keras.Input(shape=(lat_dim,))\n",
        "  layer_one = tf.keras.layers.Dense(100, activation=\"relu\")(input)\n",
        "  output = tf.keras.layers.Dense(1, activation=\"linear\")(layer_one)\n",
        "  return tf.keras.Model(inputs=input, outputs=output)\n",
        "\n",
        "def sum_model(lat_dim):\n",
        "    input_layer = tf.keras.Input(shape=(None, 10))\n",
        "    reshaped_input = tf.keras.layers.Reshape((1, 10))(input_layer)\n",
        "    phi_layer = tf.keras.layers.TimeDistributed(phi(lat_dim))(reshaped_input)\n",
        "    phi_sum_layer = tf.keras.layers.Lambda(lambda x: tf.reduce_sum(x, axis=1))(phi_layer)\n",
        "    rho_layer = rho(lat_dim)(phi_sum_layer)\n",
        "    return tf.keras.Model(inputs=input_layer, outputs=rho_layer)  "
      ]
    },
    {
      "cell_type": "code",
      "execution_count": 158,
      "metadata": {
        "id": "Ee_Y_4jpn88p"
      },
      "outputs": [],
      "source": [
        "# Compiling model\n",
        "# Optimiser is SGD with learning rate (0.0001)\n",
        "l_rate = 0.0001\n",
        "batch_size = 128\n",
        "val_split = 0.1\n",
        "\n",
        "optimiser = tf.optimizers.SGD(learning_rate=l_rate)\n",
        "model = sum_model(lat_dim)\n",
        "\n",
        "model.compile(optimizer=optimiser, loss='mse', metrics=[tf.keras.metrics.MeanSquaredError()])"
      ]
    },
    {
      "cell_type": "markdown",
      "metadata": {
        "id": "YJalmuqCQhTu"
      },
      "source": [
        "**Implementation of Sum-Decomposition:**\n",
        "\n",
        "3 seperate functions are defined: phi(), rho(), and sum_model(). \n",
        "\n",
        "The phi() function has input shape 10, one hidden layer with 100 neurons and ReLU activation, and outputs a layer (using softmax activation) with lat_dim output units. The function returns the model defined by these layers. \n",
        "\n",
        "Similarly, the rho() function has input shape lat_dim, one hidden layer with 100 neurons and ReLU activation, and outputs a layer (using linear activation for a scalar output) with 1 output unit. The function returns the model defined by these layers. \n",
        "\n",
        "The sum_model() function then combines these two networks using the sum-decomposition framework. The input layer has shape (10, ). Firstly, the input is reshaped from 2-dimensional to 3-dimensional so it can be fed into a Time Distributed layer. The Time Distributed layer applies phi() to each length-10 vector in the training set, which allows us to subsequently sum over these values. This is useful as it allows us to do this within one layer. \n",
        "\n",
        "The Lambda layer is then used to sum over these values (as defined within sum-decomposition). The reduce_sum() function is used to sum across all output values from the Time Distributed layer in the 'lat_dim' dimension, and thus converts the tensor back to a 2-dimensional shape.\n",
        "\n",
        "The rho function is then applied to the sum of the phi() network, and the overall model is returned as the output of the sum_model() function."
      ]
    },
    {
      "cell_type": "markdown",
      "metadata": {
        "id": "dHTdvriKFTA9"
      },
      "source": [
        "**P1.2** \n",
        "\n",
        "The model is then trained using lat_dim=5 over 10 epochs."
      ]
    },
    {
      "cell_type": "code",
      "execution_count": 159,
      "metadata": {
        "colab": {
          "base_uri": "https://localhost:8080/"
        },
        "id": "7rOW-QrgyRvX",
        "outputId": "f9a91ebb-d79f-4a79-a13c-9f049acb1fb5"
      },
      "outputs": [
        {
          "output_type": "stream",
          "name": "stdout",
          "text": [
            "Epoch 1/10\n"
          ]
        },
        {
          "output_type": "stream",
          "name": "stderr",
          "text": [
            "WARNING:tensorflow:Model was constructed with shape (None, None, 10) for input KerasTensor(type_spec=TensorSpec(shape=(None, None, 10), dtype=tf.float32, name='input_98'), name='input_98', description=\"created by layer 'input_98'\"), but it was called on an input with incompatible shape (None, 10).\n",
            "WARNING:tensorflow:Model was constructed with shape (None, None, 10) for input KerasTensor(type_spec=TensorSpec(shape=(None, None, 10), dtype=tf.float32, name='input_98'), name='input_98', description=\"created by layer 'input_98'\"), but it was called on an input with incompatible shape (None, 10).\n"
          ]
        },
        {
          "output_type": "stream",
          "name": "stdout",
          "text": [
            "694/704 [============================>.] - ETA: 0s - loss: 0.1612 - mean_squared_error: 0.1612"
          ]
        },
        {
          "output_type": "stream",
          "name": "stderr",
          "text": [
            "WARNING:tensorflow:Model was constructed with shape (None, None, 10) for input KerasTensor(type_spec=TensorSpec(shape=(None, None, 10), dtype=tf.float32, name='input_98'), name='input_98', description=\"created by layer 'input_98'\"), but it was called on an input with incompatible shape (None, 10).\n"
          ]
        },
        {
          "output_type": "stream",
          "name": "stdout",
          "text": [
            "\b\b\b\b\b\b\b\b\b\b\b\b\b\b\b\b\b\b\b\b\b\b\b\b\b\b\b\b\b\b\b\b\b\b\b\b\b\b\b\b\b\b\b\b\b\b\b\b\b\b\b\b\b\b\b\b\b\b\b\b\b\b\b\b\b\b\b\b\b\b\b\b\b\b\b\b\b\b\b\b\b\b\b\b\b\b\b\b\b\b\b\b\b\b\r704/704 [==============================] - 3s 3ms/step - loss: 0.1607 - mean_squared_error: 0.1607 - val_loss: 0.1197 - val_mean_squared_error: 0.1197\n",
            "Epoch 2/10\n",
            "704/704 [==============================] - 2s 3ms/step - loss: 0.0941 - mean_squared_error: 0.0941 - val_loss: 0.0719 - val_mean_squared_error: 0.0719\n",
            "Epoch 3/10\n",
            "704/704 [==============================] - 2s 2ms/step - loss: 0.0585 - mean_squared_error: 0.0585 - val_loss: 0.0466 - val_mean_squared_error: 0.0466\n",
            "Epoch 4/10\n",
            "704/704 [==============================] - 2s 3ms/step - loss: 0.0397 - mean_squared_error: 0.0397 - val_loss: 0.0333 - val_mean_squared_error: 0.0333\n",
            "Epoch 5/10\n",
            "704/704 [==============================] - 2s 3ms/step - loss: 0.0298 - mean_squared_error: 0.0298 - val_loss: 0.0264 - val_mean_squared_error: 0.0264\n",
            "Epoch 6/10\n",
            "704/704 [==============================] - 3s 4ms/step - loss: 0.0246 - mean_squared_error: 0.0246 - val_loss: 0.0228 - val_mean_squared_error: 0.0228\n",
            "Epoch 7/10\n",
            "704/704 [==============================] - 2s 3ms/step - loss: 0.0219 - mean_squared_error: 0.0219 - val_loss: 0.0209 - val_mean_squared_error: 0.0209\n",
            "Epoch 8/10\n",
            "704/704 [==============================] - 2s 2ms/step - loss: 0.0205 - mean_squared_error: 0.0205 - val_loss: 0.0199 - val_mean_squared_error: 0.0199\n",
            "Epoch 9/10\n",
            "704/704 [==============================] - 2s 3ms/step - loss: 0.0197 - mean_squared_error: 0.0197 - val_loss: 0.0193 - val_mean_squared_error: 0.0193\n",
            "Epoch 10/10\n",
            "704/704 [==============================] - 2s 3ms/step - loss: 0.0193 - mean_squared_error: 0.0193 - val_loss: 0.0191 - val_mean_squared_error: 0.0191\n"
          ]
        }
      ],
      "source": [
        "lat_dim = 5\n",
        "no_epochs = 10\n",
        "history = model.fit(X_train,                          # training samples\n",
        "                    y_train,                          # training labels\n",
        "                    epochs=no_epochs,                 # training steps (epochs)\n",
        "                    batch_size=batch_size,           # how many data samples per training epoch\n",
        "                    validation_split=val_split)"
      ]
    },
    {
      "cell_type": "code",
      "execution_count": 182,
      "metadata": {
        "colab": {
          "base_uri": "https://localhost:8080/",
          "height": 295
        },
        "id": "m9FRPcWTQ-w1",
        "outputId": "bba2eb45-b1bf-40ef-d8a4-f6d1f5928f5b"
      },
      "outputs": [
        {
          "output_type": "display_data",
          "data": {
            "text/plain": [
              "<Figure size 432x288 with 1 Axes>"
            ],
            "image/png": "[encoded data removed]"
          },
          "metadata": {
            "needs_background": "light"
          }
        }
      ],
      "source": [
        "# Plot the training and validation loss versus the number of epochs.\n",
        "tr_loss = []\n",
        "val_loss = []\n",
        "\n",
        "for i in range(10):\n",
        "  tr_loss.append(history.history[\"loss\"][i])\n",
        "  val_loss.append(history.history[\"val_loss\"][i])\n",
        "  \n",
        "plt.plot(range(10), tr_loss, \"-b\", label=\"training\")\n",
        "plt.plot(range(10), val_loss, \"-r\", label=\"validation\")\n",
        "plt.legend(loc=\"upper right\")\n",
        "plt.title(\"Training Loss and Validation Loss vs Number of Epochs for lat_dim=5\")\n",
        "plt.ylabel(\"Loss\")\n",
        "plt.xlabel(\"Epoch\")\n",
        "plt.show()"
      ]
    },
    {
      "cell_type": "code",
      "execution_count": 152,
      "metadata": {
        "colab": {
          "base_uri": "https://localhost:8080/"
        },
        "id": "Ugsb6yQxTR8S",
        "outputId": "45b67536-87ea-4415-9810-f8d4e7d77d24"
      },
      "outputs": [
        {
          "output_type": "stream",
          "name": "stdout",
          "text": [
            "79/79 - 0s - loss: 0.0199 - mean_squared_error: 0.0199 - 139ms/epoch - 2ms/step\n",
            "Test MSE loss: 0.019896352663636208\n"
          ]
        }
      ],
      "source": [
        "# MSE for test predictions\n",
        "test_scores = model.evaluate(X_test, y_test, batch_size = 128, verbose=2)\n",
        "print(\"Test MSE loss:\", test_scores[0])"
      ]
    },
    {
      "cell_type": "markdown",
      "metadata": {
        "id": "4Fdo-mR9TeNO"
      },
      "source": [
        "The model is trained again but with lat_dim=100."
      ]
    },
    {
      "cell_type": "code",
      "execution_count": 181,
      "metadata": {
        "colab": {
          "base_uri": "https://localhost:8080/"
        },
        "id": "6SDKhRXW23DC",
        "outputId": "27092bee-52c3-4c6d-d1d2-c7d4c3fdb071"
      },
      "outputs": [
        {
          "output_type": "stream",
          "name": "stdout",
          "text": [
            "Epoch 1/10\n"
          ]
        },
        {
          "output_type": "stream",
          "name": "stderr",
          "text": [
            "WARNING:tensorflow:Model was constructed with shape (None, None, 10) for input KerasTensor(type_spec=TensorSpec(shape=(None, None, 10), dtype=tf.float32, name='input_215'), name='input_215', description=\"created by layer 'input_215'\"), but it was called on an input with incompatible shape (None, 10).\n",
            "WARNING:tensorflow:Model was constructed with shape (None, None, 10) for input KerasTensor(type_spec=TensorSpec(shape=(None, None, 10), dtype=tf.float32, name='input_215'), name='input_215', description=\"created by layer 'input_215'\"), but it was called on an input with incompatible shape (None, 10).\n"
          ]
        },
        {
          "output_type": "stream",
          "name": "stdout",
          "text": [
            "690/704 [============================>.] - ETA: 0s - loss: 0.2193 - mean_squared_error: 0.2193"
          ]
        },
        {
          "output_type": "stream",
          "name": "stderr",
          "text": [
            "WARNING:tensorflow:Model was constructed with shape (None, None, 10) for input KerasTensor(type_spec=TensorSpec(shape=(None, None, 10), dtype=tf.float32, name='input_215'), name='input_215', description=\"created by layer 'input_215'\"), but it was called on an input with incompatible shape (None, 10).\n"
          ]
        },
        {
          "output_type": "stream",
          "name": "stdout",
          "text": [
            "\b\b\b\b\b\b\b\b\b\b\b\b\b\b\b\b\b\b\b\b\b\b\b\b\b\b\b\b\b\b\b\b\b\b\b\b\b\b\b\b\b\b\b\b\b\b\b\b\b\b\b\b\b\b\b\b\b\b\b\b\b\b\b\b\b\b\b\b\b\b\b\b\b\b\b\b\b\b\b\b\b\b\b\b\b\b\b\b\b\b\b\b\b\b\r704/704 [==============================] - 3s 4ms/step - loss: 0.2186 - mean_squared_error: 0.2186 - val_loss: 0.1759 - val_mean_squared_error: 0.1759\n",
            "Epoch 2/10\n",
            "704/704 [==============================] - 2s 3ms/step - loss: 0.1483 - mean_squared_error: 0.1483 - val_loss: 0.1225 - val_mean_squared_error: 0.1225\n",
            "Epoch 3/10\n",
            "704/704 [==============================] - 5s 8ms/step - loss: 0.1047 - mean_squared_error: 0.1047 - val_loss: 0.0877 - val_mean_squared_error: 0.0877\n",
            "Epoch 4/10\n",
            "704/704 [==============================] - 5s 7ms/step - loss: 0.0761 - mean_squared_error: 0.0761 - val_loss: 0.0647 - val_mean_squared_error: 0.0647\n",
            "Epoch 5/10\n",
            "704/704 [==============================] - 2s 3ms/step - loss: 0.0570 - mean_squared_error: 0.0570 - val_loss: 0.0493 - val_mean_squared_error: 0.0493\n",
            "Epoch 6/10\n",
            "704/704 [==============================] - 2s 3ms/step - loss: 0.0442 - mean_squared_error: 0.0442 - val_loss: 0.0390 - val_mean_squared_error: 0.0390\n",
            "Epoch 7/10\n",
            "704/704 [==============================] - 5s 6ms/step - loss: 0.0357 - mean_squared_error: 0.0357 - val_loss: 0.0321 - val_mean_squared_error: 0.0321\n",
            "Epoch 8/10\n",
            "704/704 [==============================] - 5s 7ms/step - loss: 0.0300 - mean_squared_error: 0.0300 - val_loss: 0.0276 - val_mean_squared_error: 0.0276\n",
            "Epoch 9/10\n",
            "704/704 [==============================] - 3s 5ms/step - loss: 0.0262 - mean_squared_error: 0.0262 - val_loss: 0.0245 - val_mean_squared_error: 0.0245\n",
            "Epoch 10/10\n",
            "704/704 [==============================] - 2s 3ms/step - loss: 0.0237 - mean_squared_error: 0.0237 - val_loss: 0.0226 - val_mean_squared_error: 0.0226\n"
          ]
        }
      ],
      "source": [
        "# Compiling model\n",
        "# Optimiser is SGD with learning rate (0.0001)\n",
        "lat_dim = 100\n",
        "no_epochs = 10\n",
        "l_rate = 0.0001\n",
        "batch_size = 128\n",
        "val_split = 0.1\n",
        "\n",
        "optimiser = tf.optimizers.SGD(learning_rate=l_rate)\n",
        "model = sum_model(lat_dim)\n",
        "\n",
        "model.compile(optimizer=optimiser, loss='mse', metrics=[tf.keras.metrics.MeanSquaredError()])\n",
        "\n",
        "history = model.fit(X_train,                          # training samples\n",
        "                    y_train,                          # training labels\n",
        "                    epochs=no_epochs,                 # training steps (epochs)\n",
        "                    batch_size=batch_size,           # how many data samples per training epoch\n",
        "                    validation_split=val_split)"
      ]
    },
    {
      "cell_type": "code",
      "execution_count": 183,
      "metadata": {
        "colab": {
          "base_uri": "https://localhost:8080/",
          "height": 295
        },
        "id": "WnOeJT4tTtxL",
        "outputId": "f3af8ee6-e041-487a-d0ab-129f2122b7a3"
      },
      "outputs": [
        {
          "output_type": "display_data",
          "data": {
            "text/plain": [
              "<Figure size 432x288 with 1 Axes>"
            ],
            "image/png": "[encoded data removed]"
          },
          "metadata": {
            "needs_background": "light"
          }
        }
      ],
      "source": [
        "# Plot the training and validation loss versus the number of epochs.\n",
        "tr_loss = []\n",
        "val_loss = []\n",
        "\n",
        "for i in range(10):\n",
        "  tr_loss.append(history.history[\"loss\"][i])\n",
        "  val_loss.append(history.history[\"val_loss\"][i])\n",
        "  \n",
        "plt.plot(range(10), tr_loss, \"-b\", label=\"training\")\n",
        "plt.plot(range(10), val_loss, \"-r\", label=\"validation\")\n",
        "plt.legend(loc=\"upper right\")\n",
        "plt.title(\"Training Loss and Validation Loss vs Number of Epochs for lat_dim=100\")\n",
        "plt.ylabel(\"Loss\")\n",
        "plt.xlabel(\"Epoch\")\n",
        "plt.show()"
      ]
    },
    {
      "cell_type": "code",
      "execution_count": 184,
      "metadata": {
        "colab": {
          "base_uri": "https://localhost:8080/"
        },
        "id": "fDy9AWnaTrPs",
        "outputId": "22a2538d-060d-4796-8cfb-6823fa4fbfef"
      },
      "outputs": [
        {
          "output_type": "stream",
          "name": "stdout",
          "text": [
            "79/79 - 0s - loss: 0.0230 - mean_squared_error: 0.0230 - 242ms/epoch - 3ms/step\n",
            "Test MSE loss: 0.023005684837698936\n"
          ]
        }
      ],
      "source": [
        "# MSE for test predictions\n",
        "test_scores = model.evaluate(X_test, y_test, batch_size = 128, verbose=2)\n",
        "print(\"Test MSE loss:\", test_scores[0])"
      ]
    },
    {
      "cell_type": "markdown",
      "metadata": {
        "id": "znRnYNW2iqyf"
      },
      "source": [
        "**Difference in results of lat_dim = 5 and lat_dim = 100:**\n",
        "\n",
        "The shape of both graphs are largely similar. However, the MSE test loss is smaller for lat_dim = 5, at 0.0199, compared to 0.0230 for lat_dim = 100. \n",
        "\n",
        "This could be explained by considering that increasing the number of latent dimensions leads to a more complex model, and thus is likely more prone to overfitting. More investigation would need to be done to find the optimal number of latent dimensions that find the balance between complexity and overfitting.\n"
      ]
    },
    {
      "cell_type": "markdown",
      "metadata": {
        "id": "HiXVAm2mQMY8"
      },
      "source": [
        "**P1.3**\n",
        "\n",
        "\n",
        "The model is now trained with varying learning rates (0.01, 0.1 and 0.5) and lat_dim = 100 over 10 epochs."
      ]
    },
    {
      "cell_type": "code",
      "execution_count": 185,
      "metadata": {
        "colab": {
          "base_uri": "https://localhost:8080/",
          "height": 740
        },
        "id": "9rwR3ZX8i3gg",
        "outputId": "96320238-3ccc-4b20-dab8-2b324340ff7a"
      },
      "outputs": [
        {
          "output_type": "stream",
          "name": "stdout",
          "text": [
            "Epoch 1/10\n"
          ]
        },
        {
          "output_type": "stream",
          "name": "stderr",
          "text": [
            "WARNING:tensorflow:Model was constructed with shape (None, None, 10) for input KerasTensor(type_spec=TensorSpec(shape=(None, None, 10), dtype=tf.float32, name='input_218'), name='input_218', description=\"created by layer 'input_218'\"), but it was called on an input with incompatible shape (None, 10).\n",
            "WARNING:tensorflow:Model was constructed with shape (None, None, 10) for input KerasTensor(type_spec=TensorSpec(shape=(None, None, 10), dtype=tf.float32, name='input_218'), name='input_218', description=\"created by layer 'input_218'\"), but it was called on an input with incompatible shape (None, 10).\n"
          ]
        },
        {
          "output_type": "stream",
          "name": "stdout",
          "text": [
            "699/704 [============================>.] - ETA: 0s - loss: 0.0239 - mean_squared_error: 0.0239"
          ]
        },
        {
          "output_type": "stream",
          "name": "stderr",
          "text": [
            "WARNING:tensorflow:Model was constructed with shape (None, None, 10) for input KerasTensor(type_spec=TensorSpec(shape=(None, None, 10), dtype=tf.float32, name='input_218'), name='input_218', description=\"created by layer 'input_218'\"), but it was called on an input with incompatible shape (None, 10).\n"
          ]
        },
        {
          "output_type": "stream",
          "name": "stdout",
          "text": [
            "\b\b\b\b\b\b\b\b\b\b\b\b\b\b\b\b\b\b\b\b\b\b\b\b\b\b\b\b\b\b\b\b\b\b\b\b\b\b\b\b\b\b\b\b\b\b\b\b\b\b\b\b\b\b\b\b\b\b\b\b\b\b\b\b\b\b\b\b\b\b\b\b\b\b\b\b\b\b\b\b\b\b\b\b\b\b\b\b\b\b\b\b\b\b\r704/704 [==============================] - 5s 5ms/step - loss: 0.0238 - mean_squared_error: 0.0238 - val_loss: 0.0187 - val_mean_squared_error: 0.0187\n",
            "Epoch 2/10\n",
            "704/704 [==============================] - 2s 3ms/step - loss: 0.0188 - mean_squared_error: 0.0188 - val_loss: 0.0187 - val_mean_squared_error: 0.0187\n",
            "Epoch 3/10\n",
            "704/704 [==============================] - 2s 3ms/step - loss: 0.0188 - mean_squared_error: 0.0188 - val_loss: 0.0187 - val_mean_squared_error: 0.0187\n",
            "Epoch 4/10\n",
            "704/704 [==============================] - 2s 3ms/step - loss: 0.0188 - mean_squared_error: 0.0188 - val_loss: 0.0187 - val_mean_squared_error: 0.0187\n",
            "Epoch 5/10\n",
            "704/704 [==============================] - 2s 3ms/step - loss: 0.0187 - mean_squared_error: 0.0187 - val_loss: 0.0187 - val_mean_squared_error: 0.0187\n",
            "Epoch 6/10\n",
            "704/704 [==============================] - 3s 5ms/step - loss: 0.0187 - mean_squared_error: 0.0187 - val_loss: 0.0187 - val_mean_squared_error: 0.0187\n",
            "Epoch 7/10\n",
            "704/704 [==============================] - 3s 4ms/step - loss: 0.0187 - mean_squared_error: 0.0187 - val_loss: 0.0186 - val_mean_squared_error: 0.0186\n",
            "Epoch 8/10\n",
            "704/704 [==============================] - 2s 4ms/step - loss: 0.0187 - mean_squared_error: 0.0187 - val_loss: 0.0186 - val_mean_squared_error: 0.0186\n",
            "Epoch 9/10\n",
            "704/704 [==============================] - 4s 5ms/step - loss: 0.0187 - mean_squared_error: 0.0187 - val_loss: 0.0186 - val_mean_squared_error: 0.0186\n",
            "Epoch 10/10\n",
            "704/704 [==============================] - 2s 3ms/step - loss: 0.0187 - mean_squared_error: 0.0187 - val_loss: 0.0186 - val_mean_squared_error: 0.0186\n",
            "79/79 - 1s - loss: 0.0188 - mean_squared_error: 0.0188 - 539ms/epoch - 7ms/step\n",
            "Test MSE loss: 0.018810393288731575\n"
          ]
        },
        {
          "output_type": "display_data",
          "data": {
            "text/plain": [
              "<Figure size 432x288 with 1 Axes>"
            ],
            "image/png": "[encoded data removed]"
          },
          "metadata": {
            "needs_background": "light"
          }
        }
      ],
      "source": [
        "# Optimiser is SGD with learning rate (0.01)\n",
        "lat_dim = 100\n",
        "no_epochs = 10\n",
        "l_rate = 0.01\n",
        "batch_size = 128\n",
        "val_split = 0.1\n",
        "\n",
        "optimiser = tf.optimizers.SGD(learning_rate=l_rate)\n",
        "model = sum_model(lat_dim)\n",
        "\n",
        "model.compile(optimizer=optimiser, loss='mse', metrics=[tf.keras.metrics.MeanSquaredError()])\n",
        "\n",
        "history = model.fit(X_train,                          # training samples\n",
        "                    y_train,                          # training labels\n",
        "                    epochs=no_epochs,                 # training steps (epochs)\n",
        "                    batch_size=batch_size,           # how many data samples per training epoch\n",
        "                    validation_split=val_split)\n",
        "\n",
        "test_scores = model.evaluate(X_test, y_test, batch_size = 128, verbose=2)\n",
        "print(\"Test MSE loss:\", test_scores[0])\n",
        "\n",
        "# Plot the training and validation loss versus the number of epochs.\n",
        "tr_loss = []\n",
        "val_loss = []\n",
        "\n",
        "for i in range(10):\n",
        "  tr_loss.append(history.history[\"loss\"][i])\n",
        "  val_loss.append(history.history[\"val_loss\"][i])\n",
        "  \n",
        "plt.plot(range(10), tr_loss, \"-b\", label=\"training\")\n",
        "plt.plot(range(10), val_loss, \"-r\", label=\"validation\")\n",
        "plt.legend(loc=\"upper right\")\n",
        "plt.title(\"Training Loss and Validation Loss vs Number of Epochs\")\n",
        "plt.ylabel(\"Loss\")\n",
        "plt.xlabel(\"Epoch\")\n",
        "plt.show()"
      ]
    },
    {
      "cell_type": "code",
      "execution_count": 186,
      "metadata": {
        "colab": {
          "base_uri": "https://localhost:8080/",
          "height": 740
        },
        "id": "JET2_lCejClY",
        "outputId": "8742e313-76c9-4b21-e5c8-c32a3e9aea8a"
      },
      "outputs": [
        {
          "output_type": "stream",
          "name": "stdout",
          "text": [
            "Epoch 1/10\n"
          ]
        },
        {
          "output_type": "stream",
          "name": "stderr",
          "text": [
            "WARNING:tensorflow:Model was constructed with shape (None, None, 10) for input KerasTensor(type_spec=TensorSpec(shape=(None, None, 10), dtype=tf.float32, name='input_221'), name='input_221', description=\"created by layer 'input_221'\"), but it was called on an input with incompatible shape (None, 10).\n",
            "WARNING:tensorflow:Model was constructed with shape (None, None, 10) for input KerasTensor(type_spec=TensorSpec(shape=(None, None, 10), dtype=tf.float32, name='input_221'), name='input_221', description=\"created by layer 'input_221'\"), but it was called on an input with incompatible shape (None, 10).\n"
          ]
        },
        {
          "output_type": "stream",
          "name": "stdout",
          "text": [
            "690/704 [============================>.] - ETA: 0s - loss: 0.0197 - mean_squared_error: 0.0197"
          ]
        },
        {
          "output_type": "stream",
          "name": "stderr",
          "text": [
            "WARNING:tensorflow:Model was constructed with shape (None, None, 10) for input KerasTensor(type_spec=TensorSpec(shape=(None, None, 10), dtype=tf.float32, name='input_221'), name='input_221', description=\"created by layer 'input_221'\"), but it was called on an input with incompatible shape (None, 10).\n"
          ]
        },
        {
          "output_type": "stream",
          "name": "stdout",
          "text": [
            "\b\b\b\b\b\b\b\b\b\b\b\b\b\b\b\b\b\b\b\b\b\b\b\b\b\b\b\b\b\b\b\b\b\b\b\b\b\b\b\b\b\b\b\b\b\b\b\b\b\b\b\b\b\b\b\b\b\b\b\b\b\b\b\b\b\b\b\b\b\b\b\b\b\b\b\b\b\b\b\b\b\b\b\b\b\b\b\b\b\b\b\b\b\b\r704/704 [==============================] - 3s 3ms/step - loss: 0.0197 - mean_squared_error: 0.0197 - val_loss: 0.0190 - val_mean_squared_error: 0.0190\n",
            "Epoch 2/10\n",
            "704/704 [==============================] - 2s 3ms/step - loss: 0.0190 - mean_squared_error: 0.0190 - val_loss: 0.0194 - val_mean_squared_error: 0.0194\n",
            "Epoch 3/10\n",
            "704/704 [==============================] - 4s 5ms/step - loss: 0.0189 - mean_squared_error: 0.0189 - val_loss: 0.0190 - val_mean_squared_error: 0.0190\n",
            "Epoch 4/10\n",
            "704/704 [==============================] - 2s 3ms/step - loss: 0.0189 - mean_squared_error: 0.0189 - val_loss: 0.0188 - val_mean_squared_error: 0.0188\n",
            "Epoch 5/10\n",
            "704/704 [==============================] - 2s 3ms/step - loss: 0.0188 - mean_squared_error: 0.0188 - val_loss: 0.0188 - val_mean_squared_error: 0.0188\n",
            "Epoch 6/10\n",
            "704/704 [==============================] - 2s 3ms/step - loss: 0.0187 - mean_squared_error: 0.0187 - val_loss: 0.0186 - val_mean_squared_error: 0.0186\n",
            "Epoch 7/10\n",
            "704/704 [==============================] - 2s 3ms/step - loss: 0.0186 - mean_squared_error: 0.0186 - val_loss: 0.0188 - val_mean_squared_error: 0.0188\n",
            "Epoch 8/10\n",
            "704/704 [==============================] - 3s 4ms/step - loss: 0.0184 - mean_squared_error: 0.0184 - val_loss: 0.0182 - val_mean_squared_error: 0.0182\n",
            "Epoch 9/10\n",
            "704/704 [==============================] - 3s 4ms/step - loss: 0.0180 - mean_squared_error: 0.0180 - val_loss: 0.0176 - val_mean_squared_error: 0.0176\n",
            "Epoch 10/10\n",
            "704/704 [==============================] - 2s 3ms/step - loss: 0.0157 - mean_squared_error: 0.0157 - val_loss: 0.0091 - val_mean_squared_error: 0.0091\n",
            "79/79 - 0s - loss: 0.0092 - mean_squared_error: 0.0092 - 153ms/epoch - 2ms/step\n",
            "Test MSE loss: 0.009223192930221558\n"
          ]
        },
        {
          "output_type": "display_data",
          "data": {
            "text/plain": [
              "<Figure size 432x288 with 1 Axes>"
            ],
            "image/png": "[encoded data removed]"
          },
          "metadata": {
            "needs_background": "light"
          }
        }
      ],
      "source": [
        "# Building model\n",
        "# Optimiser is SGD with learning rate (0.1)\n",
        "lat_dim = 100\n",
        "no_epochs = 10\n",
        "l_rate = 0.1\n",
        "batch_size = 128\n",
        "val_split = 0.1\n",
        "\n",
        "optimiser = tf.optimizers.SGD(learning_rate=l_rate)\n",
        "model = sum_model(lat_dim)\n",
        "\n",
        "model.compile(optimizer=optimiser, loss='mse', metrics=[tf.keras.metrics.MeanSquaredError()])\n",
        "\n",
        "history = model.fit(X_train,                          # training samples\n",
        "                    y_train,                          # training labels\n",
        "                    epochs=no_epochs,                 # training steps (epochs)\n",
        "                    batch_size=batch_size,           # how many data samples per training epoch\n",
        "                    validation_split=val_split)\n",
        "test_scores = model.evaluate(X_test, y_test, batch_size = 128, verbose=2)\n",
        "print(\"Test MSE loss:\", test_scores[0])\n",
        "\n",
        "# Plot the training and validation loss versus the number of epochs.\n",
        "tr_loss = []\n",
        "val_loss = []\n",
        "\n",
        "for i in range(10):\n",
        "  tr_loss.append(history.history[\"loss\"][i])\n",
        "  val_loss.append(history.history[\"val_loss\"][i])\n",
        "  \n",
        "plt.plot(range(10), tr_loss, \"-b\", label=\"training\")\n",
        "plt.plot(range(10), val_loss, \"-r\", label=\"validation\")\n",
        "plt.legend(loc=\"upper right\")\n",
        "plt.title(\"Training Loss and Validation Loss vs Number of Epochs\")\n",
        "plt.ylabel(\"Loss\")\n",
        "plt.xlabel(\"Epoch\")\n",
        "plt.show()"
      ]
    },
    {
      "cell_type": "code",
      "execution_count": 188,
      "metadata": {
        "colab": {
          "base_uri": "https://localhost:8080/",
          "height": 740
        },
        "id": "kPxjxwCBjDMJ",
        "outputId": "ad6ae77c-1830-4854-9727-db2ce4a9b578"
      },
      "outputs": [
        {
          "output_type": "stream",
          "name": "stdout",
          "text": [
            "Epoch 1/10\n"
          ]
        },
        {
          "output_type": "stream",
          "name": "stderr",
          "text": [
            "WARNING:tensorflow:Model was constructed with shape (None, None, 10) for input KerasTensor(type_spec=TensorSpec(shape=(None, None, 10), dtype=tf.float32, name='input_227'), name='input_227', description=\"created by layer 'input_227'\"), but it was called on an input with incompatible shape (None, 10).\n",
            "WARNING:tensorflow:Model was constructed with shape (None, None, 10) for input KerasTensor(type_spec=TensorSpec(shape=(None, None, 10), dtype=tf.float32, name='input_227'), name='input_227', description=\"created by layer 'input_227'\"), but it was called on an input with incompatible shape (None, 10).\n"
          ]
        },
        {
          "output_type": "stream",
          "name": "stdout",
          "text": [
            "698/704 [============================>.] - ETA: 0s - loss: 0.0200 - mean_squared_error: 0.0200"
          ]
        },
        {
          "output_type": "stream",
          "name": "stderr",
          "text": [
            "WARNING:tensorflow:Model was constructed with shape (None, None, 10) for input KerasTensor(type_spec=TensorSpec(shape=(None, None, 10), dtype=tf.float32, name='input_227'), name='input_227', description=\"created by layer 'input_227'\"), but it was called on an input with incompatible shape (None, 10).\n"
          ]
        },
        {
          "output_type": "stream",
          "name": "stdout",
          "text": [
            "\b\b\b\b\b\b\b\b\b\b\b\b\b\b\b\b\b\b\b\b\b\b\b\b\b\b\b\b\b\b\b\b\b\b\b\b\b\b\b\b\b\b\b\b\b\b\b\b\b\b\b\b\b\b\b\b\b\b\b\b\b\b\b\b\b\b\b\b\b\b\b\b\b\b\b\b\b\b\b\b\b\b\b\b\b\b\b\b\b\b\b\b\b\b\r704/704 [==============================] - 4s 5ms/step - loss: 0.0200 - mean_squared_error: 0.0200 - val_loss: 0.0187 - val_mean_squared_error: 0.0187\n",
            "Epoch 2/10\n",
            "704/704 [==============================] - 5s 7ms/step - loss: 0.0190 - mean_squared_error: 0.0190 - val_loss: 0.0191 - val_mean_squared_error: 0.0191\n",
            "Epoch 3/10\n",
            "704/704 [==============================] - 3s 4ms/step - loss: 0.0160 - mean_squared_error: 0.0160 - val_loss: 0.0095 - val_mean_squared_error: 0.0095\n",
            "Epoch 4/10\n",
            "704/704 [==============================] - 4s 6ms/step - loss: 0.0054 - mean_squared_error: 0.0054 - val_loss: 0.0072 - val_mean_squared_error: 0.0072\n",
            "Epoch 5/10\n",
            "704/704 [==============================] - 3s 4ms/step - loss: 0.0048 - mean_squared_error: 0.0048 - val_loss: 0.0034 - val_mean_squared_error: 0.0034\n",
            "Epoch 6/10\n",
            "704/704 [==============================] - 3s 4ms/step - loss: 0.0044 - mean_squared_error: 0.0044 - val_loss: 0.0061 - val_mean_squared_error: 0.0061\n",
            "Epoch 7/10\n",
            "704/704 [==============================] - 3s 5ms/step - loss: 0.0043 - mean_squared_error: 0.0043 - val_loss: 0.0034 - val_mean_squared_error: 0.0034\n",
            "Epoch 8/10\n",
            "704/704 [==============================] - 4s 6ms/step - loss: 0.0041 - mean_squared_error: 0.0041 - val_loss: 0.0037 - val_mean_squared_error: 0.0037\n",
            "Epoch 9/10\n",
            "704/704 [==============================] - 4s 6ms/step - loss: 0.0041 - mean_squared_error: 0.0041 - val_loss: 0.0034 - val_mean_squared_error: 0.0034\n",
            "Epoch 10/10\n",
            "704/704 [==============================] - 4s 5ms/step - loss: 0.0040 - mean_squared_error: 0.0040 - val_loss: 0.0037 - val_mean_squared_error: 0.0037\n",
            "79/79 - 0s - loss: 0.0039 - mean_squared_error: 0.0039 - 238ms/epoch - 3ms/step\n",
            "Test MSE loss: 0.00390940485522151\n"
          ]
        },
        {
          "output_type": "display_data",
          "data": {
            "text/plain": [
              "<Figure size 432x288 with 1 Axes>"
            ],
            "image/png": "[encoded data removed]"
          },
          "metadata": {
            "needs_background": "light"
          }
        }
      ],
      "source": [
        "# Building model\n",
        "# Optimiser is SGD with learning rate (0.5)\n",
        "lat_dim = 100\n",
        "no_epochs = 10\n",
        "l_rate = 0.5\n",
        "batch_size = 128\n",
        "val_split = 0.1\n",
        "\n",
        "optimiser = tf.optimizers.SGD(learning_rate=l_rate)\n",
        "model = sum_model(lat_dim)\n",
        "\n",
        "model.compile(optimizer=optimiser, loss='mse', metrics=[tf.keras.metrics.MeanSquaredError()])\n",
        "\n",
        "history = model.fit(X_train,                          # training samples\n",
        "                    y_train,                          # training labels\n",
        "                    epochs=no_epochs,                 # training steps (epochs)\n",
        "                    batch_size=batch_size,           # how many data samples per training epoch\n",
        "                    validation_split=val_split)\n",
        "\n",
        "test_scores = model.evaluate(X_test, y_test, batch_size = 128, verbose=2)\n",
        "print(\"Test MSE loss:\", test_scores[0])\n",
        "\n",
        "# Plot the training and validation loss versus the number of epochs.\n",
        "tr_loss = []\n",
        "val_loss = []\n",
        "\n",
        "for i in range(10):\n",
        "  tr_loss.append(history.history[\"loss\"][i])\n",
        "  val_loss.append(history.history[\"val_loss\"][i])\n",
        "  \n",
        "plt.plot(range(10), tr_loss, \"-b\", label=\"training\")\n",
        "plt.plot(range(10), val_loss, \"-r\", label=\"validation\")\n",
        "plt.legend(loc=\"upper right\")\n",
        "plt.title(\"Training Loss and Validation Loss vs Number of Epochs\")\n",
        "plt.ylabel(\"Loss\")\n",
        "plt.xlabel(\"Epoch\")\n",
        "plt.show()"
      ]
    },
    {
      "cell_type": "markdown",
      "metadata": {
        "id": "EQmy-UjojsVt"
      },
      "source": [
        "**Investigating varying learning rates (0.0001, 0.01, 0.1, and 0.5):**\n",
        "\n",
        "\n",
        "The learning has a big impact on the model as it controls the step size of the optimisation algorithm during the training phase.\n",
        "\n",
        "A learning rate of 0.0001 is shown to have a relatively smooth convergence of training and validation loss towards 0, and the test MSE is quite low at 0.023.\n",
        "\n",
        "The increase of learning rate to 0.01 has a big effect on the training and validation loss. These both rapidly shrink in only the second epoch.\n",
        "\n",
        "The increase to 0.1 shows an immediate convergence of validation and training loss to around 0.019. In this case, these both remain quite steady here but shrink suddenly on the last epoch.\n",
        "\n",
        "The training and validation loss graph for learning rate of 0.5 is particularly interesting as the values vary quite drastically for each epoch, althought it does seem to converge closely towards zero in the final few epochs.\n",
        "\n",
        "The question of overfitting with increasingly large learning rate is raised, but interestingly the test MSE loss does decrease progressively as the learning rate increases, suggesting that in fact the learning rate of 0.5 might provide the best model. \n",
        "\n",
        "However, more investigation into other measures and factors, and a view over a larger number of epochs would be needed to conclude this, especially given that it is quite surprising for a model with learning rate of 0.5 to perform the best. \n",
        "\n"
      ]
    },
    {
      "cell_type": "markdown",
      "source": [
        "**P1.4**\n",
        "\n",
        "The model is now trained over 50 epochs."
      ],
      "metadata": {
        "id": "9ItO3PylXpNK"
      }
    },
    {
      "cell_type": "code",
      "execution_count": 167,
      "metadata": {
        "colab": {
          "base_uri": "https://localhost:8080/"
        },
        "id": "Mr3GYmMakCNr",
        "outputId": "c26fdf02-8d10-4f1b-edfe-5728e1e09e99"
      },
      "outputs": [
        {
          "output_type": "stream",
          "name": "stdout",
          "text": [
            "Epoch 1/50\n"
          ]
        },
        {
          "output_type": "stream",
          "name": "stderr",
          "text": [
            "WARNING:tensorflow:Model was constructed with shape (None, None, 10) for input KerasTensor(type_spec=TensorSpec(shape=(None, None, 10), dtype=tf.float32, name='input_116'), name='input_116', description=\"created by layer 'input_116'\"), but it was called on an input with incompatible shape (None, 10).\n",
            "WARNING:tensorflow:Model was constructed with shape (None, None, 10) for input KerasTensor(type_spec=TensorSpec(shape=(None, None, 10), dtype=tf.float32, name='input_116'), name='input_116', description=\"created by layer 'input_116'\"), but it was called on an input with incompatible shape (None, 10).\n"
          ]
        },
        {
          "output_type": "stream",
          "name": "stdout",
          "text": [
            "698/704 [============================>.] - ETA: 0s - loss: 0.2209 - mean_squared_error: 0.2209"
          ]
        },
        {
          "output_type": "stream",
          "name": "stderr",
          "text": [
            "WARNING:tensorflow:Model was constructed with shape (None, None, 10) for input KerasTensor(type_spec=TensorSpec(shape=(None, None, 10), dtype=tf.float32, name='input_116'), name='input_116', description=\"created by layer 'input_116'\"), but it was called on an input with incompatible shape (None, 10).\n"
          ]
        },
        {
          "output_type": "stream",
          "name": "stdout",
          "text": [
            "\b\b\b\b\b\b\b\b\b\b\b\b\b\b\b\b\b\b\b\b\b\b\b\b\b\b\b\b\b\b\b\b\b\b\b\b\b\b\b\b\b\b\b\b\b\b\b\b\b\b\b\b\b\b\b\b\b\b\b\b\b\b\b\b\b\b\b\b\b\b\b\b\b\b\b\b\b\b\b\b\b\b\b\b\b\b\b\b\b\b\b\b\b\b\r704/704 [==============================] - 5s 5ms/step - loss: 0.2206 - mean_squared_error: 0.2206 - val_loss: 0.1780 - val_mean_squared_error: 0.1780\n",
            "Epoch 2/50\n",
            "704/704 [==============================] - 2s 3ms/step - loss: 0.1502 - mean_squared_error: 0.1502 - val_loss: 0.1248 - val_mean_squared_error: 0.1248\n",
            "Epoch 3/50\n",
            "704/704 [==============================] - 2s 3ms/step - loss: 0.1072 - mean_squared_error: 0.1072 - val_loss: 0.0903 - val_mean_squared_error: 0.0903\n",
            "Epoch 4/50\n",
            "704/704 [==============================] - 2s 3ms/step - loss: 0.0785 - mean_squared_error: 0.0785 - val_loss: 0.0668 - val_mean_squared_error: 0.0668\n",
            "Epoch 5/50\n",
            "704/704 [==============================] - 3s 4ms/step - loss: 0.0589 - mean_squared_error: 0.0589 - val_loss: 0.0510 - val_mean_squared_error: 0.0510\n",
            "Epoch 6/50\n",
            "704/704 [==============================] - 3s 5ms/step - loss: 0.0458 - mean_squared_error: 0.0458 - val_loss: 0.0403 - val_mean_squared_error: 0.0403\n",
            "Epoch 7/50\n",
            "704/704 [==============================] - 2s 3ms/step - loss: 0.0369 - mean_squared_error: 0.0369 - val_loss: 0.0331 - val_mean_squared_error: 0.0331\n",
            "Epoch 8/50\n",
            "704/704 [==============================] - 2s 3ms/step - loss: 0.0309 - mean_squared_error: 0.0309 - val_loss: 0.0283 - val_mean_squared_error: 0.0283\n",
            "Epoch 9/50\n",
            "704/704 [==============================] - 2s 3ms/step - loss: 0.0269 - mean_squared_error: 0.0269 - val_loss: 0.0251 - val_mean_squared_error: 0.0251\n",
            "Epoch 10/50\n",
            "704/704 [==============================] - 2s 3ms/step - loss: 0.0242 - mean_squared_error: 0.0242 - val_loss: 0.0230 - val_mean_squared_error: 0.0230\n",
            "Epoch 11/50\n",
            "704/704 [==============================] - 4s 5ms/step - loss: 0.0224 - mean_squared_error: 0.0224 - val_loss: 0.0216 - val_mean_squared_error: 0.0216\n",
            "Epoch 12/50\n",
            "704/704 [==============================] - 5s 7ms/step - loss: 0.0213 - mean_squared_error: 0.0213 - val_loss: 0.0207 - val_mean_squared_error: 0.0207\n",
            "Epoch 13/50\n",
            "704/704 [==============================] - 4s 6ms/step - loss: 0.0205 - mean_squared_error: 0.0205 - val_loss: 0.0200 - val_mean_squared_error: 0.0200\n",
            "Epoch 14/50\n",
            "704/704 [==============================] - 5s 7ms/step - loss: 0.0200 - mean_squared_error: 0.0200 - val_loss: 0.0196 - val_mean_squared_error: 0.0196\n",
            "Epoch 15/50\n",
            "704/704 [==============================] - 4s 5ms/step - loss: 0.0196 - mean_squared_error: 0.0196 - val_loss: 0.0194 - val_mean_squared_error: 0.0194\n",
            "Epoch 16/50\n",
            "704/704 [==============================] - 2s 3ms/step - loss: 0.0194 - mean_squared_error: 0.0194 - val_loss: 0.0192 - val_mean_squared_error: 0.0192\n",
            "Epoch 17/50\n",
            "704/704 [==============================] - 2s 3ms/step - loss: 0.0192 - mean_squared_error: 0.0192 - val_loss: 0.0191 - val_mean_squared_error: 0.0191\n",
            "Epoch 18/50\n",
            "704/704 [==============================] - 2s 3ms/step - loss: 0.0191 - mean_squared_error: 0.0191 - val_loss: 0.0190 - val_mean_squared_error: 0.0190\n",
            "Epoch 19/50\n",
            "704/704 [==============================] - 3s 4ms/step - loss: 0.0191 - mean_squared_error: 0.0191 - val_loss: 0.0190 - val_mean_squared_error: 0.0190\n",
            "Epoch 20/50\n",
            "704/704 [==============================] - 4s 5ms/step - loss: 0.0190 - mean_squared_error: 0.0190 - val_loss: 0.0189 - val_mean_squared_error: 0.0189\n",
            "Epoch 21/50\n",
            "704/704 [==============================] - 2s 3ms/step - loss: 0.0190 - mean_squared_error: 0.0190 - val_loss: 0.0189 - val_mean_squared_error: 0.0189\n",
            "Epoch 22/50\n",
            "704/704 [==============================] - 2s 3ms/step - loss: 0.0190 - mean_squared_error: 0.0190 - val_loss: 0.0189 - val_mean_squared_error: 0.0189\n",
            "Epoch 23/50\n",
            "704/704 [==============================] - 2s 3ms/step - loss: 0.0190 - mean_squared_error: 0.0190 - val_loss: 0.0189 - val_mean_squared_error: 0.0189\n",
            "Epoch 24/50\n",
            "704/704 [==============================] - 3s 4ms/step - loss: 0.0189 - mean_squared_error: 0.0189 - val_loss: 0.0189 - val_mean_squared_error: 0.0189\n",
            "Epoch 25/50\n",
            "704/704 [==============================] - 6s 9ms/step - loss: 0.0189 - mean_squared_error: 0.0189 - val_loss: 0.0189 - val_mean_squared_error: 0.0189\n",
            "Epoch 26/50\n",
            "704/704 [==============================] - 3s 4ms/step - loss: 0.0189 - mean_squared_error: 0.0189 - val_loss: 0.0189 - val_mean_squared_error: 0.0189\n",
            "Epoch 27/50\n",
            "704/704 [==============================] - 4s 5ms/step - loss: 0.0189 - mean_squared_error: 0.0189 - val_loss: 0.0189 - val_mean_squared_error: 0.0189\n",
            "Epoch 28/50\n",
            "704/704 [==============================] - 3s 4ms/step - loss: 0.0189 - mean_squared_error: 0.0189 - val_loss: 0.0189 - val_mean_squared_error: 0.0189\n",
            "Epoch 29/50\n",
            "704/704 [==============================] - 4s 6ms/step - loss: 0.0189 - mean_squared_error: 0.0189 - val_loss: 0.0189 - val_mean_squared_error: 0.0189\n",
            "Epoch 30/50\n",
            "704/704 [==============================] - 4s 6ms/step - loss: 0.0189 - mean_squared_error: 0.0189 - val_loss: 0.0189 - val_mean_squared_error: 0.0189\n",
            "Epoch 31/50\n",
            "704/704 [==============================] - 4s 5ms/step - loss: 0.0189 - mean_squared_error: 0.0189 - val_loss: 0.0189 - val_mean_squared_error: 0.0189\n",
            "Epoch 32/50\n",
            "704/704 [==============================] - 9s 13ms/step - loss: 0.0189 - mean_squared_error: 0.0189 - val_loss: 0.0189 - val_mean_squared_error: 0.0189\n",
            "Epoch 33/50\n",
            "704/704 [==============================] - 5s 7ms/step - loss: 0.0189 - mean_squared_error: 0.0189 - val_loss: 0.0189 - val_mean_squared_error: 0.0189\n",
            "Epoch 34/50\n",
            "704/704 [==============================] - 6s 8ms/step - loss: 0.0189 - mean_squared_error: 0.0189 - val_loss: 0.0189 - val_mean_squared_error: 0.0189\n",
            "Epoch 35/50\n",
            "704/704 [==============================] - 6s 8ms/step - loss: 0.0189 - mean_squared_error: 0.0189 - val_loss: 0.0189 - val_mean_squared_error: 0.0189\n",
            "Epoch 36/50\n",
            "704/704 [==============================] - 5s 7ms/step - loss: 0.0189 - mean_squared_error: 0.0189 - val_loss: 0.0189 - val_mean_squared_error: 0.0189\n",
            "Epoch 37/50\n",
            "704/704 [==============================] - 2s 3ms/step - loss: 0.0189 - mean_squared_error: 0.0189 - val_loss: 0.0189 - val_mean_squared_error: 0.0189\n",
            "Epoch 38/50\n",
            "704/704 [==============================] - 3s 4ms/step - loss: 0.0189 - mean_squared_error: 0.0189 - val_loss: 0.0189 - val_mean_squared_error: 0.0189\n",
            "Epoch 39/50\n",
            "704/704 [==============================] - 3s 5ms/step - loss: 0.0189 - mean_squared_error: 0.0189 - val_loss: 0.0189 - val_mean_squared_error: 0.0189\n",
            "Epoch 40/50\n",
            "704/704 [==============================] - 2s 3ms/step - loss: 0.0189 - mean_squared_error: 0.0189 - val_loss: 0.0189 - val_mean_squared_error: 0.0189\n",
            "Epoch 41/50\n",
            "704/704 [==============================] - 2s 3ms/step - loss: 0.0189 - mean_squared_error: 0.0189 - val_loss: 0.0189 - val_mean_squared_error: 0.0189\n",
            "Epoch 42/50\n",
            "704/704 [==============================] - 2s 3ms/step - loss: 0.0189 - mean_squared_error: 0.0189 - val_loss: 0.0189 - val_mean_squared_error: 0.0189\n",
            "Epoch 43/50\n",
            "704/704 [==============================] - 3s 4ms/step - loss: 0.0189 - mean_squared_error: 0.0189 - val_loss: 0.0189 - val_mean_squared_error: 0.0189\n",
            "Epoch 44/50\n",
            "704/704 [==============================] - 4s 5ms/step - loss: 0.0189 - mean_squared_error: 0.0189 - val_loss: 0.0189 - val_mean_squared_error: 0.0189\n",
            "Epoch 45/50\n",
            "704/704 [==============================] - 2s 3ms/step - loss: 0.0189 - mean_squared_error: 0.0189 - val_loss: 0.0189 - val_mean_squared_error: 0.0189\n",
            "Epoch 46/50\n",
            "704/704 [==============================] - 2s 3ms/step - loss: 0.0189 - mean_squared_error: 0.0189 - val_loss: 0.0189 - val_mean_squared_error: 0.0189\n",
            "Epoch 47/50\n",
            "704/704 [==============================] - 3s 4ms/step - loss: 0.0189 - mean_squared_error: 0.0189 - val_loss: 0.0189 - val_mean_squared_error: 0.0189\n",
            "Epoch 48/50\n",
            "704/704 [==============================] - 2s 3ms/step - loss: 0.0189 - mean_squared_error: 0.0189 - val_loss: 0.0189 - val_mean_squared_error: 0.0189\n",
            "Epoch 49/50\n",
            "704/704 [==============================] - 3s 5ms/step - loss: 0.0189 - mean_squared_error: 0.0189 - val_loss: 0.0189 - val_mean_squared_error: 0.0189\n",
            "Epoch 50/50\n",
            "704/704 [==============================] - 3s 4ms/step - loss: 0.0189 - mean_squared_error: 0.0189 - val_loss: 0.0189 - val_mean_squared_error: 0.0189\n",
            "79/79 - 0s - loss: 0.0191 - mean_squared_error: 0.0191 - 264ms/epoch - 3ms/step\n",
            "Test MSE loss: 0.019085383042693138\n"
          ]
        }
      ],
      "source": [
        "# Building model\n",
        "# Optimiser is SGD with learning rate (0.0001)\n",
        "l_rate = 0.0001\n",
        "batch_size = 128\n",
        "val_split = 0.1\n",
        "lat_dim = 100\n",
        "no_epochs = 50\n",
        "\n",
        "model = sum_model(lat_dim)\n",
        "\n",
        "optimiser = tf.optimizers.SGD(learning_rate=l_rate)\n",
        "\n",
        "model.compile(optimizer=optimiser, loss='mse', metrics=[tf.keras.metrics.MeanSquaredError()])\n",
        "\n",
        "\n",
        "history = model.fit(X_train,                          # training samples\n",
        "                    y_train,                          # training labels\n",
        "                    epochs=no_epochs,                 # training steps (epochs)\n",
        "                    batch_size=batch_size,           # how many data samples per training epoch\n",
        "                    validation_split=val_split)\n",
        "\n",
        "test_scores = model.evaluate(X_test, y_test, batch_size = 128, verbose=2)\n",
        "print(\"Test MSE loss:\", test_scores[0])"
      ]
    },
    {
      "cell_type": "code",
      "execution_count": 168,
      "metadata": {
        "colab": {
          "base_uri": "https://localhost:8080/",
          "height": 295
        },
        "id": "jPw7-ScJdyA5",
        "outputId": "1e6686f2-1184-45ee-f27b-89b686aa77bb"
      },
      "outputs": [
        {
          "output_type": "display_data",
          "data": {
            "text/plain": [
              "<Figure size 432x288 with 1 Axes>"
            ],
            "image/png": "[encoded data removed]"
          },
          "metadata": {
            "needs_background": "light"
          }
        }
      ],
      "source": [
        "# Plot the training and validation loss versus the number of epochs.\n",
        "tr_loss = []\n",
        "val_loss = []\n",
        "\n",
        "for i in range(50):\n",
        "  tr_loss.append(history.history[\"loss\"][i])\n",
        "  val_loss.append(history.history[\"val_loss\"][i])\n",
        "  \n",
        "plt.plot(range(50), tr_loss, \"-b\", label=\"training\")\n",
        "plt.plot(range(50), val_loss, \"-r\", label=\"validation\")\n",
        "plt.legend(loc=\"upper right\")\n",
        "plt.title(\"Training Loss and Validation Loss vs Number of Epochs\")\n",
        "plt.ylabel(\"Loss\")\n",
        "plt.xlabel(\"Epoch\")\n",
        "plt.show()"
      ]
    },
    {
      "cell_type": "markdown",
      "source": [
        "The original model implementation is adjusted to use sigmoid activation functions instead of ReLU activation functions, and the model is fitted over 50 epochs."
      ],
      "metadata": {
        "id": "O-4QJus5keHG"
      }
    },
    {
      "cell_type": "code",
      "execution_count": 189,
      "metadata": {
        "colab": {
          "base_uri": "https://localhost:8080/"
        },
        "id": "tFa43VC2kPMV",
        "outputId": "49bf95a2-6b47-48d1-cc4a-8b2ce5c3eec0"
      },
      "outputs": [
        {
          "output_type": "stream",
          "name": "stdout",
          "text": [
            "Epoch 1/50\n"
          ]
        },
        {
          "output_type": "stream",
          "name": "stderr",
          "text": [
            "WARNING:tensorflow:Model was constructed with shape (None, None, 10) for input KerasTensor(type_spec=TensorSpec(shape=(None, None, 10), dtype=tf.float32, name='input_230'), name='input_230', description=\"created by layer 'input_230'\"), but it was called on an input with incompatible shape (None, 10).\n",
            "WARNING:tensorflow:Model was constructed with shape (None, None, 10) for input KerasTensor(type_spec=TensorSpec(shape=(None, None, 10), dtype=tf.float32, name='input_230'), name='input_230', description=\"created by layer 'input_230'\"), but it was called on an input with incompatible shape (None, 10).\n"
          ]
        },
        {
          "output_type": "stream",
          "name": "stdout",
          "text": [
            "701/704 [============================>.] - ETA: 0s - loss: 0.0769 - mean_squared_error: 0.0769"
          ]
        },
        {
          "output_type": "stream",
          "name": "stderr",
          "text": [
            "WARNING:tensorflow:Model was constructed with shape (None, None, 10) for input KerasTensor(type_spec=TensorSpec(shape=(None, None, 10), dtype=tf.float32, name='input_230'), name='input_230', description=\"created by layer 'input_230'\"), but it was called on an input with incompatible shape (None, 10).\n"
          ]
        },
        {
          "output_type": "stream",
          "name": "stdout",
          "text": [
            "\b\b\b\b\b\b\b\b\b\b\b\b\b\b\b\b\b\b\b\b\b\b\b\b\b\b\b\b\b\b\b\b\b\b\b\b\b\b\b\b\b\b\b\b\b\b\b\b\b\b\b\b\b\b\b\b\b\b\b\b\b\b\b\b\b\b\b\b\b\b\b\b\b\b\b\b\b\b\b\b\b\b\b\b\b\b\b\b\b\b\b\b\b\b\r704/704 [==============================] - 4s 5ms/step - loss: 0.0767 - mean_squared_error: 0.0767 - val_loss: 0.0191 - val_mean_squared_error: 0.0191\n",
            "Epoch 2/50\n",
            "704/704 [==============================] - 3s 5ms/step - loss: 0.0190 - mean_squared_error: 0.0190 - val_loss: 0.0189 - val_mean_squared_error: 0.0189\n",
            "Epoch 3/50\n",
            "704/704 [==============================] - 2s 3ms/step - loss: 0.0190 - mean_squared_error: 0.0190 - val_loss: 0.0189 - val_mean_squared_error: 0.0189\n",
            "Epoch 4/50\n",
            "704/704 [==============================] - 2s 3ms/step - loss: 0.0190 - mean_squared_error: 0.0190 - val_loss: 0.0189 - val_mean_squared_error: 0.0189\n",
            "Epoch 5/50\n",
            "704/704 [==============================] - 3s 4ms/step - loss: 0.0190 - mean_squared_error: 0.0190 - val_loss: 0.0189 - val_mean_squared_error: 0.0189\n",
            "Epoch 6/50\n",
            "704/704 [==============================] - 3s 5ms/step - loss: 0.0190 - mean_squared_error: 0.0190 - val_loss: 0.0189 - val_mean_squared_error: 0.0189\n",
            "Epoch 7/50\n",
            "704/704 [==============================] - 4s 5ms/step - loss: 0.0190 - mean_squared_error: 0.0190 - val_loss: 0.0189 - val_mean_squared_error: 0.0189\n",
            "Epoch 8/50\n",
            "704/704 [==============================] - 2s 3ms/step - loss: 0.0190 - mean_squared_error: 0.0190 - val_loss: 0.0189 - val_mean_squared_error: 0.0189\n",
            "Epoch 9/50\n",
            "704/704 [==============================] - 3s 4ms/step - loss: 0.0190 - mean_squared_error: 0.0190 - val_loss: 0.0189 - val_mean_squared_error: 0.0189\n",
            "Epoch 10/50\n",
            "704/704 [==============================] - 2s 3ms/step - loss: 0.0190 - mean_squared_error: 0.0190 - val_loss: 0.0189 - val_mean_squared_error: 0.0189\n",
            "Epoch 11/50\n",
            "704/704 [==============================] - 3s 4ms/step - loss: 0.0190 - mean_squared_error: 0.0190 - val_loss: 0.0189 - val_mean_squared_error: 0.0189\n",
            "Epoch 12/50\n",
            "704/704 [==============================] - 4s 6ms/step - loss: 0.0190 - mean_squared_error: 0.0190 - val_loss: 0.0189 - val_mean_squared_error: 0.0189\n",
            "Epoch 13/50\n",
            "704/704 [==============================] - 3s 4ms/step - loss: 0.0190 - mean_squared_error: 0.0190 - val_loss: 0.0189 - val_mean_squared_error: 0.0189\n",
            "Epoch 14/50\n",
            "704/704 [==============================] - 3s 4ms/step - loss: 0.0190 - mean_squared_error: 0.0190 - val_loss: 0.0189 - val_mean_squared_error: 0.0189\n",
            "Epoch 15/50\n",
            "704/704 [==============================] - 3s 4ms/step - loss: 0.0190 - mean_squared_error: 0.0190 - val_loss: 0.0189 - val_mean_squared_error: 0.0189\n",
            "Epoch 16/50\n",
            "704/704 [==============================] - 3s 4ms/step - loss: 0.0190 - mean_squared_error: 0.0190 - val_loss: 0.0189 - val_mean_squared_error: 0.0189\n",
            "Epoch 17/50\n",
            "704/704 [==============================] - 4s 6ms/step - loss: 0.0190 - mean_squared_error: 0.0190 - val_loss: 0.0189 - val_mean_squared_error: 0.0189\n",
            "Epoch 18/50\n",
            "704/704 [==============================] - 3s 4ms/step - loss: 0.0190 - mean_squared_error: 0.0190 - val_loss: 0.0189 - val_mean_squared_error: 0.0189\n",
            "Epoch 19/50\n",
            "704/704 [==============================] - 3s 4ms/step - loss: 0.0190 - mean_squared_error: 0.0190 - val_loss: 0.0189 - val_mean_squared_error: 0.0189\n",
            "Epoch 20/50\n",
            "704/704 [==============================] - 3s 4ms/step - loss: 0.0190 - mean_squared_error: 0.0190 - val_loss: 0.0189 - val_mean_squared_error: 0.0189\n",
            "Epoch 21/50\n",
            "704/704 [==============================] - 3s 4ms/step - loss: 0.0190 - mean_squared_error: 0.0190 - val_loss: 0.0189 - val_mean_squared_error: 0.0189\n",
            "Epoch 22/50\n",
            "704/704 [==============================] - 4s 5ms/step - loss: 0.0190 - mean_squared_error: 0.0190 - val_loss: 0.0189 - val_mean_squared_error: 0.0189\n",
            "Epoch 23/50\n",
            "704/704 [==============================] - 2s 4ms/step - loss: 0.0190 - mean_squared_error: 0.0190 - val_loss: 0.0189 - val_mean_squared_error: 0.0189\n",
            "Epoch 24/50\n",
            "704/704 [==============================] - 2s 3ms/step - loss: 0.0190 - mean_squared_error: 0.0190 - val_loss: 0.0189 - val_mean_squared_error: 0.0189\n",
            "Epoch 25/50\n",
            "704/704 [==============================] - 2s 3ms/step - loss: 0.0190 - mean_squared_error: 0.0190 - val_loss: 0.0189 - val_mean_squared_error: 0.0189\n",
            "Epoch 26/50\n",
            "704/704 [==============================] - 2s 3ms/step - loss: 0.0190 - mean_squared_error: 0.0190 - val_loss: 0.0189 - val_mean_squared_error: 0.0189\n",
            "Epoch 27/50\n",
            "704/704 [==============================] - 3s 5ms/step - loss: 0.0190 - mean_squared_error: 0.0190 - val_loss: 0.0189 - val_mean_squared_error: 0.0189\n",
            "Epoch 28/50\n",
            "704/704 [==============================] - 3s 4ms/step - loss: 0.0190 - mean_squared_error: 0.0190 - val_loss: 0.0189 - val_mean_squared_error: 0.0189\n",
            "Epoch 29/50\n",
            "704/704 [==============================] - 2s 3ms/step - loss: 0.0190 - mean_squared_error: 0.0190 - val_loss: 0.0189 - val_mean_squared_error: 0.0189\n",
            "Epoch 30/50\n",
            "704/704 [==============================] - 3s 4ms/step - loss: 0.0190 - mean_squared_error: 0.0190 - val_loss: 0.0189 - val_mean_squared_error: 0.0189\n",
            "Epoch 31/50\n",
            "704/704 [==============================] - 2s 4ms/step - loss: 0.0190 - mean_squared_error: 0.0190 - val_loss: 0.0189 - val_mean_squared_error: 0.0189\n",
            "Epoch 32/50\n",
            "704/704 [==============================] - 3s 4ms/step - loss: 0.0190 - mean_squared_error: 0.0190 - val_loss: 0.0189 - val_mean_squared_error: 0.0189\n",
            "Epoch 33/50\n",
            "704/704 [==============================] - 4s 5ms/step - loss: 0.0190 - mean_squared_error: 0.0190 - val_loss: 0.0189 - val_mean_squared_error: 0.0189\n",
            "Epoch 34/50\n",
            "704/704 [==============================] - 2s 3ms/step - loss: 0.0190 - mean_squared_error: 0.0190 - val_loss: 0.0189 - val_mean_squared_error: 0.0189\n",
            "Epoch 35/50\n",
            "704/704 [==============================] - 2s 3ms/step - loss: 0.0190 - mean_squared_error: 0.0190 - val_loss: 0.0189 - val_mean_squared_error: 0.0189\n",
            "Epoch 36/50\n",
            "704/704 [==============================] - 2s 3ms/step - loss: 0.0190 - mean_squared_error: 0.0190 - val_loss: 0.0189 - val_mean_squared_error: 0.0189\n",
            "Epoch 37/50\n",
            "704/704 [==============================] - 3s 4ms/step - loss: 0.0190 - mean_squared_error: 0.0190 - val_loss: 0.0189 - val_mean_squared_error: 0.0189\n",
            "Epoch 38/50\n",
            "704/704 [==============================] - 4s 5ms/step - loss: 0.0190 - mean_squared_error: 0.0190 - val_loss: 0.0189 - val_mean_squared_error: 0.0189\n",
            "Epoch 39/50\n",
            "704/704 [==============================] - 2s 3ms/step - loss: 0.0190 - mean_squared_error: 0.0190 - val_loss: 0.0189 - val_mean_squared_error: 0.0189\n",
            "Epoch 40/50\n",
            "704/704 [==============================] - 2s 3ms/step - loss: 0.0190 - mean_squared_error: 0.0190 - val_loss: 0.0189 - val_mean_squared_error: 0.0189\n",
            "Epoch 41/50\n",
            "704/704 [==============================] - 2s 3ms/step - loss: 0.0190 - mean_squared_error: 0.0190 - val_loss: 0.0189 - val_mean_squared_error: 0.0189\n",
            "Epoch 42/50\n",
            "704/704 [==============================] - 2s 3ms/step - loss: 0.0190 - mean_squared_error: 0.0190 - val_loss: 0.0189 - val_mean_squared_error: 0.0189\n",
            "Epoch 43/50\n",
            "704/704 [==============================] - 3s 5ms/step - loss: 0.0190 - mean_squared_error: 0.0190 - val_loss: 0.0189 - val_mean_squared_error: 0.0189\n",
            "Epoch 44/50\n",
            "704/704 [==============================] - 3s 4ms/step - loss: 0.0190 - mean_squared_error: 0.0190 - val_loss: 0.0189 - val_mean_squared_error: 0.0189\n",
            "Epoch 45/50\n",
            "704/704 [==============================] - 2s 3ms/step - loss: 0.0190 - mean_squared_error: 0.0190 - val_loss: 0.0189 - val_mean_squared_error: 0.0189\n",
            "Epoch 46/50\n",
            "704/704 [==============================] - 2s 3ms/step - loss: 0.0190 - mean_squared_error: 0.0190 - val_loss: 0.0189 - val_mean_squared_error: 0.0189\n",
            "Epoch 47/50\n",
            "704/704 [==============================] - 2s 3ms/step - loss: 0.0190 - mean_squared_error: 0.0190 - val_loss: 0.0189 - val_mean_squared_error: 0.0189\n",
            "Epoch 48/50\n",
            "704/704 [==============================] - 3s 4ms/step - loss: 0.0190 - mean_squared_error: 0.0190 - val_loss: 0.0189 - val_mean_squared_error: 0.0189\n",
            "Epoch 49/50\n",
            "704/704 [==============================] - 4s 5ms/step - loss: 0.0190 - mean_squared_error: 0.0190 - val_loss: 0.0189 - val_mean_squared_error: 0.0189\n",
            "Epoch 50/50\n",
            "704/704 [==============================] - 2s 3ms/step - loss: 0.0190 - mean_squared_error: 0.0190 - val_loss: 0.0189 - val_mean_squared_error: 0.0189\n",
            "79/79 - 0s - loss: 0.0192 - mean_squared_error: 0.0192 - 146ms/epoch - 2ms/step\n",
            "Test MSE loss: 0.01915235072374344\n"
          ]
        }
      ],
      "source": [
        "def phi1(lat_dim):\n",
        "  input_layer = tf.keras.Input(shape=(10,))\n",
        "  layer_one = tf.keras.layers.Dense(100, activation=\"sigmoid\")(input_layer)\n",
        "  output = tf.keras.layers.Dense(lat_dim, activation=\"softmax\")(layer_one)\n",
        "  return tf.keras.Model(inputs=input_layer, outputs=output)\n",
        "  \n",
        "def rho1(lat_dim):\n",
        "  input = tf.keras.Input(shape=(lat_dim,))\n",
        "  layer_one = tf.keras.layers.Dense(100, activation=\"sigmoid\")(input)\n",
        "  output = tf.keras.layers.Dense(1, activation=\"linear\")(layer_one)\n",
        "  return tf.keras.Model(inputs=input, outputs=output)\n",
        "\n",
        "def sum_model1(lat_dim):\n",
        "    input_layer = tf.keras.Input(shape=(None, 10))\n",
        "    reshaped_input = tf.keras.layers.Reshape((1, 10))(input_layer)\n",
        "    phi_layer = tf.keras.layers.TimeDistributed(phi1(lat_dim))(reshaped_input)\n",
        "    phi_sum_layer = tf.keras.layers.Lambda(lambda x: tf.reduce_sum(x, axis=1))(phi_layer)\n",
        "    rho_layer = rho1(lat_dim)(phi_sum_layer)\n",
        "    return tf.keras.Model(inputs=input_layer, outputs=rho_layer)\n",
        "\n",
        "\n",
        "# Building model\n",
        "# Optimiser is SGD with learning rate (0.0001)\n",
        "l_rate = 0.0001\n",
        "batch_size = 128\n",
        "val_split = 0.1\n",
        "lat_dim = 100\n",
        "no_epochs = 50\n",
        "\n",
        "optimiser = tf.optimizers.SGD(learning_rate=l_rate)\n",
        "model = sum_model1(lat_dim)\n",
        "model.compile(optimizer=optimiser, loss='mse', metrics=[tf.keras.metrics.MeanSquaredError()])\n",
        "\n",
        "\n",
        "history = model.fit(X_train,                          # training samples\n",
        "                    y_train,                          # training labels\n",
        "                    epochs=no_epochs,                 # training steps (epochs)\n",
        "                    batch_size=batch_size,           # how many data samples per training epoch\n",
        "                    validation_split=val_split)\n",
        "\n",
        "test_scores = model.evaluate(X_test, y_test, batch_size = 128, verbose=2)\n",
        "print(\"Test MSE loss:\", test_scores[0])"
      ]
    },
    {
      "cell_type": "code",
      "source": [
        "# Plot the training and validation loss versus the number of epochs.\n",
        "tr_loss = []\n",
        "val_loss = []\n",
        "\n",
        "for i in range(50):\n",
        "  tr_loss.append(history.history[\"loss\"][i])\n",
        "  val_loss.append(history.history[\"val_loss\"][i])\n",
        "  \n",
        "plt.plot(range(50), tr_loss, \"-b\", label=\"training\")\n",
        "plt.plot(range(50), val_loss, \"-r\", label=\"validation\")\n",
        "plt.legend(loc=\"upper right\")\n",
        "plt.title(\"Training Loss and Validation Loss vs Number of Epochs\")\n",
        "plt.ylabel(\"Loss\")\n",
        "plt.xlabel(\"Epoch\")\n",
        "plt.show()"
      ],
      "metadata": {
        "colab": {
          "base_uri": "https://localhost:8080/",
          "height": 295
        },
        "id": "V1OE3gHwj-db",
        "outputId": "9fcd9f8a-2694-4811-9079-1997c451ab9a"
      },
      "execution_count": 192,
      "outputs": [
        {
          "output_type": "display_data",
          "data": {
            "text/plain": [
              "<Figure size 432x288 with 1 Axes>"
            ],
            "image/png": "[encoded data removed]"
          },
          "metadata": {
            "needs_background": "light"
          }
        }
      ]
    },
    {
      "cell_type": "markdown",
      "metadata": {
        "id": "SKAuXW2xlRMc"
      },
      "source": [
        "**Impact of changing ReLU activation to Sigmoid activation:**\n",
        "\n",
        "The training loss of the model using a Sigmoid activation function starts off very high in the first epoch, but then almost immediately converges to 0.019 and does not vary much over the rest of the epochs. The loss for the ReLU model converges much more gradually than the sigmoid model. Interestingly, the validation loss for the sigmoid model also stays almost constant throughout all epochs.\n",
        "\n",
        "The test MSE values are quite similar for both, with the ReLU model having a slightly lower MSE than for the sigmoid model (0.0191 vs. 0.0192).\n",
        "\n",
        "These results are quite surprising as use of the sigmoid function usually leads to slower convergence than using ReLU. This finding could suggest that a sigmoid activation function leads to a better model than a ReLU activation function in this case, but further investigation is needed. For example, this finding might not hold (and in fact use of sigmoid activation might be invalid) if a larger learning rate is used.\n",
        "\n",
        "\n",
        "\n",
        "\n",
        "\n",
        "\n",
        "\n",
        "\n"
      ]
    },
    {
      "cell_type": "markdown",
      "source": [
        "**P1.5**\n",
        "\n",
        "\n",
        "The neural network architecture is now evaluated for different values of lat_dim - [1,2,5,10,20,30,50,80,90,100]. For each setting of lat_dim, 5 independent training runs are done, each for 5 epochs. For each training run, the best model is selected with respect to the MSE validation metric. For each lat_dim, the average is taken over the test MSE values of the best models for each training run.r"
      ],
      "metadata": {
        "id": "1On5qG48YRiq"
      }
    },
    {
      "cell_type": "code",
      "execution_count": 193,
      "metadata": {
        "id": "jRc_8w1xlfB6",
        "colab": {
          "base_uri": "https://localhost:8080/"
        },
        "outputId": "7ce258b6-8e9c-448d-b76a-c93fadbc8902"
      },
      "outputs": [
        {
          "output_type": "stream",
          "name": "stdout",
          "text": [
            "Epoch 1/5\n"
          ]
        },
        {
          "output_type": "stream",
          "name": "stderr",
          "text": [
            "WARNING:tensorflow:Model was constructed with shape (None, None, 10) for input KerasTensor(type_spec=TensorSpec(shape=(None, None, 10), dtype=tf.float32, name='input_233'), name='input_233', description=\"created by layer 'input_233'\"), but it was called on an input with incompatible shape (None, 10).\n",
            "WARNING:tensorflow:Model was constructed with shape (None, None, 10) for input KerasTensor(type_spec=TensorSpec(shape=(None, None, 10), dtype=tf.float32, name='input_233'), name='input_233', description=\"created by layer 'input_233'\"), but it was called on an input with incompatible shape (None, 10).\n"
          ]
        },
        {
          "output_type": "stream",
          "name": "stdout",
          "text": [
            "685/704 [============================>.] - ETA: 0s - loss: 0.2070 - mean_squared_error: 0.2070"
          ]
        },
        {
          "output_type": "stream",
          "name": "stderr",
          "text": [
            "WARNING:tensorflow:Model was constructed with shape (None, None, 10) for input KerasTensor(type_spec=TensorSpec(shape=(None, None, 10), dtype=tf.float32, name='input_233'), name='input_233', description=\"created by layer 'input_233'\"), but it was called on an input with incompatible shape (None, 10).\n"
          ]
        },
        {
          "output_type": "stream",
          "name": "stdout",
          "text": [
            "\b\b\b\b\b\b\b\b\b\b\b\b\b\b\b\b\b\b\b\b\b\b\b\b\b\b\b\b\b\b\b\b\b\b\b\b\b\b\b\b\b\b\b\b\b\b\b\b\b\b\b\b\b\b\b\b\b\b\b\b\b\b\b\b\b\b\b\b\b\b\b\b\b\b\b\b\b\b\b\b\b\b\b\b\b\b\b\b\b\b\b\b\b\b\r704/704 [==============================] - 3s 3ms/step - loss: 0.2047 - mean_squared_error: 0.2047 - val_loss: 0.1232 - val_mean_squared_error: 0.1232\n",
            "Epoch 2/5\n",
            "704/704 [==============================] - 2s 3ms/step - loss: 0.0840 - mean_squared_error: 0.0840 - val_loss: 0.0549 - val_mean_squared_error: 0.0549\n",
            "Epoch 3/5\n",
            "704/704 [==============================] - 2s 3ms/step - loss: 0.0414 - mean_squared_error: 0.0414 - val_loss: 0.0312 - val_mean_squared_error: 0.0312\n",
            "Epoch 4/5\n",
            "704/704 [==============================] - 3s 4ms/step - loss: 0.0266 - mean_squared_error: 0.0266 - val_loss: 0.0230 - val_mean_squared_error: 0.0230\n",
            "Epoch 5/5\n",
            "704/704 [==============================] - 3s 4ms/step - loss: 0.0216 - mean_squared_error: 0.0216 - val_loss: 0.0203 - val_mean_squared_error: 0.0203\n"
          ]
        },
        {
          "output_type": "stream",
          "name": "stderr",
          "text": [
            "WARNING:tensorflow:Model was constructed with shape (None, None, 10) for input KerasTensor(type_spec=TensorSpec(shape=(None, None, 10), dtype=tf.float32, name='input_233'), name='input_233', description=\"created by layer 'input_233'\"), but it was called on an input with incompatible shape (None, 10).\n"
          ]
        },
        {
          "output_type": "stream",
          "name": "stdout",
          "text": [
            "Epoch 1/5\n"
          ]
        },
        {
          "output_type": "stream",
          "name": "stderr",
          "text": [
            "WARNING:tensorflow:Model was constructed with shape (None, None, 10) for input KerasTensor(type_spec=TensorSpec(shape=(None, None, 10), dtype=tf.float32, name='input_236'), name='input_236', description=\"created by layer 'input_236'\"), but it was called on an input with incompatible shape (None, 10).\n",
            "WARNING:tensorflow:Model was constructed with shape (None, None, 10) for input KerasTensor(type_spec=TensorSpec(shape=(None, None, 10), dtype=tf.float32, name='input_236'), name='input_236', description=\"created by layer 'input_236'\"), but it was called on an input with incompatible shape (None, 10).\n"
          ]
        },
        {
          "output_type": "stream",
          "name": "stdout",
          "text": [
            "692/704 [============================>.] - ETA: 0s - loss: 0.3751 - mean_squared_error: 0.3751"
          ]
        },
        {
          "output_type": "stream",
          "name": "stderr",
          "text": [
            "WARNING:tensorflow:Model was constructed with shape (None, None, 10) for input KerasTensor(type_spec=TensorSpec(shape=(None, None, 10), dtype=tf.float32, name='input_236'), name='input_236', description=\"created by layer 'input_236'\"), but it was called on an input with incompatible shape (None, 10).\n"
          ]
        },
        {
          "output_type": "stream",
          "name": "stdout",
          "text": [
            "\b\b\b\b\b\b\b\b\b\b\b\b\b\b\b\b\b\b\b\b\b\b\b\b\b\b\b\b\b\b\b\b\b\b\b\b\b\b\b\b\b\b\b\b\b\b\b\b\b\b\b\b\b\b\b\b\b\b\b\b\b\b\b\b\b\b\b\b\b\b\b\b\b\b\b\b\b\b\b\b\b\b\b\b\b\b\b\b\b\b\b\b\b\b\r704/704 [==============================] - 6s 8ms/step - loss: 0.3724 - mean_squared_error: 0.3724 - val_loss: 0.2024 - val_mean_squared_error: 0.2024\n",
            "Epoch 2/5\n",
            "704/704 [==============================] - 3s 5ms/step - loss: 0.1276 - mean_squared_error: 0.1276 - val_loss: 0.0751 - val_mean_squared_error: 0.0751\n",
            "Epoch 3/5\n",
            "704/704 [==============================] - 2s 3ms/step - loss: 0.0526 - mean_squared_error: 0.0526 - val_loss: 0.0364 - val_mean_squared_error: 0.0364\n",
            "Epoch 4/5\n",
            "704/704 [==============================] - 2s 3ms/step - loss: 0.0295 - mean_squared_error: 0.0295 - val_loss: 0.0243 - val_mean_squared_error: 0.0243\n",
            "Epoch 5/5\n",
            "704/704 [==============================] - 2s 3ms/step - loss: 0.0222 - mean_squared_error: 0.0222 - val_loss: 0.0205 - val_mean_squared_error: 0.0205\n"
          ]
        },
        {
          "output_type": "stream",
          "name": "stderr",
          "text": [
            "WARNING:tensorflow:Model was constructed with shape (None, None, 10) for input KerasTensor(type_spec=TensorSpec(shape=(None, None, 10), dtype=tf.float32, name='input_236'), name='input_236', description=\"created by layer 'input_236'\"), but it was called on an input with incompatible shape (None, 10).\n"
          ]
        },
        {
          "output_type": "stream",
          "name": "stdout",
          "text": [
            "Epoch 1/5\n"
          ]
        },
        {
          "output_type": "stream",
          "name": "stderr",
          "text": [
            "WARNING:tensorflow:Model was constructed with shape (None, None, 10) for input KerasTensor(type_spec=TensorSpec(shape=(None, None, 10), dtype=tf.float32, name='input_239'), name='input_239', description=\"created by layer 'input_239'\"), but it was called on an input with incompatible shape (None, 10).\n",
            "WARNING:tensorflow:Model was constructed with shape (None, None, 10) for input KerasTensor(type_spec=TensorSpec(shape=(None, None, 10), dtype=tf.float32, name='input_239'), name='input_239', description=\"created by layer 'input_239'\"), but it was called on an input with incompatible shape (None, 10).\n"
          ]
        },
        {
          "output_type": "stream",
          "name": "stdout",
          "text": [
            "703/704 [============================>.] - ETA: 0s - loss: 0.3510 - mean_squared_error: 0.3510"
          ]
        },
        {
          "output_type": "stream",
          "name": "stderr",
          "text": [
            "WARNING:tensorflow:Model was constructed with shape (None, None, 10) for input KerasTensor(type_spec=TensorSpec(shape=(None, None, 10), dtype=tf.float32, name='input_239'), name='input_239', description=\"created by layer 'input_239'\"), but it was called on an input with incompatible shape (None, 10).\n"
          ]
        },
        {
          "output_type": "stream",
          "name": "stdout",
          "text": [
            "\b\b\b\b\b\b\b\b\b\b\b\b\b\b\b\b\b\b\b\b\b\b\b\b\b\b\b\b\b\b\b\b\b\b\b\b\b\b\b\b\b\b\b\b\b\b\b\b\b\b\b\b\b\b\b\b\b\b\b\b\b\b\b\b\b\b\b\b\b\b\b\b\b\b\b\b\b\b\b\b\b\b\b\b\b\b\b\b\b\b\b\b\b\b\r704/704 [==============================] - 5s 5ms/step - loss: 0.3510 - mean_squared_error: 0.3510 - val_loss: 0.2240 - val_mean_squared_error: 0.2240\n",
            "Epoch 2/5\n",
            "704/704 [==============================] - 2s 3ms/step - loss: 0.1563 - mean_squared_error: 0.1563 - val_loss: 0.1038 - val_mean_squared_error: 0.1038\n",
            "Epoch 3/5\n",
            "704/704 [==============================] - 3s 4ms/step - loss: 0.0758 - mean_squared_error: 0.0758 - val_loss: 0.0538 - val_mean_squared_error: 0.0538\n",
            "Epoch 4/5\n",
            "704/704 [==============================] - 4s 6ms/step - loss: 0.0424 - mean_squared_error: 0.0424 - val_loss: 0.0331 - val_mean_squared_error: 0.0331\n",
            "Epoch 5/5\n",
            "704/704 [==============================] - 4s 6ms/step - loss: 0.0286 - mean_squared_error: 0.0286 - val_loss: 0.0247 - val_mean_squared_error: 0.0247\n"
          ]
        },
        {
          "output_type": "stream",
          "name": "stderr",
          "text": [
            "WARNING:tensorflow:Model was constructed with shape (None, None, 10) for input KerasTensor(type_spec=TensorSpec(shape=(None, None, 10), dtype=tf.float32, name='input_239'), name='input_239', description=\"created by layer 'input_239'\"), but it was called on an input with incompatible shape (None, 10).\n"
          ]
        },
        {
          "output_type": "stream",
          "name": "stdout",
          "text": [
            "Epoch 1/5\n"
          ]
        },
        {
          "output_type": "stream",
          "name": "stderr",
          "text": [
            "WARNING:tensorflow:Model was constructed with shape (None, None, 10) for input KerasTensor(type_spec=TensorSpec(shape=(None, None, 10), dtype=tf.float32, name='input_242'), name='input_242', description=\"created by layer 'input_242'\"), but it was called on an input with incompatible shape (None, 10).\n",
            "WARNING:tensorflow:Model was constructed with shape (None, None, 10) for input KerasTensor(type_spec=TensorSpec(shape=(None, None, 10), dtype=tf.float32, name='input_242'), name='input_242', description=\"created by layer 'input_242'\"), but it was called on an input with incompatible shape (None, 10).\n"
          ]
        },
        {
          "output_type": "stream",
          "name": "stdout",
          "text": [
            "696/704 [============================>.] - ETA: 0s - loss: 0.0893 - mean_squared_error: 0.0893"
          ]
        },
        {
          "output_type": "stream",
          "name": "stderr",
          "text": [
            "WARNING:tensorflow:Model was constructed with shape (None, None, 10) for input KerasTensor(type_spec=TensorSpec(shape=(None, None, 10), dtype=tf.float32, name='input_242'), name='input_242', description=\"created by layer 'input_242'\"), but it was called on an input with incompatible shape (None, 10).\n"
          ]
        },
        {
          "output_type": "stream",
          "name": "stdout",
          "text": [
            "\b\b\b\b\b\b\b\b\b\b\b\b\b\b\b\b\b\b\b\b\b\b\b\b\b\b\b\b\b\b\b\b\b\b\b\b\b\b\b\b\b\b\b\b\b\b\b\b\b\b\b\b\b\b\b\b\b\b\b\b\b\b\b\b\b\b\b\b\b\b\b\b\b\b\b\b\b\b\b\b\b\b\b\b\b\b\b\b\b\b\b\b\b\b\r704/704 [==============================] - 3s 3ms/step - loss: 0.0890 - mean_squared_error: 0.0890 - val_loss: 0.0534 - val_mean_squared_error: 0.0534\n",
            "Epoch 2/5\n",
            "704/704 [==============================] - 3s 4ms/step - loss: 0.0389 - mean_squared_error: 0.0389 - val_loss: 0.0286 - val_mean_squared_error: 0.0286\n",
            "Epoch 3/5\n",
            "704/704 [==============================] - 4s 5ms/step - loss: 0.0246 - mean_squared_error: 0.0246 - val_loss: 0.0216 - val_mean_squared_error: 0.0216\n",
            "Epoch 4/5\n",
            "704/704 [==============================] - 3s 5ms/step - loss: 0.0206 - mean_squared_error: 0.0206 - val_loss: 0.0197 - val_mean_squared_error: 0.0197\n",
            "Epoch 5/5\n",
            "704/704 [==============================] - 3s 4ms/step - loss: 0.0194 - mean_squared_error: 0.0194 - val_loss: 0.0191 - val_mean_squared_error: 0.0191\n"
          ]
        },
        {
          "output_type": "stream",
          "name": "stderr",
          "text": [
            "WARNING:tensorflow:Model was constructed with shape (None, None, 10) for input KerasTensor(type_spec=TensorSpec(shape=(None, None, 10), dtype=tf.float32, name='input_242'), name='input_242', description=\"created by layer 'input_242'\"), but it was called on an input with incompatible shape (None, 10).\n"
          ]
        },
        {
          "output_type": "stream",
          "name": "stdout",
          "text": [
            "Epoch 1/5\n"
          ]
        },
        {
          "output_type": "stream",
          "name": "stderr",
          "text": [
            "WARNING:tensorflow:Model was constructed with shape (None, None, 10) for input KerasTensor(type_spec=TensorSpec(shape=(None, None, 10), dtype=tf.float32, name='input_245'), name='input_245', description=\"created by layer 'input_245'\"), but it was called on an input with incompatible shape (None, 10).\n",
            "WARNING:tensorflow:Model was constructed with shape (None, None, 10) for input KerasTensor(type_spec=TensorSpec(shape=(None, None, 10), dtype=tf.float32, name='input_245'), name='input_245', description=\"created by layer 'input_245'\"), but it was called on an input with incompatible shape (None, 10).\n"
          ]
        },
        {
          "output_type": "stream",
          "name": "stdout",
          "text": [
            "699/704 [============================>.] - ETA: 0s - loss: 0.2951 - mean_squared_error: 0.2951"
          ]
        },
        {
          "output_type": "stream",
          "name": "stderr",
          "text": [
            "WARNING:tensorflow:Model was constructed with shape (None, None, 10) for input KerasTensor(type_spec=TensorSpec(shape=(None, None, 10), dtype=tf.float32, name='input_245'), name='input_245', description=\"created by layer 'input_245'\"), but it was called on an input with incompatible shape (None, 10).\n"
          ]
        },
        {
          "output_type": "stream",
          "name": "stdout",
          "text": [
            "\b\b\b\b\b\b\b\b\b\b\b\b\b\b\b\b\b\b\b\b\b\b\b\b\b\b\b\b\b\b\b\b\b\b\b\b\b\b\b\b\b\b\b\b\b\b\b\b\b\b\b\b\b\b\b\b\b\b\b\b\b\b\b\b\b\b\b\b\b\b\b\b\b\b\b\b\b\b\b\b\b\b\b\b\b\b\b\b\b\b\b\b\b\b\r704/704 [==============================] - 3s 4ms/step - loss: 0.2944 - mean_squared_error: 0.2944 - val_loss: 0.1639 - val_mean_squared_error: 0.1639\n",
            "Epoch 2/5\n",
            "704/704 [==============================] - 4s 6ms/step - loss: 0.1060 - mean_squared_error: 0.1060 - val_loss: 0.0650 - val_mean_squared_error: 0.0650\n",
            "Epoch 3/5\n",
            "704/704 [==============================] - 4s 6ms/step - loss: 0.0468 - mean_squared_error: 0.0468 - val_loss: 0.0334 - val_mean_squared_error: 0.0334\n",
            "Epoch 4/5\n",
            "704/704 [==============================] - 3s 4ms/step - loss: 0.0278 - mean_squared_error: 0.0278 - val_loss: 0.0235 - val_mean_squared_error: 0.0235\n",
            "Epoch 5/5\n",
            "704/704 [==============================] - 2s 3ms/step - loss: 0.0218 - mean_squared_error: 0.0218 - val_loss: 0.0203 - val_mean_squared_error: 0.0203\n"
          ]
        },
        {
          "output_type": "stream",
          "name": "stderr",
          "text": [
            "WARNING:tensorflow:Model was constructed with shape (None, None, 10) for input KerasTensor(type_spec=TensorSpec(shape=(None, None, 10), dtype=tf.float32, name='input_245'), name='input_245', description=\"created by layer 'input_245'\"), but it was called on an input with incompatible shape (None, 10).\n"
          ]
        },
        {
          "output_type": "stream",
          "name": "stdout",
          "text": [
            "Epoch 1/5\n"
          ]
        },
        {
          "output_type": "stream",
          "name": "stderr",
          "text": [
            "WARNING:tensorflow:Model was constructed with shape (None, None, 10) for input KerasTensor(type_spec=TensorSpec(shape=(None, None, 10), dtype=tf.float32, name='input_248'), name='input_248', description=\"created by layer 'input_248'\"), but it was called on an input with incompatible shape (None, 10).\n",
            "WARNING:tensorflow:Model was constructed with shape (None, None, 10) for input KerasTensor(type_spec=TensorSpec(shape=(None, None, 10), dtype=tf.float32, name='input_248'), name='input_248', description=\"created by layer 'input_248'\"), but it was called on an input with incompatible shape (None, 10).\n"
          ]
        },
        {
          "output_type": "stream",
          "name": "stdout",
          "text": [
            "700/704 [============================>.] - ETA: 0s - loss: 0.2535 - mean_squared_error: 0.2535"
          ]
        },
        {
          "output_type": "stream",
          "name": "stderr",
          "text": [
            "WARNING:tensorflow:Model was constructed with shape (None, None, 10) for input KerasTensor(type_spec=TensorSpec(shape=(None, None, 10), dtype=tf.float32, name='input_248'), name='input_248', description=\"created by layer 'input_248'\"), but it was called on an input with incompatible shape (None, 10).\n"
          ]
        },
        {
          "output_type": "stream",
          "name": "stdout",
          "text": [
            "\b\b\b\b\b\b\b\b\b\b\b\b\b\b\b\b\b\b\b\b\b\b\b\b\b\b\b\b\b\b\b\b\b\b\b\b\b\b\b\b\b\b\b\b\b\b\b\b\b\b\b\b\b\b\b\b\b\b\b\b\b\b\b\b\b\b\b\b\b\b\b\b\b\b\b\b\b\b\b\b\b\b\b\b\b\b\b\b\b\b\b\b\b\b\r704/704 [==============================] - 6s 8ms/step - loss: 0.2531 - mean_squared_error: 0.2531 - val_loss: 0.1801 - val_mean_squared_error: 0.1801\n",
            "Epoch 2/5\n",
            "704/704 [==============================] - 2s 3ms/step - loss: 0.1363 - mean_squared_error: 0.1363 - val_loss: 0.0997 - val_mean_squared_error: 0.0997\n",
            "Epoch 3/5\n",
            "704/704 [==============================] - 4s 5ms/step - loss: 0.0776 - mean_squared_error: 0.0776 - val_loss: 0.0587 - val_mean_squared_error: 0.0587\n",
            "Epoch 4/5\n",
            "704/704 [==============================] - 3s 5ms/step - loss: 0.0478 - mean_squared_error: 0.0478 - val_loss: 0.0382 - val_mean_squared_error: 0.0382\n",
            "Epoch 5/5\n",
            "704/704 [==============================] - 3s 4ms/step - loss: 0.0330 - mean_squared_error: 0.0330 - val_loss: 0.0281 - val_mean_squared_error: 0.0281\n"
          ]
        },
        {
          "output_type": "stream",
          "name": "stderr",
          "text": [
            "WARNING:tensorflow:Model was constructed with shape (None, None, 10) for input KerasTensor(type_spec=TensorSpec(shape=(None, None, 10), dtype=tf.float32, name='input_248'), name='input_248', description=\"created by layer 'input_248'\"), but it was called on an input with incompatible shape (None, 10).\n"
          ]
        },
        {
          "output_type": "stream",
          "name": "stdout",
          "text": [
            "Epoch 1/5\n"
          ]
        },
        {
          "output_type": "stream",
          "name": "stderr",
          "text": [
            "WARNING:tensorflow:Model was constructed with shape (None, None, 10) for input KerasTensor(type_spec=TensorSpec(shape=(None, None, 10), dtype=tf.float32, name='input_251'), name='input_251', description=\"created by layer 'input_251'\"), but it was called on an input with incompatible shape (None, 10).\n",
            "WARNING:tensorflow:Model was constructed with shape (None, None, 10) for input KerasTensor(type_spec=TensorSpec(shape=(None, None, 10), dtype=tf.float32, name='input_251'), name='input_251', description=\"created by layer 'input_251'\"), but it was called on an input with incompatible shape (None, 10).\n"
          ]
        },
        {
          "output_type": "stream",
          "name": "stdout",
          "text": [
            "701/704 [============================>.] - ETA: 0s - loss: 0.2788 - mean_squared_error: 0.2788"
          ]
        },
        {
          "output_type": "stream",
          "name": "stderr",
          "text": [
            "WARNING:tensorflow:Model was constructed with shape (None, None, 10) for input KerasTensor(type_spec=TensorSpec(shape=(None, None, 10), dtype=tf.float32, name='input_251'), name='input_251', description=\"created by layer 'input_251'\"), but it was called on an input with incompatible shape (None, 10).\n"
          ]
        },
        {
          "output_type": "stream",
          "name": "stdout",
          "text": [
            "\b\b\b\b\b\b\b\b\b\b\b\b\b\b\b\b\b\b\b\b\b\b\b\b\b\b\b\b\b\b\b\b\b\b\b\b\b\b\b\b\b\b\b\b\b\b\b\b\b\b\b\b\b\b\b\b\b\b\b\b\b\b\b\b\b\b\b\b\b\b\b\b\b\b\b\b\b\b\b\b\b\b\b\b\b\b\b\b\b\b\b\b\b\b\r704/704 [==============================] - 4s 4ms/step - loss: 0.2785 - mean_squared_error: 0.2785 - val_loss: 0.1899 - val_mean_squared_error: 0.1899\n",
            "Epoch 2/5\n",
            "704/704 [==============================] - 5s 8ms/step - loss: 0.1395 - mean_squared_error: 0.1395 - val_loss: 0.0985 - val_mean_squared_error: 0.0985\n",
            "Epoch 3/5\n",
            "704/704 [==============================] - 6s 9ms/step - loss: 0.0752 - mean_squared_error: 0.0752 - val_loss: 0.0559 - val_mean_squared_error: 0.0559\n",
            "Epoch 4/5\n",
            "704/704 [==============================] - 3s 4ms/step - loss: 0.0451 - mean_squared_error: 0.0451 - val_loss: 0.0359 - val_mean_squared_error: 0.0359\n",
            "Epoch 5/5\n",
            "704/704 [==============================] - 3s 4ms/step - loss: 0.0311 - mean_squared_error: 0.0311 - val_loss: 0.0267 - val_mean_squared_error: 0.0267\n"
          ]
        },
        {
          "output_type": "stream",
          "name": "stderr",
          "text": [
            "WARNING:tensorflow:Model was constructed with shape (None, None, 10) for input KerasTensor(type_spec=TensorSpec(shape=(None, None, 10), dtype=tf.float32, name='input_251'), name='input_251', description=\"created by layer 'input_251'\"), but it was called on an input with incompatible shape (None, 10).\n"
          ]
        },
        {
          "output_type": "stream",
          "name": "stdout",
          "text": [
            "Epoch 1/5\n"
          ]
        },
        {
          "output_type": "stream",
          "name": "stderr",
          "text": [
            "WARNING:tensorflow:Model was constructed with shape (None, None, 10) for input KerasTensor(type_spec=TensorSpec(shape=(None, None, 10), dtype=tf.float32, name='input_254'), name='input_254', description=\"created by layer 'input_254'\"), but it was called on an input with incompatible shape (None, 10).\n",
            "WARNING:tensorflow:Model was constructed with shape (None, None, 10) for input KerasTensor(type_spec=TensorSpec(shape=(None, None, 10), dtype=tf.float32, name='input_254'), name='input_254', description=\"created by layer 'input_254'\"), but it was called on an input with incompatible shape (None, 10).\n"
          ]
        },
        {
          "output_type": "stream",
          "name": "stdout",
          "text": [
            "702/704 [============================>.] - ETA: 0s - loss: 0.2261 - mean_squared_error: 0.2261"
          ]
        },
        {
          "output_type": "stream",
          "name": "stderr",
          "text": [
            "WARNING:tensorflow:Model was constructed with shape (None, None, 10) for input KerasTensor(type_spec=TensorSpec(shape=(None, None, 10), dtype=tf.float32, name='input_254'), name='input_254', description=\"created by layer 'input_254'\"), but it was called on an input with incompatible shape (None, 10).\n"
          ]
        },
        {
          "output_type": "stream",
          "name": "stdout",
          "text": [
            "\b\b\b\b\b\b\b\b\b\b\b\b\b\b\b\b\b\b\b\b\b\b\b\b\b\b\b\b\b\b\b\b\b\b\b\b\b\b\b\b\b\b\b\b\b\b\b\b\b\b\b\b\b\b\b\b\b\b\b\b\b\b\b\b\b\b\b\b\b\b\b\b\b\b\b\b\b\b\b\b\b\b\b\b\b\b\b\b\b\b\b\b\b\b\r704/704 [==============================] - 7s 8ms/step - loss: 0.2260 - mean_squared_error: 0.2260 - val_loss: 0.1467 - val_mean_squared_error: 0.1467\n",
            "Epoch 2/5\n",
            "704/704 [==============================] - 2s 4ms/step - loss: 0.1040 - mean_squared_error: 0.1040 - val_loss: 0.0704 - val_mean_squared_error: 0.0704\n",
            "Epoch 3/5\n",
            "704/704 [==============================] - 3s 4ms/step - loss: 0.0529 - mean_squared_error: 0.0529 - val_loss: 0.0388 - val_mean_squared_error: 0.0388\n",
            "Epoch 4/5\n",
            "704/704 [==============================] - 3s 4ms/step - loss: 0.0317 - mean_squared_error: 0.0317 - val_loss: 0.0258 - val_mean_squared_error: 0.0258\n",
            "Epoch 5/5\n",
            "704/704 [==============================] - 4s 6ms/step - loss: 0.0231 - mean_squared_error: 0.0231 - val_loss: 0.0207 - val_mean_squared_error: 0.0207\n"
          ]
        },
        {
          "output_type": "stream",
          "name": "stderr",
          "text": [
            "WARNING:tensorflow:Model was constructed with shape (None, None, 10) for input KerasTensor(type_spec=TensorSpec(shape=(None, None, 10), dtype=tf.float32, name='input_254'), name='input_254', description=\"created by layer 'input_254'\"), but it was called on an input with incompatible shape (None, 10).\n"
          ]
        },
        {
          "output_type": "stream",
          "name": "stdout",
          "text": [
            "Epoch 1/5\n"
          ]
        },
        {
          "output_type": "stream",
          "name": "stderr",
          "text": [
            "WARNING:tensorflow:Model was constructed with shape (None, None, 10) for input KerasTensor(type_spec=TensorSpec(shape=(None, None, 10), dtype=tf.float32, name='input_257'), name='input_257', description=\"created by layer 'input_257'\"), but it was called on an input with incompatible shape (None, 10).\n",
            "WARNING:tensorflow:Model was constructed with shape (None, None, 10) for input KerasTensor(type_spec=TensorSpec(shape=(None, None, 10), dtype=tf.float32, name='input_257'), name='input_257', description=\"created by layer 'input_257'\"), but it was called on an input with incompatible shape (None, 10).\n"
          ]
        },
        {
          "output_type": "stream",
          "name": "stdout",
          "text": [
            "701/704 [============================>.] - ETA: 0s - loss: 0.2666 - mean_squared_error: 0.2666"
          ]
        },
        {
          "output_type": "stream",
          "name": "stderr",
          "text": [
            "WARNING:tensorflow:Model was constructed with shape (None, None, 10) for input KerasTensor(type_spec=TensorSpec(shape=(None, None, 10), dtype=tf.float32, name='input_257'), name='input_257', description=\"created by layer 'input_257'\"), but it was called on an input with incompatible shape (None, 10).\n"
          ]
        },
        {
          "output_type": "stream",
          "name": "stdout",
          "text": [
            "\b\b\b\b\b\b\b\b\b\b\b\b\b\b\b\b\b\b\b\b\b\b\b\b\b\b\b\b\b\b\b\b\b\b\b\b\b\b\b\b\b\b\b\b\b\b\b\b\b\b\b\b\b\b\b\b\b\b\b\b\b\b\b\b\b\b\b\b\b\b\b\b\b\b\b\b\b\b\b\b\b\b\b\b\b\b\b\b\b\b\b\b\b\b\r704/704 [==============================] - 4s 5ms/step - loss: 0.2663 - mean_squared_error: 0.2663 - val_loss: 0.1705 - val_mean_squared_error: 0.1705\n",
            "Epoch 2/5\n",
            "704/704 [==============================] - 3s 5ms/step - loss: 0.1222 - mean_squared_error: 0.1222 - val_loss: 0.0845 - val_mean_squared_error: 0.0845\n",
            "Epoch 3/5\n",
            "704/704 [==============================] - 5s 6ms/step - loss: 0.0643 - mean_squared_error: 0.0643 - val_loss: 0.0477 - val_mean_squared_error: 0.0477\n",
            "Epoch 4/5\n",
            "704/704 [==============================] - 3s 4ms/step - loss: 0.0390 - mean_squared_error: 0.0390 - val_loss: 0.0316 - val_mean_squared_error: 0.0316\n",
            "Epoch 5/5\n",
            "704/704 [==============================] - 3s 4ms/step - loss: 0.0278 - mean_squared_error: 0.0278 - val_loss: 0.0244 - val_mean_squared_error: 0.0244\n"
          ]
        },
        {
          "output_type": "stream",
          "name": "stderr",
          "text": [
            "WARNING:tensorflow:Model was constructed with shape (None, None, 10) for input KerasTensor(type_spec=TensorSpec(shape=(None, None, 10), dtype=tf.float32, name='input_257'), name='input_257', description=\"created by layer 'input_257'\"), but it was called on an input with incompatible shape (None, 10).\n"
          ]
        },
        {
          "output_type": "stream",
          "name": "stdout",
          "text": [
            "Epoch 1/5\n"
          ]
        },
        {
          "output_type": "stream",
          "name": "stderr",
          "text": [
            "WARNING:tensorflow:Model was constructed with shape (None, None, 10) for input KerasTensor(type_spec=TensorSpec(shape=(None, None, 10), dtype=tf.float32, name='input_260'), name='input_260', description=\"created by layer 'input_260'\"), but it was called on an input with incompatible shape (None, 10).\n",
            "WARNING:tensorflow:Model was constructed with shape (None, None, 10) for input KerasTensor(type_spec=TensorSpec(shape=(None, None, 10), dtype=tf.float32, name='input_260'), name='input_260', description=\"created by layer 'input_260'\"), but it was called on an input with incompatible shape (None, 10).\n"
          ]
        },
        {
          "output_type": "stream",
          "name": "stdout",
          "text": [
            "695/704 [============================>.] - ETA: 0s - loss: 0.2081 - mean_squared_error: 0.2081"
          ]
        },
        {
          "output_type": "stream",
          "name": "stderr",
          "text": [
            "WARNING:tensorflow:Model was constructed with shape (None, None, 10) for input KerasTensor(type_spec=TensorSpec(shape=(None, None, 10), dtype=tf.float32, name='input_260'), name='input_260', description=\"created by layer 'input_260'\"), but it was called on an input with incompatible shape (None, 10).\n"
          ]
        },
        {
          "output_type": "stream",
          "name": "stdout",
          "text": [
            "\b\b\b\b\b\b\b\b\b\b\b\b\b\b\b\b\b\b\b\b\b\b\b\b\b\b\b\b\b\b\b\b\b\b\b\b\b\b\b\b\b\b\b\b\b\b\b\b\b\b\b\b\b\b\b\b\b\b\b\b\b\b\b\b\b\b\b\b\b\b\b\b\b\b\b\b\b\b\b\b\b\b\b\b\b\b\b\b\b\b\b\b\b\b\r704/704 [==============================] - 5s 5ms/step - loss: 0.2074 - mean_squared_error: 0.2074 - val_loss: 0.1434 - val_mean_squared_error: 0.1434\n",
            "Epoch 2/5\n",
            "704/704 [==============================] - 4s 5ms/step - loss: 0.1065 - mean_squared_error: 0.1065 - val_loss: 0.0765 - val_mean_squared_error: 0.0765\n",
            "Epoch 3/5\n",
            "704/704 [==============================] - 3s 4ms/step - loss: 0.0596 - mean_squared_error: 0.0596 - val_loss: 0.0454 - val_mean_squared_error: 0.0454\n",
            "Epoch 4/5\n",
            "704/704 [==============================] - 3s 5ms/step - loss: 0.0377 - mean_squared_error: 0.0377 - val_loss: 0.0310 - val_mean_squared_error: 0.0310\n",
            "Epoch 5/5\n",
            "704/704 [==============================] - 4s 5ms/step - loss: 0.0276 - mean_squared_error: 0.0276 - val_loss: 0.0244 - val_mean_squared_error: 0.0244\n"
          ]
        },
        {
          "output_type": "stream",
          "name": "stderr",
          "text": [
            "WARNING:tensorflow:Model was constructed with shape (None, None, 10) for input KerasTensor(type_spec=TensorSpec(shape=(None, None, 10), dtype=tf.float32, name='input_260'), name='input_260', description=\"created by layer 'input_260'\"), but it was called on an input with incompatible shape (None, 10).\n"
          ]
        },
        {
          "output_type": "stream",
          "name": "stdout",
          "text": [
            "Epoch 1/5\n"
          ]
        },
        {
          "output_type": "stream",
          "name": "stderr",
          "text": [
            "WARNING:tensorflow:Model was constructed with shape (None, None, 10) for input KerasTensor(type_spec=TensorSpec(shape=(None, None, 10), dtype=tf.float32, name='input_263'), name='input_263', description=\"created by layer 'input_263'\"), but it was called on an input with incompatible shape (None, 10).\n",
            "WARNING:tensorflow:Model was constructed with shape (None, None, 10) for input KerasTensor(type_spec=TensorSpec(shape=(None, None, 10), dtype=tf.float32, name='input_263'), name='input_263', description=\"created by layer 'input_263'\"), but it was called on an input with incompatible shape (None, 10).\n"
          ]
        },
        {
          "output_type": "stream",
          "name": "stdout",
          "text": [
            "696/704 [============================>.] - ETA: 0s - loss: 0.2665 - mean_squared_error: 0.2665"
          ]
        },
        {
          "output_type": "stream",
          "name": "stderr",
          "text": [
            "WARNING:tensorflow:Model was constructed with shape (None, None, 10) for input KerasTensor(type_spec=TensorSpec(shape=(None, None, 10), dtype=tf.float32, name='input_263'), name='input_263', description=\"created by layer 'input_263'\"), but it was called on an input with incompatible shape (None, 10).\n"
          ]
        },
        {
          "output_type": "stream",
          "name": "stdout",
          "text": [
            "\b\b\b\b\b\b\b\b\b\b\b\b\b\b\b\b\b\b\b\b\b\b\b\b\b\b\b\b\b\b\b\b\b\b\b\b\b\b\b\b\b\b\b\b\b\b\b\b\b\b\b\b\b\b\b\b\b\b\b\b\b\b\b\b\b\b\b\b\b\b\b\b\b\b\b\b\b\b\b\b\b\b\b\b\b\b\b\b\b\b\b\b\b\b\r704/704 [==============================] - 3s 4ms/step - loss: 0.2657 - mean_squared_error: 0.2657 - val_loss: 0.1873 - val_mean_squared_error: 0.1873\n",
            "Epoch 2/5\n",
            "704/704 [==============================] - 3s 4ms/step - loss: 0.1411 - mean_squared_error: 0.1411 - val_loss: 0.1028 - val_mean_squared_error: 0.1028\n",
            "Epoch 3/5\n",
            "704/704 [==============================] - 3s 4ms/step - loss: 0.0804 - mean_squared_error: 0.0804 - val_loss: 0.0613 - val_mean_squared_error: 0.0613\n",
            "Epoch 4/5\n",
            "704/704 [==============================] - 3s 5ms/step - loss: 0.0502 - mean_squared_error: 0.0502 - val_loss: 0.0404 - val_mean_squared_error: 0.0404\n",
            "Epoch 5/5\n",
            "704/704 [==============================] - 4s 6ms/step - loss: 0.0349 - mean_squared_error: 0.0349 - val_loss: 0.0298 - val_mean_squared_error: 0.0298\n"
          ]
        },
        {
          "output_type": "stream",
          "name": "stderr",
          "text": [
            "WARNING:tensorflow:Model was constructed with shape (None, None, 10) for input KerasTensor(type_spec=TensorSpec(shape=(None, None, 10), dtype=tf.float32, name='input_263'), name='input_263', description=\"created by layer 'input_263'\"), but it was called on an input with incompatible shape (None, 10).\n"
          ]
        },
        {
          "output_type": "stream",
          "name": "stdout",
          "text": [
            "Epoch 1/5\n"
          ]
        },
        {
          "output_type": "stream",
          "name": "stderr",
          "text": [
            "WARNING:tensorflow:Model was constructed with shape (None, None, 10) for input KerasTensor(type_spec=TensorSpec(shape=(None, None, 10), dtype=tf.float32, name='input_266'), name='input_266', description=\"created by layer 'input_266'\"), but it was called on an input with incompatible shape (None, 10).\n",
            "WARNING:tensorflow:Model was constructed with shape (None, None, 10) for input KerasTensor(type_spec=TensorSpec(shape=(None, None, 10), dtype=tf.float32, name='input_266'), name='input_266', description=\"created by layer 'input_266'\"), but it was called on an input with incompatible shape (None, 10).\n"
          ]
        },
        {
          "output_type": "stream",
          "name": "stdout",
          "text": [
            "702/704 [============================>.] - ETA: 0s - loss: 0.2057 - mean_squared_error: 0.2057"
          ]
        },
        {
          "output_type": "stream",
          "name": "stderr",
          "text": [
            "WARNING:tensorflow:Model was constructed with shape (None, None, 10) for input KerasTensor(type_spec=TensorSpec(shape=(None, None, 10), dtype=tf.float32, name='input_266'), name='input_266', description=\"created by layer 'input_266'\"), but it was called on an input with incompatible shape (None, 10).\n"
          ]
        },
        {
          "output_type": "stream",
          "name": "stdout",
          "text": [
            "\b\b\b\b\b\b\b\b\b\b\b\b\b\b\b\b\b\b\b\b\b\b\b\b\b\b\b\b\b\b\b\b\b\b\b\b\b\b\b\b\b\b\b\b\b\b\b\b\b\b\b\b\b\b\b\b\b\b\b\b\b\b\b\b\b\b\b\b\b\b\b\b\b\b\b\b\b\b\b\b\b\b\b\b\b\b\b\b\b\b\b\b\b\b\r704/704 [==============================] - 6s 7ms/step - loss: 0.2056 - mean_squared_error: 0.2056 - val_loss: 0.1450 - val_mean_squared_error: 0.1450\n",
            "Epoch 2/5\n",
            "704/704 [==============================] - 5s 7ms/step - loss: 0.1097 - mean_squared_error: 0.1097 - val_loss: 0.0805 - val_mean_squared_error: 0.0805\n",
            "Epoch 3/5\n",
            "704/704 [==============================] - 4s 5ms/step - loss: 0.0636 - mean_squared_error: 0.0636 - val_loss: 0.0492 - val_mean_squared_error: 0.0492\n",
            "Epoch 4/5\n",
            "704/704 [==============================] - 5s 7ms/step - loss: 0.0412 - mean_squared_error: 0.0412 - val_loss: 0.0340 - val_mean_squared_error: 0.0340\n",
            "Epoch 5/5\n",
            "704/704 [==============================] - 5s 8ms/step - loss: 0.0302 - mean_squared_error: 0.0302 - val_loss: 0.0266 - val_mean_squared_error: 0.0266\n"
          ]
        },
        {
          "output_type": "stream",
          "name": "stderr",
          "text": [
            "WARNING:tensorflow:Model was constructed with shape (None, None, 10) for input KerasTensor(type_spec=TensorSpec(shape=(None, None, 10), dtype=tf.float32, name='input_266'), name='input_266', description=\"created by layer 'input_266'\"), but it was called on an input with incompatible shape (None, 10).\n"
          ]
        },
        {
          "output_type": "stream",
          "name": "stdout",
          "text": [
            "Epoch 1/5\n"
          ]
        },
        {
          "output_type": "stream",
          "name": "stderr",
          "text": [
            "WARNING:tensorflow:Model was constructed with shape (None, None, 10) for input KerasTensor(type_spec=TensorSpec(shape=(None, None, 10), dtype=tf.float32, name='input_269'), name='input_269', description=\"created by layer 'input_269'\"), but it was called on an input with incompatible shape (None, 10).\n",
            "WARNING:tensorflow:Model was constructed with shape (None, None, 10) for input KerasTensor(type_spec=TensorSpec(shape=(None, None, 10), dtype=tf.float32, name='input_269'), name='input_269', description=\"created by layer 'input_269'\"), but it was called on an input with incompatible shape (None, 10).\n"
          ]
        },
        {
          "output_type": "stream",
          "name": "stdout",
          "text": [
            "699/704 [============================>.] - ETA: 0s - loss: 0.1507 - mean_squared_error: 0.1507"
          ]
        },
        {
          "output_type": "stream",
          "name": "stderr",
          "text": [
            "WARNING:tensorflow:Model was constructed with shape (None, None, 10) for input KerasTensor(type_spec=TensorSpec(shape=(None, None, 10), dtype=tf.float32, name='input_269'), name='input_269', description=\"created by layer 'input_269'\"), but it was called on an input with incompatible shape (None, 10).\n"
          ]
        },
        {
          "output_type": "stream",
          "name": "stdout",
          "text": [
            "\b\b\b\b\b\b\b\b\b\b\b\b\b\b\b\b\b\b\b\b\b\b\b\b\b\b\b\b\b\b\b\b\b\b\b\b\b\b\b\b\b\b\b\b\b\b\b\b\b\b\b\b\b\b\b\b\b\b\b\b\b\b\b\b\b\b\b\b\b\b\b\b\b\b\b\b\b\b\b\b\b\b\b\b\b\b\b\b\b\b\b\b\b\b\r704/704 [==============================] - 3s 3ms/step - loss: 0.1505 - mean_squared_error: 0.1505 - val_loss: 0.1088 - val_mean_squared_error: 0.1088\n",
            "Epoch 2/5\n",
            "704/704 [==============================] - 2s 3ms/step - loss: 0.0843 - mean_squared_error: 0.0843 - val_loss: 0.0638 - val_mean_squared_error: 0.0638\n",
            "Epoch 3/5\n",
            "704/704 [==============================] - 3s 4ms/step - loss: 0.0520 - mean_squared_error: 0.0520 - val_loss: 0.0417 - val_mean_squared_error: 0.0417\n",
            "Epoch 4/5\n",
            "704/704 [==============================] - 2s 3ms/step - loss: 0.0358 - mean_squared_error: 0.0358 - val_loss: 0.0304 - val_mean_squared_error: 0.0304\n",
            "Epoch 5/5\n",
            "704/704 [==============================] - 2s 3ms/step - loss: 0.0274 - mean_squared_error: 0.0274 - val_loss: 0.0245 - val_mean_squared_error: 0.0245\n"
          ]
        },
        {
          "output_type": "stream",
          "name": "stderr",
          "text": [
            "WARNING:tensorflow:Model was constructed with shape (None, None, 10) for input KerasTensor(type_spec=TensorSpec(shape=(None, None, 10), dtype=tf.float32, name='input_269'), name='input_269', description=\"created by layer 'input_269'\"), but it was called on an input with incompatible shape (None, 10).\n"
          ]
        },
        {
          "output_type": "stream",
          "name": "stdout",
          "text": [
            "Epoch 1/5\n"
          ]
        },
        {
          "output_type": "stream",
          "name": "stderr",
          "text": [
            "WARNING:tensorflow:Model was constructed with shape (None, None, 10) for input KerasTensor(type_spec=TensorSpec(shape=(None, None, 10), dtype=tf.float32, name='input_272'), name='input_272', description=\"created by layer 'input_272'\"), but it was called on an input with incompatible shape (None, 10).\n",
            "WARNING:tensorflow:Model was constructed with shape (None, None, 10) for input KerasTensor(type_spec=TensorSpec(shape=(None, None, 10), dtype=tf.float32, name='input_272'), name='input_272', description=\"created by layer 'input_272'\"), but it was called on an input with incompatible shape (None, 10).\n"
          ]
        },
        {
          "output_type": "stream",
          "name": "stdout",
          "text": [
            "699/704 [============================>.] - ETA: 0s - loss: 0.2031 - mean_squared_error: 0.2031"
          ]
        },
        {
          "output_type": "stream",
          "name": "stderr",
          "text": [
            "WARNING:tensorflow:Model was constructed with shape (None, None, 10) for input KerasTensor(type_spec=TensorSpec(shape=(None, None, 10), dtype=tf.float32, name='input_272'), name='input_272', description=\"created by layer 'input_272'\"), but it was called on an input with incompatible shape (None, 10).\n"
          ]
        },
        {
          "output_type": "stream",
          "name": "stdout",
          "text": [
            "\b\b\b\b\b\b\b\b\b\b\b\b\b\b\b\b\b\b\b\b\b\b\b\b\b\b\b\b\b\b\b\b\b\b\b\b\b\b\b\b\b\b\b\b\b\b\b\b\b\b\b\b\b\b\b\b\b\b\b\b\b\b\b\b\b\b\b\b\b\b\b\b\b\b\b\b\b\b\b\b\b\b\b\b\b\b\b\b\b\b\b\b\b\b\r704/704 [==============================] - 3s 3ms/step - loss: 0.2028 - mean_squared_error: 0.2028 - val_loss: 0.1478 - val_mean_squared_error: 0.1478\n",
            "Epoch 2/5\n",
            "704/704 [==============================] - 2s 3ms/step - loss: 0.1153 - mean_squared_error: 0.1153 - val_loss: 0.0878 - val_mean_squared_error: 0.0878\n",
            "Epoch 3/5\n",
            "704/704 [==============================] - 2s 3ms/step - loss: 0.0710 - mean_squared_error: 0.0710 - val_loss: 0.0563 - val_mean_squared_error: 0.0563\n",
            "Epoch 4/5\n",
            "704/704 [==============================] - 3s 4ms/step - loss: 0.0475 - mean_squared_error: 0.0475 - val_loss: 0.0396 - val_mean_squared_error: 0.0396\n",
            "Epoch 5/5\n",
            "704/704 [==============================] - 2s 3ms/step - loss: 0.0349 - mean_squared_error: 0.0349 - val_loss: 0.0305 - val_mean_squared_error: 0.0305\n"
          ]
        },
        {
          "output_type": "stream",
          "name": "stderr",
          "text": [
            "WARNING:tensorflow:Model was constructed with shape (None, None, 10) for input KerasTensor(type_spec=TensorSpec(shape=(None, None, 10), dtype=tf.float32, name='input_272'), name='input_272', description=\"created by layer 'input_272'\"), but it was called on an input with incompatible shape (None, 10).\n"
          ]
        },
        {
          "output_type": "stream",
          "name": "stdout",
          "text": [
            "Epoch 1/5\n"
          ]
        },
        {
          "output_type": "stream",
          "name": "stderr",
          "text": [
            "WARNING:tensorflow:Model was constructed with shape (None, None, 10) for input KerasTensor(type_spec=TensorSpec(shape=(None, None, 10), dtype=tf.float32, name='input_275'), name='input_275', description=\"created by layer 'input_275'\"), but it was called on an input with incompatible shape (None, 10).\n",
            "WARNING:tensorflow:Model was constructed with shape (None, None, 10) for input KerasTensor(type_spec=TensorSpec(shape=(None, None, 10), dtype=tf.float32, name='input_275'), name='input_275', description=\"created by layer 'input_275'\"), but it was called on an input with incompatible shape (None, 10).\n"
          ]
        },
        {
          "output_type": "stream",
          "name": "stdout",
          "text": [
            "704/704 [==============================] - ETA: 0s - loss: 0.3169 - mean_squared_error: 0.3169"
          ]
        },
        {
          "output_type": "stream",
          "name": "stderr",
          "text": [
            "WARNING:tensorflow:Model was constructed with shape (None, None, 10) for input KerasTensor(type_spec=TensorSpec(shape=(None, None, 10), dtype=tf.float32, name='input_275'), name='input_275', description=\"created by layer 'input_275'\"), but it was called on an input with incompatible shape (None, 10).\n"
          ]
        },
        {
          "output_type": "stream",
          "name": "stdout",
          "text": [
            "\b\b\b\b\b\b\b\b\b\b\b\b\b\b\b\b\b\b\b\b\b\b\b\b\b\b\b\b\b\b\b\b\b\b\b\b\b\b\b\b\b\b\b\b\b\b\b\b\b\b\b\b\b\b\b\b\b\b\b\b\b\b\b\b\b\b\b\b\b\b\b\b\b\b\b\b\b\b\b\b\b\b\b\b\b\b\b\b\b\b\b\b\b\b\r704/704 [==============================] - 3s 3ms/step - loss: 0.3169 - mean_squared_error: 0.3169 - val_loss: 0.2208 - val_mean_squared_error: 0.2208\n",
            "Epoch 2/5\n",
            "704/704 [==============================] - 2s 3ms/step - loss: 0.1645 - mean_squared_error: 0.1645 - val_loss: 0.1187 - val_mean_squared_error: 0.1187\n",
            "Epoch 3/5\n",
            "704/704 [==============================] - 2s 3ms/step - loss: 0.0920 - mean_squared_error: 0.0920 - val_loss: 0.0695 - val_mean_squared_error: 0.0695\n",
            "Epoch 4/5\n",
            "704/704 [==============================] - 5s 7ms/step - loss: 0.0564 - mean_squared_error: 0.0564 - val_loss: 0.0449 - val_mean_squared_error: 0.0449\n",
            "Epoch 5/5\n",
            "704/704 [==============================] - 2s 3ms/step - loss: 0.0383 - mean_squared_error: 0.0383 - val_loss: 0.0323 - val_mean_squared_error: 0.0323\n"
          ]
        },
        {
          "output_type": "stream",
          "name": "stderr",
          "text": [
            "WARNING:tensorflow:Model was constructed with shape (None, None, 10) for input KerasTensor(type_spec=TensorSpec(shape=(None, None, 10), dtype=tf.float32, name='input_275'), name='input_275', description=\"created by layer 'input_275'\"), but it was called on an input with incompatible shape (None, 10).\n"
          ]
        },
        {
          "output_type": "stream",
          "name": "stdout",
          "text": [
            "Epoch 1/5\n"
          ]
        },
        {
          "output_type": "stream",
          "name": "stderr",
          "text": [
            "WARNING:tensorflow:Model was constructed with shape (None, None, 10) for input KerasTensor(type_spec=TensorSpec(shape=(None, None, 10), dtype=tf.float32, name='input_278'), name='input_278', description=\"created by layer 'input_278'\"), but it was called on an input with incompatible shape (None, 10).\n",
            "WARNING:tensorflow:Model was constructed with shape (None, None, 10) for input KerasTensor(type_spec=TensorSpec(shape=(None, None, 10), dtype=tf.float32, name='input_278'), name='input_278', description=\"created by layer 'input_278'\"), but it was called on an input with incompatible shape (None, 10).\n"
          ]
        },
        {
          "output_type": "stream",
          "name": "stdout",
          "text": [
            "698/704 [============================>.] - ETA: 0s - loss: 0.2478 - mean_squared_error: 0.2478"
          ]
        },
        {
          "output_type": "stream",
          "name": "stderr",
          "text": [
            "WARNING:tensorflow:Model was constructed with shape (None, None, 10) for input KerasTensor(type_spec=TensorSpec(shape=(None, None, 10), dtype=tf.float32, name='input_278'), name='input_278', description=\"created by layer 'input_278'\"), but it was called on an input with incompatible shape (None, 10).\n"
          ]
        },
        {
          "output_type": "stream",
          "name": "stdout",
          "text": [
            "\b\b\b\b\b\b\b\b\b\b\b\b\b\b\b\b\b\b\b\b\b\b\b\b\b\b\b\b\b\b\b\b\b\b\b\b\b\b\b\b\b\b\b\b\b\b\b\b\b\b\b\b\b\b\b\b\b\b\b\b\b\b\b\b\b\b\b\b\b\b\b\b\b\b\b\b\b\b\b\b\b\b\b\b\b\b\b\b\b\b\b\b\b\b\r704/704 [==============================] - 4s 4ms/step - loss: 0.2473 - mean_squared_error: 0.2473 - val_loss: 0.1868 - val_mean_squared_error: 0.1868\n",
            "Epoch 2/5\n",
            "704/704 [==============================] - 3s 4ms/step - loss: 0.1482 - mean_squared_error: 0.1482 - val_loss: 0.1144 - val_mean_squared_error: 0.1144\n",
            "Epoch 3/5\n",
            "704/704 [==============================] - 2s 3ms/step - loss: 0.0930 - mean_squared_error: 0.0930 - val_loss: 0.0740 - val_mean_squared_error: 0.0740\n",
            "Epoch 4/5\n",
            "704/704 [==============================] - 2s 3ms/step - loss: 0.0620 - mean_squared_error: 0.0620 - val_loss: 0.0509 - val_mean_squared_error: 0.0509\n",
            "Epoch 5/5\n",
            "704/704 [==============================] - 2s 3ms/step - loss: 0.0439 - mean_squared_error: 0.0439 - val_loss: 0.0373 - val_mean_squared_error: 0.0373\n"
          ]
        },
        {
          "output_type": "stream",
          "name": "stderr",
          "text": [
            "WARNING:tensorflow:Model was constructed with shape (None, None, 10) for input KerasTensor(type_spec=TensorSpec(shape=(None, None, 10), dtype=tf.float32, name='input_278'), name='input_278', description=\"created by layer 'input_278'\"), but it was called on an input with incompatible shape (None, 10).\n"
          ]
        },
        {
          "output_type": "stream",
          "name": "stdout",
          "text": [
            "Epoch 1/5\n"
          ]
        },
        {
          "output_type": "stream",
          "name": "stderr",
          "text": [
            "WARNING:tensorflow:Model was constructed with shape (None, None, 10) for input KerasTensor(type_spec=TensorSpec(shape=(None, None, 10), dtype=tf.float32, name='input_281'), name='input_281', description=\"created by layer 'input_281'\"), but it was called on an input with incompatible shape (None, 10).\n",
            "WARNING:tensorflow:Model was constructed with shape (None, None, 10) for input KerasTensor(type_spec=TensorSpec(shape=(None, None, 10), dtype=tf.float32, name='input_281'), name='input_281', description=\"created by layer 'input_281'\"), but it was called on an input with incompatible shape (None, 10).\n"
          ]
        },
        {
          "output_type": "stream",
          "name": "stdout",
          "text": [
            "701/704 [============================>.] - ETA: 0s - loss: 0.1617 - mean_squared_error: 0.1617"
          ]
        },
        {
          "output_type": "stream",
          "name": "stderr",
          "text": [
            "WARNING:tensorflow:Model was constructed with shape (None, None, 10) for input KerasTensor(type_spec=TensorSpec(shape=(None, None, 10), dtype=tf.float32, name='input_281'), name='input_281', description=\"created by layer 'input_281'\"), but it was called on an input with incompatible shape (None, 10).\n"
          ]
        },
        {
          "output_type": "stream",
          "name": "stdout",
          "text": [
            "\b\b\b\b\b\b\b\b\b\b\b\b\b\b\b\b\b\b\b\b\b\b\b\b\b\b\b\b\b\b\b\b\b\b\b\b\b\b\b\b\b\b\b\b\b\b\b\b\b\b\b\b\b\b\b\b\b\b\b\b\b\b\b\b\b\b\b\b\b\b\b\b\b\b\b\b\b\b\b\b\b\b\b\b\b\b\b\b\b\b\b\b\b\b\r704/704 [==============================] - 3s 3ms/step - loss: 0.1616 - mean_squared_error: 0.1616 - val_loss: 0.1222 - val_mean_squared_error: 0.1222\n",
            "Epoch 2/5\n",
            "704/704 [==============================] - 2s 3ms/step - loss: 0.0973 - mean_squared_error: 0.0973 - val_loss: 0.0755 - val_mean_squared_error: 0.0755\n",
            "Epoch 3/5\n",
            "704/704 [==============================] - 7s 9ms/step - loss: 0.0621 - mean_squared_error: 0.0621 - val_loss: 0.0500 - val_mean_squared_error: 0.0500\n",
            "Epoch 4/5\n",
            "704/704 [==============================] - 4s 6ms/step - loss: 0.0427 - mean_squared_error: 0.0427 - val_loss: 0.0359 - val_mean_squared_error: 0.0359\n",
            "Epoch 5/5\n",
            "704/704 [==============================] - 5s 7ms/step - loss: 0.0320 - mean_squared_error: 0.0320 - val_loss: 0.0281 - val_mean_squared_error: 0.0281\n"
          ]
        },
        {
          "output_type": "stream",
          "name": "stderr",
          "text": [
            "WARNING:tensorflow:Model was constructed with shape (None, None, 10) for input KerasTensor(type_spec=TensorSpec(shape=(None, None, 10), dtype=tf.float32, name='input_281'), name='input_281', description=\"created by layer 'input_281'\"), but it was called on an input with incompatible shape (None, 10).\n"
          ]
        },
        {
          "output_type": "stream",
          "name": "stdout",
          "text": [
            "Epoch 1/5\n"
          ]
        },
        {
          "output_type": "stream",
          "name": "stderr",
          "text": [
            "WARNING:tensorflow:Model was constructed with shape (None, None, 10) for input KerasTensor(type_spec=TensorSpec(shape=(None, None, 10), dtype=tf.float32, name='input_284'), name='input_284', description=\"created by layer 'input_284'\"), but it was called on an input with incompatible shape (None, 10).\n",
            "WARNING:tensorflow:Model was constructed with shape (None, None, 10) for input KerasTensor(type_spec=TensorSpec(shape=(None, None, 10), dtype=tf.float32, name='input_284'), name='input_284', description=\"created by layer 'input_284'\"), but it was called on an input with incompatible shape (None, 10).\n"
          ]
        },
        {
          "output_type": "stream",
          "name": "stdout",
          "text": [
            "702/704 [============================>.] - ETA: 0s - loss: 0.2042 - mean_squared_error: 0.2042"
          ]
        },
        {
          "output_type": "stream",
          "name": "stderr",
          "text": [
            "WARNING:tensorflow:Model was constructed with shape (None, None, 10) for input KerasTensor(type_spec=TensorSpec(shape=(None, None, 10), dtype=tf.float32, name='input_284'), name='input_284', description=\"created by layer 'input_284'\"), but it was called on an input with incompatible shape (None, 10).\n"
          ]
        },
        {
          "output_type": "stream",
          "name": "stdout",
          "text": [
            "\b\b\b\b\b\b\b\b\b\b\b\b\b\b\b\b\b\b\b\b\b\b\b\b\b\b\b\b\b\b\b\b\b\b\b\b\b\b\b\b\b\b\b\b\b\b\b\b\b\b\b\b\b\b\b\b\b\b\b\b\b\b\b\b\b\b\b\b\b\b\b\b\b\b\b\b\b\b\b\b\b\b\b\b\b\b\b\b\b\b\b\b\b\b\r704/704 [==============================] - 6s 5ms/step - loss: 0.2041 - mean_squared_error: 0.2041 - val_loss: 0.1573 - val_mean_squared_error: 0.1573\n",
            "Epoch 2/5\n",
            "704/704 [==============================] - 4s 6ms/step - loss: 0.1267 - mean_squared_error: 0.1267 - val_loss: 0.0995 - val_mean_squared_error: 0.0995\n",
            "Epoch 3/5\n",
            "704/704 [==============================] - 5s 7ms/step - loss: 0.0818 - mean_squared_error: 0.0818 - val_loss: 0.0657 - val_mean_squared_error: 0.0657\n",
            "Epoch 4/5\n",
            "704/704 [==============================] - 5s 7ms/step - loss: 0.0555 - mean_squared_error: 0.0555 - val_loss: 0.0460 - val_mean_squared_error: 0.0460\n",
            "Epoch 5/5\n",
            "704/704 [==============================] - 4s 5ms/step - loss: 0.0402 - mean_squared_error: 0.0402 - val_loss: 0.0345 - val_mean_squared_error: 0.0345\n"
          ]
        },
        {
          "output_type": "stream",
          "name": "stderr",
          "text": [
            "WARNING:tensorflow:Model was constructed with shape (None, None, 10) for input KerasTensor(type_spec=TensorSpec(shape=(None, None, 10), dtype=tf.float32, name='input_284'), name='input_284', description=\"created by layer 'input_284'\"), but it was called on an input with incompatible shape (None, 10).\n"
          ]
        },
        {
          "output_type": "stream",
          "name": "stdout",
          "text": [
            "Epoch 1/5\n"
          ]
        },
        {
          "output_type": "stream",
          "name": "stderr",
          "text": [
            "WARNING:tensorflow:Model was constructed with shape (None, None, 10) for input KerasTensor(type_spec=TensorSpec(shape=(None, None, 10), dtype=tf.float32, name='input_287'), name='input_287', description=\"created by layer 'input_287'\"), but it was called on an input with incompatible shape (None, 10).\n",
            "WARNING:tensorflow:Model was constructed with shape (None, None, 10) for input KerasTensor(type_spec=TensorSpec(shape=(None, None, 10), dtype=tf.float32, name='input_287'), name='input_287', description=\"created by layer 'input_287'\"), but it was called on an input with incompatible shape (None, 10).\n"
          ]
        },
        {
          "output_type": "stream",
          "name": "stdout",
          "text": [
            "700/704 [============================>.] - ETA: 0s - loss: 0.1786 - mean_squared_error: 0.1786"
          ]
        },
        {
          "output_type": "stream",
          "name": "stderr",
          "text": [
            "WARNING:tensorflow:Model was constructed with shape (None, None, 10) for input KerasTensor(type_spec=TensorSpec(shape=(None, None, 10), dtype=tf.float32, name='input_287'), name='input_287', description=\"created by layer 'input_287'\"), but it was called on an input with incompatible shape (None, 10).\n"
          ]
        },
        {
          "output_type": "stream",
          "name": "stdout",
          "text": [
            "\b\b\b\b\b\b\b\b\b\b\b\b\b\b\b\b\b\b\b\b\b\b\b\b\b\b\b\b\b\b\b\b\b\b\b\b\b\b\b\b\b\b\b\b\b\b\b\b\b\b\b\b\b\b\b\b\b\b\b\b\b\b\b\b\b\b\b\b\b\b\b\b\b\b\b\b\b\b\b\b\b\b\b\b\b\b\b\b\b\b\b\b\b\b\r704/704 [==============================] - 5s 5ms/step - loss: 0.1784 - mean_squared_error: 0.1784 - val_loss: 0.1325 - val_mean_squared_error: 0.1325\n",
            "Epoch 2/5\n",
            "704/704 [==============================] - 4s 6ms/step - loss: 0.1041 - mean_squared_error: 0.1041 - val_loss: 0.0796 - val_mean_squared_error: 0.0796\n",
            "Epoch 3/5\n",
            "704/704 [==============================] - 4s 6ms/step - loss: 0.0647 - mean_squared_error: 0.0647 - val_loss: 0.0514 - val_mean_squared_error: 0.0514\n",
            "Epoch 4/5\n",
            "704/704 [==============================] - 3s 4ms/step - loss: 0.0435 - mean_squared_error: 0.0435 - val_loss: 0.0362 - val_mean_squared_error: 0.0362\n",
            "Epoch 5/5\n",
            "704/704 [==============================] - 2s 3ms/step - loss: 0.0320 - mean_squared_error: 0.0320 - val_loss: 0.0280 - val_mean_squared_error: 0.0280\n"
          ]
        },
        {
          "output_type": "stream",
          "name": "stderr",
          "text": [
            "WARNING:tensorflow:Model was constructed with shape (None, None, 10) for input KerasTensor(type_spec=TensorSpec(shape=(None, None, 10), dtype=tf.float32, name='input_287'), name='input_287', description=\"created by layer 'input_287'\"), but it was called on an input with incompatible shape (None, 10).\n"
          ]
        },
        {
          "output_type": "stream",
          "name": "stdout",
          "text": [
            "Epoch 1/5\n"
          ]
        },
        {
          "output_type": "stream",
          "name": "stderr",
          "text": [
            "WARNING:tensorflow:Model was constructed with shape (None, None, 10) for input KerasTensor(type_spec=TensorSpec(shape=(None, None, 10), dtype=tf.float32, name='input_290'), name='input_290', description=\"created by layer 'input_290'\"), but it was called on an input with incompatible shape (None, 10).\n",
            "WARNING:tensorflow:Model was constructed with shape (None, None, 10) for input KerasTensor(type_spec=TensorSpec(shape=(None, None, 10), dtype=tf.float32, name='input_290'), name='input_290', description=\"created by layer 'input_290'\"), but it was called on an input with incompatible shape (None, 10).\n"
          ]
        },
        {
          "output_type": "stream",
          "name": "stdout",
          "text": [
            "686/704 [============================>.] - ETA: 0s - loss: 0.1638 - mean_squared_error: 0.1638"
          ]
        },
        {
          "output_type": "stream",
          "name": "stderr",
          "text": [
            "WARNING:tensorflow:Model was constructed with shape (None, None, 10) for input KerasTensor(type_spec=TensorSpec(shape=(None, None, 10), dtype=tf.float32, name='input_290'), name='input_290', description=\"created by layer 'input_290'\"), but it was called on an input with incompatible shape (None, 10).\n"
          ]
        },
        {
          "output_type": "stream",
          "name": "stdout",
          "text": [
            "\b\b\b\b\b\b\b\b\b\b\b\b\b\b\b\b\b\b\b\b\b\b\b\b\b\b\b\b\b\b\b\b\b\b\b\b\b\b\b\b\b\b\b\b\b\b\b\b\b\b\b\b\b\b\b\b\b\b\b\b\b\b\b\b\b\b\b\b\b\b\b\b\b\b\b\b\b\b\b\b\b\b\b\b\b\b\b\b\b\b\b\b\b\b\r704/704 [==============================] - 3s 3ms/step - loss: 0.1627 - mean_squared_error: 0.1627 - val_loss: 0.1151 - val_mean_squared_error: 0.1151\n",
            "Epoch 2/5\n",
            "704/704 [==============================] - 4s 6ms/step - loss: 0.0880 - mean_squared_error: 0.0880 - val_loss: 0.0655 - val_mean_squared_error: 0.0655\n",
            "Epoch 3/5\n",
            "704/704 [==============================] - 3s 4ms/step - loss: 0.0526 - mean_squared_error: 0.0526 - val_loss: 0.0415 - val_mean_squared_error: 0.0415\n",
            "Epoch 4/5\n",
            "704/704 [==============================] - 2s 3ms/step - loss: 0.0353 - mean_squared_error: 0.0353 - val_loss: 0.0297 - val_mean_squared_error: 0.0297\n",
            "Epoch 5/5\n",
            "704/704 [==============================] - 2s 3ms/step - loss: 0.0268 - mean_squared_error: 0.0268 - val_loss: 0.0239 - val_mean_squared_error: 0.0239\n"
          ]
        },
        {
          "output_type": "stream",
          "name": "stderr",
          "text": [
            "WARNING:tensorflow:Model was constructed with shape (None, None, 10) for input KerasTensor(type_spec=TensorSpec(shape=(None, None, 10), dtype=tf.float32, name='input_290'), name='input_290', description=\"created by layer 'input_290'\"), but it was called on an input with incompatible shape (None, 10).\n"
          ]
        },
        {
          "output_type": "stream",
          "name": "stdout",
          "text": [
            "Epoch 1/5\n"
          ]
        },
        {
          "output_type": "stream",
          "name": "stderr",
          "text": [
            "WARNING:tensorflow:Model was constructed with shape (None, None, 10) for input KerasTensor(type_spec=TensorSpec(shape=(None, None, 10), dtype=tf.float32, name='input_293'), name='input_293', description=\"created by layer 'input_293'\"), but it was called on an input with incompatible shape (None, 10).\n",
            "WARNING:tensorflow:Model was constructed with shape (None, None, 10) for input KerasTensor(type_spec=TensorSpec(shape=(None, None, 10), dtype=tf.float32, name='input_293'), name='input_293', description=\"created by layer 'input_293'\"), but it was called on an input with incompatible shape (None, 10).\n"
          ]
        },
        {
          "output_type": "stream",
          "name": "stdout",
          "text": [
            "692/704 [============================>.] - ETA: 0s - loss: 0.2099 - mean_squared_error: 0.2099"
          ]
        },
        {
          "output_type": "stream",
          "name": "stderr",
          "text": [
            "WARNING:tensorflow:Model was constructed with shape (None, None, 10) for input KerasTensor(type_spec=TensorSpec(shape=(None, None, 10), dtype=tf.float32, name='input_293'), name='input_293', description=\"created by layer 'input_293'\"), but it was called on an input with incompatible shape (None, 10).\n"
          ]
        },
        {
          "output_type": "stream",
          "name": "stdout",
          "text": [
            "\b\b\b\b\b\b\b\b\b\b\b\b\b\b\b\b\b\b\b\b\b\b\b\b\b\b\b\b\b\b\b\b\b\b\b\b\b\b\b\b\b\b\b\b\b\b\b\b\b\b\b\b\b\b\b\b\b\b\b\b\b\b\b\b\b\b\b\b\b\b\b\b\b\b\b\b\b\b\b\b\b\b\b\b\b\b\b\b\b\b\b\b\b\b\r704/704 [==============================] - 3s 3ms/step - loss: 0.2092 - mean_squared_error: 0.2092 - val_loss: 0.1609 - val_mean_squared_error: 0.1609\n",
            "Epoch 2/5\n",
            "704/704 [==============================] - 2s 3ms/step - loss: 0.1289 - mean_squared_error: 0.1289 - val_loss: 0.1007 - val_mean_squared_error: 0.1007\n",
            "Epoch 3/5\n",
            "704/704 [==============================] - 2s 3ms/step - loss: 0.0824 - mean_squared_error: 0.0824 - val_loss: 0.0660 - val_mean_squared_error: 0.0660\n",
            "Epoch 4/5\n",
            "704/704 [==============================] - 2s 3ms/step - loss: 0.0556 - mean_squared_error: 0.0556 - val_loss: 0.0460 - val_mean_squared_error: 0.0460\n",
            "Epoch 5/5\n",
            "704/704 [==============================] - 3s 4ms/step - loss: 0.0401 - mean_squared_error: 0.0401 - val_loss: 0.0344 - val_mean_squared_error: 0.0344\n"
          ]
        },
        {
          "output_type": "stream",
          "name": "stderr",
          "text": [
            "WARNING:tensorflow:Model was constructed with shape (None, None, 10) for input KerasTensor(type_spec=TensorSpec(shape=(None, None, 10), dtype=tf.float32, name='input_293'), name='input_293', description=\"created by layer 'input_293'\"), but it was called on an input with incompatible shape (None, 10).\n"
          ]
        },
        {
          "output_type": "stream",
          "name": "stdout",
          "text": [
            "Epoch 1/5\n"
          ]
        },
        {
          "output_type": "stream",
          "name": "stderr",
          "text": [
            "WARNING:tensorflow:Model was constructed with shape (None, None, 10) for input KerasTensor(type_spec=TensorSpec(shape=(None, None, 10), dtype=tf.float32, name='input_296'), name='input_296', description=\"created by layer 'input_296'\"), but it was called on an input with incompatible shape (None, 10).\n",
            "WARNING:tensorflow:Model was constructed with shape (None, None, 10) for input KerasTensor(type_spec=TensorSpec(shape=(None, None, 10), dtype=tf.float32, name='input_296'), name='input_296', description=\"created by layer 'input_296'\"), but it was called on an input with incompatible shape (None, 10).\n"
          ]
        },
        {
          "output_type": "stream",
          "name": "stdout",
          "text": [
            "703/704 [============================>.] - ETA: 0s - loss: 0.2035 - mean_squared_error: 0.2035"
          ]
        },
        {
          "output_type": "stream",
          "name": "stderr",
          "text": [
            "WARNING:tensorflow:Model was constructed with shape (None, None, 10) for input KerasTensor(type_spec=TensorSpec(shape=(None, None, 10), dtype=tf.float32, name='input_296'), name='input_296', description=\"created by layer 'input_296'\"), but it was called on an input with incompatible shape (None, 10).\n"
          ]
        },
        {
          "output_type": "stream",
          "name": "stdout",
          "text": [
            "\b\b\b\b\b\b\b\b\b\b\b\b\b\b\b\b\b\b\b\b\b\b\b\b\b\b\b\b\b\b\b\b\b\b\b\b\b\b\b\b\b\b\b\b\b\b\b\b\b\b\b\b\b\b\b\b\b\b\b\b\b\b\b\b\b\b\b\b\b\b\b\b\b\b\b\b\b\b\b\b\b\b\b\b\b\b\b\b\b\b\b\b\b\b\r704/704 [==============================] - 4s 5ms/step - loss: 0.2035 - mean_squared_error: 0.2035 - val_loss: 0.1575 - val_mean_squared_error: 0.1575\n",
            "Epoch 2/5\n",
            "704/704 [==============================] - 3s 4ms/step - loss: 0.1281 - mean_squared_error: 0.1281 - val_loss: 0.1019 - val_mean_squared_error: 0.1019\n",
            "Epoch 3/5\n",
            "704/704 [==============================] - 2s 3ms/step - loss: 0.0848 - mean_squared_error: 0.0848 - val_loss: 0.0690 - val_mean_squared_error: 0.0690\n",
            "Epoch 4/5\n",
            "704/704 [==============================] - 2s 3ms/step - loss: 0.0588 - mean_squared_error: 0.0588 - val_loss: 0.0492 - val_mean_squared_error: 0.0492\n",
            "Epoch 5/5\n",
            "704/704 [==============================] - 3s 4ms/step - loss: 0.0432 - mean_squared_error: 0.0432 - val_loss: 0.0373 - val_mean_squared_error: 0.0373\n"
          ]
        },
        {
          "output_type": "stream",
          "name": "stderr",
          "text": [
            "WARNING:tensorflow:Model was constructed with shape (None, None, 10) for input KerasTensor(type_spec=TensorSpec(shape=(None, None, 10), dtype=tf.float32, name='input_296'), name='input_296', description=\"created by layer 'input_296'\"), but it was called on an input with incompatible shape (None, 10).\n"
          ]
        },
        {
          "output_type": "stream",
          "name": "stdout",
          "text": [
            "Epoch 1/5\n"
          ]
        },
        {
          "output_type": "stream",
          "name": "stderr",
          "text": [
            "WARNING:tensorflow:Model was constructed with shape (None, None, 10) for input KerasTensor(type_spec=TensorSpec(shape=(None, None, 10), dtype=tf.float32, name='input_299'), name='input_299', description=\"created by layer 'input_299'\"), but it was called on an input with incompatible shape (None, 10).\n",
            "WARNING:tensorflow:Model was constructed with shape (None, None, 10) for input KerasTensor(type_spec=TensorSpec(shape=(None, None, 10), dtype=tf.float32, name='input_299'), name='input_299', description=\"created by layer 'input_299'\"), but it was called on an input with incompatible shape (None, 10).\n"
          ]
        },
        {
          "output_type": "stream",
          "name": "stdout",
          "text": [
            "695/704 [============================>.] - ETA: 0s - loss: 0.1970 - mean_squared_error: 0.1970"
          ]
        },
        {
          "output_type": "stream",
          "name": "stderr",
          "text": [
            "WARNING:tensorflow:Model was constructed with shape (None, None, 10) for input KerasTensor(type_spec=TensorSpec(shape=(None, None, 10), dtype=tf.float32, name='input_299'), name='input_299', description=\"created by layer 'input_299'\"), but it was called on an input with incompatible shape (None, 10).\n"
          ]
        },
        {
          "output_type": "stream",
          "name": "stdout",
          "text": [
            "\b\b\b\b\b\b\b\b\b\b\b\b\b\b\b\b\b\b\b\b\b\b\b\b\b\b\b\b\b\b\b\b\b\b\b\b\b\b\b\b\b\b\b\b\b\b\b\b\b\b\b\b\b\b\b\b\b\b\b\b\b\b\b\b\b\b\b\b\b\b\b\b\b\b\b\b\b\b\b\b\b\b\b\b\b\b\b\b\b\b\b\b\b\b\r704/704 [==============================] - 7s 7ms/step - loss: 0.1965 - mean_squared_error: 0.1965 - val_loss: 0.1462 - val_mean_squared_error: 0.1462\n",
            "Epoch 2/5\n",
            "704/704 [==============================] - 3s 4ms/step - loss: 0.1153 - mean_squared_error: 0.1153 - val_loss: 0.0885 - val_mean_squared_error: 0.0885\n",
            "Epoch 3/5\n",
            "704/704 [==============================] - 5s 7ms/step - loss: 0.0722 - mean_squared_error: 0.0722 - val_loss: 0.0577 - val_mean_squared_error: 0.0577\n",
            "Epoch 4/5\n",
            "704/704 [==============================] - 6s 9ms/step - loss: 0.0489 - mean_squared_error: 0.0489 - val_loss: 0.0407 - val_mean_squared_error: 0.0407\n",
            "Epoch 5/5\n",
            "704/704 [==============================] - 3s 5ms/step - loss: 0.0359 - mean_squared_error: 0.0359 - val_loss: 0.0312 - val_mean_squared_error: 0.0312\n"
          ]
        },
        {
          "output_type": "stream",
          "name": "stderr",
          "text": [
            "WARNING:tensorflow:Model was constructed with shape (None, None, 10) for input KerasTensor(type_spec=TensorSpec(shape=(None, None, 10), dtype=tf.float32, name='input_299'), name='input_299', description=\"created by layer 'input_299'\"), but it was called on an input with incompatible shape (None, 10).\n"
          ]
        },
        {
          "output_type": "stream",
          "name": "stdout",
          "text": [
            "Epoch 1/5\n"
          ]
        },
        {
          "output_type": "stream",
          "name": "stderr",
          "text": [
            "WARNING:tensorflow:Model was constructed with shape (None, None, 10) for input KerasTensor(type_spec=TensorSpec(shape=(None, None, 10), dtype=tf.float32, name='input_302'), name='input_302', description=\"created by layer 'input_302'\"), but it was called on an input with incompatible shape (None, 10).\n",
            "WARNING:tensorflow:Model was constructed with shape (None, None, 10) for input KerasTensor(type_spec=TensorSpec(shape=(None, None, 10), dtype=tf.float32, name='input_302'), name='input_302', description=\"created by layer 'input_302'\"), but it was called on an input with incompatible shape (None, 10).\n"
          ]
        },
        {
          "output_type": "stream",
          "name": "stdout",
          "text": [
            "689/704 [============================>.] - ETA: 0s - loss: 0.2222 - mean_squared_error: 0.2222"
          ]
        },
        {
          "output_type": "stream",
          "name": "stderr",
          "text": [
            "WARNING:tensorflow:Model was constructed with shape (None, None, 10) for input KerasTensor(type_spec=TensorSpec(shape=(None, None, 10), dtype=tf.float32, name='input_302'), name='input_302', description=\"created by layer 'input_302'\"), but it was called on an input with incompatible shape (None, 10).\n"
          ]
        },
        {
          "output_type": "stream",
          "name": "stdout",
          "text": [
            "\b\b\b\b\b\b\b\b\b\b\b\b\b\b\b\b\b\b\b\b\b\b\b\b\b\b\b\b\b\b\b\b\b\b\b\b\b\b\b\b\b\b\b\b\b\b\b\b\b\b\b\b\b\b\b\b\b\b\b\b\b\b\b\b\b\b\b\b\b\b\b\b\b\b\b\b\b\b\b\b\b\b\b\b\b\b\b\b\b\b\b\b\b\b\r704/704 [==============================] - 6s 7ms/step - loss: 0.2212 - mean_squared_error: 0.2212 - val_loss: 0.1745 - val_mean_squared_error: 0.1745\n",
            "Epoch 2/5\n",
            "704/704 [==============================] - 2s 3ms/step - loss: 0.1435 - mean_squared_error: 0.1435 - val_loss: 0.1156 - val_mean_squared_error: 0.1156\n",
            "Epoch 3/5\n",
            "704/704 [==============================] - 2s 3ms/step - loss: 0.0971 - mean_squared_error: 0.0971 - val_loss: 0.0799 - val_mean_squared_error: 0.0799\n",
            "Epoch 4/5\n",
            "704/704 [==============================] - 2s 3ms/step - loss: 0.0685 - mean_squared_error: 0.0685 - val_loss: 0.0576 - val_mean_squared_error: 0.0576\n",
            "Epoch 5/5\n",
            "704/704 [==============================] - 2s 3ms/step - loss: 0.0506 - mean_squared_error: 0.0506 - val_loss: 0.0436 - val_mean_squared_error: 0.0436\n"
          ]
        },
        {
          "output_type": "stream",
          "name": "stderr",
          "text": [
            "WARNING:tensorflow:Model was constructed with shape (None, None, 10) for input KerasTensor(type_spec=TensorSpec(shape=(None, None, 10), dtype=tf.float32, name='input_302'), name='input_302', description=\"created by layer 'input_302'\"), but it was called on an input with incompatible shape (None, 10).\n"
          ]
        },
        {
          "output_type": "stream",
          "name": "stdout",
          "text": [
            "Epoch 1/5\n"
          ]
        },
        {
          "output_type": "stream",
          "name": "stderr",
          "text": [
            "WARNING:tensorflow:Model was constructed with shape (None, None, 10) for input KerasTensor(type_spec=TensorSpec(shape=(None, None, 10), dtype=tf.float32, name='input_305'), name='input_305', description=\"created by layer 'input_305'\"), but it was called on an input with incompatible shape (None, 10).\n",
            "WARNING:tensorflow:Model was constructed with shape (None, None, 10) for input KerasTensor(type_spec=TensorSpec(shape=(None, None, 10), dtype=tf.float32, name='input_305'), name='input_305', description=\"created by layer 'input_305'\"), but it was called on an input with incompatible shape (None, 10).\n"
          ]
        },
        {
          "output_type": "stream",
          "name": "stdout",
          "text": [
            "694/704 [============================>.] - ETA: 0s - loss: 0.1795 - mean_squared_error: 0.1795"
          ]
        },
        {
          "output_type": "stream",
          "name": "stderr",
          "text": [
            "WARNING:tensorflow:Model was constructed with shape (None, None, 10) for input KerasTensor(type_spec=TensorSpec(shape=(None, None, 10), dtype=tf.float32, name='input_305'), name='input_305', description=\"created by layer 'input_305'\"), but it was called on an input with incompatible shape (None, 10).\n"
          ]
        },
        {
          "output_type": "stream",
          "name": "stdout",
          "text": [
            "\b\b\b\b\b\b\b\b\b\b\b\b\b\b\b\b\b\b\b\b\b\b\b\b\b\b\b\b\b\b\b\b\b\b\b\b\b\b\b\b\b\b\b\b\b\b\b\b\b\b\b\b\b\b\b\b\b\b\b\b\b\b\b\b\b\b\b\b\b\b\b\b\b\b\b\b\b\b\b\b\b\b\b\b\b\b\b\b\b\b\b\b\b\b\r704/704 [==============================] - 4s 5ms/step - loss: 0.1790 - mean_squared_error: 0.1790 - val_loss: 0.1369 - val_mean_squared_error: 0.1369\n",
            "Epoch 2/5\n",
            "704/704 [==============================] - 4s 6ms/step - loss: 0.1105 - mean_squared_error: 0.1105 - val_loss: 0.0870 - val_mean_squared_error: 0.0870\n",
            "Epoch 3/5\n",
            "704/704 [==============================] - 3s 4ms/step - loss: 0.0721 - mean_squared_error: 0.0721 - val_loss: 0.0584 - val_mean_squared_error: 0.0584\n",
            "Epoch 4/5\n",
            "704/704 [==============================] - 4s 5ms/step - loss: 0.0498 - mean_squared_error: 0.0498 - val_loss: 0.0417 - val_mean_squared_error: 0.0417\n",
            "Epoch 5/5\n",
            "704/704 [==============================] - 5s 7ms/step - loss: 0.0369 - mean_squared_error: 0.0369 - val_loss: 0.0322 - val_mean_squared_error: 0.0322\n"
          ]
        },
        {
          "output_type": "stream",
          "name": "stderr",
          "text": [
            "WARNING:tensorflow:Model was constructed with shape (None, None, 10) for input KerasTensor(type_spec=TensorSpec(shape=(None, None, 10), dtype=tf.float32, name='input_305'), name='input_305', description=\"created by layer 'input_305'\"), but it was called on an input with incompatible shape (None, 10).\n"
          ]
        },
        {
          "output_type": "stream",
          "name": "stdout",
          "text": [
            "Epoch 1/5\n"
          ]
        },
        {
          "output_type": "stream",
          "name": "stderr",
          "text": [
            "WARNING:tensorflow:Model was constructed with shape (None, None, 10) for input KerasTensor(type_spec=TensorSpec(shape=(None, None, 10), dtype=tf.float32, name='input_308'), name='input_308', description=\"created by layer 'input_308'\"), but it was called on an input with incompatible shape (None, 10).\n",
            "WARNING:tensorflow:Model was constructed with shape (None, None, 10) for input KerasTensor(type_spec=TensorSpec(shape=(None, None, 10), dtype=tf.float32, name='input_308'), name='input_308', description=\"created by layer 'input_308'\"), but it was called on an input with incompatible shape (None, 10).\n"
          ]
        },
        {
          "output_type": "stream",
          "name": "stdout",
          "text": [
            "695/704 [============================>.] - ETA: 0s - loss: 0.1825 - mean_squared_error: 0.1825"
          ]
        },
        {
          "output_type": "stream",
          "name": "stderr",
          "text": [
            "WARNING:tensorflow:Model was constructed with shape (None, None, 10) for input KerasTensor(type_spec=TensorSpec(shape=(None, None, 10), dtype=tf.float32, name='input_308'), name='input_308', description=\"created by layer 'input_308'\"), but it was called on an input with incompatible shape (None, 10).\n"
          ]
        },
        {
          "output_type": "stream",
          "name": "stdout",
          "text": [
            "\b\b\b\b\b\b\b\b\b\b\b\b\b\b\b\b\b\b\b\b\b\b\b\b\b\b\b\b\b\b\b\b\b\b\b\b\b\b\b\b\b\b\b\b\b\b\b\b\b\b\b\b\b\b\b\b\b\b\b\b\b\b\b\b\b\b\b\b\b\b\b\b\b\b\b\b\b\b\b\b\b\b\b\b\b\b\b\b\b\b\b\b\b\b\r704/704 [==============================] - 3s 3ms/step - loss: 0.1820 - mean_squared_error: 0.1820 - val_loss: 0.1408 - val_mean_squared_error: 0.1408\n",
            "Epoch 2/5\n",
            "704/704 [==============================] - 2s 3ms/step - loss: 0.1140 - mean_squared_error: 0.1140 - val_loss: 0.0902 - val_mean_squared_error: 0.0902\n",
            "Epoch 3/5\n",
            "704/704 [==============================] - 2s 3ms/step - loss: 0.0751 - mean_squared_error: 0.0751 - val_loss: 0.0613 - val_mean_squared_error: 0.0613\n",
            "Epoch 4/5\n",
            "704/704 [==============================] - 3s 4ms/step - loss: 0.0526 - mean_squared_error: 0.0526 - val_loss: 0.0443 - val_mean_squared_error: 0.0443\n",
            "Epoch 5/5\n",
            "704/704 [==============================] - 4s 6ms/step - loss: 0.0392 - mean_squared_error: 0.0392 - val_loss: 0.0341 - val_mean_squared_error: 0.0341\n"
          ]
        },
        {
          "output_type": "stream",
          "name": "stderr",
          "text": [
            "WARNING:tensorflow:Model was constructed with shape (None, None, 10) for input KerasTensor(type_spec=TensorSpec(shape=(None, None, 10), dtype=tf.float32, name='input_308'), name='input_308', description=\"created by layer 'input_308'\"), but it was called on an input with incompatible shape (None, 10).\n"
          ]
        },
        {
          "output_type": "stream",
          "name": "stdout",
          "text": [
            "Epoch 1/5\n"
          ]
        },
        {
          "output_type": "stream",
          "name": "stderr",
          "text": [
            "WARNING:tensorflow:Model was constructed with shape (None, None, 10) for input KerasTensor(type_spec=TensorSpec(shape=(None, None, 10), dtype=tf.float32, name='input_311'), name='input_311', description=\"created by layer 'input_311'\"), but it was called on an input with incompatible shape (None, 10).\n",
            "WARNING:tensorflow:Model was constructed with shape (None, None, 10) for input KerasTensor(type_spec=TensorSpec(shape=(None, None, 10), dtype=tf.float32, name='input_311'), name='input_311', description=\"created by layer 'input_311'\"), but it was called on an input with incompatible shape (None, 10).\n"
          ]
        },
        {
          "output_type": "stream",
          "name": "stdout",
          "text": [
            "703/704 [============================>.] - ETA: 0s - loss: 0.2338 - mean_squared_error: 0.2338"
          ]
        },
        {
          "output_type": "stream",
          "name": "stderr",
          "text": [
            "WARNING:tensorflow:Model was constructed with shape (None, None, 10) for input KerasTensor(type_spec=TensorSpec(shape=(None, None, 10), dtype=tf.float32, name='input_311'), name='input_311', description=\"created by layer 'input_311'\"), but it was called on an input with incompatible shape (None, 10).\n"
          ]
        },
        {
          "output_type": "stream",
          "name": "stdout",
          "text": [
            "\b\b\b\b\b\b\b\b\b\b\b\b\b\b\b\b\b\b\b\b\b\b\b\b\b\b\b\b\b\b\b\b\b\b\b\b\b\b\b\b\b\b\b\b\b\b\b\b\b\b\b\b\b\b\b\b\b\b\b\b\b\b\b\b\b\b\b\b\b\b\b\b\b\b\b\b\b\b\b\b\b\b\b\b\b\b\b\b\b\b\b\b\b\b\r704/704 [==============================] - 4s 5ms/step - loss: 0.2338 - mean_squared_error: 0.2338 - val_loss: 0.1860 - val_mean_squared_error: 0.1860\n",
            "Epoch 2/5\n",
            "704/704 [==============================] - 3s 4ms/step - loss: 0.1553 - mean_squared_error: 0.1553 - val_loss: 0.1273 - val_mean_squared_error: 0.1273\n",
            "Epoch 3/5\n",
            "704/704 [==============================] - 2s 3ms/step - loss: 0.1079 - mean_squared_error: 0.1079 - val_loss: 0.0897 - val_mean_squared_error: 0.0897\n",
            "Epoch 4/5\n",
            "704/704 [==============================] - 2s 3ms/step - loss: 0.0773 - mean_squared_error: 0.0773 - val_loss: 0.0652 - val_mean_squared_error: 0.0652\n",
            "Epoch 5/5\n",
            "704/704 [==============================] - 2s 3ms/step - loss: 0.0572 - mean_squared_error: 0.0572 - val_loss: 0.0491 - val_mean_squared_error: 0.0491\n"
          ]
        },
        {
          "output_type": "stream",
          "name": "stderr",
          "text": [
            "WARNING:tensorflow:Model was constructed with shape (None, None, 10) for input KerasTensor(type_spec=TensorSpec(shape=(None, None, 10), dtype=tf.float32, name='input_311'), name='input_311', description=\"created by layer 'input_311'\"), but it was called on an input with incompatible shape (None, 10).\n"
          ]
        },
        {
          "output_type": "stream",
          "name": "stdout",
          "text": [
            "Epoch 1/5\n"
          ]
        },
        {
          "output_type": "stream",
          "name": "stderr",
          "text": [
            "WARNING:tensorflow:Model was constructed with shape (None, None, 10) for input KerasTensor(type_spec=TensorSpec(shape=(None, None, 10), dtype=tf.float32, name='input_314'), name='input_314', description=\"created by layer 'input_314'\"), but it was called on an input with incompatible shape (None, 10).\n",
            "WARNING:tensorflow:Model was constructed with shape (None, None, 10) for input KerasTensor(type_spec=TensorSpec(shape=(None, None, 10), dtype=tf.float32, name='input_314'), name='input_314', description=\"created by layer 'input_314'\"), but it was called on an input with incompatible shape (None, 10).\n"
          ]
        },
        {
          "output_type": "stream",
          "name": "stdout",
          "text": [
            "700/704 [============================>.] - ETA: 0s - loss: 0.2019 - mean_squared_error: 0.2019"
          ]
        },
        {
          "output_type": "stream",
          "name": "stderr",
          "text": [
            "WARNING:tensorflow:Model was constructed with shape (None, None, 10) for input KerasTensor(type_spec=TensorSpec(shape=(None, None, 10), dtype=tf.float32, name='input_314'), name='input_314', description=\"created by layer 'input_314'\"), but it was called on an input with incompatible shape (None, 10).\n"
          ]
        },
        {
          "output_type": "stream",
          "name": "stdout",
          "text": [
            "\b\b\b\b\b\b\b\b\b\b\b\b\b\b\b\b\b\b\b\b\b\b\b\b\b\b\b\b\b\b\b\b\b\b\b\b\b\b\b\b\b\b\b\b\b\b\b\b\b\b\b\b\b\b\b\b\b\b\b\b\b\b\b\b\b\b\b\b\b\b\b\b\b\b\b\b\b\b\b\b\b\b\b\b\b\b\b\b\b\b\b\b\b\b\r704/704 [==============================] - 7s 9ms/step - loss: 0.2016 - mean_squared_error: 0.2016 - val_loss: 0.1502 - val_mean_squared_error: 0.1502\n",
            "Epoch 2/5\n",
            "704/704 [==============================] - 2s 3ms/step - loss: 0.1192 - mean_squared_error: 0.1192 - val_loss: 0.0925 - val_mean_squared_error: 0.0925\n",
            "Epoch 3/5\n",
            "704/704 [==============================] - 2s 3ms/step - loss: 0.0760 - mean_squared_error: 0.0760 - val_loss: 0.0611 - val_mean_squared_error: 0.0611\n",
            "Epoch 4/5\n",
            "704/704 [==============================] - 2s 3ms/step - loss: 0.0520 - mean_squared_error: 0.0520 - val_loss: 0.0434 - val_mean_squared_error: 0.0434\n",
            "Epoch 5/5\n",
            "704/704 [==============================] - 2s 3ms/step - loss: 0.0383 - mean_squared_error: 0.0383 - val_loss: 0.0332 - val_mean_squared_error: 0.0332\n"
          ]
        },
        {
          "output_type": "stream",
          "name": "stderr",
          "text": [
            "WARNING:tensorflow:Model was constructed with shape (None, None, 10) for input KerasTensor(type_spec=TensorSpec(shape=(None, None, 10), dtype=tf.float32, name='input_314'), name='input_314', description=\"created by layer 'input_314'\"), but it was called on an input with incompatible shape (None, 10).\n"
          ]
        },
        {
          "output_type": "stream",
          "name": "stdout",
          "text": [
            "Epoch 1/5\n"
          ]
        },
        {
          "output_type": "stream",
          "name": "stderr",
          "text": [
            "WARNING:tensorflow:Model was constructed with shape (None, None, 10) for input KerasTensor(type_spec=TensorSpec(shape=(None, None, 10), dtype=tf.float32, name='input_317'), name='input_317', description=\"created by layer 'input_317'\"), but it was called on an input with incompatible shape (None, 10).\n",
            "WARNING:tensorflow:Model was constructed with shape (None, None, 10) for input KerasTensor(type_spec=TensorSpec(shape=(None, None, 10), dtype=tf.float32, name='input_317'), name='input_317', description=\"created by layer 'input_317'\"), but it was called on an input with incompatible shape (None, 10).\n"
          ]
        },
        {
          "output_type": "stream",
          "name": "stdout",
          "text": [
            "699/704 [============================>.] - ETA: 0s - loss: 0.2014 - mean_squared_error: 0.2014"
          ]
        },
        {
          "output_type": "stream",
          "name": "stderr",
          "text": [
            "WARNING:tensorflow:Model was constructed with shape (None, None, 10) for input KerasTensor(type_spec=TensorSpec(shape=(None, None, 10), dtype=tf.float32, name='input_317'), name='input_317', description=\"created by layer 'input_317'\"), but it was called on an input with incompatible shape (None, 10).\n"
          ]
        },
        {
          "output_type": "stream",
          "name": "stdout",
          "text": [
            "\b\b\b\b\b\b\b\b\b\b\b\b\b\b\b\b\b\b\b\b\b\b\b\b\b\b\b\b\b\b\b\b\b\b\b\b\b\b\b\b\b\b\b\b\b\b\b\b\b\b\b\b\b\b\b\b\b\b\b\b\b\b\b\b\b\b\b\b\b\b\b\b\b\b\b\b\b\b\b\b\b\b\b\b\b\b\b\b\b\b\b\b\b\b\r704/704 [==============================] - 4s 5ms/step - loss: 0.2011 - mean_squared_error: 0.2011 - val_loss: 0.1565 - val_mean_squared_error: 0.1565\n",
            "Epoch 2/5\n",
            "704/704 [==============================] - 2s 3ms/step - loss: 0.1274 - mean_squared_error: 0.1274 - val_loss: 0.1017 - val_mean_squared_error: 0.1017\n",
            "Epoch 3/5\n",
            "704/704 [==============================] - 2s 3ms/step - loss: 0.0850 - mean_squared_error: 0.0850 - val_loss: 0.0694 - val_mean_squared_error: 0.0694\n",
            "Epoch 4/5\n",
            "704/704 [==============================] - 2s 3ms/step - loss: 0.0593 - mean_squared_error: 0.0593 - val_loss: 0.0496 - val_mean_squared_error: 0.0496\n",
            "Epoch 5/5\n",
            "704/704 [==============================] - 2s 3ms/step - loss: 0.0436 - mean_squared_error: 0.0436 - val_loss: 0.0376 - val_mean_squared_error: 0.0376\n"
          ]
        },
        {
          "output_type": "stream",
          "name": "stderr",
          "text": [
            "WARNING:tensorflow:Model was constructed with shape (None, None, 10) for input KerasTensor(type_spec=TensorSpec(shape=(None, None, 10), dtype=tf.float32, name='input_317'), name='input_317', description=\"created by layer 'input_317'\"), but it was called on an input with incompatible shape (None, 10).\n"
          ]
        },
        {
          "output_type": "stream",
          "name": "stdout",
          "text": [
            "Epoch 1/5\n"
          ]
        },
        {
          "output_type": "stream",
          "name": "stderr",
          "text": [
            "WARNING:tensorflow:Model was constructed with shape (None, None, 10) for input KerasTensor(type_spec=TensorSpec(shape=(None, None, 10), dtype=tf.float32, name='input_320'), name='input_320', description=\"created by layer 'input_320'\"), but it was called on an input with incompatible shape (None, 10).\n",
            "WARNING:tensorflow:Model was constructed with shape (None, None, 10) for input KerasTensor(type_spec=TensorSpec(shape=(None, None, 10), dtype=tf.float32, name='input_320'), name='input_320', description=\"created by layer 'input_320'\"), but it was called on an input with incompatible shape (None, 10).\n"
          ]
        },
        {
          "output_type": "stream",
          "name": "stdout",
          "text": [
            "701/704 [============================>.] - ETA: 0s - loss: 0.1842 - mean_squared_error: 0.1842"
          ]
        },
        {
          "output_type": "stream",
          "name": "stderr",
          "text": [
            "WARNING:tensorflow:Model was constructed with shape (None, None, 10) for input KerasTensor(type_spec=TensorSpec(shape=(None, None, 10), dtype=tf.float32, name='input_320'), name='input_320', description=\"created by layer 'input_320'\"), but it was called on an input with incompatible shape (None, 10).\n"
          ]
        },
        {
          "output_type": "stream",
          "name": "stdout",
          "text": [
            "\b\b\b\b\b\b\b\b\b\b\b\b\b\b\b\b\b\b\b\b\b\b\b\b\b\b\b\b\b\b\b\b\b\b\b\b\b\b\b\b\b\b\b\b\b\b\b\b\b\b\b\b\b\b\b\b\b\b\b\b\b\b\b\b\b\b\b\b\b\b\b\b\b\b\b\b\b\b\b\b\b\b\b\b\b\b\b\b\b\b\b\b\b\b\r704/704 [==============================] - 4s 5ms/step - loss: 0.1840 - mean_squared_error: 0.1840 - val_loss: 0.1423 - val_mean_squared_error: 0.1423\n",
            "Epoch 2/5\n",
            "704/704 [==============================] - 3s 4ms/step - loss: 0.1163 - mean_squared_error: 0.1163 - val_loss: 0.0929 - val_mean_squared_error: 0.0929\n",
            "Epoch 3/5\n",
            "704/704 [==============================] - 2s 3ms/step - loss: 0.0775 - mean_squared_error: 0.0775 - val_loss: 0.0632 - val_mean_squared_error: 0.0632\n",
            "Epoch 4/5\n",
            "704/704 [==============================] - 3s 5ms/step - loss: 0.0541 - mean_squared_error: 0.0541 - val_loss: 0.0454 - val_mean_squared_error: 0.0454\n",
            "Epoch 5/5\n",
            "704/704 [==============================] - 3s 4ms/step - loss: 0.0401 - mean_squared_error: 0.0401 - val_loss: 0.0348 - val_mean_squared_error: 0.0348\n"
          ]
        },
        {
          "output_type": "stream",
          "name": "stderr",
          "text": [
            "WARNING:tensorflow:Model was constructed with shape (None, None, 10) for input KerasTensor(type_spec=TensorSpec(shape=(None, None, 10), dtype=tf.float32, name='input_320'), name='input_320', description=\"created by layer 'input_320'\"), but it was called on an input with incompatible shape (None, 10).\n"
          ]
        },
        {
          "output_type": "stream",
          "name": "stdout",
          "text": [
            "Epoch 1/5\n"
          ]
        },
        {
          "output_type": "stream",
          "name": "stderr",
          "text": [
            "WARNING:tensorflow:Model was constructed with shape (None, None, 10) for input KerasTensor(type_spec=TensorSpec(shape=(None, None, 10), dtype=tf.float32, name='input_323'), name='input_323', description=\"created by layer 'input_323'\"), but it was called on an input with incompatible shape (None, 10).\n",
            "WARNING:tensorflow:Model was constructed with shape (None, None, 10) for input KerasTensor(type_spec=TensorSpec(shape=(None, None, 10), dtype=tf.float32, name='input_323'), name='input_323', description=\"created by layer 'input_323'\"), but it was called on an input with incompatible shape (None, 10).\n"
          ]
        },
        {
          "output_type": "stream",
          "name": "stdout",
          "text": [
            "693/704 [============================>.] - ETA: 0s - loss: 0.2133 - mean_squared_error: 0.2133"
          ]
        },
        {
          "output_type": "stream",
          "name": "stderr",
          "text": [
            "WARNING:tensorflow:Model was constructed with shape (None, None, 10) for input KerasTensor(type_spec=TensorSpec(shape=(None, None, 10), dtype=tf.float32, name='input_323'), name='input_323', description=\"created by layer 'input_323'\"), but it was called on an input with incompatible shape (None, 10).\n"
          ]
        },
        {
          "output_type": "stream",
          "name": "stdout",
          "text": [
            "\b\b\b\b\b\b\b\b\b\b\b\b\b\b\b\b\b\b\b\b\b\b\b\b\b\b\b\b\b\b\b\b\b\b\b\b\b\b\b\b\b\b\b\b\b\b\b\b\b\b\b\b\b\b\b\b\b\b\b\b\b\b\b\b\b\b\b\b\b\b\b\b\b\b\b\b\b\b\b\b\b\b\b\b\b\b\b\b\b\b\b\b\b\b\r704/704 [==============================] - 4s 5ms/step - loss: 0.2126 - mean_squared_error: 0.2126 - val_loss: 0.1593 - val_mean_squared_error: 0.1593\n",
            "Epoch 2/5\n",
            "704/704 [==============================] - 2s 3ms/step - loss: 0.1278 - mean_squared_error: 0.1278 - val_loss: 0.1011 - val_mean_squared_error: 0.1011\n",
            "Epoch 3/5\n",
            "704/704 [==============================] - 3s 4ms/step - loss: 0.0845 - mean_squared_error: 0.0845 - val_loss: 0.0692 - val_mean_squared_error: 0.0692\n",
            "Epoch 4/5\n",
            "704/704 [==============================] - 5s 7ms/step - loss: 0.0593 - mean_squared_error: 0.0593 - val_loss: 0.0498 - val_mean_squared_error: 0.0498\n",
            "Epoch 5/5\n",
            "704/704 [==============================] - 5s 7ms/step - loss: 0.0438 - mean_squared_error: 0.0438 - val_loss: 0.0378 - val_mean_squared_error: 0.0378\n"
          ]
        },
        {
          "output_type": "stream",
          "name": "stderr",
          "text": [
            "WARNING:tensorflow:Model was constructed with shape (None, None, 10) for input KerasTensor(type_spec=TensorSpec(shape=(None, None, 10), dtype=tf.float32, name='input_323'), name='input_323', description=\"created by layer 'input_323'\"), but it was called on an input with incompatible shape (None, 10).\n"
          ]
        },
        {
          "output_type": "stream",
          "name": "stdout",
          "text": [
            "Epoch 1/5\n"
          ]
        },
        {
          "output_type": "stream",
          "name": "stderr",
          "text": [
            "WARNING:tensorflow:Model was constructed with shape (None, None, 10) for input KerasTensor(type_spec=TensorSpec(shape=(None, None, 10), dtype=tf.float32, name='input_326'), name='input_326', description=\"created by layer 'input_326'\"), but it was called on an input with incompatible shape (None, 10).\n",
            "WARNING:tensorflow:Model was constructed with shape (None, None, 10) for input KerasTensor(type_spec=TensorSpec(shape=(None, None, 10), dtype=tf.float32, name='input_326'), name='input_326', description=\"created by layer 'input_326'\"), but it was called on an input with incompatible shape (None, 10).\n"
          ]
        },
        {
          "output_type": "stream",
          "name": "stdout",
          "text": [
            "702/704 [============================>.] - ETA: 0s - loss: 0.2175 - mean_squared_error: 0.2175"
          ]
        },
        {
          "output_type": "stream",
          "name": "stderr",
          "text": [
            "WARNING:tensorflow:Model was constructed with shape (None, None, 10) for input KerasTensor(type_spec=TensorSpec(shape=(None, None, 10), dtype=tf.float32, name='input_326'), name='input_326', description=\"created by layer 'input_326'\"), but it was called on an input with incompatible shape (None, 10).\n"
          ]
        },
        {
          "output_type": "stream",
          "name": "stdout",
          "text": [
            "\b\b\b\b\b\b\b\b\b\b\b\b\b\b\b\b\b\b\b\b\b\b\b\b\b\b\b\b\b\b\b\b\b\b\b\b\b\b\b\b\b\b\b\b\b\b\b\b\b\b\b\b\b\b\b\b\b\b\b\b\b\b\b\b\b\b\b\b\b\b\b\b\b\b\b\b\b\b\b\b\b\b\b\b\b\b\b\b\b\b\b\b\b\b\r704/704 [==============================] - 4s 5ms/step - loss: 0.2174 - mean_squared_error: 0.2174 - val_loss: 0.1675 - val_mean_squared_error: 0.1675\n",
            "Epoch 2/5\n",
            "704/704 [==============================] - 5s 7ms/step - loss: 0.1371 - mean_squared_error: 0.1371 - val_loss: 0.1107 - val_mean_squared_error: 0.1107\n",
            "Epoch 3/5\n",
            "704/704 [==============================] - 6s 8ms/step - loss: 0.0937 - mean_squared_error: 0.0937 - val_loss: 0.0778 - val_mean_squared_error: 0.0778\n",
            "Epoch 4/5\n",
            "704/704 [==============================] - 4s 6ms/step - loss: 0.0672 - mean_squared_error: 0.0672 - val_loss: 0.0569 - val_mean_squared_error: 0.0569\n",
            "Epoch 5/5\n",
            "704/704 [==============================] - 6s 9ms/step - loss: 0.0501 - mean_squared_error: 0.0501 - val_loss: 0.0433 - val_mean_squared_error: 0.0433\n"
          ]
        },
        {
          "output_type": "stream",
          "name": "stderr",
          "text": [
            "WARNING:tensorflow:Model was constructed with shape (None, None, 10) for input KerasTensor(type_spec=TensorSpec(shape=(None, None, 10), dtype=tf.float32, name='input_326'), name='input_326', description=\"created by layer 'input_326'\"), but it was called on an input with incompatible shape (None, 10).\n"
          ]
        },
        {
          "output_type": "stream",
          "name": "stdout",
          "text": [
            "Epoch 1/5\n"
          ]
        },
        {
          "output_type": "stream",
          "name": "stderr",
          "text": [
            "WARNING:tensorflow:Model was constructed with shape (None, None, 10) for input KerasTensor(type_spec=TensorSpec(shape=(None, None, 10), dtype=tf.float32, name='input_329'), name='input_329', description=\"created by layer 'input_329'\"), but it was called on an input with incompatible shape (None, 10).\n",
            "WARNING:tensorflow:Model was constructed with shape (None, None, 10) for input KerasTensor(type_spec=TensorSpec(shape=(None, None, 10), dtype=tf.float32, name='input_329'), name='input_329', description=\"created by layer 'input_329'\"), but it was called on an input with incompatible shape (None, 10).\n"
          ]
        },
        {
          "output_type": "stream",
          "name": "stdout",
          "text": [
            "690/704 [============================>.] - ETA: 0s - loss: 0.2146 - mean_squared_error: 0.2146"
          ]
        },
        {
          "output_type": "stream",
          "name": "stderr",
          "text": [
            "WARNING:tensorflow:Model was constructed with shape (None, None, 10) for input KerasTensor(type_spec=TensorSpec(shape=(None, None, 10), dtype=tf.float32, name='input_329'), name='input_329', description=\"created by layer 'input_329'\"), but it was called on an input with incompatible shape (None, 10).\n"
          ]
        },
        {
          "output_type": "stream",
          "name": "stdout",
          "text": [
            "\b\b\b\b\b\b\b\b\b\b\b\b\b\b\b\b\b\b\b\b\b\b\b\b\b\b\b\b\b\b\b\b\b\b\b\b\b\b\b\b\b\b\b\b\b\b\b\b\b\b\b\b\b\b\b\b\b\b\b\b\b\b\b\b\b\b\b\b\b\b\b\b\b\b\b\b\b\b\b\b\b\b\b\b\b\b\b\b\b\b\b\b\b\b\r704/704 [==============================] - 5s 6ms/step - loss: 0.2137 - mean_squared_error: 0.2137 - val_loss: 0.1678 - val_mean_squared_error: 0.1678\n",
            "Epoch 2/5\n",
            "704/704 [==============================] - 6s 8ms/step - loss: 0.1378 - mean_squared_error: 0.1378 - val_loss: 0.1107 - val_mean_squared_error: 0.1107\n",
            "Epoch 3/5\n",
            "704/704 [==============================] - 5s 7ms/step - loss: 0.0924 - mean_squared_error: 0.0924 - val_loss: 0.0754 - val_mean_squared_error: 0.0754\n",
            "Epoch 4/5\n",
            "704/704 [==============================] - 3s 5ms/step - loss: 0.0642 - mean_squared_error: 0.0642 - val_loss: 0.0535 - val_mean_squared_error: 0.0535\n",
            "Epoch 5/5\n",
            "704/704 [==============================] - 3s 5ms/step - loss: 0.0468 - mean_squared_error: 0.0468 - val_loss: 0.0401 - val_mean_squared_error: 0.0401\n"
          ]
        },
        {
          "output_type": "stream",
          "name": "stderr",
          "text": [
            "WARNING:tensorflow:Model was constructed with shape (None, None, 10) for input KerasTensor(type_spec=TensorSpec(shape=(None, None, 10), dtype=tf.float32, name='input_329'), name='input_329', description=\"created by layer 'input_329'\"), but it was called on an input with incompatible shape (None, 10).\n"
          ]
        },
        {
          "output_type": "stream",
          "name": "stdout",
          "text": [
            "Epoch 1/5\n"
          ]
        },
        {
          "output_type": "stream",
          "name": "stderr",
          "text": [
            "WARNING:tensorflow:Model was constructed with shape (None, None, 10) for input KerasTensor(type_spec=TensorSpec(shape=(None, None, 10), dtype=tf.float32, name='input_332'), name='input_332', description=\"created by layer 'input_332'\"), but it was called on an input with incompatible shape (None, 10).\n",
            "WARNING:tensorflow:Model was constructed with shape (None, None, 10) for input KerasTensor(type_spec=TensorSpec(shape=(None, None, 10), dtype=tf.float32, name='input_332'), name='input_332', description=\"created by layer 'input_332'\"), but it was called on an input with incompatible shape (None, 10).\n"
          ]
        },
        {
          "output_type": "stream",
          "name": "stdout",
          "text": [
            "694/704 [============================>.] - ETA: 0s - loss: 0.2024 - mean_squared_error: 0.2024"
          ]
        },
        {
          "output_type": "stream",
          "name": "stderr",
          "text": [
            "WARNING:tensorflow:Model was constructed with shape (None, None, 10) for input KerasTensor(type_spec=TensorSpec(shape=(None, None, 10), dtype=tf.float32, name='input_332'), name='input_332', description=\"created by layer 'input_332'\"), but it was called on an input with incompatible shape (None, 10).\n"
          ]
        },
        {
          "output_type": "stream",
          "name": "stdout",
          "text": [
            "\b\b\b\b\b\b\b\b\b\b\b\b\b\b\b\b\b\b\b\b\b\b\b\b\b\b\b\b\b\b\b\b\b\b\b\b\b\b\b\b\b\b\b\b\b\b\b\b\b\b\b\b\b\b\b\b\b\b\b\b\b\b\b\b\b\b\b\b\b\b\b\b\b\b\b\b\b\b\b\b\b\b\b\b\b\b\b\b\b\b\b\b\b\b\r704/704 [==============================] - 6s 8ms/step - loss: 0.2018 - mean_squared_error: 0.2018 - val_loss: 0.1597 - val_mean_squared_error: 0.1597\n",
            "Epoch 2/5\n",
            "704/704 [==============================] - 7s 10ms/step - loss: 0.1325 - mean_squared_error: 0.1325 - val_loss: 0.1074 - val_mean_squared_error: 0.1074\n",
            "Epoch 3/5\n",
            "704/704 [==============================] - 4s 5ms/step - loss: 0.0905 - mean_squared_error: 0.0905 - val_loss: 0.0746 - val_mean_squared_error: 0.0746\n",
            "Epoch 4/5\n",
            "704/704 [==============================] - 5s 7ms/step - loss: 0.0640 - mean_squared_error: 0.0640 - val_loss: 0.0538 - val_mean_squared_error: 0.0538\n",
            "Epoch 5/5\n",
            "704/704 [==============================] - 4s 6ms/step - loss: 0.0472 - mean_squared_error: 0.0472 - val_loss: 0.0407 - val_mean_squared_error: 0.0407\n"
          ]
        },
        {
          "output_type": "stream",
          "name": "stderr",
          "text": [
            "WARNING:tensorflow:Model was constructed with shape (None, None, 10) for input KerasTensor(type_spec=TensorSpec(shape=(None, None, 10), dtype=tf.float32, name='input_332'), name='input_332', description=\"created by layer 'input_332'\"), but it was called on an input with incompatible shape (None, 10).\n"
          ]
        },
        {
          "output_type": "stream",
          "name": "stdout",
          "text": [
            "Epoch 1/5\n"
          ]
        },
        {
          "output_type": "stream",
          "name": "stderr",
          "text": [
            "WARNING:tensorflow:Model was constructed with shape (None, None, 10) for input KerasTensor(type_spec=TensorSpec(shape=(None, None, 10), dtype=tf.float32, name='input_335'), name='input_335', description=\"created by layer 'input_335'\"), but it was called on an input with incompatible shape (None, 10).\n",
            "WARNING:tensorflow:Model was constructed with shape (None, None, 10) for input KerasTensor(type_spec=TensorSpec(shape=(None, None, 10), dtype=tf.float32, name='input_335'), name='input_335', description=\"created by layer 'input_335'\"), but it was called on an input with incompatible shape (None, 10).\n"
          ]
        },
        {
          "output_type": "stream",
          "name": "stdout",
          "text": [
            "698/704 [============================>.] - ETA: 0s - loss: 0.2118 - mean_squared_error: 0.2118"
          ]
        },
        {
          "output_type": "stream",
          "name": "stderr",
          "text": [
            "WARNING:tensorflow:Model was constructed with shape (None, None, 10) for input KerasTensor(type_spec=TensorSpec(shape=(None, None, 10), dtype=tf.float32, name='input_335'), name='input_335', description=\"created by layer 'input_335'\"), but it was called on an input with incompatible shape (None, 10).\n"
          ]
        },
        {
          "output_type": "stream",
          "name": "stdout",
          "text": [
            "\b\b\b\b\b\b\b\b\b\b\b\b\b\b\b\b\b\b\b\b\b\b\b\b\b\b\b\b\b\b\b\b\b\b\b\b\b\b\b\b\b\b\b\b\b\b\b\b\b\b\b\b\b\b\b\b\b\b\b\b\b\b\b\b\b\b\b\b\b\b\b\b\b\b\b\b\b\b\b\b\b\b\b\b\b\b\b\b\b\b\b\b\b\b\r704/704 [==============================] - 4s 5ms/step - loss: 0.2115 - mean_squared_error: 0.2115 - val_loss: 0.1668 - val_mean_squared_error: 0.1668\n",
            "Epoch 2/5\n",
            "704/704 [==============================] - 3s 4ms/step - loss: 0.1370 - mean_squared_error: 0.1370 - val_loss: 0.1097 - val_mean_squared_error: 0.1097\n",
            "Epoch 3/5\n",
            "704/704 [==============================] - 2s 3ms/step - loss: 0.0914 - mean_squared_error: 0.0914 - val_loss: 0.0745 - val_mean_squared_error: 0.0745\n",
            "Epoch 4/5\n",
            "704/704 [==============================] - 2s 3ms/step - loss: 0.0634 - mean_squared_error: 0.0634 - val_loss: 0.0530 - val_mean_squared_error: 0.0530\n",
            "Epoch 5/5\n",
            "704/704 [==============================] - 3s 4ms/step - loss: 0.0464 - mean_squared_error: 0.0464 - val_loss: 0.0400 - val_mean_squared_error: 0.0400\n"
          ]
        },
        {
          "output_type": "stream",
          "name": "stderr",
          "text": [
            "WARNING:tensorflow:Model was constructed with shape (None, None, 10) for input KerasTensor(type_spec=TensorSpec(shape=(None, None, 10), dtype=tf.float32, name='input_335'), name='input_335', description=\"created by layer 'input_335'\"), but it was called on an input with incompatible shape (None, 10).\n"
          ]
        },
        {
          "output_type": "stream",
          "name": "stdout",
          "text": [
            "Epoch 1/5\n"
          ]
        },
        {
          "output_type": "stream",
          "name": "stderr",
          "text": [
            "WARNING:tensorflow:Model was constructed with shape (None, None, 10) for input KerasTensor(type_spec=TensorSpec(shape=(None, None, 10), dtype=tf.float32, name='input_338'), name='input_338', description=\"created by layer 'input_338'\"), but it was called on an input with incompatible shape (None, 10).\n",
            "WARNING:tensorflow:Model was constructed with shape (None, None, 10) for input KerasTensor(type_spec=TensorSpec(shape=(None, None, 10), dtype=tf.float32, name='input_338'), name='input_338', description=\"created by layer 'input_338'\"), but it was called on an input with incompatible shape (None, 10).\n"
          ]
        },
        {
          "output_type": "stream",
          "name": "stdout",
          "text": [
            "703/704 [============================>.] - ETA: 0s - loss: 0.2109 - mean_squared_error: 0.2109"
          ]
        },
        {
          "output_type": "stream",
          "name": "stderr",
          "text": [
            "WARNING:tensorflow:Model was constructed with shape (None, None, 10) for input KerasTensor(type_spec=TensorSpec(shape=(None, None, 10), dtype=tf.float32, name='input_338'), name='input_338', description=\"created by layer 'input_338'\"), but it was called on an input with incompatible shape (None, 10).\n"
          ]
        },
        {
          "output_type": "stream",
          "name": "stdout",
          "text": [
            "\b\b\b\b\b\b\b\b\b\b\b\b\b\b\b\b\b\b\b\b\b\b\b\b\b\b\b\b\b\b\b\b\b\b\b\b\b\b\b\b\b\b\b\b\b\b\b\b\b\b\b\b\b\b\b\b\b\b\b\b\b\b\b\b\b\b\b\b\b\b\b\b\b\b\b\b\b\b\b\b\b\b\b\b\b\b\b\b\b\b\b\b\b\b\r704/704 [==============================] - 8s 10ms/step - loss: 0.2109 - mean_squared_error: 0.2109 - val_loss: 0.1698 - val_mean_squared_error: 0.1698\n",
            "Epoch 2/5\n",
            "704/704 [==============================] - 5s 7ms/step - loss: 0.1432 - mean_squared_error: 0.1432 - val_loss: 0.1186 - val_mean_squared_error: 0.1186\n",
            "Epoch 3/5\n",
            "704/704 [==============================] - 4s 6ms/step - loss: 0.1013 - mean_squared_error: 0.1013 - val_loss: 0.0848 - val_mean_squared_error: 0.0848\n",
            "Epoch 4/5\n",
            "704/704 [==============================] - 4s 6ms/step - loss: 0.0734 - mean_squared_error: 0.0734 - val_loss: 0.0623 - val_mean_squared_error: 0.0623\n",
            "Epoch 5/5\n",
            "704/704 [==============================] - 3s 5ms/step - loss: 0.0549 - mean_squared_error: 0.0549 - val_loss: 0.0474 - val_mean_squared_error: 0.0474\n"
          ]
        },
        {
          "output_type": "stream",
          "name": "stderr",
          "text": [
            "WARNING:tensorflow:Model was constructed with shape (None, None, 10) for input KerasTensor(type_spec=TensorSpec(shape=(None, None, 10), dtype=tf.float32, name='input_338'), name='input_338', description=\"created by layer 'input_338'\"), but it was called on an input with incompatible shape (None, 10).\n"
          ]
        },
        {
          "output_type": "stream",
          "name": "stdout",
          "text": [
            "Epoch 1/5\n"
          ]
        },
        {
          "output_type": "stream",
          "name": "stderr",
          "text": [
            "WARNING:tensorflow:Model was constructed with shape (None, None, 10) for input KerasTensor(type_spec=TensorSpec(shape=(None, None, 10), dtype=tf.float32, name='input_341'), name='input_341', description=\"created by layer 'input_341'\"), but it was called on an input with incompatible shape (None, 10).\n",
            "WARNING:tensorflow:Model was constructed with shape (None, None, 10) for input KerasTensor(type_spec=TensorSpec(shape=(None, None, 10), dtype=tf.float32, name='input_341'), name='input_341', description=\"created by layer 'input_341'\"), but it was called on an input with incompatible shape (None, 10).\n"
          ]
        },
        {
          "output_type": "stream",
          "name": "stdout",
          "text": [
            "701/704 [============================>.] - ETA: 0s - loss: 0.2104 - mean_squared_error: 0.2104"
          ]
        },
        {
          "output_type": "stream",
          "name": "stderr",
          "text": [
            "WARNING:tensorflow:Model was constructed with shape (None, None, 10) for input KerasTensor(type_spec=TensorSpec(shape=(None, None, 10), dtype=tf.float32, name='input_341'), name='input_341', description=\"created by layer 'input_341'\"), but it was called on an input with incompatible shape (None, 10).\n"
          ]
        },
        {
          "output_type": "stream",
          "name": "stdout",
          "text": [
            "\b\b\b\b\b\b\b\b\b\b\b\b\b\b\b\b\b\b\b\b\b\b\b\b\b\b\b\b\b\b\b\b\b\b\b\b\b\b\b\b\b\b\b\b\b\b\b\b\b\b\b\b\b\b\b\b\b\b\b\b\b\b\b\b\b\b\b\b\b\b\b\b\b\b\b\b\b\b\b\b\b\b\b\b\b\b\b\b\b\b\b\b\b\b\r704/704 [==============================] - 3s 4ms/step - loss: 0.2102 - mean_squared_error: 0.2102 - val_loss: 0.1648 - val_mean_squared_error: 0.1648\n",
            "Epoch 2/5\n",
            "704/704 [==============================] - 4s 6ms/step - loss: 0.1354 - mean_squared_error: 0.1354 - val_loss: 0.1088 - val_mean_squared_error: 0.1088\n",
            "Epoch 3/5\n",
            "704/704 [==============================] - 3s 5ms/step - loss: 0.0910 - mean_squared_error: 0.0910 - val_loss: 0.0744 - val_mean_squared_error: 0.0744\n",
            "Epoch 4/5\n",
            "704/704 [==============================] - 4s 5ms/step - loss: 0.0635 - mean_squared_error: 0.0635 - val_loss: 0.0530 - val_mean_squared_error: 0.0530\n",
            "Epoch 5/5\n",
            "704/704 [==============================] - 4s 5ms/step - loss: 0.0463 - mean_squared_error: 0.0463 - val_loss: 0.0397 - val_mean_squared_error: 0.0397\n"
          ]
        },
        {
          "output_type": "stream",
          "name": "stderr",
          "text": [
            "WARNING:tensorflow:Model was constructed with shape (None, None, 10) for input KerasTensor(type_spec=TensorSpec(shape=(None, None, 10), dtype=tf.float32, name='input_341'), name='input_341', description=\"created by layer 'input_341'\"), but it was called on an input with incompatible shape (None, 10).\n"
          ]
        },
        {
          "output_type": "stream",
          "name": "stdout",
          "text": [
            "Epoch 1/5\n"
          ]
        },
        {
          "output_type": "stream",
          "name": "stderr",
          "text": [
            "WARNING:tensorflow:Model was constructed with shape (None, None, 10) for input KerasTensor(type_spec=TensorSpec(shape=(None, None, 10), dtype=tf.float32, name='input_344'), name='input_344', description=\"created by layer 'input_344'\"), but it was called on an input with incompatible shape (None, 10).\n",
            "WARNING:tensorflow:Model was constructed with shape (None, None, 10) for input KerasTensor(type_spec=TensorSpec(shape=(None, None, 10), dtype=tf.float32, name='input_344'), name='input_344', description=\"created by layer 'input_344'\"), but it was called on an input with incompatible shape (None, 10).\n"
          ]
        },
        {
          "output_type": "stream",
          "name": "stdout",
          "text": [
            "691/704 [============================>.] - ETA: 0s - loss: 0.2093 - mean_squared_error: 0.2093"
          ]
        },
        {
          "output_type": "stream",
          "name": "stderr",
          "text": [
            "WARNING:tensorflow:Model was constructed with shape (None, None, 10) for input KerasTensor(type_spec=TensorSpec(shape=(None, None, 10), dtype=tf.float32, name='input_344'), name='input_344', description=\"created by layer 'input_344'\"), but it was called on an input with incompatible shape (None, 10).\n"
          ]
        },
        {
          "output_type": "stream",
          "name": "stdout",
          "text": [
            "\b\b\b\b\b\b\b\b\b\b\b\b\b\b\b\b\b\b\b\b\b\b\b\b\b\b\b\b\b\b\b\b\b\b\b\b\b\b\b\b\b\b\b\b\b\b\b\b\b\b\b\b\b\b\b\b\b\b\b\b\b\b\b\b\b\b\b\b\b\b\b\b\b\b\b\b\b\b\b\b\b\b\b\b\b\b\b\b\b\b\b\b\b\b\r704/704 [==============================] - 4s 5ms/step - loss: 0.2085 - mean_squared_error: 0.2085 - val_loss: 0.1600 - val_mean_squared_error: 0.1600\n",
            "Epoch 2/5\n",
            "704/704 [==============================] - 3s 4ms/step - loss: 0.1288 - mean_squared_error: 0.1288 - val_loss: 0.1012 - val_mean_squared_error: 0.1012\n",
            "Epoch 3/5\n",
            "704/704 [==============================] - 3s 4ms/step - loss: 0.0838 - mean_squared_error: 0.0838 - val_loss: 0.0678 - val_mean_squared_error: 0.0678\n",
            "Epoch 4/5\n",
            "704/704 [==============================] - 5s 8ms/step - loss: 0.0575 - mean_squared_error: 0.0575 - val_loss: 0.0477 - val_mean_squared_error: 0.0477\n",
            "Epoch 5/5\n",
            "704/704 [==============================] - 4s 5ms/step - loss: 0.0416 - mean_squared_error: 0.0416 - val_loss: 0.0357 - val_mean_squared_error: 0.0357\n"
          ]
        },
        {
          "output_type": "stream",
          "name": "stderr",
          "text": [
            "WARNING:tensorflow:Model was constructed with shape (None, None, 10) for input KerasTensor(type_spec=TensorSpec(shape=(None, None, 10), dtype=tf.float32, name='input_344'), name='input_344', description=\"created by layer 'input_344'\"), but it was called on an input with incompatible shape (None, 10).\n"
          ]
        },
        {
          "output_type": "stream",
          "name": "stdout",
          "text": [
            "Epoch 1/5\n"
          ]
        },
        {
          "output_type": "stream",
          "name": "stderr",
          "text": [
            "WARNING:tensorflow:Model was constructed with shape (None, None, 10) for input KerasTensor(type_spec=TensorSpec(shape=(None, None, 10), dtype=tf.float32, name='input_347'), name='input_347', description=\"created by layer 'input_347'\"), but it was called on an input with incompatible shape (None, 10).\n",
            "WARNING:tensorflow:Model was constructed with shape (None, None, 10) for input KerasTensor(type_spec=TensorSpec(shape=(None, None, 10), dtype=tf.float32, name='input_347'), name='input_347', description=\"created by layer 'input_347'\"), but it was called on an input with incompatible shape (None, 10).\n"
          ]
        },
        {
          "output_type": "stream",
          "name": "stdout",
          "text": [
            "700/704 [============================>.] - ETA: 0s - loss: 0.2134 - mean_squared_error: 0.2134"
          ]
        },
        {
          "output_type": "stream",
          "name": "stderr",
          "text": [
            "WARNING:tensorflow:Model was constructed with shape (None, None, 10) for input KerasTensor(type_spec=TensorSpec(shape=(None, None, 10), dtype=tf.float32, name='input_347'), name='input_347', description=\"created by layer 'input_347'\"), but it was called on an input with incompatible shape (None, 10).\n"
          ]
        },
        {
          "output_type": "stream",
          "name": "stdout",
          "text": [
            "\b\b\b\b\b\b\b\b\b\b\b\b\b\b\b\b\b\b\b\b\b\b\b\b\b\b\b\b\b\b\b\b\b\b\b\b\b\b\b\b\b\b\b\b\b\b\b\b\b\b\b\b\b\b\b\b\b\b\b\b\b\b\b\b\b\b\b\b\b\b\b\b\b\b\b\b\b\b\b\b\b\b\b\b\b\b\b\b\b\b\b\b\b\b\r704/704 [==============================] - 8s 9ms/step - loss: 0.2132 - mean_squared_error: 0.2132 - val_loss: 0.1671 - val_mean_squared_error: 0.1671\n",
            "Epoch 2/5\n",
            "704/704 [==============================] - 3s 4ms/step - loss: 0.1377 - mean_squared_error: 0.1377 - val_loss: 0.1109 - val_mean_squared_error: 0.1109\n",
            "Epoch 3/5\n",
            "704/704 [==============================] - 3s 4ms/step - loss: 0.0927 - mean_squared_error: 0.0927 - val_loss: 0.0758 - val_mean_squared_error: 0.0758\n",
            "Epoch 4/5\n",
            "704/704 [==============================] - 2s 3ms/step - loss: 0.0647 - mean_squared_error: 0.0647 - val_loss: 0.0541 - val_mean_squared_error: 0.0541\n",
            "Epoch 5/5\n",
            "704/704 [==============================] - 2s 3ms/step - loss: 0.0473 - mean_squared_error: 0.0473 - val_loss: 0.0406 - val_mean_squared_error: 0.0406\n"
          ]
        },
        {
          "output_type": "stream",
          "name": "stderr",
          "text": [
            "WARNING:tensorflow:Model was constructed with shape (None, None, 10) for input KerasTensor(type_spec=TensorSpec(shape=(None, None, 10), dtype=tf.float32, name='input_347'), name='input_347', description=\"created by layer 'input_347'\"), but it was called on an input with incompatible shape (None, 10).\n"
          ]
        },
        {
          "output_type": "stream",
          "name": "stdout",
          "text": [
            "Epoch 1/5\n"
          ]
        },
        {
          "output_type": "stream",
          "name": "stderr",
          "text": [
            "WARNING:tensorflow:Model was constructed with shape (None, None, 10) for input KerasTensor(type_spec=TensorSpec(shape=(None, None, 10), dtype=tf.float32, name='input_350'), name='input_350', description=\"created by layer 'input_350'\"), but it was called on an input with incompatible shape (None, 10).\n",
            "WARNING:tensorflow:Model was constructed with shape (None, None, 10) for input KerasTensor(type_spec=TensorSpec(shape=(None, None, 10), dtype=tf.float32, name='input_350'), name='input_350', description=\"created by layer 'input_350'\"), but it was called on an input with incompatible shape (None, 10).\n"
          ]
        },
        {
          "output_type": "stream",
          "name": "stdout",
          "text": [
            "700/704 [============================>.] - ETA: 0s - loss: 0.2037 - mean_squared_error: 0.2037"
          ]
        },
        {
          "output_type": "stream",
          "name": "stderr",
          "text": [
            "WARNING:tensorflow:Model was constructed with shape (None, None, 10) for input KerasTensor(type_spec=TensorSpec(shape=(None, None, 10), dtype=tf.float32, name='input_350'), name='input_350', description=\"created by layer 'input_350'\"), but it was called on an input with incompatible shape (None, 10).\n"
          ]
        },
        {
          "output_type": "stream",
          "name": "stdout",
          "text": [
            "\b\b\b\b\b\b\b\b\b\b\b\b\b\b\b\b\b\b\b\b\b\b\b\b\b\b\b\b\b\b\b\b\b\b\b\b\b\b\b\b\b\b\b\b\b\b\b\b\b\b\b\b\b\b\b\b\b\b\b\b\b\b\b\b\b\b\b\b\b\b\b\b\b\b\b\b\b\b\b\b\b\b\b\b\b\b\b\b\b\b\b\b\b\b\r704/704 [==============================] - 3s 4ms/step - loss: 0.2035 - mean_squared_error: 0.2035 - val_loss: 0.1574 - val_mean_squared_error: 0.1574\n",
            "Epoch 2/5\n",
            "704/704 [==============================] - 2s 3ms/step - loss: 0.1284 - mean_squared_error: 0.1284 - val_loss: 0.1025 - val_mean_squared_error: 0.1025\n",
            "Epoch 3/5\n",
            "704/704 [==============================] - 2s 3ms/step - loss: 0.0855 - mean_squared_error: 0.0855 - val_loss: 0.0697 - val_mean_squared_error: 0.0697\n",
            "Epoch 4/5\n",
            "704/704 [==============================] - 4s 5ms/step - loss: 0.0594 - mean_squared_error: 0.0594 - val_loss: 0.0497 - val_mean_squared_error: 0.0497\n",
            "Epoch 5/5\n",
            "704/704 [==============================] - 3s 4ms/step - loss: 0.0435 - mean_squared_error: 0.0435 - val_loss: 0.0375 - val_mean_squared_error: 0.0375\n"
          ]
        },
        {
          "output_type": "stream",
          "name": "stderr",
          "text": [
            "WARNING:tensorflow:Model was constructed with shape (None, None, 10) for input KerasTensor(type_spec=TensorSpec(shape=(None, None, 10), dtype=tf.float32, name='input_350'), name='input_350', description=\"created by layer 'input_350'\"), but it was called on an input with incompatible shape (None, 10).\n"
          ]
        },
        {
          "output_type": "stream",
          "name": "stdout",
          "text": [
            "Epoch 1/5\n"
          ]
        },
        {
          "output_type": "stream",
          "name": "stderr",
          "text": [
            "WARNING:tensorflow:Model was constructed with shape (None, None, 10) for input KerasTensor(type_spec=TensorSpec(shape=(None, None, 10), dtype=tf.float32, name='input_353'), name='input_353', description=\"created by layer 'input_353'\"), but it was called on an input with incompatible shape (None, 10).\n",
            "WARNING:tensorflow:Model was constructed with shape (None, None, 10) for input KerasTensor(type_spec=TensorSpec(shape=(None, None, 10), dtype=tf.float32, name='input_353'), name='input_353', description=\"created by layer 'input_353'\"), but it was called on an input with incompatible shape (None, 10).\n"
          ]
        },
        {
          "output_type": "stream",
          "name": "stdout",
          "text": [
            "702/704 [============================>.] - ETA: 0s - loss: 0.2149 - mean_squared_error: 0.2149"
          ]
        },
        {
          "output_type": "stream",
          "name": "stderr",
          "text": [
            "WARNING:tensorflow:Model was constructed with shape (None, None, 10) for input KerasTensor(type_spec=TensorSpec(shape=(None, None, 10), dtype=tf.float32, name='input_353'), name='input_353', description=\"created by layer 'input_353'\"), but it was called on an input with incompatible shape (None, 10).\n"
          ]
        },
        {
          "output_type": "stream",
          "name": "stdout",
          "text": [
            "\b\b\b\b\b\b\b\b\b\b\b\b\b\b\b\b\b\b\b\b\b\b\b\b\b\b\b\b\b\b\b\b\b\b\b\b\b\b\b\b\b\b\b\b\b\b\b\b\b\b\b\b\b\b\b\b\b\b\b\b\b\b\b\b\b\b\b\b\b\b\b\b\b\b\b\b\b\b\b\b\b\b\b\b\b\b\b\b\b\b\b\b\b\b\r704/704 [==============================] - 3s 4ms/step - loss: 0.2148 - mean_squared_error: 0.2148 - val_loss: 0.1707 - val_mean_squared_error: 0.1707\n",
            "Epoch 2/5\n",
            "704/704 [==============================] - 2s 3ms/step - loss: 0.1419 - mean_squared_error: 0.1419 - val_loss: 0.1151 - val_mean_squared_error: 0.1151\n",
            "Epoch 3/5\n",
            "704/704 [==============================] - 2s 3ms/step - loss: 0.0970 - mean_squared_error: 0.0970 - val_loss: 0.0800 - val_mean_squared_error: 0.0800\n",
            "Epoch 4/5\n",
            "704/704 [==============================] - 4s 5ms/step - loss: 0.0686 - mean_squared_error: 0.0686 - val_loss: 0.0577 - val_mean_squared_error: 0.0577\n",
            "Epoch 5/5\n",
            "704/704 [==============================] - 3s 4ms/step - loss: 0.0505 - mean_squared_error: 0.0505 - val_loss: 0.0434 - val_mean_squared_error: 0.0434\n"
          ]
        },
        {
          "output_type": "stream",
          "name": "stderr",
          "text": [
            "WARNING:tensorflow:Model was constructed with shape (None, None, 10) for input KerasTensor(type_spec=TensorSpec(shape=(None, None, 10), dtype=tf.float32, name='input_353'), name='input_353', description=\"created by layer 'input_353'\"), but it was called on an input with incompatible shape (None, 10).\n"
          ]
        },
        {
          "output_type": "stream",
          "name": "stdout",
          "text": [
            "Epoch 1/5\n"
          ]
        },
        {
          "output_type": "stream",
          "name": "stderr",
          "text": [
            "WARNING:tensorflow:Model was constructed with shape (None, None, 10) for input KerasTensor(type_spec=TensorSpec(shape=(None, None, 10), dtype=tf.float32, name='input_356'), name='input_356', description=\"created by layer 'input_356'\"), but it was called on an input with incompatible shape (None, 10).\n",
            "WARNING:tensorflow:Model was constructed with shape (None, None, 10) for input KerasTensor(type_spec=TensorSpec(shape=(None, None, 10), dtype=tf.float32, name='input_356'), name='input_356', description=\"created by layer 'input_356'\"), but it was called on an input with incompatible shape (None, 10).\n"
          ]
        },
        {
          "output_type": "stream",
          "name": "stdout",
          "text": [
            "700/704 [============================>.] - ETA: 0s - loss: 0.1947 - mean_squared_error: 0.1947"
          ]
        },
        {
          "output_type": "stream",
          "name": "stderr",
          "text": [
            "WARNING:tensorflow:Model was constructed with shape (None, None, 10) for input KerasTensor(type_spec=TensorSpec(shape=(None, None, 10), dtype=tf.float32, name='input_356'), name='input_356', description=\"created by layer 'input_356'\"), but it was called on an input with incompatible shape (None, 10).\n"
          ]
        },
        {
          "output_type": "stream",
          "name": "stdout",
          "text": [
            "\b\b\b\b\b\b\b\b\b\b\b\b\b\b\b\b\b\b\b\b\b\b\b\b\b\b\b\b\b\b\b\b\b\b\b\b\b\b\b\b\b\b\b\b\b\b\b\b\b\b\b\b\b\b\b\b\b\b\b\b\b\b\b\b\b\b\b\b\b\b\b\b\b\b\b\b\b\b\b\b\b\b\b\b\b\b\b\b\b\b\b\b\b\b\r704/704 [==============================] - 4s 5ms/step - loss: 0.1945 - mean_squared_error: 0.1945 - val_loss: 0.1512 - val_mean_squared_error: 0.1512\n",
            "Epoch 2/5\n",
            "704/704 [==============================] - 3s 4ms/step - loss: 0.1244 - mean_squared_error: 0.1244 - val_loss: 0.1002 - val_mean_squared_error: 0.1002\n",
            "Epoch 3/5\n",
            "704/704 [==============================] - 2s 3ms/step - loss: 0.0841 - mean_squared_error: 0.0841 - val_loss: 0.0689 - val_mean_squared_error: 0.0689\n",
            "Epoch 4/5\n",
            "704/704 [==============================] - 2s 3ms/step - loss: 0.0590 - mean_squared_error: 0.0590 - val_loss: 0.0495 - val_mean_squared_error: 0.0495\n",
            "Epoch 5/5\n",
            "704/704 [==============================] - 2s 3ms/step - loss: 0.0435 - mean_squared_error: 0.0435 - val_loss: 0.0375 - val_mean_squared_error: 0.0375\n"
          ]
        },
        {
          "output_type": "stream",
          "name": "stderr",
          "text": [
            "WARNING:tensorflow:Model was constructed with shape (None, None, 10) for input KerasTensor(type_spec=TensorSpec(shape=(None, None, 10), dtype=tf.float32, name='input_356'), name='input_356', description=\"created by layer 'input_356'\"), but it was called on an input with incompatible shape (None, 10).\n"
          ]
        },
        {
          "output_type": "stream",
          "name": "stdout",
          "text": [
            "Epoch 1/5\n"
          ]
        },
        {
          "output_type": "stream",
          "name": "stderr",
          "text": [
            "WARNING:tensorflow:Model was constructed with shape (None, None, 10) for input KerasTensor(type_spec=TensorSpec(shape=(None, None, 10), dtype=tf.float32, name='input_359'), name='input_359', description=\"created by layer 'input_359'\"), but it was called on an input with incompatible shape (None, 10).\n",
            "WARNING:tensorflow:Model was constructed with shape (None, None, 10) for input KerasTensor(type_spec=TensorSpec(shape=(None, None, 10), dtype=tf.float32, name='input_359'), name='input_359', description=\"created by layer 'input_359'\"), but it was called on an input with incompatible shape (None, 10).\n"
          ]
        },
        {
          "output_type": "stream",
          "name": "stdout",
          "text": [
            "699/704 [============================>.] - ETA: 0s - loss: 0.2199 - mean_squared_error: 0.2199"
          ]
        },
        {
          "output_type": "stream",
          "name": "stderr",
          "text": [
            "WARNING:tensorflow:Model was constructed with shape (None, None, 10) for input KerasTensor(type_spec=TensorSpec(shape=(None, None, 10), dtype=tf.float32, name='input_359'), name='input_359', description=\"created by layer 'input_359'\"), but it was called on an input with incompatible shape (None, 10).\n"
          ]
        },
        {
          "output_type": "stream",
          "name": "stdout",
          "text": [
            "\b\b\b\b\b\b\b\b\b\b\b\b\b\b\b\b\b\b\b\b\b\b\b\b\b\b\b\b\b\b\b\b\b\b\b\b\b\b\b\b\b\b\b\b\b\b\b\b\b\b\b\b\b\b\b\b\b\b\b\b\b\b\b\b\b\b\b\b\b\b\b\b\b\b\b\b\b\b\b\b\b\b\b\b\b\b\b\b\b\b\b\b\b\b\r704/704 [==============================] - 5s 6ms/step - loss: 0.2197 - mean_squared_error: 0.2197 - val_loss: 0.1773 - val_mean_squared_error: 0.1773\n",
            "Epoch 2/5\n",
            "704/704 [==============================] - 2s 4ms/step - loss: 0.1499 - mean_squared_error: 0.1499 - val_loss: 0.1242 - val_mean_squared_error: 0.1242\n",
            "Epoch 3/5\n",
            "704/704 [==============================] - 2s 3ms/step - loss: 0.1062 - mean_squared_error: 0.1062 - val_loss: 0.0890 - val_mean_squared_error: 0.0890\n",
            "Epoch 4/5\n",
            "704/704 [==============================] - 2s 3ms/step - loss: 0.0771 - mean_squared_error: 0.0771 - val_loss: 0.0654 - val_mean_squared_error: 0.0654\n",
            "Epoch 5/5\n",
            "704/704 [==============================] - 2s 3ms/step - loss: 0.0575 - mean_squared_error: 0.0575 - val_loss: 0.0497 - val_mean_squared_error: 0.0497\n"
          ]
        },
        {
          "output_type": "stream",
          "name": "stderr",
          "text": [
            "WARNING:tensorflow:Model was constructed with shape (None, None, 10) for input KerasTensor(type_spec=TensorSpec(shape=(None, None, 10), dtype=tf.float32, name='input_359'), name='input_359', description=\"created by layer 'input_359'\"), but it was called on an input with incompatible shape (None, 10).\n"
          ]
        },
        {
          "output_type": "stream",
          "name": "stdout",
          "text": [
            "Epoch 1/5\n"
          ]
        },
        {
          "output_type": "stream",
          "name": "stderr",
          "text": [
            "WARNING:tensorflow:Model was constructed with shape (None, None, 10) for input KerasTensor(type_spec=TensorSpec(shape=(None, None, 10), dtype=tf.float32, name='input_362'), name='input_362', description=\"created by layer 'input_362'\"), but it was called on an input with incompatible shape (None, 10).\n",
            "WARNING:tensorflow:Model was constructed with shape (None, None, 10) for input KerasTensor(type_spec=TensorSpec(shape=(None, None, 10), dtype=tf.float32, name='input_362'), name='input_362', description=\"created by layer 'input_362'\"), but it was called on an input with incompatible shape (None, 10).\n"
          ]
        },
        {
          "output_type": "stream",
          "name": "stdout",
          "text": [
            "694/704 [============================>.] - ETA: 0s - loss: 0.2129 - mean_squared_error: 0.2129"
          ]
        },
        {
          "output_type": "stream",
          "name": "stderr",
          "text": [
            "WARNING:tensorflow:Model was constructed with shape (None, None, 10) for input KerasTensor(type_spec=TensorSpec(shape=(None, None, 10), dtype=tf.float32, name='input_362'), name='input_362', description=\"created by layer 'input_362'\"), but it was called on an input with incompatible shape (None, 10).\n"
          ]
        },
        {
          "output_type": "stream",
          "name": "stdout",
          "text": [
            "\b\b\b\b\b\b\b\b\b\b\b\b\b\b\b\b\b\b\b\b\b\b\b\b\b\b\b\b\b\b\b\b\b\b\b\b\b\b\b\b\b\b\b\b\b\b\b\b\b\b\b\b\b\b\b\b\b\b\b\b\b\b\b\b\b\b\b\b\b\b\b\b\b\b\b\b\b\b\b\b\b\b\b\b\b\b\b\b\b\b\b\b\b\b\r704/704 [==============================] - 5s 6ms/step - loss: 0.2123 - mean_squared_error: 0.2123 - val_loss: 0.1687 - val_mean_squared_error: 0.1687\n",
            "Epoch 2/5\n",
            "704/704 [==============================] - 2s 3ms/step - loss: 0.1410 - mean_squared_error: 0.1410 - val_loss: 0.1157 - val_mean_squared_error: 0.1157\n",
            "Epoch 3/5\n",
            "704/704 [==============================] - 2s 3ms/step - loss: 0.0982 - mean_squared_error: 0.0982 - val_loss: 0.0816 - val_mean_squared_error: 0.0816\n",
            "Epoch 4/5\n",
            "704/704 [==============================] - 2s 3ms/step - loss: 0.0704 - mean_squared_error: 0.0704 - val_loss: 0.0594 - val_mean_squared_error: 0.0594\n",
            "Epoch 5/5\n",
            "704/704 [==============================] - 2s 3ms/step - loss: 0.0522 - mean_squared_error: 0.0522 - val_loss: 0.0450 - val_mean_squared_error: 0.0450\n"
          ]
        },
        {
          "output_type": "stream",
          "name": "stderr",
          "text": [
            "WARNING:tensorflow:Model was constructed with shape (None, None, 10) for input KerasTensor(type_spec=TensorSpec(shape=(None, None, 10), dtype=tf.float32, name='input_362'), name='input_362', description=\"created by layer 'input_362'\"), but it was called on an input with incompatible shape (None, 10).\n"
          ]
        },
        {
          "output_type": "stream",
          "name": "stdout",
          "text": [
            "Epoch 1/5\n"
          ]
        },
        {
          "output_type": "stream",
          "name": "stderr",
          "text": [
            "WARNING:tensorflow:Model was constructed with shape (None, None, 10) for input KerasTensor(type_spec=TensorSpec(shape=(None, None, 10), dtype=tf.float32, name='input_365'), name='input_365', description=\"created by layer 'input_365'\"), but it was called on an input with incompatible shape (None, 10).\n",
            "WARNING:tensorflow:Model was constructed with shape (None, None, 10) for input KerasTensor(type_spec=TensorSpec(shape=(None, None, 10), dtype=tf.float32, name='input_365'), name='input_365', description=\"created by layer 'input_365'\"), but it was called on an input with incompatible shape (None, 10).\n"
          ]
        },
        {
          "output_type": "stream",
          "name": "stdout",
          "text": [
            "704/704 [==============================] - ETA: 0s - loss: 0.2064 - mean_squared_error: 0.2064"
          ]
        },
        {
          "output_type": "stream",
          "name": "stderr",
          "text": [
            "WARNING:tensorflow:Model was constructed with shape (None, None, 10) for input KerasTensor(type_spec=TensorSpec(shape=(None, None, 10), dtype=tf.float32, name='input_365'), name='input_365', description=\"created by layer 'input_365'\"), but it was called on an input with incompatible shape (None, 10).\n"
          ]
        },
        {
          "output_type": "stream",
          "name": "stdout",
          "text": [
            "\b\b\b\b\b\b\b\b\b\b\b\b\b\b\b\b\b\b\b\b\b\b\b\b\b\b\b\b\b\b\b\b\b\b\b\b\b\b\b\b\b\b\b\b\b\b\b\b\b\b\b\b\b\b\b\b\b\b\b\b\b\b\b\b\b\b\b\b\b\b\b\b\b\b\b\b\b\b\b\b\b\b\b\b\b\b\b\b\b\b\b\b\b\b\r704/704 [==============================] - 5s 5ms/step - loss: 0.2064 - mean_squared_error: 0.2064 - val_loss: 0.1603 - val_mean_squared_error: 0.1603\n",
            "Epoch 2/5\n",
            "704/704 [==============================] - 2s 3ms/step - loss: 0.1319 - mean_squared_error: 0.1319 - val_loss: 0.1062 - val_mean_squared_error: 0.1062\n",
            "Epoch 3/5\n",
            "704/704 [==============================] - 3s 4ms/step - loss: 0.0891 - mean_squared_error: 0.0891 - val_loss: 0.0730 - val_mean_squared_error: 0.0730\n",
            "Epoch 4/5\n",
            "704/704 [==============================] - 3s 4ms/step - loss: 0.0624 - mean_squared_error: 0.0624 - val_loss: 0.0522 - val_mean_squared_error: 0.0522\n",
            "Epoch 5/5\n",
            "704/704 [==============================] - 3s 4ms/step - loss: 0.0457 - mean_squared_error: 0.0457 - val_loss: 0.0393 - val_mean_squared_error: 0.0393\n"
          ]
        },
        {
          "output_type": "stream",
          "name": "stderr",
          "text": [
            "WARNING:tensorflow:Model was constructed with shape (None, None, 10) for input KerasTensor(type_spec=TensorSpec(shape=(None, None, 10), dtype=tf.float32, name='input_365'), name='input_365', description=\"created by layer 'input_365'\"), but it was called on an input with incompatible shape (None, 10).\n"
          ]
        },
        {
          "output_type": "stream",
          "name": "stdout",
          "text": [
            "Epoch 1/5\n"
          ]
        },
        {
          "output_type": "stream",
          "name": "stderr",
          "text": [
            "WARNING:tensorflow:Model was constructed with shape (None, None, 10) for input KerasTensor(type_spec=TensorSpec(shape=(None, None, 10), dtype=tf.float32, name='input_368'), name='input_368', description=\"created by layer 'input_368'\"), but it was called on an input with incompatible shape (None, 10).\n",
            "WARNING:tensorflow:Model was constructed with shape (None, None, 10) for input KerasTensor(type_spec=TensorSpec(shape=(None, None, 10), dtype=tf.float32, name='input_368'), name='input_368', description=\"created by layer 'input_368'\"), but it was called on an input with incompatible shape (None, 10).\n"
          ]
        },
        {
          "output_type": "stream",
          "name": "stdout",
          "text": [
            "704/704 [==============================] - ETA: 0s - loss: 0.2117 - mean_squared_error: 0.2117"
          ]
        },
        {
          "output_type": "stream",
          "name": "stderr",
          "text": [
            "WARNING:tensorflow:Model was constructed with shape (None, None, 10) for input KerasTensor(type_spec=TensorSpec(shape=(None, None, 10), dtype=tf.float32, name='input_368'), name='input_368', description=\"created by layer 'input_368'\"), but it was called on an input with incompatible shape (None, 10).\n"
          ]
        },
        {
          "output_type": "stream",
          "name": "stdout",
          "text": [
            "\b\b\b\b\b\b\b\b\b\b\b\b\b\b\b\b\b\b\b\b\b\b\b\b\b\b\b\b\b\b\b\b\b\b\b\b\b\b\b\b\b\b\b\b\b\b\b\b\b\b\b\b\b\b\b\b\b\b\b\b\b\b\b\b\b\b\b\b\b\b\b\b\b\b\b\b\b\b\b\b\b\b\b\b\b\b\b\b\b\b\b\b\b\b\r704/704 [==============================] - 3s 4ms/step - loss: 0.2117 - mean_squared_error: 0.2117 - val_loss: 0.1633 - val_mean_squared_error: 0.1633\n",
            "Epoch 2/5\n",
            "704/704 [==============================] - 3s 4ms/step - loss: 0.1336 - mean_squared_error: 0.1336 - val_loss: 0.1069 - val_mean_squared_error: 0.1069\n",
            "Epoch 3/5\n",
            "704/704 [==============================] - 4s 6ms/step - loss: 0.0889 - mean_squared_error: 0.0889 - val_loss: 0.0723 - val_mean_squared_error: 0.0723\n",
            "Epoch 4/5\n",
            "704/704 [==============================] - 2s 3ms/step - loss: 0.0613 - mean_squared_error: 0.0613 - val_loss: 0.0511 - val_mean_squared_error: 0.0511\n",
            "Epoch 5/5\n",
            "704/704 [==============================] - 2s 3ms/step - loss: 0.0445 - mean_squared_error: 0.0445 - val_loss: 0.0382 - val_mean_squared_error: 0.0382\n"
          ]
        },
        {
          "output_type": "stream",
          "name": "stderr",
          "text": [
            "WARNING:tensorflow:Model was constructed with shape (None, None, 10) for input KerasTensor(type_spec=TensorSpec(shape=(None, None, 10), dtype=tf.float32, name='input_368'), name='input_368', description=\"created by layer 'input_368'\"), but it was called on an input with incompatible shape (None, 10).\n"
          ]
        },
        {
          "output_type": "stream",
          "name": "stdout",
          "text": [
            "Epoch 1/5\n"
          ]
        },
        {
          "output_type": "stream",
          "name": "stderr",
          "text": [
            "WARNING:tensorflow:Model was constructed with shape (None, None, 10) for input KerasTensor(type_spec=TensorSpec(shape=(None, None, 10), dtype=tf.float32, name='input_371'), name='input_371', description=\"created by layer 'input_371'\"), but it was called on an input with incompatible shape (None, 10).\n",
            "WARNING:tensorflow:Model was constructed with shape (None, None, 10) for input KerasTensor(type_spec=TensorSpec(shape=(None, None, 10), dtype=tf.float32, name='input_371'), name='input_371', description=\"created by layer 'input_371'\"), but it was called on an input with incompatible shape (None, 10).\n"
          ]
        },
        {
          "output_type": "stream",
          "name": "stdout",
          "text": [
            "698/704 [============================>.] - ETA: 0s - loss: 0.1934 - mean_squared_error: 0.1934"
          ]
        },
        {
          "output_type": "stream",
          "name": "stderr",
          "text": [
            "WARNING:tensorflow:Model was constructed with shape (None, None, 10) for input KerasTensor(type_spec=TensorSpec(shape=(None, None, 10), dtype=tf.float32, name='input_371'), name='input_371', description=\"created by layer 'input_371'\"), but it was called on an input with incompatible shape (None, 10).\n"
          ]
        },
        {
          "output_type": "stream",
          "name": "stdout",
          "text": [
            "\b\b\b\b\b\b\b\b\b\b\b\b\b\b\b\b\b\b\b\b\b\b\b\b\b\b\b\b\b\b\b\b\b\b\b\b\b\b\b\b\b\b\b\b\b\b\b\b\b\b\b\b\b\b\b\b\b\b\b\b\b\b\b\b\b\b\b\b\b\b\b\b\b\b\b\b\b\b\b\b\b\b\b\b\b\b\b\b\b\b\b\b\b\b\r704/704 [==============================] - 3s 4ms/step - loss: 0.1930 - mean_squared_error: 0.1930 - val_loss: 0.1457 - val_mean_squared_error: 0.1457\n",
            "Epoch 2/5\n",
            "704/704 [==============================] - 3s 5ms/step - loss: 0.1166 - mean_squared_error: 0.1166 - val_loss: 0.0913 - val_mean_squared_error: 0.0913\n",
            "Epoch 3/5\n",
            "704/704 [==============================] - 3s 5ms/step - loss: 0.0754 - mean_squared_error: 0.0754 - val_loss: 0.0610 - val_mean_squared_error: 0.0610\n",
            "Epoch 4/5\n",
            "704/704 [==============================] - 3s 4ms/step - loss: 0.0519 - mean_squared_error: 0.0519 - val_loss: 0.0433 - val_mean_squared_error: 0.0433\n",
            "Epoch 5/5\n",
            "704/704 [==============================] - 3s 4ms/step - loss: 0.0381 - mean_squared_error: 0.0381 - val_loss: 0.0330 - val_mean_squared_error: 0.0330\n"
          ]
        },
        {
          "output_type": "stream",
          "name": "stderr",
          "text": [
            "WARNING:tensorflow:Model was constructed with shape (None, None, 10) for input KerasTensor(type_spec=TensorSpec(shape=(None, None, 10), dtype=tf.float32, name='input_371'), name='input_371', description=\"created by layer 'input_371'\"), but it was called on an input with incompatible shape (None, 10).\n"
          ]
        },
        {
          "output_type": "stream",
          "name": "stdout",
          "text": [
            "Epoch 1/5\n"
          ]
        },
        {
          "output_type": "stream",
          "name": "stderr",
          "text": [
            "WARNING:tensorflow:Model was constructed with shape (None, None, 10) for input KerasTensor(type_spec=TensorSpec(shape=(None, None, 10), dtype=tf.float32, name='input_374'), name='input_374', description=\"created by layer 'input_374'\"), but it was called on an input with incompatible shape (None, 10).\n",
            "WARNING:tensorflow:Model was constructed with shape (None, None, 10) for input KerasTensor(type_spec=TensorSpec(shape=(None, None, 10), dtype=tf.float32, name='input_374'), name='input_374', description=\"created by layer 'input_374'\"), but it was called on an input with incompatible shape (None, 10).\n"
          ]
        },
        {
          "output_type": "stream",
          "name": "stdout",
          "text": [
            "703/704 [============================>.] - ETA: 0s - loss: 0.2190 - mean_squared_error: 0.2190"
          ]
        },
        {
          "output_type": "stream",
          "name": "stderr",
          "text": [
            "WARNING:tensorflow:Model was constructed with shape (None, None, 10) for input KerasTensor(type_spec=TensorSpec(shape=(None, None, 10), dtype=tf.float32, name='input_374'), name='input_374', description=\"created by layer 'input_374'\"), but it was called on an input with incompatible shape (None, 10).\n"
          ]
        },
        {
          "output_type": "stream",
          "name": "stdout",
          "text": [
            "\b\b\b\b\b\b\b\b\b\b\b\b\b\b\b\b\b\b\b\b\b\b\b\b\b\b\b\b\b\b\b\b\b\b\b\b\b\b\b\b\b\b\b\b\b\b\b\b\b\b\b\b\b\b\b\b\b\b\b\b\b\b\b\b\b\b\b\b\b\b\b\b\b\b\b\b\b\b\b\b\b\b\b\b\b\b\b\b\b\b\b\b\b\b\r704/704 [==============================] - 4s 4ms/step - loss: 0.2190 - mean_squared_error: 0.2190 - val_loss: 0.1749 - val_mean_squared_error: 0.1749\n",
            "Epoch 2/5\n",
            "704/704 [==============================] - 3s 4ms/step - loss: 0.1452 - mean_squared_error: 0.1452 - val_loss: 0.1183 - val_mean_squared_error: 0.1183\n",
            "Epoch 3/5\n",
            "704/704 [==============================] - 3s 4ms/step - loss: 0.1003 - mean_squared_error: 0.1003 - val_loss: 0.0833 - val_mean_squared_error: 0.0833\n",
            "Epoch 4/5\n",
            "704/704 [==============================] - 4s 5ms/step - loss: 0.0717 - mean_squared_error: 0.0717 - val_loss: 0.0605 - val_mean_squared_error: 0.0605\n",
            "Epoch 5/5\n",
            "704/704 [==============================] - 3s 4ms/step - loss: 0.0531 - mean_squared_error: 0.0531 - val_loss: 0.0457 - val_mean_squared_error: 0.0457\n"
          ]
        },
        {
          "output_type": "stream",
          "name": "stderr",
          "text": [
            "WARNING:tensorflow:Model was constructed with shape (None, None, 10) for input KerasTensor(type_spec=TensorSpec(shape=(None, None, 10), dtype=tf.float32, name='input_374'), name='input_374', description=\"created by layer 'input_374'\"), but it was called on an input with incompatible shape (None, 10).\n"
          ]
        },
        {
          "output_type": "stream",
          "name": "stdout",
          "text": [
            "Epoch 1/5\n"
          ]
        },
        {
          "output_type": "stream",
          "name": "stderr",
          "text": [
            "WARNING:tensorflow:Model was constructed with shape (None, None, 10) for input KerasTensor(type_spec=TensorSpec(shape=(None, None, 10), dtype=tf.float32, name='input_377'), name='input_377', description=\"created by layer 'input_377'\"), but it was called on an input with incompatible shape (None, 10).\n",
            "WARNING:tensorflow:Model was constructed with shape (None, None, 10) for input KerasTensor(type_spec=TensorSpec(shape=(None, None, 10), dtype=tf.float32, name='input_377'), name='input_377', description=\"created by layer 'input_377'\"), but it was called on an input with incompatible shape (None, 10).\n"
          ]
        },
        {
          "output_type": "stream",
          "name": "stdout",
          "text": [
            "699/704 [============================>.] - ETA: 0s - loss: 0.2306 - mean_squared_error: 0.2306"
          ]
        },
        {
          "output_type": "stream",
          "name": "stderr",
          "text": [
            "WARNING:tensorflow:Model was constructed with shape (None, None, 10) for input KerasTensor(type_spec=TensorSpec(shape=(None, None, 10), dtype=tf.float32, name='input_377'), name='input_377', description=\"created by layer 'input_377'\"), but it was called on an input with incompatible shape (None, 10).\n"
          ]
        },
        {
          "output_type": "stream",
          "name": "stdout",
          "text": [
            "\b\b\b\b\b\b\b\b\b\b\b\b\b\b\b\b\b\b\b\b\b\b\b\b\b\b\b\b\b\b\b\b\b\b\b\b\b\b\b\b\b\b\b\b\b\b\b\b\b\b\b\b\b\b\b\b\b\b\b\b\b\b\b\b\b\b\b\b\b\b\b\b\b\b\b\b\b\b\b\b\b\b\b\b\b\b\b\b\b\b\b\b\b\b\r704/704 [==============================] - 3s 4ms/step - loss: 0.2304 - mean_squared_error: 0.2304 - val_loss: 0.1850 - val_mean_squared_error: 0.1850\n",
            "Epoch 2/5\n",
            "704/704 [==============================] - 3s 4ms/step - loss: 0.1555 - mean_squared_error: 0.1555 - val_loss: 0.1285 - val_mean_squared_error: 0.1285\n",
            "Epoch 3/5\n",
            "704/704 [==============================] - 3s 4ms/step - loss: 0.1100 - mean_squared_error: 0.1100 - val_loss: 0.0925 - val_mean_squared_error: 0.0925\n",
            "Epoch 4/5\n",
            "704/704 [==============================] - 4s 5ms/step - loss: 0.0803 - mean_squared_error: 0.0803 - val_loss: 0.0683 - val_mean_squared_error: 0.0683\n",
            "Epoch 5/5\n",
            "704/704 [==============================] - 3s 4ms/step - loss: 0.0603 - mean_squared_error: 0.0603 - val_loss: 0.0521 - val_mean_squared_error: 0.0521\n"
          ]
        },
        {
          "output_type": "stream",
          "name": "stderr",
          "text": [
            "WARNING:tensorflow:Model was constructed with shape (None, None, 10) for input KerasTensor(type_spec=TensorSpec(shape=(None, None, 10), dtype=tf.float32, name='input_377'), name='input_377', description=\"created by layer 'input_377'\"), but it was called on an input with incompatible shape (None, 10).\n"
          ]
        },
        {
          "output_type": "stream",
          "name": "stdout",
          "text": [
            "Epoch 1/5\n"
          ]
        },
        {
          "output_type": "stream",
          "name": "stderr",
          "text": [
            "WARNING:tensorflow:Model was constructed with shape (None, None, 10) for input KerasTensor(type_spec=TensorSpec(shape=(None, None, 10), dtype=tf.float32, name='input_380'), name='input_380', description=\"created by layer 'input_380'\"), but it was called on an input with incompatible shape (None, 10).\n",
            "WARNING:tensorflow:Model was constructed with shape (None, None, 10) for input KerasTensor(type_spec=TensorSpec(shape=(None, None, 10), dtype=tf.float32, name='input_380'), name='input_380', description=\"created by layer 'input_380'\"), but it was called on an input with incompatible shape (None, 10).\n"
          ]
        },
        {
          "output_type": "stream",
          "name": "stdout",
          "text": [
            "693/704 [============================>.] - ETA: 0s - loss: 0.2254 - mean_squared_error: 0.2254"
          ]
        },
        {
          "output_type": "stream",
          "name": "stderr",
          "text": [
            "WARNING:tensorflow:Model was constructed with shape (None, None, 10) for input KerasTensor(type_spec=TensorSpec(shape=(None, None, 10), dtype=tf.float32, name='input_380'), name='input_380', description=\"created by layer 'input_380'\"), but it was called on an input with incompatible shape (None, 10).\n"
          ]
        },
        {
          "output_type": "stream",
          "name": "stdout",
          "text": [
            "\b\b\b\b\b\b\b\b\b\b\b\b\b\b\b\b\b\b\b\b\b\b\b\b\b\b\b\b\b\b\b\b\b\b\b\b\b\b\b\b\b\b\b\b\b\b\b\b\b\b\b\b\b\b\b\b\b\b\b\b\b\b\b\b\b\b\b\b\b\b\b\b\b\b\b\b\b\b\b\b\b\b\b\b\b\b\b\b\b\b\b\b\b\b\r704/704 [==============================] - 4s 4ms/step - loss: 0.2248 - mean_squared_error: 0.2248 - val_loss: 0.1793 - val_mean_squared_error: 0.1793\n",
            "Epoch 2/5\n",
            "704/704 [==============================] - 3s 4ms/step - loss: 0.1499 - mean_squared_error: 0.1499 - val_loss: 0.1235 - val_mean_squared_error: 0.1235\n",
            "Epoch 3/5\n",
            "704/704 [==============================] - 4s 5ms/step - loss: 0.1053 - mean_squared_error: 0.1053 - val_loss: 0.0880 - val_mean_squared_error: 0.0880\n",
            "Epoch 4/5\n",
            "704/704 [==============================] - 3s 5ms/step - loss: 0.0761 - mean_squared_error: 0.0761 - val_loss: 0.0645 - val_mean_squared_error: 0.0645\n",
            "Epoch 5/5\n",
            "704/704 [==============================] - 3s 4ms/step - loss: 0.0567 - mean_squared_error: 0.0567 - val_loss: 0.0489 - val_mean_squared_error: 0.0489\n"
          ]
        },
        {
          "output_type": "stream",
          "name": "stderr",
          "text": [
            "WARNING:tensorflow:Model was constructed with shape (None, None, 10) for input KerasTensor(type_spec=TensorSpec(shape=(None, None, 10), dtype=tf.float32, name='input_380'), name='input_380', description=\"created by layer 'input_380'\"), but it was called on an input with incompatible shape (None, 10).\n"
          ]
        }
      ],
      "source": [
        "# The overall model is redefined and the function output is redefined to be the compiled model (wrt lat_dim)\n",
        "def phi(lat_dim):\n",
        "  input_layer = tf.keras.Input(shape=(10,))\n",
        "  layer_one = tf.keras.layers.Dense(100, activation=\"relu\")(input_layer)\n",
        "  output = tf.keras.layers.Dense(lat_dim, activation=\"softmax\")(layer_one)\n",
        "  return tf.keras.Model(inputs=input_layer, outputs=output)\n",
        "  \n",
        "def rho(lat_dim):\n",
        "  input = tf.keras.Input(shape=(lat_dim,))\n",
        "  layer_one = tf.keras.layers.Dense(100, activation=\"relu\")(input)\n",
        "  output = tf.keras.layers.Dense(1, activation=\"linear\")(layer_one)\n",
        "  return tf.keras.Model(inputs=input, outputs=output)\n",
        "\n",
        "def create_model(lat_dim):\n",
        "    input_layer = tf.keras.Input(shape=(None, 10))\n",
        "    reshaped_input = tf.keras.layers.Reshape((1, 10))(input_layer)\n",
        "    phi_layer = tf.keras.layers.TimeDistributed(phi(lat_dim))(reshaped_input)\n",
        "    phi_sum_layer = tf.keras.layers.Lambda(lambda x: tf.reduce_sum(x, axis=1))(phi_layer)\n",
        "    rho_layer = rho(lat_dim)(phi_sum_layer)\n",
        "    model = tf.keras.Model(inputs=input_layer, outputs=rho_layer) \n",
        "    optimiser = tf.optimizers.SGD(learning_rate=l_rate)\n",
        "\n",
        "    model.compile(optimizer=optimiser, loss='mse', metrics=[tf.keras.metrics.MeanSquaredError()])\n",
        "    return model\n",
        "\n",
        "# Variables are defined\n",
        "lat_dims = [1,2,5,10,20,30,50,80,90,100]\n",
        "l_rate = 0.0001\n",
        "batch_size = 128\n",
        "val_split = 0.1\n",
        "tr_runs = 5\n",
        "no_epochs = 5\n",
        "\n",
        "# Array created to hold mean MSE values\n",
        "mse_overall = []\n",
        "\n",
        "for lat_dim in lat_dims: \n",
        "  # Array created for each value of lat_dim to hold test MSE of best model chosen for that value of lat_dim\n",
        "  mse_current = []\n",
        "  for i in range(tr_runs):\n",
        "    test_model = create_model(lat_dim)\n",
        "    history = test_model.fit(X_train,                          # training samples\n",
        "                    y_train,                                   # training labels\n",
        "                    epochs=no_epochs,                          # training steps (epochs)\n",
        "                    batch_size=batch_size,                     # how many data samples per training epoch\n",
        "                    validation_split=val_split,           \n",
        "                    callbacks=[tf.keras.callbacks.ModelCheckpoint(filepath=\"best_model.h5\",   \n",
        "                                                                    save_best_only=True)])\n",
        "    # The ModelCheckpoint callback method is used to save the best model, \n",
        "    # according to minimum validation loss, within these 5 epochs\n",
        "    # 'save_best_only' ensure only this best model is saved\n",
        "\n",
        "    # Loads the model saved during model fitting\n",
        "    best_model = tf.keras.models.load_model(\"best_model.h5\") \n",
        "\n",
        "    # Evaluated models on test data and adds MSE to the array for current value of lat_dim\n",
        "    test_scores = best_model.evaluate(X_test, y_test, batch_size=batch_size, verbose=0)\n",
        "    mse_current.append(test_scores[0])\n",
        "\n",
        "\n",
        "  # Computes the average test MSE over every run and adds it to overall MSE array\n",
        "  mse_mean = np.mean(mse_current)\n",
        "  mse_overall.append(mse_mean)\n"
      ]
    },
    {
      "cell_type": "code",
      "execution_count": 194,
      "metadata": {
        "colab": {
          "base_uri": "https://localhost:8080/",
          "height": 295
        },
        "id": "qigJTwbze9R9",
        "outputId": "5b4447df-d561-421a-d818-d6b22e956b4a"
      },
      "outputs": [
        {
          "output_type": "display_data",
          "data": {
            "text/plain": [
              "<Figure size 432x288 with 1 Axes>"
            ],
            "image/png": "[encoded data removed]"
          },
          "metadata": {
            "needs_background": "light"
          }
        }
      ],
      "source": [
        "# Plots the mean MSE against the values of Latent Dimension\n",
        "plt.plot(lat_dims, mse_overall)\n",
        "plt.title(\"Mean Test MSE vs Latent Dimension\")\n",
        "plt.xlabel(\"Latent Dimension\")\n",
        "plt.ylabel(\"Mean Test MSE\")\n",
        "plt.show()"
      ]
    },
    {
      "cell_type": "markdown",
      "source": [
        "The plot of average MSE vs. latent dimensionality shows a positive correlation, i.e. MSE increases as the number of latent dimensions increase. The increase in MSE appears to be almost logarithmic, growing rapidly first and then beginning to plateau. This is quite a surprising finding as it seems to imply that the optimal number of latent dimensions is in fact one.\n",
        "\n",
        "However, it is not ideal to choose the 'best model' through simply looking at the lowest validation loss over only 5 epochs, as it is likely there is still further fitting needed over a larger number of epochs. Therefore, this finding must be taken with a pinch of salt.\n"
      ],
      "metadata": {
        "id": "KBGmOV0Ecb5_"
      }
    },
    {
      "cell_type": "markdown",
      "metadata": {
        "id": "oAdZfGQRm4Hg"
      },
      "source": [
        "**P2.1**\n",
        "\n",
        "A neural network architecture is now created to learn a permutation-equivariant function."
      ]
    },
    {
      "cell_type": "code",
      "execution_count": 204,
      "metadata": {
        "id": "7NcE_QCAnG3z",
        "colab": {
          "base_uri": "https://localhost:8080/"
        },
        "outputId": "b91d1fa0-d083-4bae-a3dc-f36373bc25e5"
      },
      "outputs": [
        {
          "output_type": "stream",
          "name": "stdout",
          "text": [
            "Drive already mounted at /content/drive; to attempt to forcibly remount, call drive.mount(\"/content/drive\", force_remount=True).\n"
          ]
        }
      ],
      "source": [
        "# Data is loaded into the environment\n",
        "from google.colab import drive\n",
        "drive.mount('/content/drive')\n",
        "\n",
        "X_train1 = pd.read_csv('/content/drive/MyDrive/xtrain-2.csv')\n",
        "y_train1 = pd.read_csv('/content/drive/MyDrive/ytrain-2.csv')\n",
        "\n",
        "X_test1 = pd.read_csv('/content/drive/MyDrive/xtest-2.csv')\n",
        "y_test1 = pd.read_csv('/content/drive/MyDrive/ytest-2.csv')"
      ]
    },
    {
      "cell_type": "code",
      "execution_count": 205,
      "metadata": {
        "colab": {
          "base_uri": "https://localhost:8080/"
        },
        "id": "-LWJwKj6691E",
        "outputId": "65c9b4e6-285f-4f47-a835-f53ab6c3bd05"
      },
      "outputs": [
        {
          "output_type": "execute_result",
          "data": {
            "text/plain": [
              "(200000, 5)"
            ]
          },
          "metadata": {},
          "execution_count": 205
        }
      ],
      "source": [
        "# Redundant columns are removed from the data\n",
        "y_train = y_train1.iloc[: , 1:]\n",
        "y_test = y_test1.iloc[: , 1:]\n",
        "X_train = X_train1.iloc[: , 1:]\n",
        "X_test = X_test1.iloc[: , 1:]\n",
        "y_train.shape"
      ]
    },
    {
      "cell_type": "code",
      "execution_count": 201,
      "metadata": {
        "id": "52w4Z_4Yp-nD"
      },
      "outputs": [],
      "source": [
        "# Variables are defined\n",
        "L = 2\n",
        "w = 5\n",
        "m = 5\n",
        "d = 3\n",
        "\n",
        "# Function that creates permutation-equivariant architecture, taking parameters \n",
        "# L and w as input\n",
        "def perm_equi(L,w): \n",
        "\n",
        "  input_layer1 = tf.keras.layers.Input(shape=m*d)\n",
        "  previous_layer = input_layer1\n",
        "\n",
        "  # Loop is run L-1 times to create the L-1 inner layers\n",
        "  for i in range(L-1):\n",
        "    # Equivariant affine transformation applied to current equiv_layer \n",
        "    # Activation is clearly linear for this\n",
        "    equiv_layer = tf.keras.layers.Dense(m*w, activation='linear')(previous_layer)\n",
        "\n",
        "    # Layer is reshaped to have output shape (m,w)\n",
        "    equiv_layer = tf.keras.layers.Reshape((m,w))(equiv_layer)\n",
        "\n",
        "    # Relu activation is then applied to the layer\n",
        "    equiv_layer = tf.keras.layers.ReLU()(equiv_layer)\n",
        "\n",
        "    # Layer is flattened to return to dimension m*w = 15\n",
        "    equiv_layer = tf.keras.layers.Flatten()(equiv_layer)\n",
        "    previous_layer = equiv_layer\n",
        "\n",
        "  # Output has m=5 units \n",
        "  output_layer = tf.keras.layers.Dense(m, activation='linear')(previous_layer)\n",
        "  return tf.keras.Model(inputs = input_layer1, outputs=output_layer)\n"
      ]
    },
    {
      "cell_type": "code",
      "execution_count": 211,
      "metadata": {
        "id": "0UKuUj4Sn1Sk"
      },
      "outputs": [],
      "source": [
        "# Building model\n",
        "# Optimiser is Adam with learning rate (0.0001)\n",
        "l_rate = 0.0001\n",
        "epsilon = 0.001\n",
        "batch_size = 300\n",
        "val_split = 0.1\n",
        "no_epochs = 100\n",
        "\n",
        "optimiser = tf.optimizers.Adam(learning_rate=l_rate)\n",
        "model9 = perm_equi(2,5)\n",
        "\n",
        "model9.compile(optimizer=optimiser, loss='mse', metrics=[tf.keras.metrics.MeanSquaredError()])"
      ]
    },
    {
      "cell_type": "markdown",
      "source": [
        "**Implementation of this neural network architecture:**\n",
        "\n",
        "Firstly, the data is processed to move any redundant columns and all variables are defined. \n",
        "\n",
        "A function 'perm_equi' is defined, with inputs L and w, to simplify reacreating the model with varying L and w later on. \n",
        "\n",
        "Within the function, the input shape is defined as mxd = 15, and an input layer is defined. A for-loop is then run L-1 times to generate each equivariant inner layer. \n",
        "\n",
        "Within this loop, the equivariant affine transformation is firstly applied to the layer. The layer is then reshaped so that the output of the dense layer is a tensor with shape (m, w). This is necessary to treat each row as an mxw matrix. The Relu activation function is applied to this layer. The layer is then flattened, and the for loop passes on to the next iteration/layer.\n",
        "\n",
        "The Adam optimiser is created with learning rate 0.0001 and the model is compiled using MSE as the loss measure."
      ],
      "metadata": {
        "id": "5fqEoeSK25Zv"
      }
    },
    {
      "cell_type": "markdown",
      "metadata": {
        "id": "zS5Gwctv6O_X"
      },
      "source": [
        "**P2.2**\n",
        "\n",
        "The model is trained with (L, w) = (2, 5), (2,10), (2,100), (2,200), (3,5), (3,10), (3,100), and (3,200)."
      ]
    },
    {
      "cell_type": "code",
      "execution_count": 212,
      "metadata": {
        "colab": {
          "base_uri": "https://localhost:8080/"
        },
        "id": "pU_OKW_a6RWa",
        "outputId": "d7c43359-10f3-48a7-f31e-90791b9dffe4"
      },
      "outputs": [
        {
          "output_type": "stream",
          "name": "stdout",
          "text": [
            "Epoch 1/100\n",
            "600/600 [==============================] - 4s 4ms/step - loss: 0.5608 - mean_squared_error: 0.5608 - val_loss: 0.3647 - val_mean_squared_error: 0.3647\n",
            "Epoch 2/100\n",
            "600/600 [==============================] - 1s 2ms/step - loss: 0.2919 - mean_squared_error: 0.2919 - val_loss: 0.2423 - val_mean_squared_error: 0.2423\n",
            "Epoch 3/100\n",
            "600/600 [==============================] - 2s 3ms/step - loss: 0.2201 - mean_squared_error: 0.2201 - val_loss: 0.2030 - val_mean_squared_error: 0.2030\n",
            "Epoch 4/100\n",
            "600/600 [==============================] - 3s 5ms/step - loss: 0.1942 - mean_squared_error: 0.1942 - val_loss: 0.1867 - val_mean_squared_error: 0.1867\n",
            "Epoch 5/100\n",
            "600/600 [==============================] - 2s 3ms/step - loss: 0.1822 - mean_squared_error: 0.1822 - val_loss: 0.1780 - val_mean_squared_error: 0.1780\n",
            "Epoch 6/100\n",
            "600/600 [==============================] - 1s 2ms/step - loss: 0.1751 - mean_squared_error: 0.1751 - val_loss: 0.1726 - val_mean_squared_error: 0.1726\n",
            "Epoch 7/100\n",
            "600/600 [==============================] - 2s 4ms/step - loss: 0.1706 - mean_squared_error: 0.1706 - val_loss: 0.1690 - val_mean_squared_error: 0.1690\n",
            "Epoch 8/100\n",
            "600/600 [==============================] - 2s 4ms/step - loss: 0.1675 - mean_squared_error: 0.1675 - val_loss: 0.1665 - val_mean_squared_error: 0.1665\n",
            "Epoch 9/100\n",
            "600/600 [==============================] - 2s 3ms/step - loss: 0.1654 - mean_squared_error: 0.1654 - val_loss: 0.1648 - val_mean_squared_error: 0.1648\n",
            "Epoch 10/100\n",
            "600/600 [==============================] - 1s 2ms/step - loss: 0.1640 - mean_squared_error: 0.1640 - val_loss: 0.1636 - val_mean_squared_error: 0.1636\n",
            "Epoch 11/100\n",
            "600/600 [==============================] - 1s 2ms/step - loss: 0.1630 - mean_squared_error: 0.1630 - val_loss: 0.1627 - val_mean_squared_error: 0.1627\n",
            "Epoch 12/100\n",
            "600/600 [==============================] - 1s 2ms/step - loss: 0.1623 - mean_squared_error: 0.1623 - val_loss: 0.1622 - val_mean_squared_error: 0.1622\n",
            "Epoch 13/100\n",
            "600/600 [==============================] - 1s 2ms/step - loss: 0.1618 - mean_squared_error: 0.1618 - val_loss: 0.1618 - val_mean_squared_error: 0.1618\n",
            "Epoch 14/100\n",
            "600/600 [==============================] - 1s 2ms/step - loss: 0.1614 - mean_squared_error: 0.1614 - val_loss: 0.1614 - val_mean_squared_error: 0.1614\n",
            "Epoch 15/100\n",
            "600/600 [==============================] - 1s 2ms/step - loss: 0.1612 - mean_squared_error: 0.1612 - val_loss: 0.1612 - val_mean_squared_error: 0.1612\n",
            "Epoch 16/100\n",
            "600/600 [==============================] - 2s 4ms/step - loss: 0.1610 - mean_squared_error: 0.1610 - val_loss: 0.1610 - val_mean_squared_error: 0.1610\n",
            "Epoch 17/100\n",
            "600/600 [==============================] - 2s 4ms/step - loss: 0.1608 - mean_squared_error: 0.1608 - val_loss: 0.1609 - val_mean_squared_error: 0.1609\n",
            "Epoch 18/100\n",
            "600/600 [==============================] - 1s 2ms/step - loss: 0.1607 - mean_squared_error: 0.1607 - val_loss: 0.1608 - val_mean_squared_error: 0.1608\n",
            "Epoch 19/100\n",
            "600/600 [==============================] - 1s 2ms/step - loss: 0.1606 - mean_squared_error: 0.1606 - val_loss: 0.1607 - val_mean_squared_error: 0.1607\n",
            "Epoch 20/100\n",
            "600/600 [==============================] - 1s 2ms/step - loss: 0.1605 - mean_squared_error: 0.1605 - val_loss: 0.1606 - val_mean_squared_error: 0.1606\n",
            "Epoch 21/100\n",
            "600/600 [==============================] - 1s 2ms/step - loss: 0.1604 - mean_squared_error: 0.1604 - val_loss: 0.1606 - val_mean_squared_error: 0.1606\n",
            "Epoch 22/100\n",
            "600/600 [==============================] - 1s 2ms/step - loss: 0.1604 - mean_squared_error: 0.1604 - val_loss: 0.1605 - val_mean_squared_error: 0.1605\n",
            "Epoch 23/100\n",
            "600/600 [==============================] - 1s 2ms/step - loss: 0.1603 - mean_squared_error: 0.1603 - val_loss: 0.1605 - val_mean_squared_error: 0.1605\n",
            "Epoch 24/100\n",
            "600/600 [==============================] - 1s 2ms/step - loss: 0.1603 - mean_squared_error: 0.1603 - val_loss: 0.1604 - val_mean_squared_error: 0.1604\n",
            "Epoch 25/100\n",
            "600/600 [==============================] - 2s 4ms/step - loss: 0.1602 - mean_squared_error: 0.1602 - val_loss: 0.1604 - val_mean_squared_error: 0.1604\n",
            "Epoch 26/100\n",
            "600/600 [==============================] - 2s 4ms/step - loss: 0.1602 - mean_squared_error: 0.1602 - val_loss: 0.1603 - val_mean_squared_error: 0.1603\n",
            "Epoch 27/100\n",
            "600/600 [==============================] - 1s 2ms/step - loss: 0.1602 - mean_squared_error: 0.1602 - val_loss: 0.1603 - val_mean_squared_error: 0.1603\n",
            "Epoch 28/100\n",
            "600/600 [==============================] - 1s 2ms/step - loss: 0.1602 - mean_squared_error: 0.1602 - val_loss: 0.1603 - val_mean_squared_error: 0.1603\n",
            "Epoch 29/100\n",
            "600/600 [==============================] - 1s 2ms/step - loss: 0.1601 - mean_squared_error: 0.1601 - val_loss: 0.1603 - val_mean_squared_error: 0.1603\n",
            "Epoch 30/100\n",
            "600/600 [==============================] - 1s 2ms/step - loss: 0.1601 - mean_squared_error: 0.1601 - val_loss: 0.1603 - val_mean_squared_error: 0.1603\n",
            "Epoch 31/100\n",
            "600/600 [==============================] - 1s 2ms/step - loss: 0.1601 - mean_squared_error: 0.1601 - val_loss: 0.1603 - val_mean_squared_error: 0.1603\n",
            "Epoch 32/100\n",
            "600/600 [==============================] - 1s 2ms/step - loss: 0.1601 - mean_squared_error: 0.1601 - val_loss: 0.1603 - val_mean_squared_error: 0.1603\n",
            "Epoch 33/100\n",
            "600/600 [==============================] - 1s 2ms/step - loss: 0.1601 - mean_squared_error: 0.1601 - val_loss: 0.1602 - val_mean_squared_error: 0.1602\n",
            "Epoch 34/100\n",
            "600/600 [==============================] - 2s 3ms/step - loss: 0.1601 - mean_squared_error: 0.1601 - val_loss: 0.1602 - val_mean_squared_error: 0.1602\n",
            "Epoch 35/100\n",
            "600/600 [==============================] - 2s 4ms/step - loss: 0.1601 - mean_squared_error: 0.1601 - val_loss: 0.1602 - val_mean_squared_error: 0.1602\n",
            "Epoch 36/100\n",
            "600/600 [==============================] - 1s 2ms/step - loss: 0.1601 - mean_squared_error: 0.1601 - val_loss: 0.1602 - val_mean_squared_error: 0.1602\n",
            "Epoch 37/100\n",
            "600/600 [==============================] - 1s 2ms/step - loss: 0.1600 - mean_squared_error: 0.1600 - val_loss: 0.1602 - val_mean_squared_error: 0.1602\n",
            "Epoch 38/100\n",
            "600/600 [==============================] - 1s 2ms/step - loss: 0.1600 - mean_squared_error: 0.1600 - val_loss: 0.1602 - val_mean_squared_error: 0.1602\n",
            "Epoch 39/100\n",
            "600/600 [==============================] - 1s 2ms/step - loss: 0.1600 - mean_squared_error: 0.1600 - val_loss: 0.1602 - val_mean_squared_error: 0.1602\n",
            "Epoch 40/100\n",
            "600/600 [==============================] - 1s 2ms/step - loss: 0.1600 - mean_squared_error: 0.1600 - val_loss: 0.1602 - val_mean_squared_error: 0.1602\n",
            "Epoch 41/100\n",
            "600/600 [==============================] - 1s 2ms/step - loss: 0.1600 - mean_squared_error: 0.1600 - val_loss: 0.1602 - val_mean_squared_error: 0.1602\n",
            "Epoch 42/100\n",
            "600/600 [==============================] - 1s 2ms/step - loss: 0.1600 - mean_squared_error: 0.1600 - val_loss: 0.1602 - val_mean_squared_error: 0.1602\n",
            "Epoch 43/100\n",
            "600/600 [==============================] - 2s 3ms/step - loss: 0.1600 - mean_squared_error: 0.1600 - val_loss: 0.1602 - val_mean_squared_error: 0.1602\n",
            "Epoch 44/100\n",
            "600/600 [==============================] - 2s 4ms/step - loss: 0.1600 - mean_squared_error: 0.1600 - val_loss: 0.1602 - val_mean_squared_error: 0.1602\n",
            "Epoch 45/100\n",
            "600/600 [==============================] - 2s 3ms/step - loss: 0.1600 - mean_squared_error: 0.1600 - val_loss: 0.1601 - val_mean_squared_error: 0.1601\n",
            "Epoch 46/100\n",
            "600/600 [==============================] - 1s 2ms/step - loss: 0.1600 - mean_squared_error: 0.1600 - val_loss: 0.1602 - val_mean_squared_error: 0.1602\n",
            "Epoch 47/100\n",
            "600/600 [==============================] - 2s 3ms/step - loss: 0.1600 - mean_squared_error: 0.1600 - val_loss: 0.1602 - val_mean_squared_error: 0.1602\n",
            "Epoch 48/100\n",
            "600/600 [==============================] - 1s 2ms/step - loss: 0.1600 - mean_squared_error: 0.1600 - val_loss: 0.1602 - val_mean_squared_error: 0.1602\n",
            "Epoch 49/100\n",
            "600/600 [==============================] - 1s 2ms/step - loss: 0.1600 - mean_squared_error: 0.1600 - val_loss: 0.1602 - val_mean_squared_error: 0.1602\n",
            "Epoch 50/100\n",
            "600/600 [==============================] - 1s 2ms/step - loss: 0.1600 - mean_squared_error: 0.1600 - val_loss: 0.1601 - val_mean_squared_error: 0.1601\n",
            "Epoch 51/100\n",
            "600/600 [==============================] - 1s 2ms/step - loss: 0.1600 - mean_squared_error: 0.1600 - val_loss: 0.1601 - val_mean_squared_error: 0.1601\n",
            "Epoch 52/100\n",
            "600/600 [==============================] - 2s 3ms/step - loss: 0.1600 - mean_squared_error: 0.1600 - val_loss: 0.1602 - val_mean_squared_error: 0.1602\n",
            "Epoch 53/100\n",
            "600/600 [==============================] - 2s 4ms/step - loss: 0.1600 - mean_squared_error: 0.1600 - val_loss: 0.1602 - val_mean_squared_error: 0.1602\n",
            "Epoch 54/100\n",
            "600/600 [==============================] - 2s 3ms/step - loss: 0.1600 - mean_squared_error: 0.1600 - val_loss: 0.1601 - val_mean_squared_error: 0.1601\n",
            "Epoch 55/100\n",
            "600/600 [==============================] - 1s 2ms/step - loss: 0.1600 - mean_squared_error: 0.1600 - val_loss: 0.1602 - val_mean_squared_error: 0.1602\n",
            "Epoch 56/100\n",
            "600/600 [==============================] - 1s 2ms/step - loss: 0.1600 - mean_squared_error: 0.1600 - val_loss: 0.1601 - val_mean_squared_error: 0.1601\n",
            "Epoch 57/100\n",
            "600/600 [==============================] - 1s 2ms/step - loss: 0.1600 - mean_squared_error: 0.1600 - val_loss: 0.1601 - val_mean_squared_error: 0.1601\n",
            "Epoch 58/100\n",
            "600/600 [==============================] - 1s 2ms/step - loss: 0.1600 - mean_squared_error: 0.1600 - val_loss: 0.1601 - val_mean_squared_error: 0.1601\n",
            "Epoch 59/100\n",
            "600/600 [==============================] - 1s 2ms/step - loss: 0.1600 - mean_squared_error: 0.1600 - val_loss: 0.1601 - val_mean_squared_error: 0.1601\n",
            "Epoch 60/100\n",
            "600/600 [==============================] - 1s 2ms/step - loss: 0.1600 - mean_squared_error: 0.1600 - val_loss: 0.1601 - val_mean_squared_error: 0.1601\n",
            "Epoch 61/100\n",
            "600/600 [==============================] - 2s 3ms/step - loss: 0.1600 - mean_squared_error: 0.1600 - val_loss: 0.1601 - val_mean_squared_error: 0.1601\n",
            "Epoch 62/100\n",
            "600/600 [==============================] - 2s 4ms/step - loss: 0.1600 - mean_squared_error: 0.1600 - val_loss: 0.1601 - val_mean_squared_error: 0.1601\n",
            "Epoch 63/100\n",
            "600/600 [==============================] - 2s 3ms/step - loss: 0.1600 - mean_squared_error: 0.1600 - val_loss: 0.1601 - val_mean_squared_error: 0.1601\n",
            "Epoch 64/100\n",
            "600/600 [==============================] - 1s 2ms/step - loss: 0.1600 - mean_squared_error: 0.1600 - val_loss: 0.1601 - val_mean_squared_error: 0.1601\n",
            "Epoch 65/100\n",
            "600/600 [==============================] - 1s 2ms/step - loss: 0.1600 - mean_squared_error: 0.1600 - val_loss: 0.1601 - val_mean_squared_error: 0.1601\n",
            "Epoch 66/100\n",
            "600/600 [==============================] - 1s 2ms/step - loss: 0.1600 - mean_squared_error: 0.1600 - val_loss: 0.1601 - val_mean_squared_error: 0.1601\n",
            "Epoch 67/100\n",
            "600/600 [==============================] - 1s 2ms/step - loss: 0.1600 - mean_squared_error: 0.1600 - val_loss: 0.1601 - val_mean_squared_error: 0.1601\n",
            "Epoch 68/100\n",
            "600/600 [==============================] - 1s 2ms/step - loss: 0.1600 - mean_squared_error: 0.1600 - val_loss: 0.1601 - val_mean_squared_error: 0.1601\n",
            "Epoch 69/100\n",
            "600/600 [==============================] - 2s 3ms/step - loss: 0.1600 - mean_squared_error: 0.1600 - val_loss: 0.1601 - val_mean_squared_error: 0.1601\n",
            "Epoch 70/100\n",
            "600/600 [==============================] - 2s 3ms/step - loss: 0.1600 - mean_squared_error: 0.1600 - val_loss: 0.1601 - val_mean_squared_error: 0.1601\n",
            "Epoch 71/100\n",
            "600/600 [==============================] - 2s 3ms/step - loss: 0.1600 - mean_squared_error: 0.1600 - val_loss: 0.1601 - val_mean_squared_error: 0.1601\n",
            "Epoch 72/100\n",
            "600/600 [==============================] - 2s 3ms/step - loss: 0.1600 - mean_squared_error: 0.1600 - val_loss: 0.1601 - val_mean_squared_error: 0.1601\n",
            "Epoch 73/100\n",
            "600/600 [==============================] - 1s 2ms/step - loss: 0.1600 - mean_squared_error: 0.1600 - val_loss: 0.1601 - val_mean_squared_error: 0.1601\n",
            "Epoch 74/100\n",
            "600/600 [==============================] - 1s 2ms/step - loss: 0.1600 - mean_squared_error: 0.1600 - val_loss: 0.1601 - val_mean_squared_error: 0.1601\n",
            "Epoch 75/100\n",
            "600/600 [==============================] - 1s 2ms/step - loss: 0.1600 - mean_squared_error: 0.1600 - val_loss: 0.1601 - val_mean_squared_error: 0.1601\n",
            "Epoch 76/100\n",
            "600/600 [==============================] - 1s 2ms/step - loss: 0.1600 - mean_squared_error: 0.1600 - val_loss: 0.1601 - val_mean_squared_error: 0.1601\n",
            "Epoch 77/100\n",
            "600/600 [==============================] - 1s 2ms/step - loss: 0.1599 - mean_squared_error: 0.1599 - val_loss: 0.1601 - val_mean_squared_error: 0.1601\n",
            "Epoch 78/100\n",
            "600/600 [==============================] - 1s 2ms/step - loss: 0.1599 - mean_squared_error: 0.1599 - val_loss: 0.1601 - val_mean_squared_error: 0.1601\n",
            "Epoch 79/100\n",
            "600/600 [==============================] - 2s 3ms/step - loss: 0.1599 - mean_squared_error: 0.1599 - val_loss: 0.1602 - val_mean_squared_error: 0.1602\n",
            "Epoch 80/100\n",
            "600/600 [==============================] - 2s 3ms/step - loss: 0.1599 - mean_squared_error: 0.1599 - val_loss: 0.1601 - val_mean_squared_error: 0.1601\n",
            "Epoch 81/100\n",
            "600/600 [==============================] - 2s 4ms/step - loss: 0.1599 - mean_squared_error: 0.1599 - val_loss: 0.1601 - val_mean_squared_error: 0.1601\n",
            "Epoch 82/100\n",
            "600/600 [==============================] - 1s 2ms/step - loss: 0.1599 - mean_squared_error: 0.1599 - val_loss: 0.1601 - val_mean_squared_error: 0.1601\n",
            "Epoch 83/100\n",
            "600/600 [==============================] - 1s 2ms/step - loss: 0.1599 - mean_squared_error: 0.1599 - val_loss: 0.1601 - val_mean_squared_error: 0.1601\n",
            "Epoch 84/100\n",
            "600/600 [==============================] - 1s 2ms/step - loss: 0.1599 - mean_squared_error: 0.1599 - val_loss: 0.1601 - val_mean_squared_error: 0.1601\n",
            "Epoch 85/100\n",
            "600/600 [==============================] - 2s 3ms/step - loss: 0.1599 - mean_squared_error: 0.1599 - val_loss: 0.1601 - val_mean_squared_error: 0.1601\n",
            "Epoch 86/100\n",
            "600/600 [==============================] - 1s 2ms/step - loss: 0.1599 - mean_squared_error: 0.1599 - val_loss: 0.1601 - val_mean_squared_error: 0.1601\n",
            "Epoch 87/100\n",
            "600/600 [==============================] - 1s 2ms/step - loss: 0.1599 - mean_squared_error: 0.1599 - val_loss: 0.1601 - val_mean_squared_error: 0.1601\n",
            "Epoch 88/100\n",
            "600/600 [==============================] - 2s 3ms/step - loss: 0.1599 - mean_squared_error: 0.1599 - val_loss: 0.1601 - val_mean_squared_error: 0.1601\n",
            "Epoch 89/100\n",
            "600/600 [==============================] - 2s 3ms/step - loss: 0.1599 - mean_squared_error: 0.1599 - val_loss: 0.1601 - val_mean_squared_error: 0.1601\n",
            "Epoch 90/100\n",
            "600/600 [==============================] - 2s 3ms/step - loss: 0.1599 - mean_squared_error: 0.1599 - val_loss: 0.1601 - val_mean_squared_error: 0.1601\n",
            "Epoch 91/100\n",
            "600/600 [==============================] - 1s 2ms/step - loss: 0.1599 - mean_squared_error: 0.1599 - val_loss: 0.1601 - val_mean_squared_error: 0.1601\n",
            "Epoch 92/100\n",
            "600/600 [==============================] - 1s 2ms/step - loss: 0.1599 - mean_squared_error: 0.1599 - val_loss: 0.1601 - val_mean_squared_error: 0.1601\n",
            "Epoch 93/100\n",
            "600/600 [==============================] - 1s 2ms/step - loss: 0.1599 - mean_squared_error: 0.1599 - val_loss: 0.1601 - val_mean_squared_error: 0.1601\n",
            "Epoch 94/100\n",
            "600/600 [==============================] - 1s 2ms/step - loss: 0.1599 - mean_squared_error: 0.1599 - val_loss: 0.1601 - val_mean_squared_error: 0.1601\n",
            "Epoch 95/100\n",
            "600/600 [==============================] - 2s 3ms/step - loss: 0.1599 - mean_squared_error: 0.1599 - val_loss: 0.1601 - val_mean_squared_error: 0.1601\n",
            "Epoch 96/100\n",
            "600/600 [==============================] - 2s 3ms/step - loss: 0.1599 - mean_squared_error: 0.1599 - val_loss: 0.1601 - val_mean_squared_error: 0.1601\n",
            "Epoch 97/100\n",
            "600/600 [==============================] - 2s 3ms/step - loss: 0.1599 - mean_squared_error: 0.1599 - val_loss: 0.1601 - val_mean_squared_error: 0.1601\n",
            "Epoch 98/100\n",
            "600/600 [==============================] - 2s 4ms/step - loss: 0.1599 - mean_squared_error: 0.1599 - val_loss: 0.1601 - val_mean_squared_error: 0.1601\n",
            "Epoch 99/100\n",
            "600/600 [==============================] - 2s 3ms/step - loss: 0.1599 - mean_squared_error: 0.1599 - val_loss: 0.1601 - val_mean_squared_error: 0.1601\n",
            "Epoch 100/100\n",
            "600/600 [==============================] - 1s 2ms/step - loss: 0.1599 - mean_squared_error: 0.1599 - val_loss: 0.1601 - val_mean_squared_error: 0.1601\n",
            "1563/1563 - 2s - loss: 0.1601 - mean_squared_error: 0.1601 - 2s/epoch - 1ms/step\n",
            "Test MSE loss: 0.16010744869709015\n"
          ]
        }
      ],
      "source": [
        "history9 = model9.fit(X_train,                          # training samples\n",
        "                    y_train,                          # training labels\n",
        "                    epochs=no_epochs,                 # training steps (epochs)\n",
        "                    batch_size=batch_size,           # how many data samples per training epoch\n",
        "                    validation_split=val_split)\n",
        "\n",
        "test_scores = model9.evaluate(X_test, y_test, batch_size = 128, verbose=2)\n",
        "print(\"Test MSE loss:\", test_scores[0])"
      ]
    },
    {
      "cell_type": "code",
      "source": [
        "# Plot the training and validation loss versus the number of epochs.\n",
        "tr_loss = []\n",
        "val_loss = []\n",
        "\n",
        "for i in range(100):\n",
        "  tr_loss.append(history1.history[\"loss\"][i])\n",
        "  val_loss.append(history1.history[\"val_loss\"][i])\n",
        "  \n",
        "plt.plot(range(100), tr_loss, \"-b\", label=\"training\")\n",
        "plt.plot(range(100), val_loss, \"-r\", label=\"validation\")\n",
        "plt.legend(loc=\"upper right\")\n",
        "plt.title(\"Training Loss and Validation Loss vs Number of Epochs\")\n",
        "plt.ylabel(\"Loss\")\n",
        "plt.xlabel(\"Epoch\")\n",
        "plt.show()"
      ],
      "metadata": {
        "colab": {
          "base_uri": "https://localhost:8080/",
          "height": 295
        },
        "id": "IUqPw0Ha5gSF",
        "outputId": "457a4853-223c-4c6a-adaf-c19569415d94"
      },
      "execution_count": 31,
      "outputs": [
        {
          "output_type": "display_data",
          "data": {
            "text/plain": [
              "<Figure size 432x288 with 1 Axes>"
            ],
            "image/png": "[encoded data removed]"
          },
          "metadata": {
            "needs_background": "light"
          }
        }
      ]
    },
    {
      "cell_type": "code",
      "execution_count": 32,
      "metadata": {
        "colab": {
          "base_uri": "https://localhost:8080/"
        },
        "id": "Iy7iI6hd9uT-",
        "outputId": "c596b986-120e-4df5-9a13-b4654c8e18c2"
      },
      "outputs": [
        {
          "output_type": "stream",
          "name": "stdout",
          "text": [
            "Epoch 1/100\n",
            "600/600 [==============================] - 3s 4ms/step - loss: 0.3739 - mean_squared_error: 0.3739 - val_loss: 0.2408 - val_mean_squared_error: 0.2408\n",
            "Epoch 2/100\n",
            "600/600 [==============================] - 2s 3ms/step - loss: 0.2126 - mean_squared_error: 0.2126 - val_loss: 0.1952 - val_mean_squared_error: 0.1952\n",
            "Epoch 3/100\n",
            "600/600 [==============================] - 2s 3ms/step - loss: 0.1882 - mean_squared_error: 0.1882 - val_loss: 0.1820 - val_mean_squared_error: 0.1820\n",
            "Epoch 4/100\n",
            "600/600 [==============================] - 2s 3ms/step - loss: 0.1784 - mean_squared_error: 0.1784 - val_loss: 0.1748 - val_mean_squared_error: 0.1748\n",
            "Epoch 5/100\n",
            "600/600 [==============================] - 2s 3ms/step - loss: 0.1726 - mean_squared_error: 0.1726 - val_loss: 0.1703 - val_mean_squared_error: 0.1703\n",
            "Epoch 6/100\n",
            "600/600 [==============================] - 2s 2ms/step - loss: 0.1689 - mean_squared_error: 0.1689 - val_loss: 0.1674 - val_mean_squared_error: 0.1674\n",
            "Epoch 7/100\n",
            "600/600 [==============================] - 2s 3ms/step - loss: 0.1666 - mean_squared_error: 0.1666 - val_loss: 0.1655 - val_mean_squared_error: 0.1655\n",
            "Epoch 8/100\n",
            "600/600 [==============================] - 2s 4ms/step - loss: 0.1650 - mean_squared_error: 0.1650 - val_loss: 0.1643 - val_mean_squared_error: 0.1643\n",
            "Epoch 9/100\n",
            "600/600 [==============================] - 2s 3ms/step - loss: 0.1639 - mean_squared_error: 0.1639 - val_loss: 0.1634 - val_mean_squared_error: 0.1634\n",
            "Epoch 10/100\n",
            "600/600 [==============================] - 2s 3ms/step - loss: 0.1631 - mean_squared_error: 0.1631 - val_loss: 0.1628 - val_mean_squared_error: 0.1628\n",
            "Epoch 11/100\n",
            "600/600 [==============================] - 1s 2ms/step - loss: 0.1625 - mean_squared_error: 0.1625 - val_loss: 0.1623 - val_mean_squared_error: 0.1623\n",
            "Epoch 12/100\n",
            "600/600 [==============================] - 2s 3ms/step - loss: 0.1621 - mean_squared_error: 0.1621 - val_loss: 0.1619 - val_mean_squared_error: 0.1619\n",
            "Epoch 13/100\n",
            "600/600 [==============================] - 1s 2ms/step - loss: 0.1618 - mean_squared_error: 0.1618 - val_loss: 0.1617 - val_mean_squared_error: 0.1617\n",
            "Epoch 14/100\n",
            "600/600 [==============================] - 2s 3ms/step - loss: 0.1615 - mean_squared_error: 0.1615 - val_loss: 0.1615 - val_mean_squared_error: 0.1615\n",
            "Epoch 15/100\n",
            "600/600 [==============================] - 2s 3ms/step - loss: 0.1613 - mean_squared_error: 0.1613 - val_loss: 0.1613 - val_mean_squared_error: 0.1613\n",
            "Epoch 16/100\n",
            "600/600 [==============================] - 3s 4ms/step - loss: 0.1612 - mean_squared_error: 0.1612 - val_loss: 0.1612 - val_mean_squared_error: 0.1612\n",
            "Epoch 17/100\n",
            "600/600 [==============================] - 2s 3ms/step - loss: 0.1611 - mean_squared_error: 0.1611 - val_loss: 0.1611 - val_mean_squared_error: 0.1611\n",
            "Epoch 18/100\n",
            "600/600 [==============================] - 2s 3ms/step - loss: 0.1609 - mean_squared_error: 0.1609 - val_loss: 0.1610 - val_mean_squared_error: 0.1610\n",
            "Epoch 19/100\n",
            "600/600 [==============================] - 2s 3ms/step - loss: 0.1608 - mean_squared_error: 0.1608 - val_loss: 0.1609 - val_mean_squared_error: 0.1609\n",
            "Epoch 20/100\n",
            "600/600 [==============================] - 1s 2ms/step - loss: 0.1608 - mean_squared_error: 0.1608 - val_loss: 0.1608 - val_mean_squared_error: 0.1608\n",
            "Epoch 21/100\n",
            "600/600 [==============================] - 2s 3ms/step - loss: 0.1607 - mean_squared_error: 0.1607 - val_loss: 0.1607 - val_mean_squared_error: 0.1607\n",
            "Epoch 22/100\n",
            "600/600 [==============================] - 1s 2ms/step - loss: 0.1606 - mean_squared_error: 0.1606 - val_loss: 0.1607 - val_mean_squared_error: 0.1607\n",
            "Epoch 23/100\n",
            "600/600 [==============================] - 1s 2ms/step - loss: 0.1605 - mean_squared_error: 0.1605 - val_loss: 0.1606 - val_mean_squared_error: 0.1606\n",
            "Epoch 24/100\n",
            "600/600 [==============================] - 2s 4ms/step - loss: 0.1605 - mean_squared_error: 0.1605 - val_loss: 0.1605 - val_mean_squared_error: 0.1605\n",
            "Epoch 25/100\n",
            "600/600 [==============================] - 3s 4ms/step - loss: 0.1604 - mean_squared_error: 0.1604 - val_loss: 0.1605 - val_mean_squared_error: 0.1605\n",
            "Epoch 26/100\n",
            "600/600 [==============================] - 4s 7ms/step - loss: 0.1604 - mean_squared_error: 0.1604 - val_loss: 0.1604 - val_mean_squared_error: 0.1604\n",
            "Epoch 27/100\n",
            "600/600 [==============================] - 2s 3ms/step - loss: 0.1603 - mean_squared_error: 0.1603 - val_loss: 0.1604 - val_mean_squared_error: 0.1604\n",
            "Epoch 28/100\n",
            "600/600 [==============================] - 2s 3ms/step - loss: 0.1603 - mean_squared_error: 0.1603 - val_loss: 0.1603 - val_mean_squared_error: 0.1603\n",
            "Epoch 29/100\n",
            "600/600 [==============================] - 2s 3ms/step - loss: 0.1602 - mean_squared_error: 0.1602 - val_loss: 0.1604 - val_mean_squared_error: 0.1604\n",
            "Epoch 30/100\n",
            "600/600 [==============================] - 2s 3ms/step - loss: 0.1602 - mean_squared_error: 0.1602 - val_loss: 0.1603 - val_mean_squared_error: 0.1603\n",
            "Epoch 31/100\n",
            "600/600 [==============================] - 3s 4ms/step - loss: 0.1602 - mean_squared_error: 0.1602 - val_loss: 0.1603 - val_mean_squared_error: 0.1603\n",
            "Epoch 32/100\n",
            "600/600 [==============================] - 2s 3ms/step - loss: 0.1601 - mean_squared_error: 0.1601 - val_loss: 0.1603 - val_mean_squared_error: 0.1603\n",
            "Epoch 33/100\n",
            "600/600 [==============================] - 2s 3ms/step - loss: 0.1601 - mean_squared_error: 0.1601 - val_loss: 0.1602 - val_mean_squared_error: 0.1602\n",
            "Epoch 34/100\n",
            "600/600 [==============================] - 2s 3ms/step - loss: 0.1601 - mean_squared_error: 0.1601 - val_loss: 0.1602 - val_mean_squared_error: 0.1602\n",
            "Epoch 35/100\n",
            "600/600 [==============================] - 2s 3ms/step - loss: 0.1601 - mean_squared_error: 0.1601 - val_loss: 0.1602 - val_mean_squared_error: 0.1602\n",
            "Epoch 36/100\n",
            "600/600 [==============================] - 2s 3ms/step - loss: 0.1600 - mean_squared_error: 0.1600 - val_loss: 0.1602 - val_mean_squared_error: 0.1602\n",
            "Epoch 37/100\n",
            "600/600 [==============================] - 2s 3ms/step - loss: 0.1600 - mean_squared_error: 0.1600 - val_loss: 0.1602 - val_mean_squared_error: 0.1602\n",
            "Epoch 38/100\n",
            "600/600 [==============================] - 2s 3ms/step - loss: 0.1600 - mean_squared_error: 0.1600 - val_loss: 0.1602 - val_mean_squared_error: 0.1602\n",
            "Epoch 39/100\n",
            "600/600 [==============================] - 2s 4ms/step - loss: 0.1600 - mean_squared_error: 0.1600 - val_loss: 0.1602 - val_mean_squared_error: 0.1602\n",
            "Epoch 40/100\n",
            "600/600 [==============================] - 2s 3ms/step - loss: 0.1600 - mean_squared_error: 0.1600 - val_loss: 0.1601 - val_mean_squared_error: 0.1601\n",
            "Epoch 41/100\n",
            "600/600 [==============================] - 2s 3ms/step - loss: 0.1600 - mean_squared_error: 0.1600 - val_loss: 0.1602 - val_mean_squared_error: 0.1602\n",
            "Epoch 42/100\n",
            "600/600 [==============================] - 2s 3ms/step - loss: 0.1599 - mean_squared_error: 0.1599 - val_loss: 0.1601 - val_mean_squared_error: 0.1601\n",
            "Epoch 43/100\n",
            "600/600 [==============================] - 2s 3ms/step - loss: 0.1599 - mean_squared_error: 0.1599 - val_loss: 0.1601 - val_mean_squared_error: 0.1601\n",
            "Epoch 44/100\n",
            "600/600 [==============================] - 1s 2ms/step - loss: 0.1599 - mean_squared_error: 0.1599 - val_loss: 0.1601 - val_mean_squared_error: 0.1601\n",
            "Epoch 45/100\n",
            "600/600 [==============================] - 2s 3ms/step - loss: 0.1599 - mean_squared_error: 0.1599 - val_loss: 0.1601 - val_mean_squared_error: 0.1601\n",
            "Epoch 46/100\n",
            "600/600 [==============================] - 2s 3ms/step - loss: 0.1599 - mean_squared_error: 0.1599 - val_loss: 0.1601 - val_mean_squared_error: 0.1601\n",
            "Epoch 47/100\n",
            "600/600 [==============================] - 3s 4ms/step - loss: 0.1599 - mean_squared_error: 0.1599 - val_loss: 0.1600 - val_mean_squared_error: 0.1600\n",
            "Epoch 48/100\n",
            "600/600 [==============================] - 2s 3ms/step - loss: 0.1598 - mean_squared_error: 0.1598 - val_loss: 0.1600 - val_mean_squared_error: 0.1600\n",
            "Epoch 49/100\n",
            "600/600 [==============================] - 2s 3ms/step - loss: 0.1598 - mean_squared_error: 0.1598 - val_loss: 0.1601 - val_mean_squared_error: 0.1601\n",
            "Epoch 50/100\n",
            "600/600 [==============================] - 2s 3ms/step - loss: 0.1598 - mean_squared_error: 0.1598 - val_loss: 0.1600 - val_mean_squared_error: 0.1600\n",
            "Epoch 51/100\n",
            "600/600 [==============================] - 2s 3ms/step - loss: 0.1598 - mean_squared_error: 0.1598 - val_loss: 0.1600 - val_mean_squared_error: 0.1600\n",
            "Epoch 52/100\n",
            "600/600 [==============================] - 2s 3ms/step - loss: 0.1598 - mean_squared_error: 0.1598 - val_loss: 0.1600 - val_mean_squared_error: 0.1600\n",
            "Epoch 53/100\n",
            "600/600 [==============================] - 2s 3ms/step - loss: 0.1598 - mean_squared_error: 0.1598 - val_loss: 0.1600 - val_mean_squared_error: 0.1600\n",
            "Epoch 54/100\n",
            "600/600 [==============================] - 2s 3ms/step - loss: 0.1598 - mean_squared_error: 0.1598 - val_loss: 0.1600 - val_mean_squared_error: 0.1600\n",
            "Epoch 55/100\n",
            "600/600 [==============================] - 3s 4ms/step - loss: 0.1598 - mean_squared_error: 0.1598 - val_loss: 0.1600 - val_mean_squared_error: 0.1600\n",
            "Epoch 56/100\n",
            "600/600 [==============================] - 2s 3ms/step - loss: 0.1598 - mean_squared_error: 0.1598 - val_loss: 0.1600 - val_mean_squared_error: 0.1600\n",
            "Epoch 57/100\n",
            "600/600 [==============================] - 2s 3ms/step - loss: 0.1597 - mean_squared_error: 0.1597 - val_loss: 0.1599 - val_mean_squared_error: 0.1599\n",
            "Epoch 58/100\n",
            "600/600 [==============================] - 2s 3ms/step - loss: 0.1597 - mean_squared_error: 0.1597 - val_loss: 0.1600 - val_mean_squared_error: 0.1600\n",
            "Epoch 59/100\n",
            "600/600 [==============================] - 2s 3ms/step - loss: 0.1597 - mean_squared_error: 0.1597 - val_loss: 0.1599 - val_mean_squared_error: 0.1599\n",
            "Epoch 60/100\n",
            "600/600 [==============================] - 2s 3ms/step - loss: 0.1597 - mean_squared_error: 0.1597 - val_loss: 0.1599 - val_mean_squared_error: 0.1599\n",
            "Epoch 61/100\n",
            "600/600 [==============================] - 2s 3ms/step - loss: 0.1597 - mean_squared_error: 0.1597 - val_loss: 0.1599 - val_mean_squared_error: 0.1599\n",
            "Epoch 62/100\n",
            "600/600 [==============================] - 2s 3ms/step - loss: 0.1597 - mean_squared_error: 0.1597 - val_loss: 0.1599 - val_mean_squared_error: 0.1599\n",
            "Epoch 63/100\n",
            "600/600 [==============================] - 2s 4ms/step - loss: 0.1597 - mean_squared_error: 0.1597 - val_loss: 0.1599 - val_mean_squared_error: 0.1599\n",
            "Epoch 64/100\n",
            "600/600 [==============================] - 2s 4ms/step - loss: 0.1597 - mean_squared_error: 0.1597 - val_loss: 0.1599 - val_mean_squared_error: 0.1599\n",
            "Epoch 65/100\n",
            "600/600 [==============================] - 2s 3ms/step - loss: 0.1597 - mean_squared_error: 0.1597 - val_loss: 0.1599 - val_mean_squared_error: 0.1599\n",
            "Epoch 66/100\n",
            "600/600 [==============================] - 2s 3ms/step - loss: 0.1596 - mean_squared_error: 0.1596 - val_loss: 0.1599 - val_mean_squared_error: 0.1599\n",
            "Epoch 67/100\n",
            "600/600 [==============================] - 2s 3ms/step - loss: 0.1596 - mean_squared_error: 0.1596 - val_loss: 0.1599 - val_mean_squared_error: 0.1599\n",
            "Epoch 68/100\n",
            "600/600 [==============================] - 2s 3ms/step - loss: 0.1596 - mean_squared_error: 0.1596 - val_loss: 0.1599 - val_mean_squared_error: 0.1599\n",
            "Epoch 69/100\n",
            "600/600 [==============================] - 2s 3ms/step - loss: 0.1596 - mean_squared_error: 0.1596 - val_loss: 0.1599 - val_mean_squared_error: 0.1599\n",
            "Epoch 70/100\n",
            "600/600 [==============================] - 2s 3ms/step - loss: 0.1596 - mean_squared_error: 0.1596 - val_loss: 0.1599 - val_mean_squared_error: 0.1599\n",
            "Epoch 71/100\n",
            "600/600 [==============================] - 3s 4ms/step - loss: 0.1596 - mean_squared_error: 0.1596 - val_loss: 0.1599 - val_mean_squared_error: 0.1599\n",
            "Epoch 72/100\n",
            "600/600 [==============================] - 2s 4ms/step - loss: 0.1596 - mean_squared_error: 0.1596 - val_loss: 0.1598 - val_mean_squared_error: 0.1598\n",
            "Epoch 73/100\n",
            "600/600 [==============================] - 2s 3ms/step - loss: 0.1596 - mean_squared_error: 0.1596 - val_loss: 0.1598 - val_mean_squared_error: 0.1598\n",
            "Epoch 74/100\n",
            "600/600 [==============================] - 2s 3ms/step - loss: 0.1596 - mean_squared_error: 0.1596 - val_loss: 0.1598 - val_mean_squared_error: 0.1598\n",
            "Epoch 75/100\n",
            "600/600 [==============================] - 2s 3ms/step - loss: 0.1596 - mean_squared_error: 0.1596 - val_loss: 0.1598 - val_mean_squared_error: 0.1598\n",
            "Epoch 76/100\n",
            "600/600 [==============================] - 2s 3ms/step - loss: 0.1596 - mean_squared_error: 0.1596 - val_loss: 0.1598 - val_mean_squared_error: 0.1598\n",
            "Epoch 77/100\n",
            "600/600 [==============================] - 2s 3ms/step - loss: 0.1596 - mean_squared_error: 0.1596 - val_loss: 0.1598 - val_mean_squared_error: 0.1598\n",
            "Epoch 78/100\n",
            "600/600 [==============================] - 2s 3ms/step - loss: 0.1595 - mean_squared_error: 0.1595 - val_loss: 0.1598 - val_mean_squared_error: 0.1598\n",
            "Epoch 79/100\n",
            "600/600 [==============================] - 3s 4ms/step - loss: 0.1595 - mean_squared_error: 0.1595 - val_loss: 0.1598 - val_mean_squared_error: 0.1598\n",
            "Epoch 80/100\n",
            "600/600 [==============================] - 2s 4ms/step - loss: 0.1595 - mean_squared_error: 0.1595 - val_loss: 0.1598 - val_mean_squared_error: 0.1598\n",
            "Epoch 81/100\n",
            "600/600 [==============================] - 2s 3ms/step - loss: 0.1595 - mean_squared_error: 0.1595 - val_loss: 0.1598 - val_mean_squared_error: 0.1598\n",
            "Epoch 82/100\n",
            "600/600 [==============================] - 2s 3ms/step - loss: 0.1595 - mean_squared_error: 0.1595 - val_loss: 0.1598 - val_mean_squared_error: 0.1598\n",
            "Epoch 83/100\n",
            "600/600 [==============================] - 2s 3ms/step - loss: 0.1595 - mean_squared_error: 0.1595 - val_loss: 0.1598 - val_mean_squared_error: 0.1598\n",
            "Epoch 84/100\n",
            "600/600 [==============================] - 2s 3ms/step - loss: 0.1595 - mean_squared_error: 0.1595 - val_loss: 0.1598 - val_mean_squared_error: 0.1598\n",
            "Epoch 85/100\n",
            "600/600 [==============================] - 2s 3ms/step - loss: 0.1595 - mean_squared_error: 0.1595 - val_loss: 0.1598 - val_mean_squared_error: 0.1598\n",
            "Epoch 86/100\n",
            "600/600 [==============================] - 2s 3ms/step - loss: 0.1595 - mean_squared_error: 0.1595 - val_loss: 0.1598 - val_mean_squared_error: 0.1598\n",
            "Epoch 87/100\n",
            "600/600 [==============================] - 2s 4ms/step - loss: 0.1595 - mean_squared_error: 0.1595 - val_loss: 0.1597 - val_mean_squared_error: 0.1597\n",
            "Epoch 88/100\n",
            "600/600 [==============================] - 2s 4ms/step - loss: 0.1595 - mean_squared_error: 0.1595 - val_loss: 0.1597 - val_mean_squared_error: 0.1597\n",
            "Epoch 89/100\n",
            "600/600 [==============================] - 2s 3ms/step - loss: 0.1595 - mean_squared_error: 0.1595 - val_loss: 0.1597 - val_mean_squared_error: 0.1597\n",
            "Epoch 90/100\n",
            "600/600 [==============================] - 2s 3ms/step - loss: 0.1595 - mean_squared_error: 0.1595 - val_loss: 0.1597 - val_mean_squared_error: 0.1597\n",
            "Epoch 91/100\n",
            "600/600 [==============================] - 2s 3ms/step - loss: 0.1594 - mean_squared_error: 0.1594 - val_loss: 0.1597 - val_mean_squared_error: 0.1597\n",
            "Epoch 92/100\n",
            "600/600 [==============================] - 2s 3ms/step - loss: 0.1594 - mean_squared_error: 0.1594 - val_loss: 0.1597 - val_mean_squared_error: 0.1597\n",
            "Epoch 93/100\n",
            "600/600 [==============================] - 2s 3ms/step - loss: 0.1594 - mean_squared_error: 0.1594 - val_loss: 0.1597 - val_mean_squared_error: 0.1597\n",
            "Epoch 94/100\n",
            "600/600 [==============================] - 2s 3ms/step - loss: 0.1594 - mean_squared_error: 0.1594 - val_loss: 0.1597 - val_mean_squared_error: 0.1597\n",
            "Epoch 95/100\n",
            "600/600 [==============================] - 3s 5ms/step - loss: 0.1594 - mean_squared_error: 0.1594 - val_loss: 0.1597 - val_mean_squared_error: 0.1597\n",
            "Epoch 96/100\n",
            "600/600 [==============================] - 3s 5ms/step - loss: 0.1594 - mean_squared_error: 0.1594 - val_loss: 0.1597 - val_mean_squared_error: 0.1597\n",
            "Epoch 97/100\n",
            "600/600 [==============================] - 3s 5ms/step - loss: 0.1594 - mean_squared_error: 0.1594 - val_loss: 0.1597 - val_mean_squared_error: 0.1597\n",
            "Epoch 98/100\n",
            "600/600 [==============================] - 2s 3ms/step - loss: 0.1594 - mean_squared_error: 0.1594 - val_loss: 0.1597 - val_mean_squared_error: 0.1597\n",
            "Epoch 99/100\n",
            "600/600 [==============================] - 2s 3ms/step - loss: 0.1594 - mean_squared_error: 0.1594 - val_loss: 0.1597 - val_mean_squared_error: 0.1597\n",
            "Epoch 100/100\n",
            "600/600 [==============================] - 2s 3ms/step - loss: 0.1594 - mean_squared_error: 0.1594 - val_loss: 0.1596 - val_mean_squared_error: 0.1596\n",
            "1563/1563 - 3s - loss: 0.1597 - mean_squared_error: 0.1597 - 3s/epoch - 2ms/step\n",
            "Test MSE loss: 0.1597115397453308\n"
          ]
        }
      ],
      "source": [
        "m = 5\n",
        "d = 3\n",
        "l_rate = 0.0001\n",
        "epsilon = 0.001\n",
        "batch_size = 300\n",
        "val_split = 0.1\n",
        "no_epochs = 100\n",
        "\n",
        "optimiser = tf.optimizers.Adam(learning_rate=l_rate)\n",
        "model2 = perm_equi(2,10)\n",
        "\n",
        "model2.compile(optimizer=optimiser, loss='mse', metrics=[tf.keras.metrics.MeanSquaredError()])\n",
        "\n",
        "history2 = model2.fit(X_train,                          # training samples\n",
        "                    y_train,                          # training labels\n",
        "                    epochs=no_epochs,                 # training steps (epochs)\n",
        "                    batch_size=batch_size,           # how many data samples per training epoch\n",
        "                    validation_split=val_split)\n",
        "\n",
        "test_scores = model2.evaluate(X_test, y_test, batch_size = 128, verbose=2)\n",
        "print(\"Test MSE loss:\", test_scores[0])"
      ]
    },
    {
      "cell_type": "code",
      "source": [
        "# Plot the training and validation loss versus the number of epochs.\n",
        "tr_loss = []\n",
        "val_loss = []\n",
        "\n",
        "for i in range(100):\n",
        "  tr_loss.append(history2.history[\"loss\"][i])\n",
        "  val_loss.append(history2.history[\"val_loss\"][i])\n",
        "  \n",
        "plt.plot(range(100), tr_loss, \"-b\", label=\"training\")\n",
        "plt.plot(range(100), val_loss, \"-r\", label=\"validation\")\n",
        "plt.legend(loc=\"upper right\")\n",
        "plt.title(\"Training Loss and Validation Loss vs Number of Epochs\")\n",
        "plt.ylabel(\"Loss\")\n",
        "plt.xlabel(\"Epoch\")\n",
        "plt.show()"
      ],
      "metadata": {
        "colab": {
          "base_uri": "https://localhost:8080/",
          "height": 295
        },
        "id": "uDFmpq8w9txS",
        "outputId": "122a82bf-cf91-4de4-b6a0-e2b7a208bcd7"
      },
      "execution_count": 33,
      "outputs": [
        {
          "output_type": "display_data",
          "data": {
            "text/plain": [
              "<Figure size 432x288 with 1 Axes>"
            ],
            "image/png": "[encoded data removed]"
          },
          "metadata": {
            "needs_background": "light"
          }
        }
      ]
    },
    {
      "cell_type": "code",
      "source": [
        "m = 5\n",
        "d = 3\n",
        "l_rate = 0.0001\n",
        "epsilon = 0.001\n",
        "batch_size = 300\n",
        "val_split = 0.1\n",
        "no_epochs = 100\n",
        "\n",
        "optimiser = tf.optimizers.Adam(learning_rate=l_rate)\n",
        "model3 = perm_equi(2,100)\n",
        "\n",
        "model3.compile(optimizer=optimiser, loss='mse', metrics=[tf.keras.metrics.MeanSquaredError()])\n",
        "\n",
        "history3 = model3.fit(X_train,                          # training samples\n",
        "                    y_train,                          # training labels\n",
        "                    epochs=no_epochs,                 # training steps (epochs)\n",
        "                    batch_size=batch_size,           # how many data samples per training epoch\n",
        "                    validation_split=val_split)\n",
        "\n",
        "test_scores = model3.evaluate(X_test, y_test, batch_size = 128, verbose=2)\n",
        "print(\"Test MSE loss:\", test_scores[0])"
      ],
      "metadata": {
        "colab": {
          "base_uri": "https://localhost:8080/"
        },
        "id": "95jBbGEw6HxC",
        "outputId": "21cb4a5b-4d07-4926-e304-2e46f7721eff"
      },
      "execution_count": 34,
      "outputs": [
        {
          "output_type": "stream",
          "name": "stdout",
          "text": [
            "Epoch 1/100\n",
            "600/600 [==============================] - 4s 6ms/step - loss: 0.1699 - mean_squared_error: 0.1699 - val_loss: 0.1631 - val_mean_squared_error: 0.1631\n",
            "Epoch 2/100\n",
            "600/600 [==============================] - 3s 5ms/step - loss: 0.1620 - mean_squared_error: 0.1620 - val_loss: 0.1617 - val_mean_squared_error: 0.1617\n",
            "Epoch 3/100\n",
            "600/600 [==============================] - 4s 6ms/step - loss: 0.1612 - mean_squared_error: 0.1612 - val_loss: 0.1613 - val_mean_squared_error: 0.1613\n",
            "Epoch 4/100\n",
            "600/600 [==============================] - 4s 7ms/step - loss: 0.1609 - mean_squared_error: 0.1609 - val_loss: 0.1611 - val_mean_squared_error: 0.1611\n",
            "Epoch 5/100\n",
            "600/600 [==============================] - 3s 5ms/step - loss: 0.1607 - mean_squared_error: 0.1607 - val_loss: 0.1611 - val_mean_squared_error: 0.1611\n",
            "Epoch 6/100\n",
            "600/600 [==============================] - 3s 5ms/step - loss: 0.1606 - mean_squared_error: 0.1606 - val_loss: 0.1610 - val_mean_squared_error: 0.1610\n",
            "Epoch 7/100\n",
            "600/600 [==============================] - 3s 5ms/step - loss: 0.1605 - mean_squared_error: 0.1605 - val_loss: 0.1610 - val_mean_squared_error: 0.1610\n",
            "Epoch 8/100\n",
            "600/600 [==============================] - 5s 8ms/step - loss: 0.1604 - mean_squared_error: 0.1604 - val_loss: 0.1611 - val_mean_squared_error: 0.1611\n",
            "Epoch 9/100\n",
            "600/600 [==============================] - 3s 5ms/step - loss: 0.1603 - mean_squared_error: 0.1603 - val_loss: 0.1610 - val_mean_squared_error: 0.1610\n",
            "Epoch 10/100\n",
            "600/600 [==============================] - 3s 5ms/step - loss: 0.1602 - mean_squared_error: 0.1602 - val_loss: 0.1611 - val_mean_squared_error: 0.1611\n",
            "Epoch 11/100\n",
            "600/600 [==============================] - 3s 5ms/step - loss: 0.1601 - mean_squared_error: 0.1601 - val_loss: 0.1610 - val_mean_squared_error: 0.1610\n",
            "Epoch 12/100\n",
            "600/600 [==============================] - 4s 7ms/step - loss: 0.1601 - mean_squared_error: 0.1601 - val_loss: 0.1610 - val_mean_squared_error: 0.1610\n",
            "Epoch 13/100\n",
            "600/600 [==============================] - 3s 5ms/step - loss: 0.1600 - mean_squared_error: 0.1600 - val_loss: 0.1610 - val_mean_squared_error: 0.1610\n",
            "Epoch 14/100\n",
            "600/600 [==============================] - 3s 5ms/step - loss: 0.1599 - mean_squared_error: 0.1599 - val_loss: 0.1610 - val_mean_squared_error: 0.1610\n",
            "Epoch 15/100\n",
            "600/600 [==============================] - 3s 5ms/step - loss: 0.1599 - mean_squared_error: 0.1599 - val_loss: 0.1610 - val_mean_squared_error: 0.1610\n",
            "Epoch 16/100\n",
            "600/600 [==============================] - 4s 6ms/step - loss: 0.1598 - mean_squared_error: 0.1598 - val_loss: 0.1610 - val_mean_squared_error: 0.1610\n",
            "Epoch 17/100\n",
            "600/600 [==============================] - 4s 6ms/step - loss: 0.1598 - mean_squared_error: 0.1598 - val_loss: 0.1610 - val_mean_squared_error: 0.1610\n",
            "Epoch 18/100\n",
            "600/600 [==============================] - 3s 5ms/step - loss: 0.1598 - mean_squared_error: 0.1598 - val_loss: 0.1608 - val_mean_squared_error: 0.1608\n",
            "Epoch 19/100\n",
            "600/600 [==============================] - 3s 5ms/step - loss: 0.1597 - mean_squared_error: 0.1597 - val_loss: 0.1610 - val_mean_squared_error: 0.1610\n",
            "Epoch 20/100\n",
            "600/600 [==============================] - 3s 5ms/step - loss: 0.1596 - mean_squared_error: 0.1596 - val_loss: 0.1609 - val_mean_squared_error: 0.1609\n",
            "Epoch 21/100\n",
            "600/600 [==============================] - 5s 7ms/step - loss: 0.1596 - mean_squared_error: 0.1596 - val_loss: 0.1610 - val_mean_squared_error: 0.1610\n",
            "Epoch 22/100\n",
            "600/600 [==============================] - 3s 5ms/step - loss: 0.1595 - mean_squared_error: 0.1595 - val_loss: 0.1611 - val_mean_squared_error: 0.1611\n",
            "Epoch 23/100\n",
            "600/600 [==============================] - 4s 7ms/step - loss: 0.1595 - mean_squared_error: 0.1595 - val_loss: 0.1610 - val_mean_squared_error: 0.1610\n",
            "Epoch 24/100\n",
            "600/600 [==============================] - 5s 8ms/step - loss: 0.1594 - mean_squared_error: 0.1594 - val_loss: 0.1608 - val_mean_squared_error: 0.1608\n",
            "Epoch 25/100\n",
            "600/600 [==============================] - 5s 8ms/step - loss: 0.1593 - mean_squared_error: 0.1593 - val_loss: 0.1609 - val_mean_squared_error: 0.1609\n",
            "Epoch 26/100\n",
            "600/600 [==============================] - 5s 8ms/step - loss: 0.1593 - mean_squared_error: 0.1593 - val_loss: 0.1607 - val_mean_squared_error: 0.1607\n",
            "Epoch 27/100\n",
            "600/600 [==============================] - 3s 5ms/step - loss: 0.1592 - mean_squared_error: 0.1592 - val_loss: 0.1607 - val_mean_squared_error: 0.1607\n",
            "Epoch 28/100\n",
            "600/600 [==============================] - 6s 10ms/step - loss: 0.1591 - mean_squared_error: 0.1591 - val_loss: 0.1607 - val_mean_squared_error: 0.1607\n",
            "Epoch 29/100\n",
            "600/600 [==============================] - 6s 9ms/step - loss: 0.1591 - mean_squared_error: 0.1591 - val_loss: 0.1606 - val_mean_squared_error: 0.1606\n",
            "Epoch 30/100\n",
            "600/600 [==============================] - 5s 8ms/step - loss: 0.1590 - mean_squared_error: 0.1590 - val_loss: 0.1606 - val_mean_squared_error: 0.1606\n",
            "Epoch 31/100\n",
            "600/600 [==============================] - 5s 8ms/step - loss: 0.1589 - mean_squared_error: 0.1589 - val_loss: 0.1606 - val_mean_squared_error: 0.1606\n",
            "Epoch 32/100\n",
            "600/600 [==============================] - 3s 5ms/step - loss: 0.1588 - mean_squared_error: 0.1588 - val_loss: 0.1605 - val_mean_squared_error: 0.1605\n",
            "Epoch 33/100\n",
            "600/600 [==============================] - 5s 8ms/step - loss: 0.1588 - mean_squared_error: 0.1588 - val_loss: 0.1603 - val_mean_squared_error: 0.1603\n",
            "Epoch 34/100\n",
            "600/600 [==============================] - 4s 7ms/step - loss: 0.1587 - mean_squared_error: 0.1587 - val_loss: 0.1603 - val_mean_squared_error: 0.1603\n",
            "Epoch 35/100\n",
            "600/600 [==============================] - 4s 6ms/step - loss: 0.1586 - mean_squared_error: 0.1586 - val_loss: 0.1603 - val_mean_squared_error: 0.1603\n",
            "Epoch 36/100\n",
            "600/600 [==============================] - 3s 5ms/step - loss: 0.1585 - mean_squared_error: 0.1585 - val_loss: 0.1603 - val_mean_squared_error: 0.1603\n",
            "Epoch 37/100\n",
            "600/600 [==============================] - 3s 5ms/step - loss: 0.1585 - mean_squared_error: 0.1585 - val_loss: 0.1603 - val_mean_squared_error: 0.1603\n",
            "Epoch 38/100\n",
            "600/600 [==============================] - 3s 5ms/step - loss: 0.1584 - mean_squared_error: 0.1584 - val_loss: 0.1602 - val_mean_squared_error: 0.1602\n",
            "Epoch 39/100\n",
            "600/600 [==============================] - 4s 7ms/step - loss: 0.1583 - mean_squared_error: 0.1583 - val_loss: 0.1601 - val_mean_squared_error: 0.1601\n",
            "Epoch 40/100\n",
            "600/600 [==============================] - 3s 5ms/step - loss: 0.1583 - mean_squared_error: 0.1583 - val_loss: 0.1600 - val_mean_squared_error: 0.1600\n",
            "Epoch 41/100\n",
            "600/600 [==============================] - 3s 5ms/step - loss: 0.1582 - mean_squared_error: 0.1582 - val_loss: 0.1601 - val_mean_squared_error: 0.1601\n",
            "Epoch 42/100\n",
            "600/600 [==============================] - 3s 5ms/step - loss: 0.1581 - mean_squared_error: 0.1581 - val_loss: 0.1600 - val_mean_squared_error: 0.1600\n",
            "Epoch 43/100\n",
            "600/600 [==============================] - 5s 8ms/step - loss: 0.1580 - mean_squared_error: 0.1580 - val_loss: 0.1599 - val_mean_squared_error: 0.1599\n",
            "Epoch 44/100\n",
            "600/600 [==============================] - 5s 8ms/step - loss: 0.1580 - mean_squared_error: 0.1580 - val_loss: 0.1598 - val_mean_squared_error: 0.1598\n",
            "Epoch 45/100\n",
            "600/600 [==============================] - 4s 6ms/step - loss: 0.1579 - mean_squared_error: 0.1579 - val_loss: 0.1598 - val_mean_squared_error: 0.1598\n",
            "Epoch 46/100\n",
            "600/600 [==============================] - 6s 9ms/step - loss: 0.1578 - mean_squared_error: 0.1578 - val_loss: 0.1598 - val_mean_squared_error: 0.1598\n",
            "Epoch 47/100\n",
            "600/600 [==============================] - 4s 6ms/step - loss: 0.1577 - mean_squared_error: 0.1577 - val_loss: 0.1596 - val_mean_squared_error: 0.1596\n",
            "Epoch 48/100\n",
            "600/600 [==============================] - 3s 5ms/step - loss: 0.1576 - mean_squared_error: 0.1576 - val_loss: 0.1598 - val_mean_squared_error: 0.1598\n",
            "Epoch 49/100\n",
            "600/600 [==============================] - 3s 5ms/step - loss: 0.1576 - mean_squared_error: 0.1576 - val_loss: 0.1596 - val_mean_squared_error: 0.1596\n",
            "Epoch 50/100\n",
            "600/600 [==============================] - 3s 6ms/step - loss: 0.1575 - mean_squared_error: 0.1575 - val_loss: 0.1596 - val_mean_squared_error: 0.1596\n",
            "Epoch 51/100\n",
            "600/600 [==============================] - 4s 7ms/step - loss: 0.1574 - mean_squared_error: 0.1574 - val_loss: 0.1595 - val_mean_squared_error: 0.1595\n",
            "Epoch 52/100\n",
            "600/600 [==============================] - 3s 5ms/step - loss: 0.1574 - mean_squared_error: 0.1574 - val_loss: 0.1594 - val_mean_squared_error: 0.1594\n",
            "Epoch 53/100\n",
            "600/600 [==============================] - 3s 5ms/step - loss: 0.1573 - mean_squared_error: 0.1573 - val_loss: 0.1594 - val_mean_squared_error: 0.1594\n",
            "Epoch 54/100\n",
            "600/600 [==============================] - 3s 5ms/step - loss: 0.1572 - mean_squared_error: 0.1572 - val_loss: 0.1593 - val_mean_squared_error: 0.1593\n",
            "Epoch 55/100\n",
            "600/600 [==============================] - 4s 7ms/step - loss: 0.1571 - mean_squared_error: 0.1571 - val_loss: 0.1592 - val_mean_squared_error: 0.1592\n",
            "Epoch 56/100\n",
            "600/600 [==============================] - 3s 6ms/step - loss: 0.1570 - mean_squared_error: 0.1570 - val_loss: 0.1592 - val_mean_squared_error: 0.1592\n",
            "Epoch 57/100\n",
            "600/600 [==============================] - 3s 5ms/step - loss: 0.1570 - mean_squared_error: 0.1570 - val_loss: 0.1592 - val_mean_squared_error: 0.1592\n",
            "Epoch 58/100\n",
            "600/600 [==============================] - 3s 5ms/step - loss: 0.1569 - mean_squared_error: 0.1569 - val_loss: 0.1592 - val_mean_squared_error: 0.1592\n",
            "Epoch 59/100\n",
            "600/600 [==============================] - 4s 6ms/step - loss: 0.1568 - mean_squared_error: 0.1568 - val_loss: 0.1591 - val_mean_squared_error: 0.1591\n",
            "Epoch 60/100\n",
            "600/600 [==============================] - 4s 7ms/step - loss: 0.1568 - mean_squared_error: 0.1568 - val_loss: 0.1590 - val_mean_squared_error: 0.1590\n",
            "Epoch 61/100\n",
            "600/600 [==============================] - 3s 5ms/step - loss: 0.1567 - mean_squared_error: 0.1567 - val_loss: 0.1591 - val_mean_squared_error: 0.1591\n",
            "Epoch 62/100\n",
            "600/600 [==============================] - 3s 5ms/step - loss: 0.1566 - mean_squared_error: 0.1566 - val_loss: 0.1590 - val_mean_squared_error: 0.1590\n",
            "Epoch 63/100\n",
            "600/600 [==============================] - 3s 5ms/step - loss: 0.1566 - mean_squared_error: 0.1566 - val_loss: 0.1589 - val_mean_squared_error: 0.1589\n",
            "Epoch 64/100\n",
            "600/600 [==============================] - 5s 8ms/step - loss: 0.1565 - mean_squared_error: 0.1565 - val_loss: 0.1589 - val_mean_squared_error: 0.1589\n",
            "Epoch 65/100\n",
            "600/600 [==============================] - 3s 5ms/step - loss: 0.1564 - mean_squared_error: 0.1564 - val_loss: 0.1588 - val_mean_squared_error: 0.1588\n",
            "Epoch 66/100\n",
            "600/600 [==============================] - 3s 5ms/step - loss: 0.1564 - mean_squared_error: 0.1564 - val_loss: 0.1589 - val_mean_squared_error: 0.1589\n",
            "Epoch 67/100\n",
            "600/600 [==============================] - 3s 5ms/step - loss: 0.1563 - mean_squared_error: 0.1563 - val_loss: 0.1587 - val_mean_squared_error: 0.1587\n",
            "Epoch 68/100\n",
            "600/600 [==============================] - 4s 6ms/step - loss: 0.1562 - mean_squared_error: 0.1562 - val_loss: 0.1587 - val_mean_squared_error: 0.1587\n",
            "Epoch 69/100\n",
            "600/600 [==============================] - 4s 6ms/step - loss: 0.1562 - mean_squared_error: 0.1562 - val_loss: 0.1587 - val_mean_squared_error: 0.1587\n",
            "Epoch 70/100\n",
            "600/600 [==============================] - 3s 5ms/step - loss: 0.1561 - mean_squared_error: 0.1561 - val_loss: 0.1587 - val_mean_squared_error: 0.1587\n",
            "Epoch 71/100\n",
            "600/600 [==============================] - 3s 5ms/step - loss: 0.1561 - mean_squared_error: 0.1561 - val_loss: 0.1587 - val_mean_squared_error: 0.1587\n",
            "Epoch 72/100\n",
            "600/600 [==============================] - 3s 5ms/step - loss: 0.1560 - mean_squared_error: 0.1560 - val_loss: 0.1586 - val_mean_squared_error: 0.1586\n",
            "Epoch 73/100\n",
            "600/600 [==============================] - 5s 8ms/step - loss: 0.1559 - mean_squared_error: 0.1559 - val_loss: 0.1586 - val_mean_squared_error: 0.1586\n",
            "Epoch 74/100\n",
            "600/600 [==============================] - 3s 5ms/step - loss: 0.1559 - mean_squared_error: 0.1559 - val_loss: 0.1585 - val_mean_squared_error: 0.1585\n",
            "Epoch 75/100\n",
            "600/600 [==============================] - 3s 5ms/step - loss: 0.1558 - mean_squared_error: 0.1558 - val_loss: 0.1585 - val_mean_squared_error: 0.1585\n",
            "Epoch 76/100\n",
            "600/600 [==============================] - 3s 5ms/step - loss: 0.1558 - mean_squared_error: 0.1558 - val_loss: 0.1585 - val_mean_squared_error: 0.1585\n",
            "Epoch 77/100\n",
            "600/600 [==============================] - 4s 6ms/step - loss: 0.1557 - mean_squared_error: 0.1557 - val_loss: 0.1584 - val_mean_squared_error: 0.1584\n",
            "Epoch 78/100\n",
            "600/600 [==============================] - 4s 7ms/step - loss: 0.1557 - mean_squared_error: 0.1557 - val_loss: 0.1586 - val_mean_squared_error: 0.1586\n",
            "Epoch 79/100\n",
            "600/600 [==============================] - 3s 5ms/step - loss: 0.1556 - mean_squared_error: 0.1556 - val_loss: 0.1585 - val_mean_squared_error: 0.1585\n",
            "Epoch 80/100\n",
            "600/600 [==============================] - 3s 5ms/step - loss: 0.1556 - mean_squared_error: 0.1556 - val_loss: 0.1584 - val_mean_squared_error: 0.1584\n",
            "Epoch 81/100\n",
            "600/600 [==============================] - 3s 5ms/step - loss: 0.1555 - mean_squared_error: 0.1555 - val_loss: 0.1583 - val_mean_squared_error: 0.1583\n",
            "Epoch 82/100\n",
            "600/600 [==============================] - 5s 8ms/step - loss: 0.1555 - mean_squared_error: 0.1555 - val_loss: 0.1583 - val_mean_squared_error: 0.1583\n",
            "Epoch 83/100\n",
            "600/600 [==============================] - 3s 5ms/step - loss: 0.1554 - mean_squared_error: 0.1554 - val_loss: 0.1583 - val_mean_squared_error: 0.1583\n",
            "Epoch 84/100\n",
            "600/600 [==============================] - 3s 5ms/step - loss: 0.1553 - mean_squared_error: 0.1553 - val_loss: 0.1584 - val_mean_squared_error: 0.1584\n",
            "Epoch 85/100\n",
            "600/600 [==============================] - 4s 6ms/step - loss: 0.1553 - mean_squared_error: 0.1553 - val_loss: 0.1583 - val_mean_squared_error: 0.1583\n",
            "Epoch 86/100\n",
            "600/600 [==============================] - 5s 8ms/step - loss: 0.1553 - mean_squared_error: 0.1553 - val_loss: 0.1584 - val_mean_squared_error: 0.1584\n",
            "Epoch 87/100\n",
            "600/600 [==============================] - 3s 5ms/step - loss: 0.1552 - mean_squared_error: 0.1552 - val_loss: 0.1582 - val_mean_squared_error: 0.1582\n",
            "Epoch 88/100\n",
            "600/600 [==============================] - 3s 5ms/step - loss: 0.1552 - mean_squared_error: 0.1552 - val_loss: 0.1581 - val_mean_squared_error: 0.1581\n",
            "Epoch 89/100\n",
            "600/600 [==============================] - 3s 5ms/step - loss: 0.1551 - mean_squared_error: 0.1551 - val_loss: 0.1582 - val_mean_squared_error: 0.1582\n",
            "Epoch 90/100\n",
            "600/600 [==============================] - 4s 7ms/step - loss: 0.1551 - mean_squared_error: 0.1551 - val_loss: 0.1582 - val_mean_squared_error: 0.1582\n",
            "Epoch 91/100\n",
            "600/600 [==============================] - 4s 6ms/step - loss: 0.1550 - mean_squared_error: 0.1550 - val_loss: 0.1581 - val_mean_squared_error: 0.1581\n",
            "Epoch 92/100\n",
            "600/600 [==============================] - 3s 5ms/step - loss: 0.1550 - mean_squared_error: 0.1550 - val_loss: 0.1581 - val_mean_squared_error: 0.1581\n",
            "Epoch 93/100\n",
            "600/600 [==============================] - 3s 5ms/step - loss: 0.1549 - mean_squared_error: 0.1549 - val_loss: 0.1581 - val_mean_squared_error: 0.1581\n",
            "Epoch 94/100\n",
            "600/600 [==============================] - 3s 5ms/step - loss: 0.1549 - mean_squared_error: 0.1549 - val_loss: 0.1581 - val_mean_squared_error: 0.1581\n",
            "Epoch 95/100\n",
            "600/600 [==============================] - 5s 8ms/step - loss: 0.1548 - mean_squared_error: 0.1548 - val_loss: 0.1581 - val_mean_squared_error: 0.1581\n",
            "Epoch 96/100\n",
            "600/600 [==============================] - 5s 8ms/step - loss: 0.1548 - mean_squared_error: 0.1548 - val_loss: 0.1580 - val_mean_squared_error: 0.1580\n",
            "Epoch 97/100\n",
            "600/600 [==============================] - 3s 5ms/step - loss: 0.1547 - mean_squared_error: 0.1547 - val_loss: 0.1580 - val_mean_squared_error: 0.1580\n",
            "Epoch 98/100\n",
            "600/600 [==============================] - 3s 5ms/step - loss: 0.1547 - mean_squared_error: 0.1547 - val_loss: 0.1579 - val_mean_squared_error: 0.1579\n",
            "Epoch 99/100\n",
            "600/600 [==============================] - 4s 7ms/step - loss: 0.1546 - mean_squared_error: 0.1546 - val_loss: 0.1579 - val_mean_squared_error: 0.1579\n",
            "Epoch 100/100\n",
            "600/600 [==============================] - 4s 6ms/step - loss: 0.1546 - mean_squared_error: 0.1546 - val_loss: 0.1578 - val_mean_squared_error: 0.1578\n",
            "1563/1563 - 2s - loss: 0.1577 - mean_squared_error: 0.1577 - 2s/epoch - 1ms/step\n",
            "Test MSE loss: 0.1577138602733612\n"
          ]
        }
      ]
    },
    {
      "cell_type": "code",
      "source": [
        "# Plot the training and validation loss versus the number of epochs.\n",
        "tr_loss = []\n",
        "val_loss = []\n",
        "\n",
        "for i in range(100):\n",
        "  tr_loss.append(history3.history[\"loss\"][i])\n",
        "  val_loss.append(history3.history[\"val_loss\"][i])\n",
        "  \n",
        "plt.plot(range(100), tr_loss, \"-b\", label=\"training\")\n",
        "plt.plot(range(100), val_loss, \"-r\", label=\"validation\")\n",
        "plt.legend(loc=\"upper right\")\n",
        "plt.title(\"Training Loss and Validation Loss vs Number of Epochs\")\n",
        "plt.ylabel(\"Loss\")\n",
        "plt.xlabel(\"Epoch\")\n",
        "plt.show()"
      ],
      "metadata": {
        "colab": {
          "base_uri": "https://localhost:8080/",
          "height": 295
        },
        "id": "5i8gTvK491QO",
        "outputId": "b321ced8-a76d-44a2-a794-79a11810801a"
      },
      "execution_count": 35,
      "outputs": [
        {
          "output_type": "display_data",
          "data": {
            "text/plain": [
              "<Figure size 432x288 with 1 Axes>"
            ],
            "image/png": "[encoded data removed]"
          },
          "metadata": {
            "needs_background": "light"
          }
        }
      ]
    },
    {
      "cell_type": "code",
      "source": [
        "m = 5\n",
        "d = 3\n",
        "l_rate = 0.0001\n",
        "epsilon = 0.001\n",
        "batch_size = 300\n",
        "val_split = 0.1\n",
        "no_epochs = 100\n",
        "\n",
        "optimiser = tf.optimizers.Adam(learning_rate=l_rate)\n",
        "model4 = perm_equi(3,5)\n",
        "\n",
        "model4.compile(optimizer=optimiser, loss='mse', metrics=[tf.keras.metrics.MeanSquaredError()])\n",
        "\n",
        "history4 = model4.fit(X_train,                          # training samples\n",
        "                    y_train,                          # training labels\n",
        "                    epochs=no_epochs,                 # training steps (epochs)\n",
        "                    batch_size=batch_size,           # how many data samples per training epoch\n",
        "                    validation_split=val_split)\n",
        "\n",
        "test_scores = model4.evaluate(X_test, y_test, batch_size = 128, verbose=2)\n",
        "print(\"Test MSE loss:\", test_scores[0])"
      ],
      "metadata": {
        "colab": {
          "base_uri": "https://localhost:8080/"
        },
        "id": "_ALJ5FJF6KQt",
        "outputId": "ece2b092-55fa-4aff-e3f4-eadb99043e9a"
      },
      "execution_count": 36,
      "outputs": [
        {
          "output_type": "stream",
          "name": "stdout",
          "text": [
            "Epoch 1/100\n",
            "600/600 [==============================] - 3s 3ms/step - loss: 0.3150 - mean_squared_error: 0.3150 - val_loss: 0.2094 - val_mean_squared_error: 0.2094\n",
            "Epoch 2/100\n",
            "600/600 [==============================] - 2s 3ms/step - loss: 0.1918 - mean_squared_error: 0.1918 - val_loss: 0.1813 - val_mean_squared_error: 0.1813\n",
            "Epoch 3/100\n",
            "600/600 [==============================] - 2s 3ms/step - loss: 0.1761 - mean_squared_error: 0.1761 - val_loss: 0.1724 - val_mean_squared_error: 0.1724\n",
            "Epoch 4/100\n",
            "600/600 [==============================] - 2s 3ms/step - loss: 0.1701 - mean_squared_error: 0.1701 - val_loss: 0.1682 - val_mean_squared_error: 0.1682\n",
            "Epoch 5/100\n",
            "600/600 [==============================] - 3s 4ms/step - loss: 0.1669 - mean_squared_error: 0.1669 - val_loss: 0.1657 - val_mean_squared_error: 0.1657\n",
            "Epoch 6/100\n",
            "600/600 [==============================] - 2s 3ms/step - loss: 0.1649 - mean_squared_error: 0.1649 - val_loss: 0.1642 - val_mean_squared_error: 0.1642\n",
            "Epoch 7/100\n",
            "600/600 [==============================] - 2s 3ms/step - loss: 0.1636 - mean_squared_error: 0.1636 - val_loss: 0.1631 - val_mean_squared_error: 0.1631\n",
            "Epoch 8/100\n",
            "600/600 [==============================] - 1s 2ms/step - loss: 0.1626 - mean_squared_error: 0.1626 - val_loss: 0.1623 - val_mean_squared_error: 0.1623\n",
            "Epoch 9/100\n",
            "600/600 [==============================] - 2s 3ms/step - loss: 0.1620 - mean_squared_error: 0.1620 - val_loss: 0.1617 - val_mean_squared_error: 0.1617\n",
            "Epoch 10/100\n",
            "600/600 [==============================] - 2s 3ms/step - loss: 0.1615 - mean_squared_error: 0.1615 - val_loss: 0.1613 - val_mean_squared_error: 0.1613\n",
            "Epoch 11/100\n",
            "600/600 [==============================] - 2s 3ms/step - loss: 0.1611 - mean_squared_error: 0.1611 - val_loss: 0.1610 - val_mean_squared_error: 0.1610\n",
            "Epoch 12/100\n",
            "600/600 [==============================] - 2s 3ms/step - loss: 0.1608 - mean_squared_error: 0.1608 - val_loss: 0.1608 - val_mean_squared_error: 0.1608\n",
            "Epoch 13/100\n",
            "600/600 [==============================] - 2s 4ms/step - loss: 0.1606 - mean_squared_error: 0.1606 - val_loss: 0.1607 - val_mean_squared_error: 0.1607\n",
            "Epoch 14/100\n",
            "600/600 [==============================] - 2s 3ms/step - loss: 0.1605 - mean_squared_error: 0.1605 - val_loss: 0.1606 - val_mean_squared_error: 0.1606\n",
            "Epoch 15/100\n",
            "600/600 [==============================] - 2s 3ms/step - loss: 0.1604 - mean_squared_error: 0.1604 - val_loss: 0.1605 - val_mean_squared_error: 0.1605\n",
            "Epoch 16/100\n",
            "600/600 [==============================] - 2s 3ms/step - loss: 0.1603 - mean_squared_error: 0.1603 - val_loss: 0.1604 - val_mean_squared_error: 0.1604\n",
            "Epoch 17/100\n",
            "600/600 [==============================] - 2s 2ms/step - loss: 0.1603 - mean_squared_error: 0.1603 - val_loss: 0.1604 - val_mean_squared_error: 0.1604\n",
            "Epoch 18/100\n",
            "600/600 [==============================] - 2s 3ms/step - loss: 0.1602 - mean_squared_error: 0.1602 - val_loss: 0.1603 - val_mean_squared_error: 0.1603\n",
            "Epoch 19/100\n",
            "600/600 [==============================] - 1s 2ms/step - loss: 0.1602 - mean_squared_error: 0.1602 - val_loss: 0.1603 - val_mean_squared_error: 0.1603\n",
            "Epoch 20/100\n",
            "600/600 [==============================] - 2s 3ms/step - loss: 0.1601 - mean_squared_error: 0.1601 - val_loss: 0.1602 - val_mean_squared_error: 0.1602\n",
            "Epoch 21/100\n",
            "600/600 [==============================] - 3s 4ms/step - loss: 0.1601 - mean_squared_error: 0.1601 - val_loss: 0.1602 - val_mean_squared_error: 0.1602\n",
            "Epoch 22/100\n",
            "600/600 [==============================] - 2s 4ms/step - loss: 0.1601 - mean_squared_error: 0.1601 - val_loss: 0.1602 - val_mean_squared_error: 0.1602\n",
            "Epoch 23/100\n",
            "600/600 [==============================] - 2s 3ms/step - loss: 0.1601 - mean_squared_error: 0.1601 - val_loss: 0.1602 - val_mean_squared_error: 0.1602\n",
            "Epoch 24/100\n",
            "600/600 [==============================] - 2s 3ms/step - loss: 0.1601 - mean_squared_error: 0.1601 - val_loss: 0.1602 - val_mean_squared_error: 0.1602\n",
            "Epoch 25/100\n",
            "600/600 [==============================] - 2s 3ms/step - loss: 0.1600 - mean_squared_error: 0.1600 - val_loss: 0.1602 - val_mean_squared_error: 0.1602\n",
            "Epoch 26/100\n",
            "600/600 [==============================] - 2s 3ms/step - loss: 0.1600 - mean_squared_error: 0.1600 - val_loss: 0.1601 - val_mean_squared_error: 0.1601\n",
            "Epoch 27/100\n",
            "600/600 [==============================] - 2s 3ms/step - loss: 0.1600 - mean_squared_error: 0.1600 - val_loss: 0.1601 - val_mean_squared_error: 0.1601\n",
            "Epoch 28/100\n",
            "600/600 [==============================] - 2s 3ms/step - loss: 0.1600 - mean_squared_error: 0.1600 - val_loss: 0.1601 - val_mean_squared_error: 0.1601\n",
            "Epoch 29/100\n",
            "600/600 [==============================] - 3s 4ms/step - loss: 0.1600 - mean_squared_error: 0.1600 - val_loss: 0.1601 - val_mean_squared_error: 0.1601\n",
            "Epoch 30/100\n",
            "600/600 [==============================] - 2s 4ms/step - loss: 0.1600 - mean_squared_error: 0.1600 - val_loss: 0.1601 - val_mean_squared_error: 0.1601\n",
            "Epoch 31/100\n",
            "600/600 [==============================] - 2s 3ms/step - loss: 0.1600 - mean_squared_error: 0.1600 - val_loss: 0.1601 - val_mean_squared_error: 0.1601\n",
            "Epoch 32/100\n",
            "600/600 [==============================] - 2s 3ms/step - loss: 0.1600 - mean_squared_error: 0.1600 - val_loss: 0.1601 - val_mean_squared_error: 0.1601\n",
            "Epoch 33/100\n",
            "600/600 [==============================] - 2s 3ms/step - loss: 0.1600 - mean_squared_error: 0.1600 - val_loss: 0.1601 - val_mean_squared_error: 0.1601\n",
            "Epoch 34/100\n",
            "600/600 [==============================] - 2s 3ms/step - loss: 0.1600 - mean_squared_error: 0.1600 - val_loss: 0.1601 - val_mean_squared_error: 0.1601\n",
            "Epoch 35/100\n",
            "600/600 [==============================] - 2s 3ms/step - loss: 0.1600 - mean_squared_error: 0.1600 - val_loss: 0.1601 - val_mean_squared_error: 0.1601\n",
            "Epoch 36/100\n",
            "600/600 [==============================] - 2s 3ms/step - loss: 0.1600 - mean_squared_error: 0.1600 - val_loss: 0.1601 - val_mean_squared_error: 0.1601\n",
            "Epoch 37/100\n",
            "600/600 [==============================] - 3s 5ms/step - loss: 0.1599 - mean_squared_error: 0.1599 - val_loss: 0.1601 - val_mean_squared_error: 0.1601\n",
            "Epoch 38/100\n",
            "600/600 [==============================] - 2s 3ms/step - loss: 0.1599 - mean_squared_error: 0.1599 - val_loss: 0.1601 - val_mean_squared_error: 0.1601\n",
            "Epoch 39/100\n",
            "600/600 [==============================] - 2s 3ms/step - loss: 0.1599 - mean_squared_error: 0.1599 - val_loss: 0.1601 - val_mean_squared_error: 0.1601\n",
            "Epoch 40/100\n",
            "600/600 [==============================] - 2s 3ms/step - loss: 0.1599 - mean_squared_error: 0.1599 - val_loss: 0.1601 - val_mean_squared_error: 0.1601\n",
            "Epoch 41/100\n",
            "600/600 [==============================] - 2s 3ms/step - loss: 0.1599 - mean_squared_error: 0.1599 - val_loss: 0.1601 - val_mean_squared_error: 0.1601\n",
            "Epoch 42/100\n",
            "600/600 [==============================] - 2s 3ms/step - loss: 0.1599 - mean_squared_error: 0.1599 - val_loss: 0.1601 - val_mean_squared_error: 0.1601\n",
            "Epoch 43/100\n",
            "600/600 [==============================] - 2s 3ms/step - loss: 0.1599 - mean_squared_error: 0.1599 - val_loss: 0.1601 - val_mean_squared_error: 0.1601\n",
            "Epoch 44/100\n",
            "600/600 [==============================] - 2s 4ms/step - loss: 0.1599 - mean_squared_error: 0.1599 - val_loss: 0.1601 - val_mean_squared_error: 0.1601\n",
            "Epoch 45/100\n",
            "600/600 [==============================] - 3s 4ms/step - loss: 0.1599 - mean_squared_error: 0.1599 - val_loss: 0.1601 - val_mean_squared_error: 0.1601\n",
            "Epoch 46/100\n",
            "600/600 [==============================] - 2s 3ms/step - loss: 0.1599 - mean_squared_error: 0.1599 - val_loss: 0.1601 - val_mean_squared_error: 0.1601\n",
            "Epoch 47/100\n",
            "600/600 [==============================] - 2s 3ms/step - loss: 0.1599 - mean_squared_error: 0.1599 - val_loss: 0.1601 - val_mean_squared_error: 0.1601\n",
            "Epoch 48/100\n",
            "600/600 [==============================] - 2s 3ms/step - loss: 0.1599 - mean_squared_error: 0.1599 - val_loss: 0.1601 - val_mean_squared_error: 0.1601\n",
            "Epoch 49/100\n",
            "600/600 [==============================] - 2s 3ms/step - loss: 0.1599 - mean_squared_error: 0.1599 - val_loss: 0.1601 - val_mean_squared_error: 0.1601\n",
            "Epoch 50/100\n",
            "600/600 [==============================] - 2s 3ms/step - loss: 0.1599 - mean_squared_error: 0.1599 - val_loss: 0.1601 - val_mean_squared_error: 0.1601\n",
            "Epoch 51/100\n",
            "600/600 [==============================] - 2s 3ms/step - loss: 0.1599 - mean_squared_error: 0.1599 - val_loss: 0.1601 - val_mean_squared_error: 0.1601\n",
            "Epoch 52/100\n",
            "600/600 [==============================] - 3s 4ms/step - loss: 0.1599 - mean_squared_error: 0.1599 - val_loss: 0.1601 - val_mean_squared_error: 0.1601\n",
            "Epoch 53/100\n",
            "600/600 [==============================] - 2s 4ms/step - loss: 0.1599 - mean_squared_error: 0.1599 - val_loss: 0.1601 - val_mean_squared_error: 0.1601\n",
            "Epoch 54/100\n",
            "600/600 [==============================] - 2s 3ms/step - loss: 0.1599 - mean_squared_error: 0.1599 - val_loss: 0.1601 - val_mean_squared_error: 0.1601\n",
            "Epoch 55/100\n",
            "600/600 [==============================] - 2s 3ms/step - loss: 0.1599 - mean_squared_error: 0.1599 - val_loss: 0.1601 - val_mean_squared_error: 0.1601\n",
            "Epoch 56/100\n",
            "600/600 [==============================] - 2s 3ms/step - loss: 0.1599 - mean_squared_error: 0.1599 - val_loss: 0.1601 - val_mean_squared_error: 0.1601\n",
            "Epoch 57/100\n",
            "600/600 [==============================] - 2s 3ms/step - loss: 0.1599 - mean_squared_error: 0.1599 - val_loss: 0.1601 - val_mean_squared_error: 0.1601\n",
            "Epoch 58/100\n",
            "600/600 [==============================] - 2s 3ms/step - loss: 0.1599 - mean_squared_error: 0.1599 - val_loss: 0.1601 - val_mean_squared_error: 0.1601\n",
            "Epoch 59/100\n",
            "600/600 [==============================] - 2s 3ms/step - loss: 0.1599 - mean_squared_error: 0.1599 - val_loss: 0.1601 - val_mean_squared_error: 0.1601\n",
            "Epoch 60/100\n",
            "600/600 [==============================] - 3s 5ms/step - loss: 0.1599 - mean_squared_error: 0.1599 - val_loss: 0.1601 - val_mean_squared_error: 0.1601\n",
            "Epoch 61/100\n",
            "600/600 [==============================] - 2s 3ms/step - loss: 0.1599 - mean_squared_error: 0.1599 - val_loss: 0.1601 - val_mean_squared_error: 0.1601\n",
            "Epoch 62/100\n",
            "600/600 [==============================] - 2s 3ms/step - loss: 0.1599 - mean_squared_error: 0.1599 - val_loss: 0.1601 - val_mean_squared_error: 0.1601\n",
            "Epoch 63/100\n",
            "600/600 [==============================] - 2s 3ms/step - loss: 0.1599 - mean_squared_error: 0.1599 - val_loss: 0.1601 - val_mean_squared_error: 0.1601\n",
            "Epoch 64/100\n",
            "600/600 [==============================] - 2s 3ms/step - loss: 0.1599 - mean_squared_error: 0.1599 - val_loss: 0.1601 - val_mean_squared_error: 0.1601\n",
            "Epoch 65/100\n",
            "600/600 [==============================] - 2s 3ms/step - loss: 0.1599 - mean_squared_error: 0.1599 - val_loss: 0.1601 - val_mean_squared_error: 0.1601\n",
            "Epoch 66/100\n",
            "600/600 [==============================] - 2s 3ms/step - loss: 0.1599 - mean_squared_error: 0.1599 - val_loss: 0.1601 - val_mean_squared_error: 0.1601\n",
            "Epoch 67/100\n",
            "600/600 [==============================] - 2s 4ms/step - loss: 0.1599 - mean_squared_error: 0.1599 - val_loss: 0.1601 - val_mean_squared_error: 0.1601\n",
            "Epoch 68/100\n",
            "600/600 [==============================] - 3s 5ms/step - loss: 0.1599 - mean_squared_error: 0.1599 - val_loss: 0.1601 - val_mean_squared_error: 0.1601\n",
            "Epoch 69/100\n",
            "600/600 [==============================] - 2s 3ms/step - loss: 0.1599 - mean_squared_error: 0.1599 - val_loss: 0.1601 - val_mean_squared_error: 0.1601\n",
            "Epoch 70/100\n",
            "600/600 [==============================] - 2s 3ms/step - loss: 0.1599 - mean_squared_error: 0.1599 - val_loss: 0.1601 - val_mean_squared_error: 0.1601\n",
            "Epoch 71/100\n",
            "600/600 [==============================] - 2s 3ms/step - loss: 0.1599 - mean_squared_error: 0.1599 - val_loss: 0.1601 - val_mean_squared_error: 0.1601\n",
            "Epoch 72/100\n",
            "600/600 [==============================] - 2s 3ms/step - loss: 0.1599 - mean_squared_error: 0.1599 - val_loss: 0.1601 - val_mean_squared_error: 0.1601\n",
            "Epoch 73/100\n",
            "600/600 [==============================] - 2s 3ms/step - loss: 0.1599 - mean_squared_error: 0.1599 - val_loss: 0.1601 - val_mean_squared_error: 0.1601\n",
            "Epoch 74/100\n",
            "600/600 [==============================] - 2s 3ms/step - loss: 0.1598 - mean_squared_error: 0.1598 - val_loss: 0.1601 - val_mean_squared_error: 0.1601\n",
            "Epoch 75/100\n",
            "600/600 [==============================] - 3s 4ms/step - loss: 0.1598 - mean_squared_error: 0.1598 - val_loss: 0.1601 - val_mean_squared_error: 0.1601\n",
            "Epoch 76/100\n",
            "600/600 [==============================] - 3s 4ms/step - loss: 0.1598 - mean_squared_error: 0.1598 - val_loss: 0.1601 - val_mean_squared_error: 0.1601\n",
            "Epoch 77/100\n",
            "600/600 [==============================] - 2s 3ms/step - loss: 0.1598 - mean_squared_error: 0.1598 - val_loss: 0.1601 - val_mean_squared_error: 0.1601\n",
            "Epoch 78/100\n",
            "600/600 [==============================] - 2s 3ms/step - loss: 0.1598 - mean_squared_error: 0.1598 - val_loss: 0.1601 - val_mean_squared_error: 0.1601\n",
            "Epoch 79/100\n",
            "600/600 [==============================] - 2s 3ms/step - loss: 0.1598 - mean_squared_error: 0.1598 - val_loss: 0.1601 - val_mean_squared_error: 0.1601\n",
            "Epoch 80/100\n",
            "600/600 [==============================] - 2s 3ms/step - loss: 0.1598 - mean_squared_error: 0.1598 - val_loss: 0.1601 - val_mean_squared_error: 0.1601\n",
            "Epoch 81/100\n",
            "600/600 [==============================] - 2s 3ms/step - loss: 0.1598 - mean_squared_error: 0.1598 - val_loss: 0.1601 - val_mean_squared_error: 0.1601\n",
            "Epoch 82/100\n",
            "600/600 [==============================] - 2s 3ms/step - loss: 0.1598 - mean_squared_error: 0.1598 - val_loss: 0.1601 - val_mean_squared_error: 0.1601\n",
            "Epoch 83/100\n",
            "600/600 [==============================] - 3s 5ms/step - loss: 0.1598 - mean_squared_error: 0.1598 - val_loss: 0.1601 - val_mean_squared_error: 0.1601\n",
            "Epoch 84/100\n",
            "600/600 [==============================] - 2s 3ms/step - loss: 0.1598 - mean_squared_error: 0.1598 - val_loss: 0.1601 - val_mean_squared_error: 0.1601\n",
            "Epoch 85/100\n",
            "600/600 [==============================] - 2s 3ms/step - loss: 0.1598 - mean_squared_error: 0.1598 - val_loss: 0.1601 - val_mean_squared_error: 0.1601\n",
            "Epoch 86/100\n",
            "600/600 [==============================] - 2s 3ms/step - loss: 0.1598 - mean_squared_error: 0.1598 - val_loss: 0.1601 - val_mean_squared_error: 0.1601\n",
            "Epoch 87/100\n",
            "600/600 [==============================] - 2s 3ms/step - loss: 0.1598 - mean_squared_error: 0.1598 - val_loss: 0.1601 - val_mean_squared_error: 0.1601\n",
            "Epoch 88/100\n",
            "600/600 [==============================] - 2s 3ms/step - loss: 0.1598 - mean_squared_error: 0.1598 - val_loss: 0.1601 - val_mean_squared_error: 0.1601\n",
            "Epoch 89/100\n",
            "600/600 [==============================] - 2s 3ms/step - loss: 0.1598 - mean_squared_error: 0.1598 - val_loss: 0.1601 - val_mean_squared_error: 0.1601\n",
            "Epoch 90/100\n",
            "600/600 [==============================] - 3s 4ms/step - loss: 0.1598 - mean_squared_error: 0.1598 - val_loss: 0.1601 - val_mean_squared_error: 0.1601\n",
            "Epoch 91/100\n",
            "600/600 [==============================] - 3s 5ms/step - loss: 0.1598 - mean_squared_error: 0.1598 - val_loss: 0.1601 - val_mean_squared_error: 0.1601\n",
            "Epoch 92/100\n",
            "600/600 [==============================] - 3s 5ms/step - loss: 0.1598 - mean_squared_error: 0.1598 - val_loss: 0.1601 - val_mean_squared_error: 0.1601\n",
            "Epoch 93/100\n",
            "600/600 [==============================] - 2s 4ms/step - loss: 0.1598 - mean_squared_error: 0.1598 - val_loss: 0.1602 - val_mean_squared_error: 0.1602\n",
            "Epoch 94/100\n",
            "600/600 [==============================] - 2s 3ms/step - loss: 0.1598 - mean_squared_error: 0.1598 - val_loss: 0.1602 - val_mean_squared_error: 0.1602\n",
            "Epoch 95/100\n",
            "600/600 [==============================] - 2s 3ms/step - loss: 0.1598 - mean_squared_error: 0.1598 - val_loss: 0.1601 - val_mean_squared_error: 0.1601\n",
            "Epoch 96/100\n",
            "600/600 [==============================] - 2s 3ms/step - loss: 0.1598 - mean_squared_error: 0.1598 - val_loss: 0.1601 - val_mean_squared_error: 0.1601\n",
            "Epoch 97/100\n",
            "600/600 [==============================] - 2s 3ms/step - loss: 0.1598 - mean_squared_error: 0.1598 - val_loss: 0.1601 - val_mean_squared_error: 0.1601\n",
            "Epoch 98/100\n",
            "600/600 [==============================] - 3s 5ms/step - loss: 0.1598 - mean_squared_error: 0.1598 - val_loss: 0.1601 - val_mean_squared_error: 0.1601\n",
            "Epoch 99/100\n",
            "600/600 [==============================] - 2s 4ms/step - loss: 0.1598 - mean_squared_error: 0.1598 - val_loss: 0.1602 - val_mean_squared_error: 0.1602\n",
            "Epoch 100/100\n",
            "600/600 [==============================] - 2s 3ms/step - loss: 0.1598 - mean_squared_error: 0.1598 - val_loss: 0.1602 - val_mean_squared_error: 0.1602\n",
            "1563/1563 - 2s - loss: 0.1602 - mean_squared_error: 0.1602 - 2s/epoch - 1ms/step\n",
            "Test MSE loss: 0.16019394993782043\n"
          ]
        }
      ]
    },
    {
      "cell_type": "code",
      "source": [
        "# Plot the training and validation loss versus the number of epochs.\n",
        "tr_loss = []\n",
        "val_loss = []\n",
        "\n",
        "for i in range(100):\n",
        "  tr_loss.append(history4.history[\"loss\"][i])\n",
        "  val_loss.append(history4.history[\"val_loss\"][i])\n",
        "  \n",
        "plt.plot(range(100), tr_loss, \"-b\", label=\"training\")\n",
        "plt.plot(range(100), val_loss, \"-r\", label=\"validation\")\n",
        "plt.legend(loc=\"upper right\")\n",
        "plt.title(\"Training Loss and Validation Loss vs Number of Epochs\")\n",
        "plt.ylabel(\"Loss\")\n",
        "plt.xlabel(\"Epoch\")\n",
        "plt.show()"
      ],
      "metadata": {
        "colab": {
          "base_uri": "https://localhost:8080/",
          "height": 295
        },
        "id": "2byRWwMW97E3",
        "outputId": "e4f10bd2-a6a1-4509-cfc9-df2c3c153582"
      },
      "execution_count": 37,
      "outputs": [
        {
          "output_type": "display_data",
          "data": {
            "text/plain": [
              "<Figure size 432x288 with 1 Axes>"
            ],
            "image/png": "[encoded data removed]"
          },
          "metadata": {
            "needs_background": "light"
          }
        }
      ]
    },
    {
      "cell_type": "code",
      "source": [
        "m = 5\n",
        "d = 3\n",
        "l_rate = 0.0001\n",
        "epsilon = 0.001\n",
        "batch_size = 300\n",
        "val_split = 0.1\n",
        "no_epochs = 100\n",
        "\n",
        "optimiser = tf.optimizers.Adam(learning_rate=l_rate)\n",
        "model5 = perm_equi(3,10)\n",
        "\n",
        "model5.compile(optimizer=optimiser, loss='mse', metrics=[tf.keras.metrics.MeanSquaredError()])\n",
        "\n",
        "history5 = model5.fit(X_train,                          # training samples\n",
        "                    y_train,                          # training labels\n",
        "                    epochs=no_epochs,                 # training steps (epochs)\n",
        "                    batch_size=batch_size,           # how many data samples per training epoch\n",
        "                    validation_split=val_split)\n",
        "\n",
        "test_scores = model5.evaluate(X_test, y_test, batch_size = 128, verbose=2)\n",
        "print(\"Test MSE loss:\", test_scores[0])"
      ],
      "metadata": {
        "colab": {
          "base_uri": "https://localhost:8080/"
        },
        "id": "1M3SFAvY6M6u",
        "outputId": "222f8436-aada-4306-a72b-59e52ccadbcc"
      },
      "execution_count": 38,
      "outputs": [
        {
          "output_type": "stream",
          "name": "stdout",
          "text": [
            "Epoch 1/100\n",
            "600/600 [==============================] - 3s 4ms/step - loss: 0.2089 - mean_squared_error: 0.2089 - val_loss: 0.1768 - val_mean_squared_error: 0.1768\n",
            "Epoch 2/100\n",
            "600/600 [==============================] - 2s 3ms/step - loss: 0.1720 - mean_squared_error: 0.1720 - val_loss: 0.1687 - val_mean_squared_error: 0.1687\n",
            "Epoch 3/100\n",
            "600/600 [==============================] - 3s 5ms/step - loss: 0.1669 - mean_squared_error: 0.1669 - val_loss: 0.1656 - val_mean_squared_error: 0.1656\n",
            "Epoch 4/100\n",
            "600/600 [==============================] - 3s 4ms/step - loss: 0.1645 - mean_squared_error: 0.1645 - val_loss: 0.1640 - val_mean_squared_error: 0.1640\n",
            "Epoch 5/100\n",
            "600/600 [==============================] - 2s 3ms/step - loss: 0.1632 - mean_squared_error: 0.1632 - val_loss: 0.1629 - val_mean_squared_error: 0.1629\n",
            "Epoch 6/100\n",
            "600/600 [==============================] - 2s 3ms/step - loss: 0.1623 - mean_squared_error: 0.1623 - val_loss: 0.1622 - val_mean_squared_error: 0.1622\n",
            "Epoch 7/100\n",
            "600/600 [==============================] - 2s 3ms/step - loss: 0.1618 - mean_squared_error: 0.1618 - val_loss: 0.1617 - val_mean_squared_error: 0.1617\n",
            "Epoch 8/100\n",
            "600/600 [==============================] - 2s 3ms/step - loss: 0.1613 - mean_squared_error: 0.1613 - val_loss: 0.1614 - val_mean_squared_error: 0.1614\n",
            "Epoch 9/100\n",
            "600/600 [==============================] - 2s 3ms/step - loss: 0.1610 - mean_squared_error: 0.1610 - val_loss: 0.1611 - val_mean_squared_error: 0.1611\n",
            "Epoch 10/100\n",
            "600/600 [==============================] - 3s 5ms/step - loss: 0.1608 - mean_squared_error: 0.1608 - val_loss: 0.1610 - val_mean_squared_error: 0.1610\n",
            "Epoch 11/100\n",
            "600/600 [==============================] - 2s 4ms/step - loss: 0.1606 - mean_squared_error: 0.1606 - val_loss: 0.1608 - val_mean_squared_error: 0.1608\n",
            "Epoch 12/100\n",
            "600/600 [==============================] - 2s 3ms/step - loss: 0.1605 - mean_squared_error: 0.1605 - val_loss: 0.1607 - val_mean_squared_error: 0.1607\n",
            "Epoch 13/100\n",
            "600/600 [==============================] - 2s 3ms/step - loss: 0.1604 - mean_squared_error: 0.1604 - val_loss: 0.1606 - val_mean_squared_error: 0.1606\n",
            "Epoch 14/100\n",
            "600/600 [==============================] - 2s 3ms/step - loss: 0.1603 - mean_squared_error: 0.1603 - val_loss: 0.1606 - val_mean_squared_error: 0.1606\n",
            "Epoch 15/100\n",
            "600/600 [==============================] - 2s 3ms/step - loss: 0.1602 - mean_squared_error: 0.1602 - val_loss: 0.1605 - val_mean_squared_error: 0.1605\n",
            "Epoch 16/100\n",
            "600/600 [==============================] - 2s 4ms/step - loss: 0.1602 - mean_squared_error: 0.1602 - val_loss: 0.1605 - val_mean_squared_error: 0.1605\n",
            "Epoch 17/100\n",
            "600/600 [==============================] - 3s 5ms/step - loss: 0.1601 - mean_squared_error: 0.1601 - val_loss: 0.1605 - val_mean_squared_error: 0.1605\n",
            "Epoch 18/100\n",
            "600/600 [==============================] - 2s 4ms/step - loss: 0.1601 - mean_squared_error: 0.1601 - val_loss: 0.1604 - val_mean_squared_error: 0.1604\n",
            "Epoch 19/100\n",
            "600/600 [==============================] - 2s 3ms/step - loss: 0.1600 - mean_squared_error: 0.1600 - val_loss: 0.1604 - val_mean_squared_error: 0.1604\n",
            "Epoch 20/100\n",
            "600/600 [==============================] - 2s 3ms/step - loss: 0.1600 - mean_squared_error: 0.1600 - val_loss: 0.1604 - val_mean_squared_error: 0.1604\n",
            "Epoch 21/100\n",
            "600/600 [==============================] - 2s 3ms/step - loss: 0.1600 - mean_squared_error: 0.1600 - val_loss: 0.1604 - val_mean_squared_error: 0.1604\n",
            "Epoch 22/100\n",
            "600/600 [==============================] - 2s 3ms/step - loss: 0.1599 - mean_squared_error: 0.1599 - val_loss: 0.1604 - val_mean_squared_error: 0.1604\n",
            "Epoch 23/100\n",
            "600/600 [==============================] - 3s 4ms/step - loss: 0.1599 - mean_squared_error: 0.1599 - val_loss: 0.1603 - val_mean_squared_error: 0.1603\n",
            "Epoch 24/100\n",
            "600/600 [==============================] - 3s 5ms/step - loss: 0.1599 - mean_squared_error: 0.1599 - val_loss: 0.1603 - val_mean_squared_error: 0.1603\n",
            "Epoch 25/100\n",
            "600/600 [==============================] - 2s 3ms/step - loss: 0.1599 - mean_squared_error: 0.1599 - val_loss: 0.1603 - val_mean_squared_error: 0.1603\n",
            "Epoch 26/100\n",
            "600/600 [==============================] - 2s 3ms/step - loss: 0.1599 - mean_squared_error: 0.1599 - val_loss: 0.1603 - val_mean_squared_error: 0.1603\n",
            "Epoch 27/100\n",
            "600/600 [==============================] - 2s 3ms/step - loss: 0.1599 - mean_squared_error: 0.1599 - val_loss: 0.1603 - val_mean_squared_error: 0.1603\n",
            "Epoch 28/100\n",
            "600/600 [==============================] - 2s 3ms/step - loss: 0.1598 - mean_squared_error: 0.1598 - val_loss: 0.1603 - val_mean_squared_error: 0.1603\n",
            "Epoch 29/100\n",
            "600/600 [==============================] - 2s 3ms/step - loss: 0.1598 - mean_squared_error: 0.1598 - val_loss: 0.1603 - val_mean_squared_error: 0.1603\n",
            "Epoch 30/100\n",
            "600/600 [==============================] - 3s 4ms/step - loss: 0.1598 - mean_squared_error: 0.1598 - val_loss: 0.1603 - val_mean_squared_error: 0.1603\n",
            "Epoch 31/100\n",
            "600/600 [==============================] - 3s 5ms/step - loss: 0.1598 - mean_squared_error: 0.1598 - val_loss: 0.1603 - val_mean_squared_error: 0.1603\n",
            "Epoch 32/100\n",
            "600/600 [==============================] - 2s 3ms/step - loss: 0.1598 - mean_squared_error: 0.1598 - val_loss: 0.1603 - val_mean_squared_error: 0.1603\n",
            "Epoch 33/100\n",
            "600/600 [==============================] - 2s 3ms/step - loss: 0.1598 - mean_squared_error: 0.1598 - val_loss: 0.1603 - val_mean_squared_error: 0.1603\n",
            "Epoch 34/100\n",
            "600/600 [==============================] - 2s 3ms/step - loss: 0.1598 - mean_squared_error: 0.1598 - val_loss: 0.1603 - val_mean_squared_error: 0.1603\n",
            "Epoch 35/100\n",
            "600/600 [==============================] - 2s 3ms/step - loss: 0.1598 - mean_squared_error: 0.1598 - val_loss: 0.1603 - val_mean_squared_error: 0.1603\n",
            "Epoch 36/100\n",
            "600/600 [==============================] - 2s 3ms/step - loss: 0.1597 - mean_squared_error: 0.1597 - val_loss: 0.1603 - val_mean_squared_error: 0.1603\n",
            "Epoch 37/100\n",
            "600/600 [==============================] - 3s 5ms/step - loss: 0.1597 - mean_squared_error: 0.1597 - val_loss: 0.1603 - val_mean_squared_error: 0.1603\n",
            "Epoch 38/100\n",
            "600/600 [==============================] - 3s 4ms/step - loss: 0.1597 - mean_squared_error: 0.1597 - val_loss: 0.1603 - val_mean_squared_error: 0.1603\n",
            "Epoch 39/100\n",
            "600/600 [==============================] - 2s 3ms/step - loss: 0.1597 - mean_squared_error: 0.1597 - val_loss: 0.1603 - val_mean_squared_error: 0.1603\n",
            "Epoch 40/100\n",
            "600/600 [==============================] - 2s 3ms/step - loss: 0.1597 - mean_squared_error: 0.1597 - val_loss: 0.1603 - val_mean_squared_error: 0.1603\n",
            "Epoch 41/100\n",
            "600/600 [==============================] - 2s 3ms/step - loss: 0.1597 - mean_squared_error: 0.1597 - val_loss: 0.1603 - val_mean_squared_error: 0.1603\n",
            "Epoch 42/100\n",
            "600/600 [==============================] - 2s 3ms/step - loss: 0.1597 - mean_squared_error: 0.1597 - val_loss: 0.1603 - val_mean_squared_error: 0.1603\n",
            "Epoch 43/100\n",
            "600/600 [==============================] - 2s 4ms/step - loss: 0.1597 - mean_squared_error: 0.1597 - val_loss: 0.1603 - val_mean_squared_error: 0.1603\n",
            "Epoch 44/100\n",
            "600/600 [==============================] - 3s 5ms/step - loss: 0.1597 - mean_squared_error: 0.1597 - val_loss: 0.1603 - val_mean_squared_error: 0.1603\n",
            "Epoch 45/100\n",
            "600/600 [==============================] - 2s 4ms/step - loss: 0.1597 - mean_squared_error: 0.1597 - val_loss: 0.1603 - val_mean_squared_error: 0.1603\n",
            "Epoch 46/100\n",
            "600/600 [==============================] - 2s 3ms/step - loss: 0.1596 - mean_squared_error: 0.1596 - val_loss: 0.1603 - val_mean_squared_error: 0.1603\n",
            "Epoch 47/100\n",
            "600/600 [==============================] - 2s 3ms/step - loss: 0.1596 - mean_squared_error: 0.1596 - val_loss: 0.1603 - val_mean_squared_error: 0.1603\n",
            "Epoch 48/100\n",
            "600/600 [==============================] - 2s 3ms/step - loss: 0.1596 - mean_squared_error: 0.1596 - val_loss: 0.1603 - val_mean_squared_error: 0.1603\n",
            "Epoch 49/100\n",
            "600/600 [==============================] - 2s 3ms/step - loss: 0.1596 - mean_squared_error: 0.1596 - val_loss: 0.1603 - val_mean_squared_error: 0.1603\n",
            "Epoch 50/100\n",
            "600/600 [==============================] - 3s 5ms/step - loss: 0.1596 - mean_squared_error: 0.1596 - val_loss: 0.1603 - val_mean_squared_error: 0.1603\n",
            "Epoch 51/100\n",
            "600/600 [==============================] - 3s 5ms/step - loss: 0.1596 - mean_squared_error: 0.1596 - val_loss: 0.1603 - val_mean_squared_error: 0.1603\n",
            "Epoch 52/100\n",
            "600/600 [==============================] - 2s 3ms/step - loss: 0.1596 - mean_squared_error: 0.1596 - val_loss: 0.1603 - val_mean_squared_error: 0.1603\n",
            "Epoch 53/100\n",
            "600/600 [==============================] - 2s 3ms/step - loss: 0.1596 - mean_squared_error: 0.1596 - val_loss: 0.1603 - val_mean_squared_error: 0.1603\n",
            "Epoch 54/100\n",
            "600/600 [==============================] - 2s 3ms/step - loss: 0.1596 - mean_squared_error: 0.1596 - val_loss: 0.1603 - val_mean_squared_error: 0.1603\n",
            "Epoch 55/100\n",
            "600/600 [==============================] - 2s 3ms/step - loss: 0.1596 - mean_squared_error: 0.1596 - val_loss: 0.1603 - val_mean_squared_error: 0.1603\n",
            "Epoch 56/100\n",
            "600/600 [==============================] - 2s 4ms/step - loss: 0.1596 - mean_squared_error: 0.1596 - val_loss: 0.1603 - val_mean_squared_error: 0.1603\n",
            "Epoch 57/100\n",
            "600/600 [==============================] - 3s 5ms/step - loss: 0.1596 - mean_squared_error: 0.1596 - val_loss: 0.1603 - val_mean_squared_error: 0.1603\n",
            "Epoch 58/100\n",
            "600/600 [==============================] - 2s 4ms/step - loss: 0.1596 - mean_squared_error: 0.1596 - val_loss: 0.1603 - val_mean_squared_error: 0.1603\n",
            "Epoch 59/100\n",
            "600/600 [==============================] - 2s 3ms/step - loss: 0.1596 - mean_squared_error: 0.1596 - val_loss: 0.1603 - val_mean_squared_error: 0.1603\n",
            "Epoch 60/100\n",
            "600/600 [==============================] - 2s 3ms/step - loss: 0.1596 - mean_squared_error: 0.1596 - val_loss: 0.1603 - val_mean_squared_error: 0.1603\n",
            "Epoch 61/100\n",
            "600/600 [==============================] - 2s 3ms/step - loss: 0.1595 - mean_squared_error: 0.1595 - val_loss: 0.1603 - val_mean_squared_error: 0.1603\n",
            "Epoch 62/100\n",
            "600/600 [==============================] - 2s 3ms/step - loss: 0.1595 - mean_squared_error: 0.1595 - val_loss: 0.1603 - val_mean_squared_error: 0.1603\n",
            "Epoch 63/100\n",
            "600/600 [==============================] - 3s 5ms/step - loss: 0.1595 - mean_squared_error: 0.1595 - val_loss: 0.1603 - val_mean_squared_error: 0.1603\n",
            "Epoch 64/100\n",
            "600/600 [==============================] - 3s 5ms/step - loss: 0.1595 - mean_squared_error: 0.1595 - val_loss: 0.1603 - val_mean_squared_error: 0.1603\n",
            "Epoch 65/100\n",
            "600/600 [==============================] - 2s 3ms/step - loss: 0.1595 - mean_squared_error: 0.1595 - val_loss: 0.1603 - val_mean_squared_error: 0.1603\n",
            "Epoch 66/100\n",
            "600/600 [==============================] - 2s 3ms/step - loss: 0.1595 - mean_squared_error: 0.1595 - val_loss: 0.1603 - val_mean_squared_error: 0.1603\n",
            "Epoch 67/100\n",
            "600/600 [==============================] - 2s 3ms/step - loss: 0.1595 - mean_squared_error: 0.1595 - val_loss: 0.1603 - val_mean_squared_error: 0.1603\n",
            "Epoch 68/100\n",
            "600/600 [==============================] - 2s 3ms/step - loss: 0.1595 - mean_squared_error: 0.1595 - val_loss: 0.1603 - val_mean_squared_error: 0.1603\n",
            "Epoch 69/100\n",
            "600/600 [==============================] - 2s 4ms/step - loss: 0.1595 - mean_squared_error: 0.1595 - val_loss: 0.1603 - val_mean_squared_error: 0.1603\n",
            "Epoch 70/100\n",
            "600/600 [==============================] - 3s 5ms/step - loss: 0.1595 - mean_squared_error: 0.1595 - val_loss: 0.1604 - val_mean_squared_error: 0.1604\n",
            "Epoch 71/100\n",
            "600/600 [==============================] - 2s 4ms/step - loss: 0.1595 - mean_squared_error: 0.1595 - val_loss: 0.1603 - val_mean_squared_error: 0.1603\n",
            "Epoch 72/100\n",
            "600/600 [==============================] - 2s 3ms/step - loss: 0.1595 - mean_squared_error: 0.1595 - val_loss: 0.1604 - val_mean_squared_error: 0.1604\n",
            "Epoch 73/100\n",
            "600/600 [==============================] - 2s 3ms/step - loss: 0.1595 - mean_squared_error: 0.1595 - val_loss: 0.1604 - val_mean_squared_error: 0.1604\n",
            "Epoch 74/100\n",
            "600/600 [==============================] - 2s 3ms/step - loss: 0.1595 - mean_squared_error: 0.1595 - val_loss: 0.1604 - val_mean_squared_error: 0.1604\n",
            "Epoch 75/100\n",
            "600/600 [==============================] - 2s 3ms/step - loss: 0.1595 - mean_squared_error: 0.1595 - val_loss: 0.1604 - val_mean_squared_error: 0.1604\n",
            "Epoch 76/100\n",
            "600/600 [==============================] - 3s 4ms/step - loss: 0.1595 - mean_squared_error: 0.1595 - val_loss: 0.1604 - val_mean_squared_error: 0.1604\n",
            "Epoch 77/100\n",
            "600/600 [==============================] - 3s 5ms/step - loss: 0.1594 - mean_squared_error: 0.1594 - val_loss: 0.1604 - val_mean_squared_error: 0.1604\n",
            "Epoch 78/100\n",
            "600/600 [==============================] - 2s 3ms/step - loss: 0.1594 - mean_squared_error: 0.1594 - val_loss: 0.1604 - val_mean_squared_error: 0.1604\n",
            "Epoch 79/100\n",
            "600/600 [==============================] - 2s 3ms/step - loss: 0.1594 - mean_squared_error: 0.1594 - val_loss: 0.1604 - val_mean_squared_error: 0.1604\n",
            "Epoch 80/100\n",
            "600/600 [==============================] - 2s 3ms/step - loss: 0.1594 - mean_squared_error: 0.1594 - val_loss: 0.1604 - val_mean_squared_error: 0.1604\n",
            "Epoch 81/100\n",
            "600/600 [==============================] - 2s 3ms/step - loss: 0.1594 - mean_squared_error: 0.1594 - val_loss: 0.1604 - val_mean_squared_error: 0.1604\n",
            "Epoch 82/100\n",
            "600/600 [==============================] - 2s 4ms/step - loss: 0.1594 - mean_squared_error: 0.1594 - val_loss: 0.1604 - val_mean_squared_error: 0.1604\n",
            "Epoch 83/100\n",
            "600/600 [==============================] - 3s 5ms/step - loss: 0.1594 - mean_squared_error: 0.1594 - val_loss: 0.1603 - val_mean_squared_error: 0.1603\n",
            "Epoch 84/100\n",
            "600/600 [==============================] - 3s 5ms/step - loss: 0.1594 - mean_squared_error: 0.1594 - val_loss: 0.1603 - val_mean_squared_error: 0.1603\n",
            "Epoch 85/100\n",
            "600/600 [==============================] - 3s 4ms/step - loss: 0.1594 - mean_squared_error: 0.1594 - val_loss: 0.1604 - val_mean_squared_error: 0.1604\n",
            "Epoch 86/100\n",
            "600/600 [==============================] - 2s 3ms/step - loss: 0.1594 - mean_squared_error: 0.1594 - val_loss: 0.1603 - val_mean_squared_error: 0.1603\n",
            "Epoch 87/100\n",
            "600/600 [==============================] - 2s 3ms/step - loss: 0.1593 - mean_squared_error: 0.1593 - val_loss: 0.1603 - val_mean_squared_error: 0.1603\n",
            "Epoch 88/100\n",
            "600/600 [==============================] - 2s 3ms/step - loss: 0.1593 - mean_squared_error: 0.1593 - val_loss: 0.1603 - val_mean_squared_error: 0.1603\n",
            "Epoch 89/100\n",
            "600/600 [==============================] - 2s 3ms/step - loss: 0.1593 - mean_squared_error: 0.1593 - val_loss: 0.1603 - val_mean_squared_error: 0.1603\n",
            "Epoch 90/100\n",
            "600/600 [==============================] - 2s 3ms/step - loss: 0.1593 - mean_squared_error: 0.1593 - val_loss: 0.1603 - val_mean_squared_error: 0.1603\n",
            "Epoch 91/100\n",
            "600/600 [==============================] - 3s 5ms/step - loss: 0.1593 - mean_squared_error: 0.1593 - val_loss: 0.1603 - val_mean_squared_error: 0.1603\n",
            "Epoch 92/100\n",
            "600/600 [==============================] - 2s 4ms/step - loss: 0.1592 - mean_squared_error: 0.1592 - val_loss: 0.1602 - val_mean_squared_error: 0.1602\n",
            "Epoch 93/100\n",
            "600/600 [==============================] - 2s 3ms/step - loss: 0.1592 - mean_squared_error: 0.1592 - val_loss: 0.1602 - val_mean_squared_error: 0.1602\n",
            "Epoch 94/100\n",
            "600/600 [==============================] - 2s 3ms/step - loss: 0.1592 - mean_squared_error: 0.1592 - val_loss: 0.1602 - val_mean_squared_error: 0.1602\n",
            "Epoch 95/100\n",
            "600/600 [==============================] - 2s 3ms/step - loss: 0.1591 - mean_squared_error: 0.1591 - val_loss: 0.1602 - val_mean_squared_error: 0.1602\n",
            "Epoch 96/100\n",
            "600/600 [==============================] - 2s 3ms/step - loss: 0.1591 - mean_squared_error: 0.1591 - val_loss: 0.1601 - val_mean_squared_error: 0.1601\n",
            "Epoch 97/100\n",
            "600/600 [==============================] - 2s 3ms/step - loss: 0.1591 - mean_squared_error: 0.1591 - val_loss: 0.1601 - val_mean_squared_error: 0.1601\n",
            "Epoch 98/100\n",
            "600/600 [==============================] - 3s 5ms/step - loss: 0.1590 - mean_squared_error: 0.1590 - val_loss: 0.1601 - val_mean_squared_error: 0.1601\n",
            "Epoch 99/100\n",
            "600/600 [==============================] - 2s 4ms/step - loss: 0.1590 - mean_squared_error: 0.1590 - val_loss: 0.1601 - val_mean_squared_error: 0.1601\n",
            "Epoch 100/100\n",
            "600/600 [==============================] - 2s 3ms/step - loss: 0.1589 - mean_squared_error: 0.1589 - val_loss: 0.1600 - val_mean_squared_error: 0.1600\n",
            "1563/1563 - 2s - loss: 0.1600 - mean_squared_error: 0.1600 - 2s/epoch - 1ms/step\n",
            "Test MSE loss: 0.16004325449466705\n"
          ]
        }
      ]
    },
    {
      "cell_type": "code",
      "source": [
        "# Plot the training and validation loss versus the number of epochs.\n",
        "tr_loss = []\n",
        "val_loss = []\n",
        "\n",
        "for i in range(100):\n",
        "  tr_loss.append(history5.history[\"loss\"][i])\n",
        "  val_loss.append(history5.history[\"val_loss\"][i])\n",
        "  \n",
        "plt.plot(range(100), tr_loss, \"-b\", label=\"training\")\n",
        "plt.plot(range(100), val_loss, \"-r\", label=\"validation\")\n",
        "plt.legend(loc=\"upper right\")\n",
        "plt.title(\"Training Loss and Validation Loss vs Number of Epochs\")\n",
        "plt.ylabel(\"Loss\")\n",
        "plt.xlabel(\"Epoch\")\n",
        "plt.show()"
      ],
      "metadata": {
        "colab": {
          "base_uri": "https://localhost:8080/",
          "height": 295
        },
        "id": "rJLsdJHI9_5a",
        "outputId": "a3be4fb1-b28a-42bf-edc2-025813b8c7a1"
      },
      "execution_count": 39,
      "outputs": [
        {
          "output_type": "display_data",
          "data": {
            "text/plain": [
              "<Figure size 432x288 with 1 Axes>"
            ],
            "image/png": "[encoded data removed]"
          },
          "metadata": {
            "needs_background": "light"
          }
        }
      ]
    },
    {
      "cell_type": "code",
      "source": [
        "m = 5\n",
        "d = 3\n",
        "l_rate = 0.0001\n",
        "epsilon = 0.001\n",
        "batch_size = 300\n",
        "val_split = 0.1\n",
        "no_epochs = 100\n",
        "\n",
        "optimiser = tf.optimizers.Adam(learning_rate=l_rate)\n",
        "model6 = perm_equi(3,100)\n",
        "\n",
        "model6.compile(optimizer=optimiser, loss='mse', metrics=[tf.keras.metrics.MeanSquaredError()])\n",
        "\n",
        "history6 = model6.fit(X_train,                          # training samples\n",
        "                    y_train,                          # training labels\n",
        "                    epochs=no_epochs,                 # training steps (epochs)\n",
        "                    batch_size=batch_size,           # how many data samples per training epoch\n",
        "                    validation_split=val_split)\n",
        "\n",
        "test_scores = model6.evaluate(X_test, y_test, batch_size = 128, verbose=2)\n",
        "print(\"Test MSE loss:\", test_scores[0])"
      ],
      "metadata": {
        "colab": {
          "base_uri": "https://localhost:8080/"
        },
        "id": "EfrJKlHb6PkQ",
        "outputId": "6082dec0-45d5-4964-b50e-162188535b91"
      },
      "execution_count": 40,
      "outputs": [
        {
          "output_type": "stream",
          "name": "stdout",
          "text": [
            "Epoch 1/100\n",
            "600/600 [==============================] - 14s 22ms/step - loss: 0.1639 - mean_squared_error: 0.1639 - val_loss: 0.1621 - val_mean_squared_error: 0.1621\n",
            "Epoch 2/100\n",
            "600/600 [==============================] - 13s 21ms/step - loss: 0.1612 - mean_squared_error: 0.1612 - val_loss: 0.1615 - val_mean_squared_error: 0.1615\n",
            "Epoch 3/100\n",
            "600/600 [==============================] - 12s 20ms/step - loss: 0.1604 - mean_squared_error: 0.1604 - val_loss: 0.1613 - val_mean_squared_error: 0.1613\n",
            "Epoch 4/100\n",
            "600/600 [==============================] - 11s 18ms/step - loss: 0.1599 - mean_squared_error: 0.1599 - val_loss: 0.1613 - val_mean_squared_error: 0.1613\n",
            "Epoch 5/100\n",
            "600/600 [==============================] - 12s 21ms/step - loss: 0.1596 - mean_squared_error: 0.1596 - val_loss: 0.1613 - val_mean_squared_error: 0.1613\n",
            "Epoch 6/100\n",
            "600/600 [==============================] - 12s 21ms/step - loss: 0.1593 - mean_squared_error: 0.1593 - val_loss: 0.1613 - val_mean_squared_error: 0.1613\n",
            "Epoch 7/100\n",
            "600/600 [==============================] - 12s 21ms/step - loss: 0.1591 - mean_squared_error: 0.1591 - val_loss: 0.1614 - val_mean_squared_error: 0.1614\n",
            "Epoch 8/100\n",
            "600/600 [==============================] - 12s 20ms/step - loss: 0.1588 - mean_squared_error: 0.1588 - val_loss: 0.1612 - val_mean_squared_error: 0.1612\n",
            "Epoch 9/100\n",
            "600/600 [==============================] - 11s 18ms/step - loss: 0.1586 - mean_squared_error: 0.1586 - val_loss: 0.1612 - val_mean_squared_error: 0.1612\n",
            "Epoch 10/100\n",
            "600/600 [==============================] - 12s 21ms/step - loss: 0.1584 - mean_squared_error: 0.1584 - val_loss: 0.1613 - val_mean_squared_error: 0.1613\n",
            "Epoch 11/100\n",
            "600/600 [==============================] - 13s 21ms/step - loss: 0.1581 - mean_squared_error: 0.1581 - val_loss: 0.1613 - val_mean_squared_error: 0.1613\n",
            "Epoch 12/100\n",
            "600/600 [==============================] - 13s 21ms/step - loss: 0.1578 - mean_squared_error: 0.1578 - val_loss: 0.1612 - val_mean_squared_error: 0.1612\n",
            "Epoch 13/100\n",
            "600/600 [==============================] - 13s 21ms/step - loss: 0.1576 - mean_squared_error: 0.1576 - val_loss: 0.1612 - val_mean_squared_error: 0.1612\n",
            "Epoch 14/100\n",
            "600/600 [==============================] - 13s 21ms/step - loss: 0.1573 - mean_squared_error: 0.1573 - val_loss: 0.1614 - val_mean_squared_error: 0.1614\n",
            "Epoch 15/100\n",
            "600/600 [==============================] - 13s 21ms/step - loss: 0.1570 - mean_squared_error: 0.1570 - val_loss: 0.1613 - val_mean_squared_error: 0.1613\n",
            "Epoch 16/100\n",
            "600/600 [==============================] - 13s 21ms/step - loss: 0.1568 - mean_squared_error: 0.1568 - val_loss: 0.1612 - val_mean_squared_error: 0.1612\n",
            "Epoch 17/100\n",
            "600/600 [==============================] - 13s 21ms/step - loss: 0.1565 - mean_squared_error: 0.1565 - val_loss: 0.1612 - val_mean_squared_error: 0.1612\n",
            "Epoch 18/100\n",
            "600/600 [==============================] - 13s 21ms/step - loss: 0.1562 - mean_squared_error: 0.1562 - val_loss: 0.1614 - val_mean_squared_error: 0.1614\n",
            "Epoch 19/100\n",
            "600/600 [==============================] - 11s 19ms/step - loss: 0.1559 - mean_squared_error: 0.1559 - val_loss: 0.1613 - val_mean_squared_error: 0.1613\n",
            "Epoch 20/100\n",
            "600/600 [==============================] - 12s 20ms/step - loss: 0.1556 - mean_squared_error: 0.1556 - val_loss: 0.1611 - val_mean_squared_error: 0.1611\n",
            "Epoch 21/100\n",
            "600/600 [==============================] - 22s 36ms/step - loss: 0.1552 - mean_squared_error: 0.1552 - val_loss: 0.1611 - val_mean_squared_error: 0.1611\n",
            "Epoch 22/100\n",
            "600/600 [==============================] - 11s 18ms/step - loss: 0.1549 - mean_squared_error: 0.1549 - val_loss: 0.1611 - val_mean_squared_error: 0.1611\n",
            "Epoch 23/100\n",
            "600/600 [==============================] - 16s 27ms/step - loss: 0.1546 - mean_squared_error: 0.1546 - val_loss: 0.1610 - val_mean_squared_error: 0.1610\n",
            "Epoch 24/100\n",
            "600/600 [==============================] - 15s 25ms/step - loss: 0.1542 - mean_squared_error: 0.1542 - val_loss: 0.1609 - val_mean_squared_error: 0.1609\n",
            "Epoch 25/100\n",
            "600/600 [==============================] - 12s 20ms/step - loss: 0.1538 - mean_squared_error: 0.1538 - val_loss: 0.1609 - val_mean_squared_error: 0.1609\n",
            "Epoch 26/100\n",
            "600/600 [==============================] - 13s 21ms/step - loss: 0.1534 - mean_squared_error: 0.1534 - val_loss: 0.1611 - val_mean_squared_error: 0.1611\n",
            "Epoch 27/100\n",
            "600/600 [==============================] - 13s 22ms/step - loss: 0.1530 - mean_squared_error: 0.1530 - val_loss: 0.1608 - val_mean_squared_error: 0.1608\n",
            "Epoch 28/100\n",
            "600/600 [==============================] - 13s 22ms/step - loss: 0.1526 - mean_squared_error: 0.1526 - val_loss: 0.1606 - val_mean_squared_error: 0.1606\n",
            "Epoch 29/100\n",
            "600/600 [==============================] - 21s 35ms/step - loss: 0.1522 - mean_squared_error: 0.1522 - val_loss: 0.1606 - val_mean_squared_error: 0.1606\n",
            "Epoch 30/100\n",
            "600/600 [==============================] - 25s 42ms/step - loss: 0.1518 - mean_squared_error: 0.1518 - val_loss: 0.1605 - val_mean_squared_error: 0.1605\n",
            "Epoch 31/100\n",
            "600/600 [==============================] - 22s 37ms/step - loss: 0.1514 - mean_squared_error: 0.1514 - val_loss: 0.1606 - val_mean_squared_error: 0.1606\n",
            "Epoch 32/100\n",
            "600/600 [==============================] - 26s 43ms/step - loss: 0.1511 - mean_squared_error: 0.1511 - val_loss: 0.1605 - val_mean_squared_error: 0.1605\n",
            "Epoch 33/100\n",
            "600/600 [==============================] - 20s 33ms/step - loss: 0.1507 - mean_squared_error: 0.1507 - val_loss: 0.1604 - val_mean_squared_error: 0.1604\n",
            "Epoch 34/100\n",
            "600/600 [==============================] - 13s 21ms/step - loss: 0.1503 - mean_squared_error: 0.1503 - val_loss: 0.1602 - val_mean_squared_error: 0.1602\n",
            "Epoch 35/100\n",
            "600/600 [==============================] - 12s 20ms/step - loss: 0.1500 - mean_squared_error: 0.1500 - val_loss: 0.1602 - val_mean_squared_error: 0.1602\n",
            "Epoch 36/100\n",
            "600/600 [==============================] - 12s 19ms/step - loss: 0.1497 - mean_squared_error: 0.1497 - val_loss: 0.1603 - val_mean_squared_error: 0.1603\n",
            "Epoch 37/100\n",
            "600/600 [==============================] - 13s 21ms/step - loss: 0.1493 - mean_squared_error: 0.1493 - val_loss: 0.1606 - val_mean_squared_error: 0.1606\n",
            "Epoch 38/100\n",
            "600/600 [==============================] - 14s 24ms/step - loss: 0.1490 - mean_squared_error: 0.1490 - val_loss: 0.1607 - val_mean_squared_error: 0.1607\n",
            "Epoch 39/100\n",
            "600/600 [==============================] - 13s 22ms/step - loss: 0.1486 - mean_squared_error: 0.1486 - val_loss: 0.1604 - val_mean_squared_error: 0.1604\n",
            "Epoch 40/100\n",
            "600/600 [==============================] - 13s 22ms/step - loss: 0.1483 - mean_squared_error: 0.1483 - val_loss: 0.1603 - val_mean_squared_error: 0.1603\n",
            "Epoch 41/100\n",
            "600/600 [==============================] - 12s 21ms/step - loss: 0.1479 - mean_squared_error: 0.1479 - val_loss: 0.1606 - val_mean_squared_error: 0.1606\n",
            "Epoch 42/100\n",
            "600/600 [==============================] - 11s 18ms/step - loss: 0.1477 - mean_squared_error: 0.1477 - val_loss: 0.1606 - val_mean_squared_error: 0.1606\n",
            "Epoch 43/100\n",
            "600/600 [==============================] - 15s 25ms/step - loss: 0.1473 - mean_squared_error: 0.1473 - val_loss: 0.1606 - val_mean_squared_error: 0.1606\n",
            "Epoch 44/100\n",
            "600/600 [==============================] - 13s 21ms/step - loss: 0.1471 - mean_squared_error: 0.1471 - val_loss: 0.1604 - val_mean_squared_error: 0.1604\n",
            "Epoch 45/100\n",
            "600/600 [==============================] - 13s 22ms/step - loss: 0.1467 - mean_squared_error: 0.1467 - val_loss: 0.1607 - val_mean_squared_error: 0.1607\n",
            "Epoch 46/100\n",
            "600/600 [==============================] - 15s 25ms/step - loss: 0.1465 - mean_squared_error: 0.1465 - val_loss: 0.1612 - val_mean_squared_error: 0.1612\n",
            "Epoch 47/100\n",
            "600/600 [==============================] - 13s 21ms/step - loss: 0.1461 - mean_squared_error: 0.1461 - val_loss: 0.1605 - val_mean_squared_error: 0.1605\n",
            "Epoch 48/100\n",
            "600/600 [==============================] - 13s 22ms/step - loss: 0.1459 - mean_squared_error: 0.1459 - val_loss: 0.1610 - val_mean_squared_error: 0.1610\n",
            "Epoch 49/100\n",
            "600/600 [==============================] - 12s 20ms/step - loss: 0.1456 - mean_squared_error: 0.1456 - val_loss: 0.1609 - val_mean_squared_error: 0.1609\n",
            "Epoch 50/100\n",
            "600/600 [==============================] - 11s 19ms/step - loss: 0.1453 - mean_squared_error: 0.1453 - val_loss: 0.1608 - val_mean_squared_error: 0.1608\n",
            "Epoch 51/100\n",
            "600/600 [==============================] - 13s 21ms/step - loss: 0.1451 - mean_squared_error: 0.1451 - val_loss: 0.1609 - val_mean_squared_error: 0.1609\n",
            "Epoch 52/100\n",
            "600/600 [==============================] - 13s 21ms/step - loss: 0.1448 - mean_squared_error: 0.1448 - val_loss: 0.1610 - val_mean_squared_error: 0.1610\n",
            "Epoch 53/100\n",
            "600/600 [==============================] - 13s 21ms/step - loss: 0.1445 - mean_squared_error: 0.1445 - val_loss: 0.1608 - val_mean_squared_error: 0.1608\n",
            "Epoch 54/100\n",
            "600/600 [==============================] - 12s 21ms/step - loss: 0.1443 - mean_squared_error: 0.1443 - val_loss: 0.1616 - val_mean_squared_error: 0.1616\n",
            "Epoch 55/100\n",
            "600/600 [==============================] - 11s 19ms/step - loss: 0.1440 - mean_squared_error: 0.1440 - val_loss: 0.1610 - val_mean_squared_error: 0.1610\n",
            "Epoch 56/100\n",
            "600/600 [==============================] - 12s 21ms/step - loss: 0.1437 - mean_squared_error: 0.1437 - val_loss: 0.1614 - val_mean_squared_error: 0.1614\n",
            "Epoch 57/100\n",
            "600/600 [==============================] - 13s 21ms/step - loss: 0.1435 - mean_squared_error: 0.1435 - val_loss: 0.1613 - val_mean_squared_error: 0.1613\n",
            "Epoch 58/100\n",
            "600/600 [==============================] - 13s 21ms/step - loss: 0.1431 - mean_squared_error: 0.1431 - val_loss: 0.1615 - val_mean_squared_error: 0.1615\n",
            "Epoch 59/100\n",
            "600/600 [==============================] - 14s 23ms/step - loss: 0.1429 - mean_squared_error: 0.1429 - val_loss: 0.1612 - val_mean_squared_error: 0.1612\n",
            "Epoch 60/100\n",
            "600/600 [==============================] - 14s 24ms/step - loss: 0.1427 - mean_squared_error: 0.1427 - val_loss: 0.1611 - val_mean_squared_error: 0.1611\n",
            "Epoch 61/100\n",
            "600/600 [==============================] - 11s 19ms/step - loss: 0.1424 - mean_squared_error: 0.1424 - val_loss: 0.1619 - val_mean_squared_error: 0.1619\n",
            "Epoch 62/100\n",
            "600/600 [==============================] - 12s 20ms/step - loss: 0.1421 - mean_squared_error: 0.1421 - val_loss: 0.1616 - val_mean_squared_error: 0.1616\n",
            "Epoch 63/100\n",
            "600/600 [==============================] - 13s 21ms/step - loss: 0.1419 - mean_squared_error: 0.1419 - val_loss: 0.1613 - val_mean_squared_error: 0.1613\n",
            "Epoch 64/100\n",
            "600/600 [==============================] - 12s 21ms/step - loss: 0.1416 - mean_squared_error: 0.1416 - val_loss: 0.1614 - val_mean_squared_error: 0.1614\n",
            "Epoch 65/100\n",
            "600/600 [==============================] - 13s 21ms/step - loss: 0.1414 - mean_squared_error: 0.1414 - val_loss: 0.1622 - val_mean_squared_error: 0.1622\n",
            "Epoch 66/100\n",
            "600/600 [==============================] - 12s 19ms/step - loss: 0.1411 - mean_squared_error: 0.1411 - val_loss: 0.1626 - val_mean_squared_error: 0.1626\n",
            "Epoch 67/100\n",
            "600/600 [==============================] - 11s 19ms/step - loss: 0.1409 - mean_squared_error: 0.1409 - val_loss: 0.1616 - val_mean_squared_error: 0.1616\n",
            "Epoch 68/100\n",
            "600/600 [==============================] - 15s 25ms/step - loss: 0.1407 - mean_squared_error: 0.1407 - val_loss: 0.1616 - val_mean_squared_error: 0.1616\n",
            "Epoch 69/100\n",
            "600/600 [==============================] - 13s 21ms/step - loss: 0.1405 - mean_squared_error: 0.1405 - val_loss: 0.1620 - val_mean_squared_error: 0.1620\n",
            "Epoch 70/100\n",
            "600/600 [==============================] - 13s 21ms/step - loss: 0.1403 - mean_squared_error: 0.1403 - val_loss: 0.1619 - val_mean_squared_error: 0.1619\n",
            "Epoch 71/100\n",
            "600/600 [==============================] - 13s 22ms/step - loss: 0.1400 - mean_squared_error: 0.1400 - val_loss: 0.1622 - val_mean_squared_error: 0.1622\n",
            "Epoch 72/100\n",
            "600/600 [==============================] - 12s 19ms/step - loss: 0.1398 - mean_squared_error: 0.1398 - val_loss: 0.1621 - val_mean_squared_error: 0.1621\n",
            "Epoch 73/100\n",
            "600/600 [==============================] - 12s 19ms/step - loss: 0.1395 - mean_squared_error: 0.1395 - val_loss: 0.1621 - val_mean_squared_error: 0.1621\n",
            "Epoch 74/100\n",
            "600/600 [==============================] - 13s 21ms/step - loss: 0.1393 - mean_squared_error: 0.1393 - val_loss: 0.1630 - val_mean_squared_error: 0.1630\n",
            "Epoch 75/100\n",
            "600/600 [==============================] - 13s 22ms/step - loss: 0.1391 - mean_squared_error: 0.1391 - val_loss: 0.1621 - val_mean_squared_error: 0.1621\n",
            "Epoch 76/100\n",
            "600/600 [==============================] - 15s 25ms/step - loss: 0.1390 - mean_squared_error: 0.1390 - val_loss: 0.1630 - val_mean_squared_error: 0.1630\n",
            "Epoch 77/100\n",
            "600/600 [==============================] - 12s 20ms/step - loss: 0.1387 - mean_squared_error: 0.1387 - val_loss: 0.1625 - val_mean_squared_error: 0.1625\n",
            "Epoch 78/100\n",
            "600/600 [==============================] - 12s 19ms/step - loss: 0.1385 - mean_squared_error: 0.1385 - val_loss: 0.1629 - val_mean_squared_error: 0.1629\n",
            "Epoch 79/100\n",
            "600/600 [==============================] - 13s 21ms/step - loss: 0.1384 - mean_squared_error: 0.1384 - val_loss: 0.1626 - val_mean_squared_error: 0.1626\n",
            "Epoch 80/100\n",
            "600/600 [==============================] - 13s 21ms/step - loss: 0.1381 - mean_squared_error: 0.1381 - val_loss: 0.1625 - val_mean_squared_error: 0.1625\n",
            "Epoch 81/100\n",
            "600/600 [==============================] - 13s 21ms/step - loss: 0.1379 - mean_squared_error: 0.1379 - val_loss: 0.1629 - val_mean_squared_error: 0.1629\n",
            "Epoch 82/100\n",
            "600/600 [==============================] - 12s 20ms/step - loss: 0.1378 - mean_squared_error: 0.1378 - val_loss: 0.1632 - val_mean_squared_error: 0.1632\n",
            "Epoch 83/100\n",
            "600/600 [==============================] - 11s 19ms/step - loss: 0.1375 - mean_squared_error: 0.1375 - val_loss: 0.1635 - val_mean_squared_error: 0.1635\n",
            "Epoch 84/100\n",
            "600/600 [==============================] - 13s 22ms/step - loss: 0.1373 - mean_squared_error: 0.1373 - val_loss: 0.1632 - val_mean_squared_error: 0.1632\n",
            "Epoch 85/100\n",
            "600/600 [==============================] - 13s 21ms/step - loss: 0.1371 - mean_squared_error: 0.1371 - val_loss: 0.1633 - val_mean_squared_error: 0.1633\n",
            "Epoch 86/100\n",
            "600/600 [==============================] - 13s 21ms/step - loss: 0.1369 - mean_squared_error: 0.1369 - val_loss: 0.1635 - val_mean_squared_error: 0.1635\n",
            "Epoch 87/100\n",
            "600/600 [==============================] - 12s 21ms/step - loss: 0.1368 - mean_squared_error: 0.1368 - val_loss: 0.1633 - val_mean_squared_error: 0.1633\n",
            "Epoch 88/100\n",
            "600/600 [==============================] - 11s 18ms/step - loss: 0.1366 - mean_squared_error: 0.1366 - val_loss: 0.1632 - val_mean_squared_error: 0.1632\n",
            "Epoch 89/100\n",
            "600/600 [==============================] - 13s 21ms/step - loss: 0.1364 - mean_squared_error: 0.1364 - val_loss: 0.1638 - val_mean_squared_error: 0.1638\n",
            "Epoch 90/100\n",
            "600/600 [==============================] - 13s 22ms/step - loss: 0.1363 - mean_squared_error: 0.1363 - val_loss: 0.1637 - val_mean_squared_error: 0.1637\n",
            "Epoch 91/100\n",
            "600/600 [==============================] - 13s 22ms/step - loss: 0.1361 - mean_squared_error: 0.1361 - val_loss: 0.1639 - val_mean_squared_error: 0.1639\n",
            "Epoch 92/100\n",
            "600/600 [==============================] - 13s 22ms/step - loss: 0.1359 - mean_squared_error: 0.1359 - val_loss: 0.1641 - val_mean_squared_error: 0.1641\n",
            "Epoch 93/100\n",
            "600/600 [==============================] - 15s 26ms/step - loss: 0.1357 - mean_squared_error: 0.1357 - val_loss: 0.1640 - val_mean_squared_error: 0.1640\n",
            "Epoch 94/100\n",
            "600/600 [==============================] - 13s 21ms/step - loss: 0.1357 - mean_squared_error: 0.1357 - val_loss: 0.1646 - val_mean_squared_error: 0.1646\n",
            "Epoch 95/100\n",
            "600/600 [==============================] - 21s 34ms/step - loss: 0.1354 - mean_squared_error: 0.1354 - val_loss: 0.1640 - val_mean_squared_error: 0.1640\n",
            "Epoch 96/100\n",
            "600/600 [==============================] - 13s 21ms/step - loss: 0.1352 - mean_squared_error: 0.1352 - val_loss: 0.1644 - val_mean_squared_error: 0.1644\n",
            "Epoch 97/100\n",
            "600/600 [==============================] - 11s 19ms/step - loss: 0.1351 - mean_squared_error: 0.1351 - val_loss: 0.1641 - val_mean_squared_error: 0.1641\n",
            "Epoch 98/100\n",
            "600/600 [==============================] - 12s 20ms/step - loss: 0.1349 - mean_squared_error: 0.1349 - val_loss: 0.1651 - val_mean_squared_error: 0.1651\n",
            "Epoch 99/100\n",
            "600/600 [==============================] - 13s 21ms/step - loss: 0.1347 - mean_squared_error: 0.1347 - val_loss: 0.1648 - val_mean_squared_error: 0.1648\n",
            "Epoch 100/100\n",
            "600/600 [==============================] - 13s 22ms/step - loss: 0.1346 - mean_squared_error: 0.1346 - val_loss: 0.1645 - val_mean_squared_error: 0.1645\n",
            "1563/1563 - 6s - loss: 0.1642 - mean_squared_error: 0.1642 - 6s/epoch - 4ms/step\n",
            "Test MSE loss: 0.16415314376354218\n"
          ]
        }
      ]
    },
    {
      "cell_type": "code",
      "source": [
        "# Plot the training and validation loss versus the number of epochs.\n",
        "tr_loss = []\n",
        "val_loss = []\n",
        "\n",
        "for i in range(100):\n",
        "  tr_loss.append(history6.history[\"loss\"][i])\n",
        "  val_loss.append(history6.history[\"val_loss\"][i])\n",
        "  \n",
        "plt.plot(range(100), tr_loss, \"-b\", label=\"training\")\n",
        "plt.plot(range(100), val_loss, \"-r\", label=\"validation\")\n",
        "plt.legend(loc=\"upper right\")\n",
        "plt.title(\"Training Loss and Validation Loss vs Number of Epochs\")\n",
        "plt.ylabel(\"Loss\")\n",
        "plt.xlabel(\"Epoch\")\n",
        "plt.show()"
      ],
      "metadata": {
        "colab": {
          "base_uri": "https://localhost:8080/",
          "height": 295
        },
        "id": "5p3SWgAx-EEJ",
        "outputId": "fe58e22a-7492-4d2d-af2f-5e8e332101f5"
      },
      "execution_count": 41,
      "outputs": [
        {
          "output_type": "display_data",
          "data": {
            "text/plain": [
              "<Figure size 432x288 with 1 Axes>"
            ],
            "image/png": "[encoded data removed]"
          },
          "metadata": {
            "needs_background": "light"
          }
        }
      ]
    },
    {
      "cell_type": "code",
      "source": [
        "m = 5\n",
        "d = 3\n",
        "l_rate = 0.0001\n",
        "epsilon = 0.001\n",
        "batch_size = 300\n",
        "val_split = 0.1\n",
        "no_epochs = 100\n",
        "\n",
        "optimiser = tf.optimizers.Adam(learning_rate=l_rate)\n",
        "model7 = perm_equi(3, 200)\n",
        "\n",
        "model7.compile(optimizer=optimiser, loss='mse', metrics=[tf.keras.metrics.MeanSquaredError()])\n",
        "\n",
        "history7 = model7.fit(X_train,                          # training samples\n",
        "                    y_train,                          # training labels\n",
        "                    epochs=no_epochs,                 # training steps (epochs)\n",
        "                    batch_size=batch_size,           # how many data samples per training epoch\n",
        "                    validation_split=val_split)\n",
        "\n",
        "test_scores = model7.evaluate(X_test, y_test, batch_size = 128, verbose=2)\n",
        "print(\"Test MSE loss:\", test_scores[0])"
      ],
      "metadata": {
        "colab": {
          "base_uri": "https://localhost:8080/"
        },
        "id": "nb9BC_ld6SFc",
        "outputId": "e7f8c1a9-3503-49a8-bff8-d762bf44db0e"
      },
      "execution_count": 206,
      "outputs": [
        {
          "output_type": "stream",
          "name": "stdout",
          "text": [
            "Epoch 1/100\n",
            "600/600 [==============================] - 36s 59ms/step - loss: 0.1627 - mean_squared_error: 0.1627 - val_loss: 0.1615 - val_mean_squared_error: 0.1615\n",
            "Epoch 2/100\n",
            "600/600 [==============================] - 37s 62ms/step - loss: 0.1607 - mean_squared_error: 0.1607 - val_loss: 0.1611 - val_mean_squared_error: 0.1611\n",
            "Epoch 3/100\n",
            "600/600 [==============================] - 35s 58ms/step - loss: 0.1600 - mean_squared_error: 0.1600 - val_loss: 0.1611 - val_mean_squared_error: 0.1611\n",
            "Epoch 4/100\n",
            "600/600 [==============================] - 35s 58ms/step - loss: 0.1595 - mean_squared_error: 0.1595 - val_loss: 0.1617 - val_mean_squared_error: 0.1617\n",
            "Epoch 5/100\n",
            "600/600 [==============================] - 36s 61ms/step - loss: 0.1591 - mean_squared_error: 0.1591 - val_loss: 0.1612 - val_mean_squared_error: 0.1612\n",
            "Epoch 6/100\n",
            "600/600 [==============================] - 35s 59ms/step - loss: 0.1586 - mean_squared_error: 0.1586 - val_loss: 0.1612 - val_mean_squared_error: 0.1612\n",
            "Epoch 7/100\n",
            "600/600 [==============================] - 36s 60ms/step - loss: 0.1580 - mean_squared_error: 0.1580 - val_loss: 0.1607 - val_mean_squared_error: 0.1607\n",
            "Epoch 8/100\n",
            "600/600 [==============================] - 35s 59ms/step - loss: 0.1572 - mean_squared_error: 0.1572 - val_loss: 0.1607 - val_mean_squared_error: 0.1607\n",
            "Epoch 9/100\n",
            "600/600 [==============================] - 35s 58ms/step - loss: 0.1563 - mean_squared_error: 0.1563 - val_loss: 0.1602 - val_mean_squared_error: 0.1602\n",
            "Epoch 10/100\n",
            "600/600 [==============================] - 36s 61ms/step - loss: 0.1554 - mean_squared_error: 0.1554 - val_loss: 0.1592 - val_mean_squared_error: 0.1592\n",
            "Epoch 11/100\n",
            "600/600 [==============================] - 35s 58ms/step - loss: 0.1543 - mean_squared_error: 0.1543 - val_loss: 0.1589 - val_mean_squared_error: 0.1589\n",
            "Epoch 12/100\n",
            "600/600 [==============================] - 35s 58ms/step - loss: 0.1533 - mean_squared_error: 0.1533 - val_loss: 0.1581 - val_mean_squared_error: 0.1581\n",
            "Epoch 13/100\n",
            "600/600 [==============================] - 38s 63ms/step - loss: 0.1522 - mean_squared_error: 0.1522 - val_loss: 0.1580 - val_mean_squared_error: 0.1580\n",
            "Epoch 14/100\n",
            "600/600 [==============================] - 35s 58ms/step - loss: 0.1511 - mean_squared_error: 0.1511 - val_loss: 0.1572 - val_mean_squared_error: 0.1572\n",
            "Epoch 15/100\n",
            "600/600 [==============================] - 35s 59ms/step - loss: 0.1501 - mean_squared_error: 0.1501 - val_loss: 0.1570 - val_mean_squared_error: 0.1570\n",
            "Epoch 16/100\n",
            "600/600 [==============================] - 37s 61ms/step - loss: 0.1491 - mean_squared_error: 0.1491 - val_loss: 0.1566 - val_mean_squared_error: 0.1566\n",
            "Epoch 17/100\n",
            "600/600 [==============================] - 35s 58ms/step - loss: 0.1482 - mean_squared_error: 0.1482 - val_loss: 0.1568 - val_mean_squared_error: 0.1568\n",
            "Epoch 18/100\n",
            "600/600 [==============================] - 36s 61ms/step - loss: 0.1474 - mean_squared_error: 0.1474 - val_loss: 0.1560 - val_mean_squared_error: 0.1560\n",
            "Epoch 19/100\n",
            "600/600 [==============================] - 35s 59ms/step - loss: 0.1466 - mean_squared_error: 0.1466 - val_loss: 0.1561 - val_mean_squared_error: 0.1561\n",
            "Epoch 20/100\n",
            "600/600 [==============================] - 35s 58ms/step - loss: 0.1458 - mean_squared_error: 0.1458 - val_loss: 0.1561 - val_mean_squared_error: 0.1561\n",
            "Epoch 21/100\n",
            "600/600 [==============================] - 37s 61ms/step - loss: 0.1451 - mean_squared_error: 0.1451 - val_loss: 0.1556 - val_mean_squared_error: 0.1556\n",
            "Epoch 22/100\n",
            "600/600 [==============================] - 35s 58ms/step - loss: 0.1444 - mean_squared_error: 0.1444 - val_loss: 0.1560 - val_mean_squared_error: 0.1560\n",
            "Epoch 23/100\n",
            "600/600 [==============================] - 35s 59ms/step - loss: 0.1437 - mean_squared_error: 0.1437 - val_loss: 0.1561 - val_mean_squared_error: 0.1561\n",
            "Epoch 24/100\n",
            "600/600 [==============================] - 37s 62ms/step - loss: 0.1432 - mean_squared_error: 0.1432 - val_loss: 0.1557 - val_mean_squared_error: 0.1557\n",
            "Epoch 25/100\n",
            "600/600 [==============================] - 35s 59ms/step - loss: 0.1425 - mean_squared_error: 0.1425 - val_loss: 0.1561 - val_mean_squared_error: 0.1561\n",
            "Epoch 26/100\n",
            "600/600 [==============================] - 38s 63ms/step - loss: 0.1419 - mean_squared_error: 0.1419 - val_loss: 0.1562 - val_mean_squared_error: 0.1562\n",
            "Epoch 27/100\n",
            "600/600 [==============================] - 35s 59ms/step - loss: 0.1413 - mean_squared_error: 0.1413 - val_loss: 0.1567 - val_mean_squared_error: 0.1567\n",
            "Epoch 28/100\n",
            "600/600 [==============================] - 35s 58ms/step - loss: 0.1407 - mean_squared_error: 0.1407 - val_loss: 0.1562 - val_mean_squared_error: 0.1562\n",
            "Epoch 29/100\n",
            "600/600 [==============================] - 37s 62ms/step - loss: 0.1401 - mean_squared_error: 0.1401 - val_loss: 0.1567 - val_mean_squared_error: 0.1567\n",
            "Epoch 30/100\n",
            "600/600 [==============================] - 35s 58ms/step - loss: 0.1396 - mean_squared_error: 0.1396 - val_loss: 0.1566 - val_mean_squared_error: 0.1566\n",
            "Epoch 31/100\n",
            "600/600 [==============================] - 36s 60ms/step - loss: 0.1390 - mean_squared_error: 0.1390 - val_loss: 0.1571 - val_mean_squared_error: 0.1571\n",
            "Epoch 32/100\n",
            "600/600 [==============================] - 36s 59ms/step - loss: 0.1384 - mean_squared_error: 0.1384 - val_loss: 0.1573 - val_mean_squared_error: 0.1573\n",
            "Epoch 33/100\n",
            "600/600 [==============================] - 35s 59ms/step - loss: 0.1378 - mean_squared_error: 0.1378 - val_loss: 0.1573 - val_mean_squared_error: 0.1573\n",
            "Epoch 34/100\n",
            "600/600 [==============================] - 37s 62ms/step - loss: 0.1373 - mean_squared_error: 0.1373 - val_loss: 0.1574 - val_mean_squared_error: 0.1574\n",
            "Epoch 35/100\n",
            "600/600 [==============================] - 35s 58ms/step - loss: 0.1368 - mean_squared_error: 0.1368 - val_loss: 0.1573 - val_mean_squared_error: 0.1573\n",
            "Epoch 36/100\n",
            "600/600 [==============================] - 35s 59ms/step - loss: 0.1362 - mean_squared_error: 0.1362 - val_loss: 0.1578 - val_mean_squared_error: 0.1578\n",
            "Epoch 37/100\n",
            "600/600 [==============================] - 37s 62ms/step - loss: 0.1357 - mean_squared_error: 0.1357 - val_loss: 0.1577 - val_mean_squared_error: 0.1577\n",
            "Epoch 38/100\n",
            "600/600 [==============================] - 35s 59ms/step - loss: 0.1351 - mean_squared_error: 0.1351 - val_loss: 0.1585 - val_mean_squared_error: 0.1585\n",
            "Epoch 39/100\n",
            "600/600 [==============================] - 37s 61ms/step - loss: 0.1346 - mean_squared_error: 0.1346 - val_loss: 0.1584 - val_mean_squared_error: 0.1584\n",
            "Epoch 40/100\n",
            "600/600 [==============================] - 36s 61ms/step - loss: 0.1341 - mean_squared_error: 0.1341 - val_loss: 0.1592 - val_mean_squared_error: 0.1592\n",
            "Epoch 41/100\n",
            "600/600 [==============================] - 35s 58ms/step - loss: 0.1336 - mean_squared_error: 0.1336 - val_loss: 0.1587 - val_mean_squared_error: 0.1587\n",
            "Epoch 42/100\n",
            "600/600 [==============================] - 38s 64ms/step - loss: 0.1330 - mean_squared_error: 0.1330 - val_loss: 0.1593 - val_mean_squared_error: 0.1593\n",
            "Epoch 43/100\n",
            "600/600 [==============================] - 35s 59ms/step - loss: 0.1325 - mean_squared_error: 0.1325 - val_loss: 0.1599 - val_mean_squared_error: 0.1599\n",
            "Epoch 44/100\n",
            "600/600 [==============================] - 37s 61ms/step - loss: 0.1320 - mean_squared_error: 0.1320 - val_loss: 0.1603 - val_mean_squared_error: 0.1603\n",
            "Epoch 45/100\n",
            "600/600 [==============================] - 36s 60ms/step - loss: 0.1315 - mean_squared_error: 0.1315 - val_loss: 0.1597 - val_mean_squared_error: 0.1597\n",
            "Epoch 46/100\n",
            "600/600 [==============================] - 36s 60ms/step - loss: 0.1310 - mean_squared_error: 0.1310 - val_loss: 0.1605 - val_mean_squared_error: 0.1605\n",
            "Epoch 47/100\n",
            "600/600 [==============================] - 38s 63ms/step - loss: 0.1305 - mean_squared_error: 0.1305 - val_loss: 0.1601 - val_mean_squared_error: 0.1601\n",
            "Epoch 48/100\n",
            "600/600 [==============================] - 35s 58ms/step - loss: 0.1301 - mean_squared_error: 0.1301 - val_loss: 0.1613 - val_mean_squared_error: 0.1613\n",
            "Epoch 49/100\n",
            "600/600 [==============================] - 38s 63ms/step - loss: 0.1295 - mean_squared_error: 0.1295 - val_loss: 0.1610 - val_mean_squared_error: 0.1610\n",
            "Epoch 50/100\n",
            "600/600 [==============================] - 36s 59ms/step - loss: 0.1290 - mean_squared_error: 0.1290 - val_loss: 0.1611 - val_mean_squared_error: 0.1611\n",
            "Epoch 51/100\n",
            "600/600 [==============================] - 36s 59ms/step - loss: 0.1286 - mean_squared_error: 0.1286 - val_loss: 0.1613 - val_mean_squared_error: 0.1613\n",
            "Epoch 52/100\n",
            "600/600 [==============================] - 37s 62ms/step - loss: 0.1280 - mean_squared_error: 0.1280 - val_loss: 0.1616 - val_mean_squared_error: 0.1616\n",
            "Epoch 53/100\n",
            "600/600 [==============================] - 36s 60ms/step - loss: 0.1277 - mean_squared_error: 0.1277 - val_loss: 0.1628 - val_mean_squared_error: 0.1628\n",
            "Epoch 54/100\n",
            "600/600 [==============================] - 37s 62ms/step - loss: 0.1271 - mean_squared_error: 0.1271 - val_loss: 0.1628 - val_mean_squared_error: 0.1628\n",
            "Epoch 55/100\n",
            "600/600 [==============================] - 36s 59ms/step - loss: 0.1266 - mean_squared_error: 0.1266 - val_loss: 0.1636 - val_mean_squared_error: 0.1636\n",
            "Epoch 56/100\n",
            "600/600 [==============================] - 35s 58ms/step - loss: 0.1262 - mean_squared_error: 0.1262 - val_loss: 0.1635 - val_mean_squared_error: 0.1635\n",
            "Epoch 57/100\n",
            "600/600 [==============================] - 37s 61ms/step - loss: 0.1257 - mean_squared_error: 0.1257 - val_loss: 0.1630 - val_mean_squared_error: 0.1630\n",
            "Epoch 58/100\n",
            "600/600 [==============================] - 35s 59ms/step - loss: 0.1252 - mean_squared_error: 0.1252 - val_loss: 0.1637 - val_mean_squared_error: 0.1637\n",
            "Epoch 59/100\n",
            "600/600 [==============================] - 38s 63ms/step - loss: 0.1249 - mean_squared_error: 0.1249 - val_loss: 0.1637 - val_mean_squared_error: 0.1637\n",
            "Epoch 60/100\n",
            "600/600 [==============================] - 37s 62ms/step - loss: 0.1244 - mean_squared_error: 0.1244 - val_loss: 0.1640 - val_mean_squared_error: 0.1640\n",
            "Epoch 61/100\n",
            "600/600 [==============================] - 36s 60ms/step - loss: 0.1239 - mean_squared_error: 0.1239 - val_loss: 0.1652 - val_mean_squared_error: 0.1652\n",
            "Epoch 62/100\n",
            "600/600 [==============================] - 38s 63ms/step - loss: 0.1234 - mean_squared_error: 0.1234 - val_loss: 0.1658 - val_mean_squared_error: 0.1658\n",
            "Epoch 63/100\n",
            "600/600 [==============================] - 37s 61ms/step - loss: 0.1231 - mean_squared_error: 0.1231 - val_loss: 0.1655 - val_mean_squared_error: 0.1655\n",
            "Epoch 64/100\n",
            "600/600 [==============================] - 38s 63ms/step - loss: 0.1225 - mean_squared_error: 0.1225 - val_loss: 0.1657 - val_mean_squared_error: 0.1657\n",
            "Epoch 65/100\n",
            "600/600 [==============================] - 36s 60ms/step - loss: 0.1222 - mean_squared_error: 0.1222 - val_loss: 0.1662 - val_mean_squared_error: 0.1662\n",
            "Epoch 66/100\n",
            "600/600 [==============================] - 37s 62ms/step - loss: 0.1217 - mean_squared_error: 0.1217 - val_loss: 0.1659 - val_mean_squared_error: 0.1659\n",
            "Epoch 67/100\n",
            "600/600 [==============================] - 37s 61ms/step - loss: 0.1212 - mean_squared_error: 0.1212 - val_loss: 0.1673 - val_mean_squared_error: 0.1673\n",
            "Epoch 68/100\n",
            "600/600 [==============================] - 36s 61ms/step - loss: 0.1209 - mean_squared_error: 0.1209 - val_loss: 0.1669 - val_mean_squared_error: 0.1669\n",
            "Epoch 69/100\n",
            "600/600 [==============================] - 38s 64ms/step - loss: 0.1203 - mean_squared_error: 0.1203 - val_loss: 0.1671 - val_mean_squared_error: 0.1671\n",
            "Epoch 70/100\n",
            "600/600 [==============================] - 36s 59ms/step - loss: 0.1200 - mean_squared_error: 0.1200 - val_loss: 0.1672 - val_mean_squared_error: 0.1672\n",
            "Epoch 71/100\n",
            "600/600 [==============================] - 38s 63ms/step - loss: 0.1196 - mean_squared_error: 0.1196 - val_loss: 0.1680 - val_mean_squared_error: 0.1680\n",
            "Epoch 72/100\n",
            "600/600 [==============================] - 36s 59ms/step - loss: 0.1192 - mean_squared_error: 0.1192 - val_loss: 0.1688 - val_mean_squared_error: 0.1688\n",
            "Epoch 73/100\n",
            "600/600 [==============================] - 37s 62ms/step - loss: 0.1189 - mean_squared_error: 0.1189 - val_loss: 0.1684 - val_mean_squared_error: 0.1684\n",
            "Epoch 74/100\n",
            "600/600 [==============================] - 36s 60ms/step - loss: 0.1184 - mean_squared_error: 0.1184 - val_loss: 0.1683 - val_mean_squared_error: 0.1683\n",
            "Epoch 75/100\n",
            "600/600 [==============================] - 35s 59ms/step - loss: 0.1180 - mean_squared_error: 0.1180 - val_loss: 0.1685 - val_mean_squared_error: 0.1685\n",
            "Epoch 76/100\n",
            "600/600 [==============================] - 37s 62ms/step - loss: 0.1175 - mean_squared_error: 0.1175 - val_loss: 0.1693 - val_mean_squared_error: 0.1693\n",
            "Epoch 77/100\n",
            "600/600 [==============================] - 35s 59ms/step - loss: 0.1171 - mean_squared_error: 0.1171 - val_loss: 0.1697 - val_mean_squared_error: 0.1697\n",
            "Epoch 78/100\n",
            "600/600 [==============================] - 35s 58ms/step - loss: 0.1168 - mean_squared_error: 0.1168 - val_loss: 0.1696 - val_mean_squared_error: 0.1696\n",
            "Epoch 79/100\n",
            "600/600 [==============================] - 37s 62ms/step - loss: 0.1163 - mean_squared_error: 0.1163 - val_loss: 0.1710 - val_mean_squared_error: 0.1710\n",
            "Epoch 80/100\n",
            "600/600 [==============================] - 35s 59ms/step - loss: 0.1160 - mean_squared_error: 0.1160 - val_loss: 0.1716 - val_mean_squared_error: 0.1716\n",
            "Epoch 81/100\n",
            "600/600 [==============================] - 37s 61ms/step - loss: 0.1157 - mean_squared_error: 0.1157 - val_loss: 0.1716 - val_mean_squared_error: 0.1716\n",
            "Epoch 82/100\n",
            "600/600 [==============================] - 36s 59ms/step - loss: 0.1153 - mean_squared_error: 0.1153 - val_loss: 0.1713 - val_mean_squared_error: 0.1713\n",
            "Epoch 83/100\n",
            "600/600 [==============================] - 35s 59ms/step - loss: 0.1150 - mean_squared_error: 0.1150 - val_loss: 0.1717 - val_mean_squared_error: 0.1717\n",
            "Epoch 84/100\n",
            "600/600 [==============================] - 38s 64ms/step - loss: 0.1146 - mean_squared_error: 0.1146 - val_loss: 0.1722 - val_mean_squared_error: 0.1722\n",
            "Epoch 85/100\n",
            "600/600 [==============================] - 35s 59ms/step - loss: 0.1142 - mean_squared_error: 0.1142 - val_loss: 0.1723 - val_mean_squared_error: 0.1723\n",
            "Epoch 86/100\n",
            "600/600 [==============================] - 36s 60ms/step - loss: 0.1138 - mean_squared_error: 0.1138 - val_loss: 0.1728 - val_mean_squared_error: 0.1728\n",
            "Epoch 87/100\n",
            "600/600 [==============================] - 36s 60ms/step - loss: 0.1135 - mean_squared_error: 0.1135 - val_loss: 0.1732 - val_mean_squared_error: 0.1732\n",
            "Epoch 88/100\n",
            "600/600 [==============================] - 35s 59ms/step - loss: 0.1132 - mean_squared_error: 0.1132 - val_loss: 0.1737 - val_mean_squared_error: 0.1737\n",
            "Epoch 89/100\n",
            "600/600 [==============================] - 37s 62ms/step - loss: 0.1127 - mean_squared_error: 0.1127 - val_loss: 0.1744 - val_mean_squared_error: 0.1744\n",
            "Epoch 90/100\n",
            "600/600 [==============================] - 36s 59ms/step - loss: 0.1123 - mean_squared_error: 0.1123 - val_loss: 0.1747 - val_mean_squared_error: 0.1747\n",
            "Epoch 91/100\n",
            "600/600 [==============================] - 36s 60ms/step - loss: 0.1120 - mean_squared_error: 0.1120 - val_loss: 0.1741 - val_mean_squared_error: 0.1741\n",
            "Epoch 92/100\n",
            "600/600 [==============================] - 38s 63ms/step - loss: 0.1117 - mean_squared_error: 0.1117 - val_loss: 0.1753 - val_mean_squared_error: 0.1753\n",
            "Epoch 93/100\n",
            "600/600 [==============================] - 36s 60ms/step - loss: 0.1114 - mean_squared_error: 0.1114 - val_loss: 0.1756 - val_mean_squared_error: 0.1756\n",
            "Epoch 94/100\n",
            "600/600 [==============================] - 39s 64ms/step - loss: 0.1110 - mean_squared_error: 0.1110 - val_loss: 0.1750 - val_mean_squared_error: 0.1750\n",
            "Epoch 95/100\n",
            "600/600 [==============================] - 36s 59ms/step - loss: 0.1106 - mean_squared_error: 0.1106 - val_loss: 0.1758 - val_mean_squared_error: 0.1758\n",
            "Epoch 96/100\n",
            "600/600 [==============================] - 38s 63ms/step - loss: 0.1103 - mean_squared_error: 0.1103 - val_loss: 0.1760 - val_mean_squared_error: 0.1760\n",
            "Epoch 97/100\n",
            "600/600 [==============================] - 36s 59ms/step - loss: 0.1099 - mean_squared_error: 0.1099 - val_loss: 0.1769 - val_mean_squared_error: 0.1769\n",
            "Epoch 98/100\n",
            "600/600 [==============================] - 35s 59ms/step - loss: 0.1095 - mean_squared_error: 0.1095 - val_loss: 0.1777 - val_mean_squared_error: 0.1777\n",
            "Epoch 99/100\n",
            "600/600 [==============================] - 38s 63ms/step - loss: 0.1093 - mean_squared_error: 0.1093 - val_loss: 0.1770 - val_mean_squared_error: 0.1770\n",
            "Epoch 100/100\n",
            "600/600 [==============================] - 36s 59ms/step - loss: 0.1088 - mean_squared_error: 0.1088 - val_loss: 0.1766 - val_mean_squared_error: 0.1766\n",
            "1563/1563 - 14s - loss: 0.1770 - mean_squared_error: 0.1770 - 14s/epoch - 9ms/step\n",
            "Test MSE loss: 0.17702718079090118\n"
          ]
        }
      ]
    },
    {
      "cell_type": "code",
      "source": [
        "# Plot the training and validation loss versus the number of epochs.\n",
        "tr_loss = []\n",
        "val_loss = []\n",
        "\n",
        "for i in range(100):\n",
        "  tr_loss.append(history7.history[\"loss\"][i])\n",
        "  val_loss.append(history7.history[\"val_loss\"][i])\n",
        "  \n",
        "plt.plot(range(100), tr_loss, \"-b\", label=\"training\")\n",
        "plt.plot(range(100), val_loss, \"-r\", label=\"validation\")\n",
        "plt.legend(loc=\"upper right\")\n",
        "plt.title(\"Training Loss and Validation Loss vs Number of Epochs\")\n",
        "plt.ylabel(\"Loss\")\n",
        "plt.xlabel(\"Epoch\")\n",
        "plt.show()"
      ],
      "metadata": {
        "colab": {
          "base_uri": "https://localhost:8080/",
          "height": 295
        },
        "id": "yHNl_ELg-JBt",
        "outputId": "697f6045-2abd-4bba-f13a-ad10bfa128ac"
      },
      "execution_count": 207,
      "outputs": [
        {
          "output_type": "display_data",
          "data": {
            "text/plain": [
              "<Figure size 432x288 with 1 Axes>"
            ],
            "image/png": "[encoded data removed]"
          },
          "metadata": {
            "needs_background": "light"
          }
        }
      ]
    },
    {
      "cell_type": "code",
      "source": [
        "m = 5\n",
        "d = 3\n",
        "l_rate = 0.0001\n",
        "epsilon = 0.001\n",
        "batch_size = 300\n",
        "val_split = 0.1\n",
        "no_epochs = 100\n",
        "\n",
        "optimiser = tf.optimizers.Adam(learning_rate=l_rate)\n",
        "model8 = perm_equi(2,200)\n",
        "\n",
        "model8.compile(optimizer=optimiser, loss='mse', metrics=[tf.keras.metrics.MeanSquaredError()])\n",
        "\n",
        "history8 = model8.fit(X_train,                          # training samples\n",
        "                    y_train,                          # training labels\n",
        "                    epochs=no_epochs,                 # training steps (epochs)\n",
        "                    batch_size=batch_size,           # how many data samples per training epoch\n",
        "                    validation_split=val_split)\n",
        "\n",
        "test_scores = model8.evaluate(X_test, y_test, batch_size = 128, verbose=2)\n",
        "print(\"Test MSE loss:\", test_scores[0])"
      ],
      "metadata": {
        "colab": {
          "base_uri": "https://localhost:8080/"
        },
        "id": "JqtTxFETEH80",
        "outputId": "6a98e278-c787-45e0-a7ac-2376c0c64262"
      },
      "execution_count": 208,
      "outputs": [
        {
          "output_type": "stream",
          "name": "stdout",
          "text": [
            "Epoch 1/100\n",
            "600/600 [==============================] - 7s 10ms/step - loss: 0.1645 - mean_squared_error: 0.1645 - val_loss: 0.1616 - val_mean_squared_error: 0.1616\n",
            "Epoch 2/100\n",
            "600/600 [==============================] - 4s 6ms/step - loss: 0.1610 - mean_squared_error: 0.1610 - val_loss: 0.1611 - val_mean_squared_error: 0.1611\n",
            "Epoch 3/100\n",
            "600/600 [==============================] - 4s 6ms/step - loss: 0.1606 - mean_squared_error: 0.1606 - val_loss: 0.1609 - val_mean_squared_error: 0.1609\n",
            "Epoch 4/100\n",
            "600/600 [==============================] - 6s 9ms/step - loss: 0.1604 - mean_squared_error: 0.1604 - val_loss: 0.1609 - val_mean_squared_error: 0.1609\n",
            "Epoch 5/100\n",
            "600/600 [==============================] - 4s 6ms/step - loss: 0.1602 - mean_squared_error: 0.1602 - val_loss: 0.1611 - val_mean_squared_error: 0.1611\n",
            "Epoch 6/100\n",
            "600/600 [==============================] - 4s 6ms/step - loss: 0.1601 - mean_squared_error: 0.1601 - val_loss: 0.1608 - val_mean_squared_error: 0.1608\n",
            "Epoch 7/100\n",
            "600/600 [==============================] - 5s 8ms/step - loss: 0.1600 - mean_squared_error: 0.1600 - val_loss: 0.1609 - val_mean_squared_error: 0.1609\n",
            "Epoch 8/100\n",
            "600/600 [==============================] - 5s 8ms/step - loss: 0.1599 - mean_squared_error: 0.1599 - val_loss: 0.1609 - val_mean_squared_error: 0.1609\n",
            "Epoch 9/100\n",
            "600/600 [==============================] - 4s 6ms/step - loss: 0.1598 - mean_squared_error: 0.1598 - val_loss: 0.1609 - val_mean_squared_error: 0.1609\n",
            "Epoch 10/100\n",
            "600/600 [==============================] - 4s 7ms/step - loss: 0.1597 - mean_squared_error: 0.1597 - val_loss: 0.1608 - val_mean_squared_error: 0.1608\n",
            "Epoch 11/100\n",
            "600/600 [==============================] - 6s 9ms/step - loss: 0.1596 - mean_squared_error: 0.1596 - val_loss: 0.1607 - val_mean_squared_error: 0.1607\n",
            "Epoch 12/100\n",
            "600/600 [==============================] - 4s 7ms/step - loss: 0.1595 - mean_squared_error: 0.1595 - val_loss: 0.1608 - val_mean_squared_error: 0.1608\n",
            "Epoch 13/100\n",
            "600/600 [==============================] - 4s 7ms/step - loss: 0.1594 - mean_squared_error: 0.1594 - val_loss: 0.1607 - val_mean_squared_error: 0.1607\n",
            "Epoch 14/100\n",
            "600/600 [==============================] - 6s 10ms/step - loss: 0.1593 - mean_squared_error: 0.1593 - val_loss: 0.1608 - val_mean_squared_error: 0.1608\n",
            "Epoch 15/100\n",
            "600/600 [==============================] - 4s 6ms/step - loss: 0.1593 - mean_squared_error: 0.1593 - val_loss: 0.1607 - val_mean_squared_error: 0.1607\n",
            "Epoch 16/100\n",
            "600/600 [==============================] - 4s 6ms/step - loss: 0.1592 - mean_squared_error: 0.1592 - val_loss: 0.1607 - val_mean_squared_error: 0.1607\n",
            "Epoch 17/100\n",
            "600/600 [==============================] - 5s 8ms/step - loss: 0.1591 - mean_squared_error: 0.1591 - val_loss: 0.1607 - val_mean_squared_error: 0.1607\n",
            "Epoch 18/100\n",
            "600/600 [==============================] - 5s 8ms/step - loss: 0.1590 - mean_squared_error: 0.1590 - val_loss: 0.1606 - val_mean_squared_error: 0.1606\n",
            "Epoch 19/100\n",
            "600/600 [==============================] - 4s 6ms/step - loss: 0.1589 - mean_squared_error: 0.1589 - val_loss: 0.1606 - val_mean_squared_error: 0.1606\n",
            "Epoch 20/100\n",
            "600/600 [==============================] - 4s 7ms/step - loss: 0.1588 - mean_squared_error: 0.1588 - val_loss: 0.1604 - val_mean_squared_error: 0.1604\n",
            "Epoch 21/100\n",
            "600/600 [==============================] - 6s 9ms/step - loss: 0.1587 - mean_squared_error: 0.1587 - val_loss: 0.1605 - val_mean_squared_error: 0.1605\n",
            "Epoch 22/100\n",
            "600/600 [==============================] - 4s 6ms/step - loss: 0.1586 - mean_squared_error: 0.1586 - val_loss: 0.1606 - val_mean_squared_error: 0.1606\n",
            "Epoch 23/100\n",
            "600/600 [==============================] - 4s 6ms/step - loss: 0.1585 - mean_squared_error: 0.1585 - val_loss: 0.1603 - val_mean_squared_error: 0.1603\n",
            "Epoch 24/100\n",
            "600/600 [==============================] - 5s 9ms/step - loss: 0.1583 - mean_squared_error: 0.1583 - val_loss: 0.1603 - val_mean_squared_error: 0.1603\n",
            "Epoch 25/100\n",
            "600/600 [==============================] - 4s 7ms/step - loss: 0.1582 - mean_squared_error: 0.1582 - val_loss: 0.1602 - val_mean_squared_error: 0.1602\n",
            "Epoch 26/100\n",
            "600/600 [==============================] - 4s 6ms/step - loss: 0.1581 - mean_squared_error: 0.1581 - val_loss: 0.1602 - val_mean_squared_error: 0.1602\n",
            "Epoch 27/100\n",
            "600/600 [==============================] - 4s 7ms/step - loss: 0.1580 - mean_squared_error: 0.1580 - val_loss: 0.1601 - val_mean_squared_error: 0.1601\n",
            "Epoch 28/100\n",
            "600/600 [==============================] - 5s 8ms/step - loss: 0.1579 - mean_squared_error: 0.1579 - val_loss: 0.1602 - val_mean_squared_error: 0.1602\n",
            "Epoch 29/100\n",
            "600/600 [==============================] - 4s 6ms/step - loss: 0.1578 - mean_squared_error: 0.1578 - val_loss: 0.1599 - val_mean_squared_error: 0.1599\n",
            "Epoch 30/100\n",
            "600/600 [==============================] - 4s 7ms/step - loss: 0.1577 - mean_squared_error: 0.1577 - val_loss: 0.1599 - val_mean_squared_error: 0.1599\n",
            "Epoch 31/100\n",
            "600/600 [==============================] - 6s 10ms/step - loss: 0.1575 - mean_squared_error: 0.1575 - val_loss: 0.1600 - val_mean_squared_error: 0.1600\n",
            "Epoch 32/100\n",
            "600/600 [==============================] - 4s 6ms/step - loss: 0.1574 - mean_squared_error: 0.1574 - val_loss: 0.1598 - val_mean_squared_error: 0.1598\n",
            "Epoch 33/100\n",
            "600/600 [==============================] - 4s 6ms/step - loss: 0.1573 - mean_squared_error: 0.1573 - val_loss: 0.1598 - val_mean_squared_error: 0.1598\n",
            "Epoch 34/100\n",
            "600/600 [==============================] - 5s 9ms/step - loss: 0.1572 - mean_squared_error: 0.1572 - val_loss: 0.1596 - val_mean_squared_error: 0.1596\n",
            "Epoch 35/100\n",
            "600/600 [==============================] - 4s 7ms/step - loss: 0.1571 - mean_squared_error: 0.1571 - val_loss: 0.1597 - val_mean_squared_error: 0.1597\n",
            "Epoch 36/100\n",
            "600/600 [==============================] - 4s 6ms/step - loss: 0.1570 - mean_squared_error: 0.1570 - val_loss: 0.1595 - val_mean_squared_error: 0.1595\n",
            "Epoch 37/100\n",
            "600/600 [==============================] - 5s 8ms/step - loss: 0.1569 - mean_squared_error: 0.1569 - val_loss: 0.1596 - val_mean_squared_error: 0.1596\n",
            "Epoch 38/100\n",
            "600/600 [==============================] - 5s 8ms/step - loss: 0.1567 - mean_squared_error: 0.1567 - val_loss: 0.1596 - val_mean_squared_error: 0.1596\n",
            "Epoch 39/100\n",
            "600/600 [==============================] - 4s 6ms/step - loss: 0.1566 - mean_squared_error: 0.1566 - val_loss: 0.1595 - val_mean_squared_error: 0.1595\n",
            "Epoch 40/100\n",
            "600/600 [==============================] - 4s 7ms/step - loss: 0.1566 - mean_squared_error: 0.1566 - val_loss: 0.1593 - val_mean_squared_error: 0.1593\n",
            "Epoch 41/100\n",
            "600/600 [==============================] - 6s 10ms/step - loss: 0.1564 - mean_squared_error: 0.1564 - val_loss: 0.1593 - val_mean_squared_error: 0.1593\n",
            "Epoch 42/100\n",
            "600/600 [==============================] - 4s 6ms/step - loss: 0.1563 - mean_squared_error: 0.1563 - val_loss: 0.1593 - val_mean_squared_error: 0.1593\n",
            "Epoch 43/100\n",
            "600/600 [==============================] - 4s 6ms/step - loss: 0.1562 - mean_squared_error: 0.1562 - val_loss: 0.1593 - val_mean_squared_error: 0.1593\n",
            "Epoch 44/100\n",
            "600/600 [==============================] - 5s 9ms/step - loss: 0.1561 - mean_squared_error: 0.1561 - val_loss: 0.1592 - val_mean_squared_error: 0.1592\n",
            "Epoch 45/100\n",
            "600/600 [==============================] - 4s 7ms/step - loss: 0.1560 - mean_squared_error: 0.1560 - val_loss: 0.1591 - val_mean_squared_error: 0.1591\n",
            "Epoch 46/100\n",
            "600/600 [==============================] - 4s 6ms/step - loss: 0.1559 - mean_squared_error: 0.1559 - val_loss: 0.1591 - val_mean_squared_error: 0.1591\n",
            "Epoch 47/100\n",
            "600/600 [==============================] - 4s 7ms/step - loss: 0.1558 - mean_squared_error: 0.1558 - val_loss: 0.1591 - val_mean_squared_error: 0.1591\n",
            "Epoch 48/100\n",
            "600/600 [==============================] - 5s 9ms/step - loss: 0.1557 - mean_squared_error: 0.1557 - val_loss: 0.1590 - val_mean_squared_error: 0.1590\n",
            "Epoch 49/100\n",
            "600/600 [==============================] - 4s 6ms/step - loss: 0.1556 - mean_squared_error: 0.1556 - val_loss: 0.1590 - val_mean_squared_error: 0.1590\n",
            "Epoch 50/100\n",
            "600/600 [==============================] - 4s 6ms/step - loss: 0.1556 - mean_squared_error: 0.1556 - val_loss: 0.1588 - val_mean_squared_error: 0.1588\n",
            "Epoch 51/100\n",
            "600/600 [==============================] - 6s 10ms/step - loss: 0.1554 - mean_squared_error: 0.1554 - val_loss: 0.1589 - val_mean_squared_error: 0.1589\n",
            "Epoch 52/100\n",
            "600/600 [==============================] - 4s 6ms/step - loss: 0.1554 - mean_squared_error: 0.1554 - val_loss: 0.1589 - val_mean_squared_error: 0.1589\n",
            "Epoch 53/100\n",
            "600/600 [==============================] - 4s 7ms/step - loss: 0.1553 - mean_squared_error: 0.1553 - val_loss: 0.1588 - val_mean_squared_error: 0.1588\n",
            "Epoch 54/100\n",
            "600/600 [==============================] - 6s 9ms/step - loss: 0.1552 - mean_squared_error: 0.1552 - val_loss: 0.1587 - val_mean_squared_error: 0.1587\n",
            "Epoch 55/100\n",
            "600/600 [==============================] - 4s 7ms/step - loss: 0.1551 - mean_squared_error: 0.1551 - val_loss: 0.1589 - val_mean_squared_error: 0.1589\n",
            "Epoch 56/100\n",
            "600/600 [==============================] - 4s 7ms/step - loss: 0.1551 - mean_squared_error: 0.1551 - val_loss: 0.1587 - val_mean_squared_error: 0.1587\n",
            "Epoch 57/100\n",
            "600/600 [==============================] - 5s 8ms/step - loss: 0.1550 - mean_squared_error: 0.1550 - val_loss: 0.1588 - val_mean_squared_error: 0.1588\n",
            "Epoch 58/100\n",
            "600/600 [==============================] - 5s 9ms/step - loss: 0.1549 - mean_squared_error: 0.1549 - val_loss: 0.1587 - val_mean_squared_error: 0.1587\n",
            "Epoch 59/100\n",
            "600/600 [==============================] - 4s 6ms/step - loss: 0.1548 - mean_squared_error: 0.1548 - val_loss: 0.1587 - val_mean_squared_error: 0.1587\n",
            "Epoch 60/100\n",
            "600/600 [==============================] - 4s 7ms/step - loss: 0.1547 - mean_squared_error: 0.1547 - val_loss: 0.1586 - val_mean_squared_error: 0.1586\n",
            "Epoch 61/100\n",
            "600/600 [==============================] - 6s 10ms/step - loss: 0.1546 - mean_squared_error: 0.1546 - val_loss: 0.1588 - val_mean_squared_error: 0.1588\n",
            "Epoch 62/100\n",
            "600/600 [==============================] - 4s 7ms/step - loss: 0.1546 - mean_squared_error: 0.1546 - val_loss: 0.1586 - val_mean_squared_error: 0.1586\n",
            "Epoch 63/100\n",
            "600/600 [==============================] - 4s 6ms/step - loss: 0.1545 - mean_squared_error: 0.1545 - val_loss: 0.1586 - val_mean_squared_error: 0.1586\n",
            "Epoch 64/100\n",
            "600/600 [==============================] - 6s 9ms/step - loss: 0.1545 - mean_squared_error: 0.1545 - val_loss: 0.1585 - val_mean_squared_error: 0.1585\n",
            "Epoch 65/100\n",
            "600/600 [==============================] - 4s 7ms/step - loss: 0.1544 - mean_squared_error: 0.1544 - val_loss: 0.1585 - val_mean_squared_error: 0.1585\n",
            "Epoch 66/100\n",
            "600/600 [==============================] - 4s 7ms/step - loss: 0.1543 - mean_squared_error: 0.1543 - val_loss: 0.1586 - val_mean_squared_error: 0.1586\n",
            "Epoch 67/100\n",
            "600/600 [==============================] - 5s 9ms/step - loss: 0.1542 - mean_squared_error: 0.1542 - val_loss: 0.1586 - val_mean_squared_error: 0.1586\n",
            "Epoch 68/100\n",
            "600/600 [==============================] - 5s 8ms/step - loss: 0.1542 - mean_squared_error: 0.1542 - val_loss: 0.1584 - val_mean_squared_error: 0.1584\n",
            "Epoch 69/100\n",
            "600/600 [==============================] - 4s 6ms/step - loss: 0.1541 - mean_squared_error: 0.1541 - val_loss: 0.1584 - val_mean_squared_error: 0.1584\n",
            "Epoch 70/100\n",
            "600/600 [==============================] - 4s 7ms/step - loss: 0.1540 - mean_squared_error: 0.1540 - val_loss: 0.1585 - val_mean_squared_error: 0.1585\n",
            "Epoch 71/100\n",
            "600/600 [==============================] - 5s 9ms/step - loss: 0.1540 - mean_squared_error: 0.1540 - val_loss: 0.1585 - val_mean_squared_error: 0.1585\n",
            "Epoch 72/100\n",
            "600/600 [==============================] - 4s 7ms/step - loss: 0.1539 - mean_squared_error: 0.1539 - val_loss: 0.1585 - val_mean_squared_error: 0.1585\n",
            "Epoch 73/100\n",
            "600/600 [==============================] - 4s 6ms/step - loss: 0.1539 - mean_squared_error: 0.1539 - val_loss: 0.1584 - val_mean_squared_error: 0.1584\n",
            "Epoch 74/100\n",
            "600/600 [==============================] - 6s 10ms/step - loss: 0.1538 - mean_squared_error: 0.1538 - val_loss: 0.1584 - val_mean_squared_error: 0.1584\n",
            "Epoch 75/100\n",
            "600/600 [==============================] - 4s 7ms/step - loss: 0.1538 - mean_squared_error: 0.1538 - val_loss: 0.1584 - val_mean_squared_error: 0.1584\n",
            "Epoch 76/100\n",
            "600/600 [==============================] - 4s 6ms/step - loss: 0.1537 - mean_squared_error: 0.1537 - val_loss: 0.1585 - val_mean_squared_error: 0.1585\n",
            "Epoch 77/100\n",
            "600/600 [==============================] - 5s 9ms/step - loss: 0.1536 - mean_squared_error: 0.1536 - val_loss: 0.1585 - val_mean_squared_error: 0.1585\n",
            "Epoch 78/100\n",
            "600/600 [==============================] - 4s 7ms/step - loss: 0.1536 - mean_squared_error: 0.1536 - val_loss: 0.1587 - val_mean_squared_error: 0.1587\n",
            "Epoch 79/100\n",
            "600/600 [==============================] - 4s 7ms/step - loss: 0.1535 - mean_squared_error: 0.1535 - val_loss: 0.1583 - val_mean_squared_error: 0.1583\n",
            "Epoch 80/100\n",
            "600/600 [==============================] - 5s 8ms/step - loss: 0.1534 - mean_squared_error: 0.1534 - val_loss: 0.1583 - val_mean_squared_error: 0.1583\n",
            "Epoch 81/100\n",
            "600/600 [==============================] - 5s 8ms/step - loss: 0.1534 - mean_squared_error: 0.1534 - val_loss: 0.1583 - val_mean_squared_error: 0.1583\n",
            "Epoch 82/100\n",
            "600/600 [==============================] - 4s 7ms/step - loss: 0.1533 - mean_squared_error: 0.1533 - val_loss: 0.1584 - val_mean_squared_error: 0.1584\n",
            "Epoch 83/100\n",
            "600/600 [==============================] - 4s 7ms/step - loss: 0.1533 - mean_squared_error: 0.1533 - val_loss: 0.1583 - val_mean_squared_error: 0.1583\n",
            "Epoch 84/100\n",
            "600/600 [==============================] - 6s 10ms/step - loss: 0.1532 - mean_squared_error: 0.1532 - val_loss: 0.1582 - val_mean_squared_error: 0.1582\n",
            "Epoch 85/100\n",
            "600/600 [==============================] - 4s 7ms/step - loss: 0.1531 - mean_squared_error: 0.1531 - val_loss: 0.1583 - val_mean_squared_error: 0.1583\n",
            "Epoch 86/100\n",
            "600/600 [==============================] - 4s 7ms/step - loss: 0.1531 - mean_squared_error: 0.1531 - val_loss: 0.1582 - val_mean_squared_error: 0.1582\n",
            "Epoch 87/100\n",
            "600/600 [==============================] - 6s 10ms/step - loss: 0.1530 - mean_squared_error: 0.1530 - val_loss: 0.1584 - val_mean_squared_error: 0.1584\n",
            "Epoch 88/100\n",
            "600/600 [==============================] - 4s 6ms/step - loss: 0.1530 - mean_squared_error: 0.1530 - val_loss: 0.1582 - val_mean_squared_error: 0.1582\n",
            "Epoch 89/100\n",
            "600/600 [==============================] - 4s 6ms/step - loss: 0.1529 - mean_squared_error: 0.1529 - val_loss: 0.1583 - val_mean_squared_error: 0.1583\n",
            "Epoch 90/100\n",
            "600/600 [==============================] - 5s 9ms/step - loss: 0.1529 - mean_squared_error: 0.1529 - val_loss: 0.1582 - val_mean_squared_error: 0.1582\n",
            "Epoch 91/100\n",
            "600/600 [==============================] - 4s 7ms/step - loss: 0.1528 - mean_squared_error: 0.1528 - val_loss: 0.1583 - val_mean_squared_error: 0.1583\n",
            "Epoch 92/100\n",
            "600/600 [==============================] - 4s 6ms/step - loss: 0.1527 - mean_squared_error: 0.1527 - val_loss: 0.1582 - val_mean_squared_error: 0.1582\n",
            "Epoch 93/100\n",
            "600/600 [==============================] - 6s 9ms/step - loss: 0.1527 - mean_squared_error: 0.1527 - val_loss: 0.1583 - val_mean_squared_error: 0.1583\n",
            "Epoch 94/100\n",
            "600/600 [==============================] - 5s 8ms/step - loss: 0.1526 - mean_squared_error: 0.1526 - val_loss: 0.1581 - val_mean_squared_error: 0.1581\n",
            "Epoch 95/100\n",
            "600/600 [==============================] - 4s 7ms/step - loss: 0.1526 - mean_squared_error: 0.1526 - val_loss: 0.1582 - val_mean_squared_error: 0.1582\n",
            "Epoch 96/100\n",
            "600/600 [==============================] - 4s 7ms/step - loss: 0.1525 - mean_squared_error: 0.1525 - val_loss: 0.1582 - val_mean_squared_error: 0.1582\n",
            "Epoch 97/100\n",
            "600/600 [==============================] - 5s 9ms/step - loss: 0.1525 - mean_squared_error: 0.1525 - val_loss: 0.1581 - val_mean_squared_error: 0.1581\n",
            "Epoch 98/100\n",
            "600/600 [==============================] - 4s 7ms/step - loss: 0.1524 - mean_squared_error: 0.1524 - val_loss: 0.1581 - val_mean_squared_error: 0.1581\n",
            "Epoch 99/100\n",
            "600/600 [==============================] - 4s 6ms/step - loss: 0.1523 - mean_squared_error: 0.1523 - val_loss: 0.1580 - val_mean_squared_error: 0.1580\n",
            "Epoch 100/100\n",
            "600/600 [==============================] - 6s 10ms/step - loss: 0.1522 - mean_squared_error: 0.1522 - val_loss: 0.1580 - val_mean_squared_error: 0.1580\n",
            "1563/1563 - 3s - loss: 0.1577 - mean_squared_error: 0.1577 - 3s/epoch - 2ms/step\n",
            "Test MSE loss: 0.15773995220661163\n"
          ]
        }
      ]
    },
    {
      "cell_type": "code",
      "source": [
        "# Plot the training and validation loss versus the number of epochs.\n",
        "tr_loss = []\n",
        "val_loss = []\n",
        "\n",
        "for i in range(100):\n",
        "  tr_loss.append(history8.history[\"loss\"][i])\n",
        "  val_loss.append(history8.history[\"val_loss\"][i])\n",
        "  \n",
        "plt.plot(range(100), tr_loss, \"-b\", label=\"training\")\n",
        "plt.plot(range(100), val_loss, \"-r\", label=\"validation\")\n",
        "plt.legend(loc=\"upper right\")\n",
        "plt.title(\"Training Loss and Validation Loss vs Number of Epochs\")\n",
        "plt.ylabel(\"Loss\")\n",
        "plt.xlabel(\"Epoch\")\n",
        "plt.show()"
      ],
      "metadata": {
        "colab": {
          "base_uri": "https://localhost:8080/",
          "height": 295
        },
        "id": "DCyqsW89EILM",
        "outputId": "66259b3c-0e66-4e90-b11c-340a21c2a668"
      },
      "execution_count": 209,
      "outputs": [
        {
          "output_type": "display_data",
          "data": {
            "text/plain": [
              "<Figure size 432x288 with 1 Axes>"
            ],
            "image/png": "[encoded data removed]"
          },
          "metadata": {
            "needs_background": "light"
          }
        }
      ]
    },
    {
      "cell_type": "code",
      "source": [
        "test_scores = model9.evaluate(X_test, y_test, batch_size = 128, verbose=2)\n",
        "print(\"Test MSE loss (2,5):\", test_scores[0])\n",
        "\n",
        "test_scores = model2.evaluate(X_test, y_test, batch_size = 128, verbose=2)\n",
        "print(\"Test MSE loss (2,10):\", test_scores[0])\n",
        "\n",
        "test_scores = model3.evaluate(X_test, y_test, batch_size = 128, verbose=2)\n",
        "print(\"Test MSE loss (2,100):\", test_scores[0])\n",
        "\n",
        "test_scores = model8.evaluate(X_test, y_test, batch_size = 128, verbose=2)\n",
        "print(\"Test MSE loss (2,200):\", test_scores[0])\n",
        "\n",
        "test_scores = model4.evaluate(X_test, y_test, batch_size = 128, verbose=2)\n",
        "print(\"Test MSE loss (3,5):\", test_scores[0])\n",
        "\n",
        "test_scores = model5.evaluate(X_test, y_test, batch_size = 128, verbose=2)\n",
        "print(\"Test MSE loss (3,10):\", test_scores[0])\n",
        "\n",
        "test_scores = model6.evaluate(X_test, y_test, batch_size = 128, verbose=2)\n",
        "print(\"Test MSE loss (3,100):\", test_scores[0])\n",
        "\n",
        "test_scores = model7.evaluate(X_test, y_test, batch_size = 128, verbose=2)\n",
        "print(\"Test MSE loss (3,200):\", test_scores[0])"
      ],
      "metadata": {
        "colab": {
          "base_uri": "https://localhost:8080/"
        },
        "id": "u7qR9PsyDvbf",
        "outputId": "f523650f-ebdd-49c3-d3c3-da9688983f34"
      },
      "execution_count": 213,
      "outputs": [
        {
          "output_type": "stream",
          "name": "stdout",
          "text": [
            "1563/1563 - 2s - loss: 0.1601 - mean_squared_error: 0.1601 - 2s/epoch - 1ms/step\n",
            "Test MSE loss (2,5): 0.16010744869709015\n",
            "1563/1563 - 6s - loss: 0.1597 - mean_squared_error: 0.1597 - 6s/epoch - 4ms/step\n",
            "Test MSE loss (2,10): 0.1597115397453308\n",
            "1563/1563 - 2s - loss: 0.1577 - mean_squared_error: 0.1577 - 2s/epoch - 1ms/step\n",
            "Test MSE loss (2,100): 0.1577138602733612\n",
            "1563/1563 - 3s - loss: 0.1577 - mean_squared_error: 0.1577 - 3s/epoch - 2ms/step\n",
            "Test MSE loss (2,200): 0.15773995220661163\n",
            "1563/1563 - 2s - loss: 0.1602 - mean_squared_error: 0.1602 - 2s/epoch - 1ms/step\n",
            "Test MSE loss (3,5): 0.16019394993782043\n",
            "1563/1563 - 3s - loss: 0.1600 - mean_squared_error: 0.1600 - 3s/epoch - 2ms/step\n",
            "Test MSE loss (3,10): 0.16004325449466705\n",
            "1563/1563 - 6s - loss: 0.1642 - mean_squared_error: 0.1642 - 6s/epoch - 4ms/step\n",
            "Test MSE loss (3,100): 0.16415314376354218\n",
            "1563/1563 - 15s - loss: 0.1770 - mean_squared_error: 0.1770 - 15s/epoch - 10ms/step\n",
            "Test MSE loss (3,200): 0.17702718079090118\n"
          ]
        }
      ]
    },
    {
      "cell_type": "markdown",
      "metadata": {
        "id": "yls_40NUOBIW"
      },
      "source": [
        "**Comparison of loss and test MSE values for training pairs (L,w) = (2,5), (2,10), (2,100), (2,200), (3,5), (3,10), (3,100), and (3,200):**\n",
        "\n",
        "L represents the number of equivariant layers with the neural network and w represents the width of each equivariant layer. The graph of training and validation loss against epochs is investigated for each (L, w) pair. \n",
        "\n",
        "For (L, w) = (2,5), the behaviour of the training and validation loss is quite standard and both converge quite quickly over the first ten epochs. For (L, w) = (2, 10), the graph looks quite similar to (2, 5) but with slightly faster convergence. For (L, w) = (2, 100), it is seen that although the training loss converges towards zero very quickly, validation loss begins to move away from the training loss, suggesting there may be some overfitting with such a large value of w. This distinction between validation and training loss is seen even more clearly for (L, w) = (2, 200), where there is an even larger distance between the training and validation loss - although both are still decreasing throught the epochs, albeit the validation is decreasing slower.\n",
        "\n",
        "For (L, w) = (3,5), the training and validation loss behave similarly to those for (2, 5), although they converge to zero much more quickly. For (L, w) = (3, 10), the losses converge even more quickly to zero than for (3, 5). The graph for (3, 100) is similar to that of (2, 100) but there is an even larger distinction between the training and validation loss. In fact the validation loss actually begins to increase over the epochs and it is clear there is overfitting of the model. (L, w) = (3, 200) shows an even more extreme example of overfitting, as the training loss decreases very linearly over the epochs but the validation loss does the exact opposite and actually increases linearly over the epochs. \n",
        "\n",
        "The test MSE values also give insight into the fit of each of these models. Interestingly, for all values of w, the MSE is lower for L=2, implying that is optimal over L=3 (and that L=3 might lead to overfitting of the model with too many layers and thus too high a complexity).\n",
        "\n",
        "It is clear from these results that a middle value of L and w must be found to optimally fit the model. The test MSE results suggest that L=2 is optimal, and particularly that the pair (L, w) = (2, 100) might be the optimal pair with which to create the model. The training and validation loss graphs suggest there may be some overfitting even with this model, so it could be safer choice to (L, w) = (2, 10) which still has a low MSE value and did not exhibit any signs of overfitting in the graph.\n"
      ]
    }
  ],
  "metadata": {
    "colab": {
      "provenance": []
    },
    "kernelspec": {
      "display_name": "Python 3",
      "name": "python3"
    },
    "language_info": {
      "name": "python"
    }
  },
  "nbformat": 4,
  "nbformat_minor": 0
}