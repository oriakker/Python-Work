{
  "cells": [
    {
      "cell_type": "markdown",
      "metadata": {
        "id": "jJu-2Uetz-Fw"
      },
      "source": [
        "# **Data Processing**\n",
        "\n",
        "The data and necessary modules are loaded into the python environment, and the data is batched."
      ]
    },
    {
      "cell_type": "code",
      "execution_count": 49,
      "metadata": {
        "id": "3zMAXSgfI6ez"
      },
      "outputs": [],
      "source": [
        "# importing necessary modules\n",
        "import numpy as np\n",
        "import pandas as pd\n",
        "import matplotlib.pyplot as plt\n",
        "import tensorflow as tf\n",
        "import numpy as np\n",
        "from tensorflow import keras\n",
        "import time\n",
        "import matplotlib.pyplot as plot"
      ]
    },
    {
      "cell_type": "code",
      "execution_count": 50,
      "metadata": {
        "colab": {
          "base_uri": "https://localhost:8080/"
        },
        "id": "81xEiUYyx4JK",
        "outputId": "a476c914-eda2-4af9-89fb-e0c27454e076"
      },
      "outputs": [
        {
          "output_type": "stream",
          "name": "stdout",
          "text": [
            "Drive already mounted at /content/drive; to attempt to forcibly remount, call drive.mount(\"/content/drive\", force_remount=True).\n"
          ]
        }
      ],
      "source": [
        "from google.colab import drive\n",
        "drive.mount('/content/drive')"
      ]
    },
    {
      "cell_type": "code",
      "execution_count": 51,
      "metadata": {
        "id": "6BUciLxEIsE9"
      },
      "outputs": [],
      "source": [
        "train_dataset = tf.data.Dataset.load('/content/drive/MyDrive/assign2_train')\n",
        "val_dataset = tf.data.Dataset.load('/content/drive/MyDrive/assign2_val')"
      ]
    },
    {
      "cell_type": "code",
      "execution_count": 52,
      "metadata": {
        "id": "lsfyLGjJJFYt"
      },
      "outputs": [],
      "source": [
        "# Batch training data\n",
        "batch_size = 128\n",
        "\n",
        "train_dataset_batch = train_dataset.batch(batch_size)"
      ]
    },
    {
      "cell_type": "code",
      "execution_count": 53,
      "metadata": {
        "id": "nJc_65drJSKr"
      },
      "outputs": [],
      "source": [
        "# Batch validation data\n",
        "batch_size = 128\n",
        "\n",
        "val_dataset_batch = val_dataset.batch(batch_size)"
      ]
    },
    {
      "cell_type": "markdown",
      "metadata": {
        "id": "h7d60yMUz7j_"
      },
      "source": [
        "# **P1.1**\n",
        "\n",
        "\n",
        "The CNN based classifier with two parallel branches is created as below (and as specified). The 'softmax' activation function is used in the dense output layer to assign probability values to each potential classification genre, and thus the output size of the model is 8 (as there are 8 genres). The categorical cross entropy function is used to measure loss since this is a multi-class classification problem. Accuracy is used as the evaluation metric for the model. "
      ]
    },
    {
      "cell_type": "code",
      "execution_count": 79,
      "metadata": {
        "id": "RO9I4FItJiuU"
      },
      "outputs": [],
      "source": [
        "# Specify input shape and create input layer \n",
        "input = tf.keras.layers.Input(shape= (80, 80, 1))\n",
        "\n",
        "# Parallel branch one - one convolutional layer, one pooling layer and one flattening layer\n",
        "cnn1 = tf.keras.layers.Conv2D(filters = 3, kernel_size = (8,8), padding='same')(input)\n",
        "cnn1 = tf.keras.layers.LeakyReLU(alpha=0.3)(cnn1)\n",
        "maxpool1 = tf.keras.layers.MaxPooling2D(pool_size=(4, 4))(cnn1)\n",
        "flat1 = tf.keras.layers.Flatten()(maxpool1)\n",
        "\n",
        "# Parallel branch two - one convolutional layer, one pooling layer and one flattening layer\n",
        "cnn2 = tf.keras.layers.Conv2D(filters = 4, kernel_size = (4,4), padding='same')(input)\n",
        "cnn2 = tf.keras.layers.LeakyReLU(alpha=0.3)(cnn2)\n",
        "maxpool2 = tf.keras.layers.MaxPooling2D(pool_size=(2, 2))(cnn2)\n",
        "flat2 = tf.keras.layers.Flatten()(maxpool2)\n",
        "\n",
        "# Combine two branches\n",
        "total = tf.keras.layers.concatenate([flat1, flat2])\n",
        "\n",
        "# Final output layer\n",
        "output = tf.keras.layers.Dense(8, activation='softmax')(total)\n",
        "\n",
        "# Create model\n",
        "model = tf.keras.Model(inputs=input, outputs=output)"
      ]
    },
    {
      "cell_type": "markdown",
      "metadata": {
        "id": "w50ZMLux6eUO"
      },
      "source": [
        "The model is compiled using a mini-batch stochastic gradient descent algorithm, and is trained for 50 epochs."
      ]
    },
    {
      "cell_type": "code",
      "execution_count": 80,
      "metadata": {
        "id": "hl2pmVAPQiu6"
      },
      "outputs": [],
      "source": [
        "# Construct SGD optimiser with learning rate\n",
        "optimizer = tf.keras.optimizers.SGD(learning_rate=0.01, momentum=0.9) \n",
        "model.compile(optimizer=optimizer, loss='categorical_crossentropy', metrics=['accuracy'])"
      ]
    },
    {
      "cell_type": "code",
      "execution_count": 81,
      "metadata": {
        "colab": {
          "base_uri": "https://localhost:8080/"
        },
        "id": "COVSXj4T_5uI",
        "outputId": "f738aff9-63c5-417c-c992-c38d634d7878"
      },
      "outputs": [
        {
          "output_type": "stream",
          "name": "stdout",
          "text": [
            "Epoch 1/50\n",
            "75/75 [==============================] - 2s 16ms/step - loss: 1.3015 - accuracy: 0.5261 - val_loss: 1.0175 - val_accuracy: 0.6242\n",
            "Epoch 2/50\n",
            "75/75 [==============================] - 1s 15ms/step - loss: 0.8242 - accuracy: 0.7013 - val_loss: 0.8457 - val_accuracy: 0.6850\n",
            "Epoch 3/50\n",
            "75/75 [==============================] - 1s 18ms/step - loss: 0.6529 - accuracy: 0.7636 - val_loss: 0.8045 - val_accuracy: 0.7096\n",
            "Epoch 4/50\n",
            "75/75 [==============================] - 2s 20ms/step - loss: 0.5451 - accuracy: 0.8077 - val_loss: 0.8472 - val_accuracy: 0.7088\n",
            "Epoch 5/50\n",
            "75/75 [==============================] - 1s 16ms/step - loss: 0.4668 - accuracy: 0.8345 - val_loss: 0.9132 - val_accuracy: 0.6913\n",
            "Epoch 6/50\n",
            "75/75 [==============================] - 1s 15ms/step - loss: 0.4196 - accuracy: 0.8523 - val_loss: 0.9264 - val_accuracy: 0.7000\n",
            "Epoch 7/50\n",
            "75/75 [==============================] - 1s 15ms/step - loss: 0.3666 - accuracy: 0.8725 - val_loss: 0.9478 - val_accuracy: 0.7004\n",
            "Epoch 8/50\n",
            "75/75 [==============================] - 1s 15ms/step - loss: 0.3391 - accuracy: 0.8791 - val_loss: 1.1303 - val_accuracy: 0.6758\n",
            "Epoch 9/50\n",
            "75/75 [==============================] - 1s 15ms/step - loss: 0.3187 - accuracy: 0.8899 - val_loss: 1.1187 - val_accuracy: 0.6942\n",
            "Epoch 10/50\n",
            "75/75 [==============================] - 1s 15ms/step - loss: 0.2613 - accuracy: 0.9123 - val_loss: 1.0732 - val_accuracy: 0.6933\n",
            "Epoch 11/50\n",
            "75/75 [==============================] - 1s 15ms/step - loss: 0.2244 - accuracy: 0.9254 - val_loss: 1.1629 - val_accuracy: 0.6854\n",
            "Epoch 12/50\n",
            "75/75 [==============================] - 1s 17ms/step - loss: 0.2096 - accuracy: 0.9315 - val_loss: 1.3331 - val_accuracy: 0.6708\n",
            "Epoch 13/50\n",
            "75/75 [==============================] - 2s 20ms/step - loss: 0.1838 - accuracy: 0.9350 - val_loss: 1.4082 - val_accuracy: 0.6842\n",
            "Epoch 14/50\n",
            "75/75 [==============================] - 1s 15ms/step - loss: 0.1428 - accuracy: 0.9529 - val_loss: 1.2654 - val_accuracy: 0.6908\n",
            "Epoch 15/50\n",
            "75/75 [==============================] - 1s 16ms/step - loss: 0.1195 - accuracy: 0.9621 - val_loss: 1.2933 - val_accuracy: 0.6958\n",
            "Epoch 16/50\n",
            "75/75 [==============================] - 1s 15ms/step - loss: 0.1063 - accuracy: 0.9691 - val_loss: 1.2983 - val_accuracy: 0.7108\n",
            "Epoch 17/50\n",
            "75/75 [==============================] - 1s 15ms/step - loss: 0.0765 - accuracy: 0.9807 - val_loss: 1.4213 - val_accuracy: 0.6913\n",
            "Epoch 18/50\n",
            "75/75 [==============================] - 1s 15ms/step - loss: 0.0662 - accuracy: 0.9832 - val_loss: 1.4766 - val_accuracy: 0.6896\n",
            "Epoch 19/50\n",
            "75/75 [==============================] - 1s 15ms/step - loss: 0.0547 - accuracy: 0.9869 - val_loss: 1.4628 - val_accuracy: 0.6954\n",
            "Epoch 20/50\n",
            "75/75 [==============================] - 1s 15ms/step - loss: 0.0425 - accuracy: 0.9923 - val_loss: 1.5504 - val_accuracy: 0.6896\n",
            "Epoch 21/50\n",
            "75/75 [==============================] - 1s 15ms/step - loss: 0.0399 - accuracy: 0.9926 - val_loss: 1.6087 - val_accuracy: 0.6917\n",
            "Epoch 22/50\n",
            "75/75 [==============================] - 2s 22ms/step - loss: 0.0356 - accuracy: 0.9933 - val_loss: 1.6268 - val_accuracy: 0.7017\n",
            "Epoch 23/50\n",
            "75/75 [==============================] - 2s 24ms/step - loss: 0.0305 - accuracy: 0.9946 - val_loss: 1.5472 - val_accuracy: 0.7092\n",
            "Epoch 24/50\n",
            "75/75 [==============================] - 1s 16ms/step - loss: 0.0254 - accuracy: 0.9960 - val_loss: 1.5732 - val_accuracy: 0.7117\n",
            "Epoch 25/50\n",
            "75/75 [==============================] - 1s 15ms/step - loss: 0.0215 - accuracy: 0.9961 - val_loss: 1.6482 - val_accuracy: 0.7067\n",
            "Epoch 26/50\n",
            "75/75 [==============================] - 1s 16ms/step - loss: 0.0152 - accuracy: 0.9980 - val_loss: 1.6367 - val_accuracy: 0.7046\n",
            "Epoch 27/50\n",
            "75/75 [==============================] - 1s 16ms/step - loss: 0.0117 - accuracy: 0.9984 - val_loss: 1.6381 - val_accuracy: 0.7042\n",
            "Epoch 28/50\n",
            "75/75 [==============================] - 1s 15ms/step - loss: 0.0111 - accuracy: 0.9983 - val_loss: 1.6477 - val_accuracy: 0.7079\n",
            "Epoch 29/50\n",
            "75/75 [==============================] - 1s 16ms/step - loss: 0.0104 - accuracy: 0.9984 - val_loss: 1.6712 - val_accuracy: 0.7083\n",
            "Epoch 30/50\n",
            "75/75 [==============================] - 1s 16ms/step - loss: 0.0097 - accuracy: 0.9985 - val_loss: 1.6826 - val_accuracy: 0.7071\n",
            "Epoch 31/50\n",
            "75/75 [==============================] - 2s 21ms/step - loss: 0.0093 - accuracy: 0.9984 - val_loss: 1.6797 - val_accuracy: 0.7067\n",
            "Epoch 32/50\n",
            "75/75 [==============================] - 2s 20ms/step - loss: 0.0087 - accuracy: 0.9986 - val_loss: 1.6754 - val_accuracy: 0.7075\n",
            "Epoch 33/50\n",
            "75/75 [==============================] - 1s 15ms/step - loss: 0.0079 - accuracy: 0.9985 - val_loss: 1.6835 - val_accuracy: 0.7100\n",
            "Epoch 34/50\n",
            "75/75 [==============================] - 1s 16ms/step - loss: 0.0071 - accuracy: 0.9984 - val_loss: 1.6941 - val_accuracy: 0.7096\n",
            "Epoch 35/50\n",
            "75/75 [==============================] - 1s 16ms/step - loss: 0.0066 - accuracy: 0.9984 - val_loss: 1.7015 - val_accuracy: 0.7100\n",
            "Epoch 36/50\n",
            "75/75 [==============================] - 1s 16ms/step - loss: 0.0063 - accuracy: 0.9984 - val_loss: 1.7087 - val_accuracy: 0.7113\n",
            "Epoch 37/50\n",
            "75/75 [==============================] - 1s 15ms/step - loss: 0.0062 - accuracy: 0.9984 - val_loss: 1.7164 - val_accuracy: 0.7113\n",
            "Epoch 38/50\n",
            "75/75 [==============================] - 1s 15ms/step - loss: 0.0061 - accuracy: 0.9984 - val_loss: 1.7235 - val_accuracy: 0.7108\n",
            "Epoch 39/50\n",
            "75/75 [==============================] - 1s 16ms/step - loss: 0.0059 - accuracy: 0.9984 - val_loss: 1.7302 - val_accuracy: 0.7113\n",
            "Epoch 40/50\n",
            "75/75 [==============================] - 2s 22ms/step - loss: 0.0059 - accuracy: 0.9984 - val_loss: 1.7366 - val_accuracy: 0.7113\n",
            "Epoch 41/50\n",
            "75/75 [==============================] - 2s 22ms/step - loss: 0.0058 - accuracy: 0.9984 - val_loss: 1.7427 - val_accuracy: 0.7117\n",
            "Epoch 42/50\n",
            "75/75 [==============================] - 1s 17ms/step - loss: 0.0057 - accuracy: 0.9984 - val_loss: 1.7487 - val_accuracy: 0.7117\n",
            "Epoch 43/50\n",
            "75/75 [==============================] - 1s 15ms/step - loss: 0.0056 - accuracy: 0.9984 - val_loss: 1.7543 - val_accuracy: 0.7121\n",
            "Epoch 44/50\n",
            "75/75 [==============================] - 1s 17ms/step - loss: 0.0056 - accuracy: 0.9984 - val_loss: 1.7600 - val_accuracy: 0.7117\n",
            "Epoch 45/50\n",
            "75/75 [==============================] - 1s 15ms/step - loss: 0.0055 - accuracy: 0.9984 - val_loss: 1.7651 - val_accuracy: 0.7125\n",
            "Epoch 46/50\n",
            "75/75 [==============================] - 1s 15ms/step - loss: 0.0055 - accuracy: 0.9984 - val_loss: 1.7701 - val_accuracy: 0.7121\n",
            "Epoch 47/50\n",
            "75/75 [==============================] - 1s 15ms/step - loss: 0.0054 - accuracy: 0.9984 - val_loss: 1.7751 - val_accuracy: 0.7121\n",
            "Epoch 48/50\n",
            "75/75 [==============================] - 1s 16ms/step - loss: 0.0054 - accuracy: 0.9984 - val_loss: 1.7797 - val_accuracy: 0.7121\n",
            "Epoch 49/50\n",
            "75/75 [==============================] - 2s 20ms/step - loss: 0.0054 - accuracy: 0.9984 - val_loss: 1.7842 - val_accuracy: 0.7117\n",
            "Epoch 50/50\n",
            "75/75 [==============================] - 2s 23ms/step - loss: 0.0053 - accuracy: 0.9984 - val_loss: 1.7885 - val_accuracy: 0.7117\n"
          ]
        }
      ],
      "source": [
        "# Number of epochs is set to 50, and the pre-batched dataset is passed into the model to implement mini-batch SGD\n",
        "no_epochs = 50\n",
        "history = model.fit(train_dataset_batch, epochs=no_epochs, validation_data=(val_dataset_batch))\n"
      ]
    },
    {
      "cell_type": "code",
      "source": [
        "# Plot accuracy values for training and validation sets\n",
        "plt.plot(history.history['accuracy'], label='training accuracy')\n",
        "plt.plot(history.history['val_accuracy'], label='validation accuracy')\n",
        "plt.legend()\n",
        "plt.show()"
      ],
      "metadata": {
        "colab": {
          "base_uri": "https://localhost:8080/",
          "height": 265
        },
        "id": "zfw_nEahTLkt",
        "outputId": "9d3e6a3b-4441-43c9-da1b-2f1f03448ab6"
      },
      "execution_count": 82,
      "outputs": [
        {
          "output_type": "display_data",
          "data": {
            "text/plain": [
              "<Figure size 432x288 with 1 Axes>"
            ],
            "image/png": "[encoded data removed]"
          },
          "metadata": {
            "needs_background": "light"
          }
        }
      ]
    },
    {
      "cell_type": "code",
      "source": [
        "# Plot loss values for training and validation sets\n",
        "plt.plot(history.history['loss'], label='training loss')\n",
        "plt.plot(history.history['val_loss'], label='validation loss')\n",
        "plt.legend()\n",
        "plt.show()"
      ],
      "metadata": {
        "colab": {
          "base_uri": "https://localhost:8080/",
          "height": 265
        },
        "id": "N6BsZL-_TMDI",
        "outputId": "35aaa13d-c155-4e96-fad8-66239681fbbe"
      },
      "execution_count": 83,
      "outputs": [
        {
          "output_type": "display_data",
          "data": {
            "text/plain": [
              "<Figure size 432x288 with 1 Axes>"
            ],
            "image/png": "[encoded data removed]"
          },
          "metadata": {
            "needs_background": "light"
          }
        }
      ]
    },
    {
      "cell_type": "markdown",
      "metadata": {
        "id": "-2KP7Xet7A4e"
      },
      "source": [
        "After 50 training epochs, an accuracy of approximately 71% is achieved on the validation set. However, one can see that the training accuracy and validation accuracy are very far apart and do not converge together. In fact, the validation loss is seen to increase over epochs, whilst the training loss converges to zero. Clearly, there is much room for improvement in this model."
      ]
    },
    {
      "cell_type": "markdown",
      "metadata": {
        "id": "U6QmCzfvRQX8"
      },
      "source": [
        "# **P1.2**\n",
        "\n",
        "Firstly, the dimension of the data is reduced using the reduce_dimension function."
      ]
    },
    {
      "cell_type": "code",
      "execution_count": 84,
      "metadata": {
        "id": "ouabrvIORVtW"
      },
      "outputs": [],
      "source": [
        "def reduce_dimension(x, y):\n",
        "\n",
        "  return tf.squeeze(x, axis=-1), y\n",
        "\n",
        "train_dataset_squeeze = train_dataset.map(reduce_dimension)\n",
        "val_dataset_squeeze = val_dataset.map(reduce_dimension)"
      ]
    },
    {
      "cell_type": "markdown",
      "metadata": {
        "id": "JfTm-zhM7bh8"
      },
      "source": [
        "The data is then pre-batched into sizes of 128 as before."
      ]
    },
    {
      "cell_type": "code",
      "execution_count": 85,
      "metadata": {
        "id": "mlpqSDvAeWwJ"
      },
      "outputs": [],
      "source": [
        "batch_size = 128\n",
        "\n",
        "train_dataset_squeeze_batch = train_dataset_squeeze.batch(batch_size)\n",
        "val_dataset_squeeze_batch = val_dataset_squeeze.batch(batch_size)"
      ]
    },
    {
      "cell_type": "markdown",
      "metadata": {
        "id": "7lbUd3N7BMsB"
      },
      "source": [
        "The data is now of shape (80,80), compared to it's initial (80, 80, 1) shape. The CNN-RNN architecture is created."
      ]
    },
    {
      "cell_type": "code",
      "execution_count": 89,
      "metadata": {
        "id": "FgRIXVcomnyB"
      },
      "outputs": [],
      "source": [
        "# Input layer is initialised\n",
        "input = tf.keras.layers.Input(shape=(80, 80))\n",
        "\n",
        "# Convolutional layer 1\n",
        "cnn1 = tf.keras.layers.Conv1D(filters=8, kernel_size=4)(input)\n",
        "\n",
        "# MaxPool layer\n",
        "maxpool1 = tf.keras.layers.MaxPooling1D(pool_size=2)(cnn1)\n",
        "\n",
        "# Convolutional layer 2\n",
        "cnn2 = tf.keras.layers.Conv1D(filters=6, kernel_size=3, activation='relu')(maxpool1)\n",
        "\n",
        "# MaxPool layer\n",
        "maxpool2 = tf.keras.layers.MaxPooling1D(pool_size=2)(cnn2)\n",
        "\n",
        "# LSTM layers\n",
        "lstm1 = tf.keras.layers.LSTM(units=128, return_sequences=True)(maxpool2)\n",
        "lstm2 = tf.keras.layers.LSTM(units=32)(lstm1)\n",
        "\n",
        "# Dense layer \n",
        "dense = tf.keras.layers.Dense(200, activation='relu')(lstm2)\n",
        "\n",
        "# Dropout layer\n",
        "drop = tf.keras.layers.Dropout(0.2)(dense)\n",
        "\n",
        "# Dense output layer\n",
        "output = tf.keras.layers.Dense(units=8, activation='softmax')(drop)\n",
        "\n",
        "# Create model\n",
        "model = tf.keras.Model(inputs=input, outputs=output)"
      ]
    },
    {
      "cell_type": "markdown",
      "metadata": {
        "id": "xtm-i7_nEpOH"
      },
      "source": [
        "Accuracy and categorical cross entropy are again utilised as the evaluation metric and loss function."
      ]
    },
    {
      "cell_type": "code",
      "execution_count": 90,
      "metadata": {
        "id": "YTLiX-dFDCza"
      },
      "outputs": [],
      "source": [
        "# Compile the model\n",
        "optimizer = tf.keras.optimizers.SGD(learning_rate=0.05)\n",
        "model.compile(optimizer=optimizer, loss='categorical_crossentropy', metrics=['accuracy'])"
      ]
    },
    {
      "cell_type": "code",
      "execution_count": 91,
      "metadata": {
        "colab": {
          "base_uri": "https://localhost:8080/"
        },
        "id": "HTxsT4uapCXB",
        "outputId": "816d7617-d79e-4ec1-b2fa-ebd15de749da"
      },
      "outputs": [
        {
          "output_type": "stream",
          "name": "stdout",
          "text": [
            "Epoch 1/50\n",
            "75/75 [==============================] - 7s 49ms/step - loss: 1.9812 - accuracy: 0.2249 - val_loss: 1.8933 - val_accuracy: 0.2488\n",
            "Epoch 2/50\n",
            "75/75 [==============================] - 2s 22ms/step - loss: 1.8304 - accuracy: 0.2877 - val_loss: 1.8052 - val_accuracy: 0.3008\n",
            "Epoch 3/50\n",
            "75/75 [==============================] - 2s 29ms/step - loss: 1.7616 - accuracy: 0.3222 - val_loss: 1.7639 - val_accuracy: 0.3217\n",
            "Epoch 4/50\n",
            "75/75 [==============================] - 2s 21ms/step - loss: 1.7212 - accuracy: 0.3471 - val_loss: 1.7296 - val_accuracy: 0.3358\n",
            "Epoch 5/50\n",
            "75/75 [==============================] - 2s 21ms/step - loss: 1.6861 - accuracy: 0.3584 - val_loss: 1.6966 - val_accuracy: 0.3504\n",
            "Epoch 6/50\n",
            "75/75 [==============================] - 3s 39ms/step - loss: 1.6543 - accuracy: 0.3765 - val_loss: 1.6630 - val_accuracy: 0.3529\n",
            "Epoch 7/50\n",
            "75/75 [==============================] - 2s 21ms/step - loss: 1.6111 - accuracy: 0.4008 - val_loss: 1.6156 - val_accuracy: 0.3704\n",
            "Epoch 8/50\n",
            "75/75 [==============================] - 2s 22ms/step - loss: 1.5420 - accuracy: 0.4307 - val_loss: 1.5314 - val_accuracy: 0.4142\n",
            "Epoch 9/50\n",
            "75/75 [==============================] - 2s 22ms/step - loss: 1.4457 - accuracy: 0.4658 - val_loss: 1.5436 - val_accuracy: 0.4154\n",
            "Epoch 10/50\n",
            "75/75 [==============================] - 2s 21ms/step - loss: 1.3819 - accuracy: 0.4857 - val_loss: 1.3964 - val_accuracy: 0.4633\n",
            "Epoch 11/50\n",
            "75/75 [==============================] - 3s 34ms/step - loss: 1.3266 - accuracy: 0.5024 - val_loss: 1.3841 - val_accuracy: 0.4737\n",
            "Epoch 12/50\n",
            "75/75 [==============================] - 2s 21ms/step - loss: 1.2873 - accuracy: 0.5150 - val_loss: 1.2804 - val_accuracy: 0.5138\n",
            "Epoch 13/50\n",
            "75/75 [==============================] - 2s 22ms/step - loss: 1.2478 - accuracy: 0.5364 - val_loss: 1.2733 - val_accuracy: 0.5154\n",
            "Epoch 14/50\n",
            "75/75 [==============================] - 2s 21ms/step - loss: 1.2062 - accuracy: 0.5486 - val_loss: 1.2341 - val_accuracy: 0.5283\n",
            "Epoch 15/50\n",
            "75/75 [==============================] - 2s 21ms/step - loss: 1.1860 - accuracy: 0.5566 - val_loss: 1.2403 - val_accuracy: 0.5229\n",
            "Epoch 16/50\n",
            "75/75 [==============================] - 2s 30ms/step - loss: 1.1530 - accuracy: 0.5690 - val_loss: 1.2020 - val_accuracy: 0.5354\n",
            "Epoch 17/50\n",
            "75/75 [==============================] - 3s 34ms/step - loss: 1.1341 - accuracy: 0.5770 - val_loss: 1.1771 - val_accuracy: 0.5517\n",
            "Epoch 18/50\n",
            "75/75 [==============================] - 2s 22ms/step - loss: 1.1097 - accuracy: 0.5822 - val_loss: 1.1592 - val_accuracy: 0.5542\n",
            "Epoch 19/50\n",
            "75/75 [==============================] - 2s 23ms/step - loss: 1.0994 - accuracy: 0.5882 - val_loss: 1.1256 - val_accuracy: 0.5688\n",
            "Epoch 20/50\n",
            "75/75 [==============================] - 2s 21ms/step - loss: 1.0806 - accuracy: 0.6032 - val_loss: 1.1320 - val_accuracy: 0.5633\n",
            "Epoch 21/50\n",
            "75/75 [==============================] - 2s 21ms/step - loss: 1.0638 - accuracy: 0.6035 - val_loss: 1.1162 - val_accuracy: 0.5738\n",
            "Epoch 22/50\n",
            "75/75 [==============================] - 2s 22ms/step - loss: 1.0564 - accuracy: 0.6044 - val_loss: 1.1088 - val_accuracy: 0.5788\n",
            "Epoch 23/50\n",
            "75/75 [==============================] - 3s 37ms/step - loss: 1.0311 - accuracy: 0.6141 - val_loss: 1.0985 - val_accuracy: 0.5808\n",
            "Epoch 24/50\n",
            "75/75 [==============================] - 2s 22ms/step - loss: 1.0140 - accuracy: 0.6219 - val_loss: 1.0860 - val_accuracy: 0.5858\n",
            "Epoch 25/50\n",
            "75/75 [==============================] - 2s 22ms/step - loss: 1.0094 - accuracy: 0.6250 - val_loss: 1.0754 - val_accuracy: 0.5904\n",
            "Epoch 26/50\n",
            "75/75 [==============================] - 2s 21ms/step - loss: 0.9927 - accuracy: 0.6299 - val_loss: 1.0762 - val_accuracy: 0.5896\n",
            "Epoch 27/50\n",
            "75/75 [==============================] - 3s 41ms/step - loss: 0.9795 - accuracy: 0.6358 - val_loss: 1.0603 - val_accuracy: 0.5950\n",
            "Epoch 28/50\n",
            "75/75 [==============================] - 3s 36ms/step - loss: 0.9734 - accuracy: 0.6370 - val_loss: 1.0787 - val_accuracy: 0.5829\n",
            "Epoch 29/50\n",
            "75/75 [==============================] - 2s 23ms/step - loss: 0.9595 - accuracy: 0.6429 - val_loss: 1.0540 - val_accuracy: 0.6000\n",
            "Epoch 30/50\n",
            "75/75 [==============================] - 2s 23ms/step - loss: 0.9491 - accuracy: 0.6493 - val_loss: 1.0904 - val_accuracy: 0.5913\n",
            "Epoch 31/50\n",
            "75/75 [==============================] - 2s 22ms/step - loss: 0.9340 - accuracy: 0.6494 - val_loss: 1.0542 - val_accuracy: 0.6000\n",
            "Epoch 32/50\n",
            "75/75 [==============================] - 2s 22ms/step - loss: 0.9267 - accuracy: 0.6548 - val_loss: 1.0415 - val_accuracy: 0.6067\n",
            "Epoch 33/50\n",
            "75/75 [==============================] - 2s 32ms/step - loss: 0.9223 - accuracy: 0.6542 - val_loss: 1.1130 - val_accuracy: 0.5842\n",
            "Epoch 34/50\n",
            "75/75 [==============================] - 2s 32ms/step - loss: 0.9105 - accuracy: 0.6616 - val_loss: 1.0235 - val_accuracy: 0.6129\n",
            "Epoch 35/50\n",
            "75/75 [==============================] - 2s 23ms/step - loss: 0.9033 - accuracy: 0.6650 - val_loss: 0.9935 - val_accuracy: 0.6267\n",
            "Epoch 36/50\n",
            "75/75 [==============================] - 2s 22ms/step - loss: 0.8898 - accuracy: 0.6710 - val_loss: 1.0262 - val_accuracy: 0.6142\n",
            "Epoch 37/50\n",
            "75/75 [==============================] - 2s 21ms/step - loss: 0.8813 - accuracy: 0.6678 - val_loss: 1.0345 - val_accuracy: 0.6162\n",
            "Epoch 38/50\n",
            "75/75 [==============================] - 2s 22ms/step - loss: 0.8701 - accuracy: 0.6756 - val_loss: 1.0431 - val_accuracy: 0.6067\n",
            "Epoch 39/50\n",
            "75/75 [==============================] - 3s 35ms/step - loss: 0.8576 - accuracy: 0.6808 - val_loss: 1.0105 - val_accuracy: 0.6221\n",
            "Epoch 40/50\n",
            "75/75 [==============================] - 2s 21ms/step - loss: 0.8587 - accuracy: 0.6825 - val_loss: 1.0137 - val_accuracy: 0.6212\n",
            "Epoch 41/50\n",
            "75/75 [==============================] - 2s 22ms/step - loss: 0.8568 - accuracy: 0.6819 - val_loss: 1.0114 - val_accuracy: 0.6225\n",
            "Epoch 42/50\n",
            "75/75 [==============================] - 2s 22ms/step - loss: 0.8443 - accuracy: 0.6871 - val_loss: 1.0195 - val_accuracy: 0.6200\n",
            "Epoch 43/50\n",
            "75/75 [==============================] - 2s 21ms/step - loss: 0.8351 - accuracy: 0.6939 - val_loss: 1.0309 - val_accuracy: 0.6192\n",
            "Epoch 44/50\n",
            "75/75 [==============================] - 2s 29ms/step - loss: 0.8278 - accuracy: 0.6909 - val_loss: 0.9895 - val_accuracy: 0.6333\n",
            "Epoch 45/50\n",
            "75/75 [==============================] - 2s 32ms/step - loss: 0.8294 - accuracy: 0.6919 - val_loss: 1.0238 - val_accuracy: 0.6263\n",
            "Epoch 46/50\n",
            "75/75 [==============================] - 2s 22ms/step - loss: 0.8181 - accuracy: 0.6934 - val_loss: 1.0457 - val_accuracy: 0.6221\n",
            "Epoch 47/50\n",
            "75/75 [==============================] - 2s 22ms/step - loss: 0.8055 - accuracy: 0.7026 - val_loss: 0.9631 - val_accuracy: 0.6433\n",
            "Epoch 48/50\n",
            "75/75 [==============================] - 2s 22ms/step - loss: 0.7974 - accuracy: 0.7014 - val_loss: 0.9754 - val_accuracy: 0.6446\n",
            "Epoch 49/50\n",
            "75/75 [==============================] - 2s 23ms/step - loss: 0.7893 - accuracy: 0.7106 - val_loss: 0.9805 - val_accuracy: 0.6421\n",
            "Epoch 50/50\n",
            "75/75 [==============================] - 2s 22ms/step - loss: 0.7824 - accuracy: 0.7119 - val_loss: 0.9616 - val_accuracy: 0.6496\n"
          ]
        }
      ],
      "source": [
        "# Train the model\n",
        "history = model.fit(train_dataset_squeeze_batch, validation_data=(val_dataset_squeeze_batch), epochs=50)"
      ]
    },
    {
      "cell_type": "code",
      "source": [
        "# Plot accuracy values for training and validation sets\n",
        "plt.plot(history.history['accuracy'], label='training accuracy')\n",
        "plt.plot(history.history['val_accuracy'], label='validation accuracy')\n",
        "plt.legend()\n",
        "plt.show()"
      ],
      "metadata": {
        "colab": {
          "base_uri": "https://localhost:8080/",
          "height": 265
        },
        "id": "Ov7kkfDQcydW",
        "outputId": "8db446ca-5099-4528-d79b-566bb71c8124"
      },
      "execution_count": 94,
      "outputs": [
        {
          "output_type": "display_data",
          "data": {
            "text/plain": [
              "<Figure size 432x288 with 1 Axes>"
            ],
            "image/png": "[encoded data removed]"
          },
          "metadata": {
            "needs_background": "light"
          }
        }
      ]
    },
    {
      "cell_type": "code",
      "source": [
        "# Plot loss values for training and validation sets\n",
        "plt.plot(history.history['loss'], label='training loss')\n",
        "plt.plot(history.history['val_loss'], label='validation loss')\n",
        "plt.legend()\n",
        "plt.show()"
      ],
      "metadata": {
        "colab": {
          "base_uri": "https://localhost:8080/",
          "height": 265
        },
        "id": "VKbQZiWRcvh4",
        "outputId": "9d581294-8b18-4935-b0ba-88c773cf93ec"
      },
      "execution_count": 93,
      "outputs": [
        {
          "output_type": "display_data",
          "data": {
            "text/plain": [
              "<Figure size 432x288 with 1 Axes>"
            ],
            "image/png": "[encoded data removed]"
          },
          "metadata": {
            "needs_background": "light"
          }
        }
      ]
    },
    {
      "cell_type": "markdown",
      "source": [
        "After 50 training epochs, an accuracy of approximately 64% is achieved on the validation set. Although this accuracy is lower than the previous model, the behaviour of the training loss and accuracy loss are much more similar, and the validation loss does decrease over the epochs."
      ],
      "metadata": {
        "id": "24UQWOWLIbs6"
      }
    },
    {
      "cell_type": "markdown",
      "metadata": {
        "id": "O4ksaUIbpyyu"
      },
      "source": [
        "# **P2**\n",
        "\n",
        "The neural network architectures in part 1 are investigated and improved upon to achieve a higher validation accuracy (with at least 85% validation accuracy over 50 epochs). "
      ]
    },
    {
      "cell_type": "markdown",
      "source": [
        "# **Rationale:**\n",
        "\n",
        "Firstly, the training data is augmented to create 'more' data for the model to be trained on. The Mel spectrograms are randomly flipped, cropped, rotated, and their brightness and constrast features are adjusted to create 4 new versions of each original spectrogram.  \n",
        "\n",
        "\n",
        "The model itself is also adapted to optimise validation accuracy, whilst ensuring validation loss remains minimal and overfitting is avoided. Two additional branches are added to the structure from Part 1.1, and it is decided that these branches will run sequentially (rather than in parallel). The modified model consists of four convolutional blocks which each contain a max pooling layer as before. However, each convolutional layer is batch normalised and then ReLU activation is applied (instead of leaky ReLU). Batch Normalisation is found to be an effective regularisation technique and ReLU is found to produce better results that Leaky ReLU. Dropout layers are also instantiated at the end of each convolutional block as further regularisation.\n",
        "\n",
        "Each convolutional block has an increasing number of filters in their convolutional layers, which increase as standardly within CNN literature (32-64-128-256), as deeper layers of a CNN tend to learn more complex and abstract features compared to shallower layers. The kernel size remains the same in each block. A pool size of (2,2) is also maintained for each pooling layer in each block (as in P1.2). The dropout level is also increased within each block (0.2-0.3-0.4-0.5), as this yielded the best results. \n",
        "\n",
        "RNN features are also incorporated into the model. The output of the fourth convolutional block is flattened and reshaped to allow it to be fed into an LSTM layer. This layer helps to capture any temporal dependencies in the data. The data is then fed to a dense output layer of size 8 that uses softmax activation (as before). \n",
        "\n",
        "After investigation using different optimisation algorithms and learning rates, it is found that the model performs best using the Adam optimiser with a learning rate of 0.0005.\n",
        "\n",
        "Thus, the improved model is compiled and fitted using the augmented, batched training data and the batched validation data that was used in P1.1."
      ],
      "metadata": {
        "id": "z4J_lSKeIbI7"
      }
    },
    {
      "cell_type": "code",
      "source": [
        "def data_augmentation(data, label):\n",
        "  # Stores the original and augmented Mel spectrogroms\n",
        "    images = [data]\n",
        "\n",
        "    # Flips spectrogram randomly and appends to images\n",
        "    flipped1 = tf.image.random_flip_left_right(data)\n",
        "    images.append(flipped1)\n",
        "\n",
        "    # Adjusts brightness and contrast randomly and appends to images\n",
        "    flipped2 = tf.image.random_brightness(data, max_delta=0.1)\n",
        "    flipped2 = tf.image.random_contrast(data, lower=0.9, upper=1.1)\n",
        "    images.append(flipped1)\n",
        "    \n",
        "    # Crops spectrogram randomly (whilst maintaing size (80,80,1)) and appends to images\n",
        "    padded = tf.image.pad_to_bounding_box(data, offset_height=0, offset_width=0, target_height=100, target_width=100)\n",
        "    flipped3 = tf.image.random_crop(padded, size=[80, 80, 1])\n",
        "    images.append(flipped3)\n",
        "\n",
        "    # Rotates spectrogram randomly by either 90, 180, 270, or 360/0 degrees, and appends to images\n",
        "    flipped4 = tf.image.rot90(data, k=tf.random.uniform(shape=[], minval=0, maxval=4, dtype=tf.int32))\n",
        "    images.append(flipped4)\n",
        "\n",
        "    # Stacks all of the spectrograms together into a single tensor\n",
        "    stack = tf.stack(images, axis=0)\n",
        "\n",
        "    # Adds relevant genre label to each augmented Mel spectrogram \n",
        "    num_aug = stack.shape[0] - 1\n",
        "    aug_labels = tf.tile(tf.expand_dims(label, axis=0), [num_aug + 1, 1])\n",
        "\n",
        "    return stack, aug_labels\n",
        "\n",
        "# Augment the unbatched training set - the process is autotuned to allow for optimal augmentation\n",
        "augmented_dataset = train_dataset.map(data_augmentation, num_parallel_calls=tf.data.AUTOTUNE)"
      ],
      "metadata": {
        "id": "7HECzIi1cPz9"
      },
      "execution_count": 97,
      "outputs": []
    },
    {
      "cell_type": "code",
      "source": [
        "# The dataset is unbatched to 'unlink' each set of spectrograms based on the same image i.e. aug has shape (80,80,1) again\n",
        "aug = augmented_dataset.unbatch()"
      ],
      "metadata": {
        "id": "ATIQcRow0OQE"
      },
      "execution_count": 100,
      "outputs": []
    },
    {
      "cell_type": "code",
      "source": [
        "# Dataset is then batched again (as in Part 1) to feed in to the mini batch optimisation algorithm\n",
        "batch_size = 128\n",
        "\n",
        "aug_batched = aug.batch(batch_size)"
      ],
      "metadata": {
        "colab": {
          "base_uri": "https://localhost:8080/"
        },
        "id": "7nwbz9mjYHWT",
        "outputId": "15eed0ad-e670-4a47-8fd9-51237805c189"
      },
      "execution_count": 101,
      "outputs": [
        {
          "output_type": "execute_result",
          "data": {
            "text/plain": [
              "<BatchDataset element_spec=(TensorSpec(shape=(None, 80, 80, 1), dtype=tf.float32, name=None), TensorSpec(shape=(None, 8), dtype=tf.float32, name=None))>"
            ]
          },
          "metadata": {},
          "execution_count": 101
        }
      ]
    },
    {
      "cell_type": "code",
      "source": [
        "# Input is initialised\n",
        "inputs = tf.keras.layers.Input(shape=(80, 80, 1))\n",
        "\n",
        "# First convolutional block\n",
        "conv1 = tf.keras.layers.Conv2D(32, (3, 3), padding='same')(inputs)\n",
        "conv1 = tf.keras.layers.BatchNormalization()(conv1)\n",
        "conv1 = tf.keras.layers.ReLU()(conv1)\n",
        "pool1 = tf.keras.layers.MaxPooling2D(pool_size=(2, 2))(conv1)\n",
        "drop1 = tf.keras.layers.Dropout(0.2)(pool1)\n",
        "\n",
        "# Second convolutional block\n",
        "conv2 = tf.keras.layers.Conv2D(64, (3, 3), padding='same')(drop1)\n",
        "conv2 = tf.keras.layers.BatchNormalization()(conv2)\n",
        "conv2 = tf.keras.layers.ReLU()(conv2)\n",
        "pool2 = tf.keras.layers.MaxPooling2D(pool_size=(2, 2))(conv2)\n",
        "drop2 = tf.keras.layers.Dropout(0.3)(pool2)\n",
        "\n",
        "# Third convolutional block\n",
        "conv3 = tf.keras.layers.Conv2D(128, (3, 3), padding='same')(drop2)\n",
        "conv3 = tf.keras.layers.BatchNormalization()(conv3)\n",
        "conv3 = tf.keras.layers.ReLU()(conv3)\n",
        "pool3 = tf.keras.layers.MaxPooling2D(pool_size=(2, 2))(conv3)\n",
        "drop3 = tf.keras.layers.Dropout(0.4)(pool3)\n",
        "\n",
        "# Fourth convolutional block\n",
        "conv4 = tf.keras.layers.Conv2D(256, (3, 3), padding='same')(drop3)\n",
        "conv4 = tf.keras.layers.BatchNormalization()(conv4)\n",
        "conv4 = tf.keras.layers.ReLU()(conv4)\n",
        "pool4 = tf.keras.layers.MaxPooling2D(pool_size=(2, 2))(conv4)\n",
        "drop4 = tf.keras.layers.Dropout(0.5)(pool4)\n",
        "\n",
        "# RNN component \n",
        "flatten = tf.keras.layers.Flatten()(drop4)\n",
        "reshape = tf.keras.layers.Reshape((5, -1))(flatten)\n",
        "lstm = tf.keras.layers.LSTM(units=64)(reshape)\n",
        "\n",
        "# Output layer\n",
        "output = tf.keras.layers.Dense(8, activation='softmax')(lstm)\n",
        "\n",
        "# Create model\n",
        "model = tf.keras.Model(inputs=inputs, outputs=output)\n",
        "\n",
        "\n",
        "# Optimizer defined - Adam optimizer with learning rate of 0.0005\n",
        "optimizer = tf.keras.optimizers.Adam(learning_rate=0.0005)\n",
        "model.compile(optimizer=optimizer, loss='categorical_crossentropy', metrics=['accuracy'])\n",
        "\n",
        "no_epochs = 50\n",
        "history = model.fit(aug_batched, epochs=no_epochs, validation_data=val_dataset_batch)"
      ],
      "metadata": {
        "colab": {
          "base_uri": "https://localhost:8080/"
        },
        "id": "eqL5BPv71xW-",
        "outputId": "a890aafa-2ff9-4262-9c6c-67e690876901"
      },
      "execution_count": 102,
      "outputs": [
        {
          "output_type": "stream",
          "name": "stdout",
          "text": [
            "Epoch 1/50\n",
            "375/375 [==============================] - 30s 68ms/step - loss: 1.4161 - accuracy: 0.4725 - val_loss: 2.5674 - val_accuracy: 0.2404\n",
            "Epoch 2/50\n",
            "375/375 [==============================] - 27s 72ms/step - loss: 1.1274 - accuracy: 0.5873 - val_loss: 1.1713 - val_accuracy: 0.5650\n",
            "Epoch 3/50\n",
            "375/375 [==============================] - 26s 69ms/step - loss: 1.0000 - accuracy: 0.6370 - val_loss: 0.8279 - val_accuracy: 0.6992\n",
            "Epoch 4/50\n",
            "375/375 [==============================] - 25s 66ms/step - loss: 0.9098 - accuracy: 0.6724 - val_loss: 0.8353 - val_accuracy: 0.6921\n",
            "Epoch 5/50\n",
            "375/375 [==============================] - 25s 66ms/step - loss: 0.8401 - accuracy: 0.6985 - val_loss: 0.7405 - val_accuracy: 0.7321\n",
            "Epoch 6/50\n",
            "375/375 [==============================] - 25s 65ms/step - loss: 0.7896 - accuracy: 0.7192 - val_loss: 0.6795 - val_accuracy: 0.7558\n",
            "Epoch 7/50\n",
            "375/375 [==============================] - 24s 65ms/step - loss: 0.7404 - accuracy: 0.7362 - val_loss: 0.6554 - val_accuracy: 0.7658\n",
            "Epoch 8/50\n",
            "375/375 [==============================] - 25s 66ms/step - loss: 0.7027 - accuracy: 0.7489 - val_loss: 0.6785 - val_accuracy: 0.7504\n",
            "Epoch 9/50\n",
            "375/375 [==============================] - 24s 65ms/step - loss: 0.6700 - accuracy: 0.7628 - val_loss: 0.5895 - val_accuracy: 0.7821\n",
            "Epoch 10/50\n",
            "375/375 [==============================] - 24s 65ms/step - loss: 0.6363 - accuracy: 0.7732 - val_loss: 0.6241 - val_accuracy: 0.7721\n",
            "Epoch 11/50\n",
            "375/375 [==============================] - 25s 65ms/step - loss: 0.6143 - accuracy: 0.7805 - val_loss: 0.5776 - val_accuracy: 0.8021\n",
            "Epoch 12/50\n",
            "375/375 [==============================] - 25s 65ms/step - loss: 0.5892 - accuracy: 0.7899 - val_loss: 0.5902 - val_accuracy: 0.7962\n",
            "Epoch 13/50\n",
            "375/375 [==============================] - 25s 66ms/step - loss: 0.5675 - accuracy: 0.7976 - val_loss: 0.5674 - val_accuracy: 0.7921\n",
            "Epoch 14/50\n",
            "375/375 [==============================] - 24s 65ms/step - loss: 0.5407 - accuracy: 0.8088 - val_loss: 0.4911 - val_accuracy: 0.8321\n",
            "Epoch 15/50\n",
            "375/375 [==============================] - 24s 64ms/step - loss: 0.5279 - accuracy: 0.8125 - val_loss: 0.4786 - val_accuracy: 0.8283\n",
            "Epoch 16/50\n",
            "375/375 [==============================] - 24s 65ms/step - loss: 0.5040 - accuracy: 0.8234 - val_loss: 0.6265 - val_accuracy: 0.7742\n",
            "Epoch 17/50\n",
            "375/375 [==============================] - 24s 65ms/step - loss: 0.4892 - accuracy: 0.8271 - val_loss: 0.5019 - val_accuracy: 0.8221\n",
            "Epoch 18/50\n",
            "375/375 [==============================] - 25s 66ms/step - loss: 0.4740 - accuracy: 0.8312 - val_loss: 0.4224 - val_accuracy: 0.8483\n",
            "Epoch 19/50\n",
            "375/375 [==============================] - 25s 66ms/step - loss: 0.4617 - accuracy: 0.8383 - val_loss: 0.4711 - val_accuracy: 0.8325\n",
            "Epoch 20/50\n",
            "375/375 [==============================] - 25s 66ms/step - loss: 0.4461 - accuracy: 0.8422 - val_loss: 0.3790 - val_accuracy: 0.8642\n",
            "Epoch 21/50\n",
            "375/375 [==============================] - 24s 65ms/step - loss: 0.4302 - accuracy: 0.8466 - val_loss: 0.4104 - val_accuracy: 0.8558\n",
            "Epoch 22/50\n",
            "375/375 [==============================] - 24s 64ms/step - loss: 0.4225 - accuracy: 0.8508 - val_loss: 0.4428 - val_accuracy: 0.8454\n",
            "Epoch 23/50\n",
            "375/375 [==============================] - 24s 65ms/step - loss: 0.4080 - accuracy: 0.8566 - val_loss: 0.3836 - val_accuracy: 0.8629\n",
            "Epoch 24/50\n",
            "375/375 [==============================] - 24s 65ms/step - loss: 0.3951 - accuracy: 0.8591 - val_loss: 0.4571 - val_accuracy: 0.8425\n",
            "Epoch 25/50\n",
            "375/375 [==============================] - 24s 64ms/step - loss: 0.3881 - accuracy: 0.8624 - val_loss: 0.4149 - val_accuracy: 0.8504\n",
            "Epoch 26/50\n",
            "375/375 [==============================] - 25s 68ms/step - loss: 0.3736 - accuracy: 0.8678 - val_loss: 0.4328 - val_accuracy: 0.8517\n",
            "Epoch 27/50\n",
            "375/375 [==============================] - 24s 64ms/step - loss: 0.3632 - accuracy: 0.8735 - val_loss: 0.3655 - val_accuracy: 0.8683\n",
            "Epoch 28/50\n",
            "375/375 [==============================] - 24s 65ms/step - loss: 0.3552 - accuracy: 0.8753 - val_loss: 0.3300 - val_accuracy: 0.8817\n",
            "Epoch 29/50\n",
            "375/375 [==============================] - 24s 65ms/step - loss: 0.3449 - accuracy: 0.8794 - val_loss: 0.3504 - val_accuracy: 0.8788\n",
            "Epoch 30/50\n",
            "375/375 [==============================] - 24s 65ms/step - loss: 0.3377 - accuracy: 0.8829 - val_loss: 0.3430 - val_accuracy: 0.8804\n",
            "Epoch 31/50\n",
            "375/375 [==============================] - 24s 64ms/step - loss: 0.3327 - accuracy: 0.8831 - val_loss: 0.3585 - val_accuracy: 0.8771\n",
            "Epoch 32/50\n",
            "375/375 [==============================] - 24s 64ms/step - loss: 0.3172 - accuracy: 0.8886 - val_loss: 0.2884 - val_accuracy: 0.8996\n",
            "Epoch 33/50\n",
            "375/375 [==============================] - 24s 64ms/step - loss: 0.3142 - accuracy: 0.8901 - val_loss: 0.2892 - val_accuracy: 0.9042\n",
            "Epoch 34/50\n",
            "375/375 [==============================] - 24s 64ms/step - loss: 0.3058 - accuracy: 0.8915 - val_loss: 0.2867 - val_accuracy: 0.9054\n",
            "Epoch 35/50\n",
            "375/375 [==============================] - 24s 64ms/step - loss: 0.3014 - accuracy: 0.8936 - val_loss: 0.2910 - val_accuracy: 0.8967\n",
            "Epoch 36/50\n",
            "375/375 [==============================] - 24s 64ms/step - loss: 0.2964 - accuracy: 0.8949 - val_loss: 0.3219 - val_accuracy: 0.8925\n",
            "Epoch 37/50\n",
            "375/375 [==============================] - 24s 65ms/step - loss: 0.2849 - accuracy: 0.9019 - val_loss: 0.2520 - val_accuracy: 0.9162\n",
            "Epoch 38/50\n",
            "375/375 [==============================] - 24s 64ms/step - loss: 0.2826 - accuracy: 0.9005 - val_loss: 0.2993 - val_accuracy: 0.8983\n",
            "Epoch 39/50\n",
            "375/375 [==============================] - 24s 64ms/step - loss: 0.2790 - accuracy: 0.9018 - val_loss: 0.2884 - val_accuracy: 0.9008\n",
            "Epoch 40/50\n",
            "375/375 [==============================] - 24s 64ms/step - loss: 0.2741 - accuracy: 0.9046 - val_loss: 0.2651 - val_accuracy: 0.9112\n",
            "Epoch 41/50\n",
            "375/375 [==============================] - 24s 64ms/step - loss: 0.2615 - accuracy: 0.9083 - val_loss: 0.2326 - val_accuracy: 0.9225\n",
            "Epoch 42/50\n",
            "375/375 [==============================] - 24s 65ms/step - loss: 0.2599 - accuracy: 0.9090 - val_loss: 0.2631 - val_accuracy: 0.9125\n",
            "Epoch 43/50\n",
            "375/375 [==============================] - 24s 65ms/step - loss: 0.2552 - accuracy: 0.9099 - val_loss: 0.2347 - val_accuracy: 0.9179\n",
            "Epoch 44/50\n",
            "375/375 [==============================] - 24s 64ms/step - loss: 0.2494 - accuracy: 0.9120 - val_loss: 0.2416 - val_accuracy: 0.9158\n",
            "Epoch 45/50\n",
            "375/375 [==============================] - 24s 64ms/step - loss: 0.2441 - accuracy: 0.9147 - val_loss: 0.3061 - val_accuracy: 0.9029\n",
            "Epoch 46/50\n",
            "375/375 [==============================] - 24s 65ms/step - loss: 0.2394 - accuracy: 0.9177 - val_loss: 0.2700 - val_accuracy: 0.9117\n",
            "Epoch 47/50\n",
            "375/375 [==============================] - 24s 63ms/step - loss: 0.2349 - accuracy: 0.9172 - val_loss: 0.2088 - val_accuracy: 0.9262\n",
            "Epoch 48/50\n",
            "375/375 [==============================] - 24s 64ms/step - loss: 0.2354 - accuracy: 0.9171 - val_loss: 0.2299 - val_accuracy: 0.9229\n",
            "Epoch 49/50\n",
            "375/375 [==============================] - 24s 65ms/step - loss: 0.2302 - accuracy: 0.9200 - val_loss: 0.2073 - val_accuracy: 0.9279\n",
            "Epoch 50/50\n",
            "375/375 [==============================] - 24s 64ms/step - loss: 0.2194 - accuracy: 0.9233 - val_loss: 0.2651 - val_accuracy: 0.9096\n"
          ]
        }
      ]
    },
    {
      "cell_type": "code",
      "source": [
        "# Plot loss values for training and validation sets\n",
        "plt.plot(history.history['loss'], label='training loss')\n",
        "plt.plot(history.history['val_loss'], label='validation loss')\n",
        "plt.legend()\n",
        "plt.show()"
      ],
      "metadata": {
        "colab": {
          "base_uri": "https://localhost:8080/",
          "height": 265
        },
        "id": "9R_DVr_wSWTp",
        "outputId": "0eef372d-6f33-477e-c93a-1c0e4e617b0f"
      },
      "execution_count": 103,
      "outputs": [
        {
          "output_type": "display_data",
          "data": {
            "text/plain": [
              "<Figure size 432x288 with 1 Axes>"
            ],
            "image/png": "[encoded data removed]"
          },
          "metadata": {
            "needs_background": "light"
          }
        }
      ]
    },
    {
      "cell_type": "code",
      "source": [
        "# Plot accuracy values for training and validation sets\n",
        "plt.plot(history.history['accuracy'], label='training accuracy')\n",
        "plt.plot(history.history['val_accuracy'], label='validation accuracy')\n",
        "plt.legend()\n",
        "plt.show()"
      ],
      "metadata": {
        "colab": {
          "base_uri": "https://localhost:8080/",
          "height": 265
        },
        "id": "6aVccr7SXwA8",
        "outputId": "eb3cedc5-5ad4-4cfb-9aca-b44356a1026e"
      },
      "execution_count": 104,
      "outputs": [
        {
          "output_type": "display_data",
          "data": {
            "text/plain": [
              "<Figure size 432x288 with 1 Axes>"
            ],
            "image/png": "[encoded data removed]"
          },
          "metadata": {
            "needs_background": "light"
          }
        }
      ]
    },
    {
      "cell_type": "markdown",
      "metadata": {
        "id": "aJWmtRnnNPSs"
      },
      "source": [
        "This refined model that is trained on an augmented dataset shows a clear improvement in classification predictions, with a validation accuracy of approximately 91-93%, compared to accuracies of approximately 71% and 64% in the models in part 1.\n",
        "\n",
        "The loss and accuracy plots also show a much steadier convergence of validation loss and validation accuracy compared to P1.1. Additionally, the training and validation accuracies (and losses) converge much more closely together in this case."
      ]
    }
  ],
  "metadata": {
    "accelerator": "GPU",
    "colab": {
      "provenance": []
    },
    "gpuClass": "standard",
    "kernelspec": {
      "display_name": "Python 3",
      "name": "python3"
    },
    "language_info": {
      "name": "python"
    }
  },
  "nbformat": 4,
  "nbformat_minor": 0
}